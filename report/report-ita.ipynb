{
 "cells": [
  {
   "cell_type": "code",
   "execution_count": 1,
   "metadata": {
    "scrolled": false
   },
   "outputs": [
    {
     "data": {
      "text/html": [
       "<script>\n",
       "code_show=true; \n",
       "function code_toggle() {\n",
       " if (code_show){\n",
       " $('div.input').hide();\n",
       " } else {\n",
       " $('div.input').show();\n",
       " }\n",
       " code_show = !code_show\n",
       "} \n",
       "$( document ).ready(code_toggle);\n",
       "</script>\n",
       "<form action=\"javascript:code_toggle()\"><input type=\"submit\" value=\"Click here to toggle on/off the raw code.\"></form>"
      ],
      "text/plain": [
       "<IPython.core.display.HTML object>"
      ]
     },
     "execution_count": 1,
     "metadata": {},
     "output_type": "execute_result"
    }
   ],
   "source": [
    "\n",
    "from IPython.display import HTML\n",
    "from ipywidgets import interact, widgets\n",
    "\n",
    "HTML('''<script>\n",
    "code_show=true; \n",
    "function code_toggle() {\n",
    " if (code_show){\n",
    " $('div.input').hide();\n",
    " } else {\n",
    " $('div.input').show();\n",
    " }\n",
    " code_show = !code_show\n",
    "} \n",
    "$( document ).ready(code_toggle);\n",
    "</script>\n",
    "<form action=\"javascript:code_toggle()\"><input type=\"submit\" value=\"Click here to toggle on/off the raw code.\"></form>''')"
   ]
  },
  {
   "cell_type": "code",
   "execution_count": 2,
   "metadata": {
    "scrolled": false
   },
   "outputs": [
    {
     "data": {
      "text/html": [
       "        <script type=\"text/javascript\">\n",
       "        window.PlotlyConfig = {MathJaxConfig: 'local'};\n",
       "        if (window.MathJax && window.MathJax.Hub && window.MathJax.Hub.Config) {window.MathJax.Hub.Config({SVG: {font: \"STIX-Web\"}});}\n",
       "        if (typeof require !== 'undefined') {\n",
       "        require.undef(\"plotly\");\n",
       "        requirejs.config({\n",
       "            paths: {\n",
       "                'plotly': ['https://cdn.plot.ly/plotly-2.18.0.min']\n",
       "            }\n",
       "        });\n",
       "        require(['plotly'], function(Plotly) {\n",
       "            window._Plotly = Plotly;\n",
       "        });\n",
       "        }\n",
       "        </script>\n",
       "        "
      ]
     },
     "metadata": {},
     "output_type": "display_data"
    }
   ],
   "source": [
    "#import libraries\n",
    "import warnings \n",
    "warnings.filterwarnings(\"ignore\",category=FutureWarning)\n",
    "warnings.filterwarnings(\"ignore\", message=\"numpy.dtype size changed\")\n",
    "import scipy.io as spio\n",
    "import scipy.signal\n",
    "import scipy.ndimage\n",
    "import numpy as np\n",
    "import matplotlib.pyplot as plt\n",
    "from mpl_toolkits.mplot3d import Axes3D\n",
    "from collections import namedtuple\n",
    "import math \n",
    "import re \n",
    "import pandas as pd\n",
    "import os\n",
    "import glob\n",
    "from os.path import expanduser\n",
    "import datetime\n",
    "import statistics as stats\n",
    "from plotly import __version__\n",
    "from plotly.offline import download_plotlyjs, init_notebook_mode, plot, iplot\n",
    "import plotly.graph_objs as go\n",
    "init_notebook_mode(connected=True)\n"
   ]
  },
  {
   "cell_type": "code",
   "execution_count": 3,
   "metadata": {
    "scrolled": false
   },
   "outputs": [],
   "source": [
    "def color_negative_red(val):\n",
    "    color = 'red' if val > 110 else 'black'\n",
    "    return 'color: %s' % color\n"
   ]
  },
  {
   "cell_type": "code",
   "execution_count": 4,
   "metadata": {
    "scrolled": false
   },
   "outputs": [],
   "source": [
    "class Keypoint:\n",
    "    tag = \"\"\n",
    "    parent = ['']\n",
    "    child = ['']\n",
    "    point = None\n",
    "\n",
    "    def __init__(self,tag=None,parent=None,child=None,point=None):\n",
    "        if tag is not None:            \n",
    "            self.tag = tag\n",
    "        if parent is not None:\n",
    "            self.parent = parent\n",
    "        if child is not None:\n",
    "            self.child = child\n",
    "        if point is not None:\n",
    "            self.point = point\n"
   ]
  },
  {
   "cell_type": "code",
   "execution_count": 5,
   "metadata": {
    "scrolled": false
   },
   "outputs": [],
   "source": [
    "class Skeleton:\n",
    "    keypoints = [Keypoint() for i in range(17)]\n",
    "    tag2id = {\n",
    "        \"shoulderCenter\" : 0,\n",
    "        \"head\" : 1,\n",
    "        \"shoulderLeft\" : 2,\n",
    "        \"elbowLeft\" : 3,\n",
    "        \"handLeft\" : 4,\n",
    "        \"shoulderRight\" : 5,\n",
    "        \"elbowRight\" : 6,\n",
    "        \"handRight\" : 7,\n",
    "        \"hipCenter\" : 8,\n",
    "        \"hipLeft\" : 9,\n",
    "        \"kneeLeft\" : 10,\n",
    "        \"ankleLeft\" : 11,\n",
    "        \"footLeft\" : 12,\n",
    "        \"hipRight\" : 13,\n",
    "        \"kneeRight\" : 14,\n",
    "        \"ankleRight\" : 15,\n",
    "        \"footRight\" : 16,\n",
    "    }\n",
    "    keypoints[tag2id[\"shoulderCenter\"]] = Keypoint(\"shoulderCenter\",[''],['head','shoulderLeft','shoulderRight','hipCenter'])\n",
    "    keypoints[tag2id[\"head\"]] = Keypoint(\"head\",['shoulderCenter'],[''])\n",
    "    keypoints[tag2id[\"shoulderLeft\"]] = Keypoint(\"shoulderLeft\",['shoulderCenter'],['elbowLeft'])\n",
    "    keypoints[tag2id[\"elbowLeft\"]] = Keypoint(\"elbowLeft\",['shoulderLeft'],['handLeft'])\n",
    "    keypoints[tag2id[\"handLeft\"]] = Keypoint(\"handLeft\",['elbowLeft'],[''])\n",
    "    keypoints[tag2id[\"shoulderRight\"]] = Keypoint(\"shoulderRight\",['shoulderCenter'],['elbowRight'])\n",
    "    keypoints[tag2id[\"elbowRight\"]] = Keypoint(\"elbowRight\",['shoulderRight'],['handRight'])\n",
    "    keypoints[tag2id[\"handRight\"]] = Keypoint(\"handRight\",['elbowRight'],[''])\n",
    "    keypoints[tag2id[\"hipCenter\"]] = Keypoint(\"hipCenter\",['shoulderCenter'],['hipLeft','hipRight'])\n",
    "    keypoints[tag2id[\"hipLeft\"]] = Keypoint(\"hipLeft\",['shoulderCenter'],['kneeLeft'])\n",
    "    keypoints[tag2id[\"kneeLeft\"]] = Keypoint(\"kneeLeft\",['hipLeft'],['ankleLeft'])\n",
    "    keypoints[tag2id[\"ankleLeft\"]] = Keypoint(\"ankleLeft\",['kneeLeft'],['footLeft'])\n",
    "    keypoints[tag2id[\"footLeft\"]] = Keypoint(\"footLeft\",['ankleLeft'],[''])\n",
    "    keypoints[tag2id[\"hipRight\"]] = Keypoint(\"hipRight\",['shoulderCenter'],['kneeRight'])\n",
    "    keypoints[tag2id[\"kneeRight\"]] = Keypoint(\"kneeRight\",['hipRight'],['ankleRight'])\n",
    "    keypoints[tag2id[\"ankleRight\"]] = Keypoint(\"ankleRight\",['kneeRight'],['footRight'])\n",
    "    keypoints[tag2id[\"footRight\"]] = Keypoint(\"footRight\",['ankleRight'],[''])\n",
    "\n",
    "    def __init__(self,keyp_map=None):\n",
    "        if keyp_map is not None:\n",
    "            for tag in keyp_map.keys():\n",
    "                self.keypoints[self.tag2id[tag]].point = keyp_map[tag] \n",
    "\n",
    "    def getKeypoint(self,keyp_tag):\n",
    "        return self.keypoints[self.tag2id[keyp_tag]].point\n",
    "\n",
    "    def getChild(self,keyp_tag):\n",
    "        return self.keypoints[self.tag2id[keyp_tag]].child\n",
    "\n",
    "    def getParent(self,keyp_tag):\n",
    "        return self.keypoints[self.tag2id[keyp_tag]].parent\n",
    "\n",
    "    def getTransformation(self):\n",
    "        sagittal = None\n",
    "        coronal = None\n",
    "        transverse = None\n",
    "        T = np.eye(4,4)\n",
    "        if self.getKeypoint(\"shoulderLeft\") is not None:\n",
    "            if self.getKeypoint(\"shoulderRight\") is not None:\n",
    "                sagittal = self.getKeypoint(\"shoulderLeft\")[0]-self.getKeypoint(\"shoulderRight\")[0]\n",
    "                sagittal = sagittal/np.linalg.norm(sagittal)\n",
    "        if self.getKeypoint(\"shoulderCenter\") is not None:\n",
    "            if self.getKeypoint(\"hipLeft\") is not None:\n",
    "                if self.getKeypoint(\"hipRight\") is not None:\n",
    "                    transverse = self.getKeypoint(\"shoulderCenter\")[0]-0.5*(self.getKeypoint(\"hipLeft\")[0]+self.getKeypoint(\"hipRight\")[0])\n",
    "                    transverse = transverse/np.linalg.norm(transverse)\n",
    "        if self.getKeypoint(\"shoulderCenter\") is not None:\n",
    "            pSC = self.getKeypoint(\"shoulderCenter\")[0]\n",
    "\n",
    "        if sagittal is not None:\n",
    "            if coronal is not None:\n",
    "                coronal = np.cross(sagittal,transverse)\n",
    "                T[0,0]=coronal[0]\n",
    "                T[1,0]=coronal[1]\n",
    "                T[2,0]=coronal[2]\n",
    "                T[0,1]=sagittal[0]\n",
    "                T[1,1]=sagittal[1]\n",
    "                T[2,1]=sagittal[2]\n",
    "                T[0,2]=transverse[0]\n",
    "                T[1,2]=transverse[1]\n",
    "                T[2,2]=transverse[2]\n",
    "                T[0,3]=pSC[0]\n",
    "                T[1,3]=pSC[1]\n",
    "                T[2,3]=pSC[2]\n",
    "                T[3,3]=1\n",
    "        return T\n",
    "\n",
    "    def show(self):\n",
    "        for i in range(len(self.keypoints)):\n",
    "            k = self.keypoints[i]\n",
    "            print(\"keypoint[\", k.tag, \"]\", \"=\", k.point)\n"
   ]
  },
  {
   "cell_type": "code",
   "execution_count": 6,
   "metadata": {
    "scrolled": false
   },
   "outputs": [],
   "source": [
    "class Exercise:\n",
    "    name = \"\"\n",
    "    typee = \"\"\n",
    "    metrics = []\n",
    "\n",
    "class Tug(Exercise):\n",
    "    name = \"tug\"\n",
    "    typee = \"test\"\n",
    "    metrics = [\"ROM_0\",\"ROM_1\",\"ROM_2\",\"ROM_3\",\"ROM_4\",\"ROM_5\",\"step_0\"]\n",
    "    result = []\n",
    "    month_res = {\n",
    "        0: [],\n",
    "        1: [],\n",
    "        2: [],\n",
    "        3: [],\n",
    "        4: [],\n",
    "        5: [],\n",
    "        6: [],\n",
    "        7: [],\n",
    "        8: [],\n",
    "        9: [],\n",
    "        10: [],\n",
    "        11: []\n",
    "    }\n",
    "\n",
    "    def __init__(self,month,result):\n",
    "        self.result = result\n",
    "        self.month_res[month] = result\n",
    "\n",
    "    def getResult(self,month):\n",
    "        return self.month_res[month]\n",
    "\n",
    "class Abduction(Exercise):\n",
    "    name = \"abduction\"\n",
    "    typee = \"rehabilitation\"\n",
    "    metrics = [\"ROM_0\"]    \n",
    "    result = []\n",
    "    month_res = {\n",
    "        0: [],\n",
    "        1: [],\n",
    "        2: [],\n",
    "        3: [],\n",
    "        4: [],\n",
    "        5: [],\n",
    "        6: [],\n",
    "        7: [],\n",
    "        8: [],\n",
    "        9: [],\n",
    "        10: [],\n",
    "        11: []\n",
    "    }\n",
    "    def __init__(self,name,monthi,result):\n",
    "        self.name = name\n",
    "        self.result = result\n",
    "        self.month_res[monthi] = result\n",
    "\n",
    "    def getResult(self,month):\n",
    "        return self.month_res[month]\n",
    "\n",
    "class Internal_Rotation(Exercise):\n",
    "    name = \"internal_rotation\"\n",
    "    typee = \"rehabilitation\"\n",
    "    metrics = [\"ROM_0\"]    \n",
    "    result = []\n",
    "    month_res = {\n",
    "        0: [],\n",
    "        1: [],\n",
    "        2: [],\n",
    "        3: [],\n",
    "        4: [],\n",
    "        5: [],\n",
    "        6: [],\n",
    "        7: [],\n",
    "        8: [],\n",
    "        9: [],\n",
    "        10: [],\n",
    "        11: []\n",
    "    }\n",
    "    def __init__(self,name,monthi,result):\n",
    "        self.name = name\n",
    "        self.result = result\n",
    "        self.month_res[monthi] = result\n",
    "\n",
    "    def getResult(self,month):\n",
    "        return self.month_res[month]\n",
    "\n",
    "class External_Rotation(Exercise):\n",
    "    name = \"external_rotation\"\n",
    "    typee = \"rehabilitation\"\n",
    "    metrics = [\"ROM_0\"]    \n",
    "    result = []\n",
    "    month_res = {\n",
    "        0: [],\n",
    "        1: [],\n",
    "        2: [],\n",
    "        3: [],\n",
    "        4: [],\n",
    "        5: [],\n",
    "        6: [],\n",
    "        7: [],\n",
    "        8: [],\n",
    "        9: [],\n",
    "        10: [],\n",
    "        11: []\n",
    "    }\n",
    "    def __init__(self,name,monthi,result):\n",
    "        self.name = name\n",
    "        self.result = result\n",
    "        self.month_res[monthi] = result\n",
    "\n",
    "    def getResult(self,month):\n",
    "        return self.month_res[month]\n",
    "\n",
    "class Reaching(Exercise):\n",
    "    name = \"reaching\"\n",
    "    typee = \"rehabilitation\"\n",
    "    metrics = [\"EP_0\"]    \n",
    "    result = []\n",
    "    month_res = {\n",
    "        0: [],\n",
    "        1: [],\n",
    "        2: [],\n",
    "        3: [],\n",
    "        4: [],\n",
    "        5: [],\n",
    "        6: [],\n",
    "        7: [],\n",
    "        8: [],\n",
    "        9: [],\n",
    "        10: [],\n",
    "        11: []\n",
    "    }\n",
    "    def __init__(self,name,monthi,result):\n",
    "        self.name = name\n",
    "        self.result = result\n",
    "        self.month_res[monthi] = result\n",
    "\n",
    "    def getResult(self,month):\n",
    "        return self.month_res[month]\n",
    "\n",
    "\n"
   ]
  },
  {
   "cell_type": "code",
   "execution_count": 7,
   "metadata": {
    "scrolled": false
   },
   "outputs": [],
   "source": [
    "class Metric:\n",
    "    name = ''\n",
    "\n",
    "    def __init__(self,name):\n",
    "        self.name = name\n",
    "\n",
    "class Rom(Metric):\n",
    "    name = \"ROM\"\n",
    "    tagjoint = \"\"\n",
    "    refjoint = \"\"\n",
    "    refdir = []\n",
    "    tagplane = \"\"\n",
    "    def __init__(self,tagjoint,refjoint,refdir,tagplane):\n",
    "        self.tagjoint = tagjoint\n",
    "        self.refjoint = refjoint\n",
    "        self.refdir = refdir\n",
    "        self.tagplane = tagplane\n",
    "\n",
    "    def compute(self,skeleton):\n",
    "        #joint ref and child\n",
    "        tj = skeleton.getKeypoint(self.tagjoint)\n",
    "        tagchild = skeleton.getChild(self.tagjoint)[0]\n",
    "        cj = skeleton.getKeypoint(tagchild)\n",
    "\n",
    "        xrj = []\n",
    "        yrj = []\n",
    "        zrj = []\n",
    "        if self.refjoint != \"\":\n",
    "            rj = skeleton.getKeypoint(self.refjoint)\n",
    "            xrj = rj[:,0]\n",
    "            yrj = rj[:,1]\n",
    "            zrj = rj[:,2]\n",
    "\n",
    "        #compute metric\n",
    "        x=tj[:,0]\n",
    "        y=tj[:,1]\n",
    "        z=tj[:,2]\n",
    "\n",
    "        xchild=cj[:,0]\n",
    "        ychild=cj[:,1]\n",
    "        zchild=cj[:,2]\n",
    "\n",
    "        #plane over which we want to evaluate the metric\n",
    "        plane = np.zeros(3)\n",
    "        if tagplane == \"coronal\":\n",
    "            plane[0] = 1.0\n",
    "        if tagplane == \"sagittal\":\n",
    "            plane[1] = 1.0\n",
    "        if tagplane == \"transverse\":\n",
    "            plane[2] = 1.0\n",
    "\n",
    "        #project v1 on the right plane\n",
    "        invT = np.linalg.inv(skeleton.getTransformation())\n",
    "        cosRom = []\n",
    "        for i in range(len(x)):\n",
    "            temp_ref = np.array([x[i],y[i],z[i],1])\n",
    "            temp_child = np.array([xchild[i],ychild[i],zchild[i],1])\n",
    "\n",
    "            transf_ref = np.inner(invT,temp_ref)\n",
    "            transf_child = np.inner(invT,temp_child)\n",
    "            vprocess = transf_child-transf_ref\n",
    "            vprocess = np.delete(vprocess,3)\n",
    "\n",
    "            dist = np.dot(vprocess,np.transpose(plane))\n",
    "            vprocess = vprocess-dist*plane\n",
    "\n",
    "            n1 = np.linalg.norm(vprocess)\n",
    "            if(n1>0):\n",
    "                vprocess = vprocess/n1\n",
    "\n",
    "            if len(xrj)>0:\n",
    "                temp_refjoint = np.array([xrj[i],yrj[i],zrj[i],1])\n",
    "                transf_refjoint = np.inner(invT,temp_refjoint)\n",
    "                vecref = transf_ref - transf_refjoint\n",
    "                ref = np.delete(vecref,3)\n",
    "            else:\n",
    "                n2 = np.linalg.norm(self.refdir)\n",
    "                if(n2>0):\n",
    "                    self.refdir = self.refdir/n2\n",
    "                ref = self.refdir\n",
    "\n",
    "            dotprod = np.dot(vprocess,np.transpose(ref))\n",
    "            cosRom.append(dotprod)\n",
    "\n",
    "\n",
    "        rom_value = np.arccos(cosRom)\n",
    "        result = rom_value *(180/math.pi)\n",
    "        return result\n",
    "\n",
    "\n",
    "class Step(Metric):\n",
    "    name = \"step\"\n",
    "    en_projection = False\n",
    "    medfilt = 1\n",
    "    step_thresh = 0.0\n",
    "    tstart = 0.0\n",
    "    tend = 0.0\n",
    "    step_length = []\n",
    "    step_width = []\n",
    "    step_distance = []\n",
    "    filtered_step_distance = []\n",
    "    strikes = []\n",
    "    nsteps = 0\n",
    "    cadence = 0.0\n",
    "    speed = 0.0\n",
    "    ex_time = 0.0\n",
    "    \n",
    "    def __init__(self,medfilt_window,en_projection,tstart,tend,step_thresh):\n",
    "\n",
    "        # scipy median filter requires odd kernel size\n",
    "        self.medfilt = int(medfilt_window)\n",
    "        if not (self.medfilt & 1):\n",
    "            self.medfilt = self.medfilt + 1\n",
    "\n",
    "        self.tstart = tstart\n",
    "        self.tend = tend\n",
    "        self.step_thresh = step_thresh\n",
    "        self.en_projection = en_projection\n",
    "\n",
    "    def compute(self,skeleton):\n",
    "        alj = skeleton.getKeypoint(\"ankleLeft\")\n",
    "        arj = skeleton.getKeypoint(\"ankleRight\")\n",
    "        ankles_diff = alj[:, :2] - arj[:, :2]\n",
    "\n",
    "        if self.en_projection:\n",
    "            if skeleton.getKeypoint(\"shoulderLeft\") is not None and skeleton.getKeypoint(\"shoulderRight\") is not None:\n",
    "                sagittal = skeleton.getKeypoint(\"shoulderLeft\")[0] - skeleton.getKeypoint(\"shoulderRight\")[0]\n",
    "                sagittal = sagittal / np.linalg.norm(sagittal)\n",
    "            for i in range(len(alj)):\n",
    "                v = alj[i,:] - arj[i,:]\n",
    "                dist = np.dot(v,np.transpose(sagittal))\n",
    "                v = v - dist * sagittal\n",
    "                self.step_distance.append(np.linalg.norm(v))\n",
    "                self.filtered_step_distance = scipy.signal.medfilt(self.step_distance,kernel_size=self.medfilt)\n",
    "        else:\n",
    "            # ankles_diff_filtered = scipy.ndimage.median_filter(ankles_diff, size = (self.medfilt, self.medfilt))\n",
    "            ankles_diff_filtered = scipy.signal.savgol_filter(ankles_diff, 20, 2, axis=0)\n",
    "            self.filtered_step_distance = np.linalg.norm(ankles_diff_filtered, axis=1)\n",
    "            self.step_distance = np.linalg.norm(ankles_diff, axis=1)\n",
    "\n",
    "            outliers_indices = np.where(np.abs(scipy.stats.zscore(self.filtered_step_distance)) > 3)[0]\n",
    "            self.filtered_step_distance[outliers_indices] = 0.0\n",
    "\n",
    "        #self.strikes = scipy.signal.find_peaks_cwt(self.filtered_step_distance, np.arange(1, 42), min_snr=1)\n",
    "        self.strikes,_ = scipy.signal.find_peaks(self.filtered_step_distance, height = self.step_thresh, distance = 10)\n",
    "        slen = self.filtered_step_distance[self.strikes]\n",
    "        self.step_length = stats.mean(slen)\n",
    "        self.step_width = np.fabs(ankles_diff)\n",
    "        self.nsteps = len(self.strikes)\n",
    "        self.cadence = self.nsteps / (self.tend - self.tstart)\n",
    "        self.speed = self.step_length * self.cadence\n",
    "        self.ex_time = self.tend - self.tstart\n",
    "\n",
    "        \n",
    "class EndPoint(Metric):\n",
    "    name = \"EP\"\n",
    "    tagjoint = \"\"\n",
    "    refdir = []\n",
    "    tagplane = \"\"\n",
    "    target = []\n",
    "    trajectories = []\n",
    "    tstart = 0.0\n",
    "    tend = 0.0\n",
    "    speed = 0.0\n",
    "    ex_time = 0.0\n",
    "    def __init__(self,tagjoint,refdir,tagplane,target,tstart,tend):\n",
    "        self.tagjoint = tagjoint\n",
    "        self.refdir = refdir\n",
    "        self.tagplane = tagplane\n",
    "        self.target = target\n",
    "        self.tstart = tstart\n",
    "        self.tend = tend\n",
    "\n",
    "    def compute(self,skeleton):\n",
    "        self.ex_time = self.tend-self.tstart\n",
    "        tj = skeleton.getKeypoint(self.tagjoint)\n",
    "        x = tj[:,0]\n",
    "        y = tj[:,1]\n",
    "        z = tj[:,2]\n",
    "\n",
    "        plane = np.zeros(3)\n",
    "        if tagplane == \"coronal\":\n",
    "            plane[0] = 1.0\n",
    "        if tagplane == \"sagittal\":\n",
    "            plane[1] = 1.0\n",
    "        if tagplane == \"transverse\":\n",
    "            plane[2] = 1.0\n",
    "        invT = np.linalg.inv(skeleton.getTransformation())\n",
    "        self.trajectories = np.zeros([len(x),3])\n",
    "        for i in range(len(x)):\n",
    "            temp_jnt = np.array([x[i],y[i],z[i],1])\n",
    "            transf_jnt = np.inner(invT,temp_jnt)\n",
    "            v = np.delete(transf_jnt,3)\n",
    "            dist = np.dot(v,np.transpose(plane))\n",
    "            v = v-dist*plane\n",
    "            self.trajectories[i,0]=v[0]\n",
    "            self.trajectories[i,1]=v[1]\n",
    "            self.trajectories[i,2]=v[2]\n",
    "\n",
    "        vel = np.zeros([len(x),3])\n",
    "        vel[:,0] = np.gradient(self.trajectories[:,0])/self.ex_time\n",
    "        vel[:,1] = np.gradient(self.trajectories[:,1])/self.ex_time\n",
    "        vel[:,2] = np.gradient(self.trajectories[:,2])/self.ex_time\n",
    "\n",
    "        self.speed = 0.0\n",
    "        for i in range(len(x)):\n",
    "            self.speed = self.speed + np.linalg.norm([vel[i,0],vel[i,1],vel[i,2]])\n",
    "        self.speed = self.speed/len(x)\n"
   ]
  },
  {
   "cell_type": "code",
   "execution_count": 8,
   "metadata": {
    "scrolled": false
   },
   "outputs": [],
   "source": [
    "def loadmat(filename):\n",
    "    '''\n",
    "    this function should be called instead of direct spio.loadmat\n",
    "    as it cures the problem of not properly recovering python dictionaries\n",
    "    from mat files. It calls the function check keys to cure all entries\n",
    "    which are still mat-objects\n",
    "    '''\n",
    "    data = spio.loadmat(filename, struct_as_record=False, squeeze_me=True)\n",
    "    return _check_keys(data)\n",
    "\n",
    "def _check_keys(dict):\n",
    "    '''\n",
    "    checks if entries in dictionary are mat-objects. If yes\n",
    "    todict is called to change them to nested dictionaries\n",
    "    '''\n",
    "    for key in dict:\n",
    "        if isinstance(dict[key],  spio.matlab.mat_struct):\n",
    "            dict[key] = _todict(dict[key])\n",
    "    return dict        \n",
    "\n",
    "def _todict(matobj):\n",
    "    '''\n",
    "    A recursive function which constructs from matobjects nested dictionaries\n",
    "    '''\n",
    "    dict = {}\n",
    "    for strg in matobj._fieldnames:\n",
    "        elem = matobj.__dict__[strg]\n",
    "        if isinstance(elem, spio.matlab.mat_struct):\n",
    "            dict[strg] = _todict(elem)\n",
    "        else:\n",
    "            dict[strg] = elem\n",
    "    return dict\n"
   ]
  },
  {
   "cell_type": "markdown",
   "metadata": {},
   "source": [
    "\n",
    "## Dati anagrafici "
   ]
  },
  {
   "cell_type": "code",
   "execution_count": 11,
   "metadata": {
    "scrolled": false
   },
   "outputs": [
    {
     "data": {
      "text/html": [
       "<div>\n",
       "<style scoped>\n",
       "    .dataframe tbody tr th:only-of-type {\n",
       "        vertical-align: middle;\n",
       "    }\n",
       "\n",
       "    .dataframe tbody tr th {\n",
       "        vertical-align: top;\n",
       "    }\n",
       "\n",
       "    .dataframe thead th {\n",
       "        text-align: right;\n",
       "    }\n",
       "</style>\n",
       "<table border=\"1\" class=\"dataframe\">\n",
       "  <thead>\n",
       "    <tr style=\"text-align: right;\">\n",
       "      <th></th>\n",
       "      <th>Paziente</th>\n",
       "    </tr>\n",
       "  </thead>\n",
       "  <tbody>\n",
       "    <tr>\n",
       "      <th>Nome</th>\n",
       "      <td>001</td>\n",
       "    </tr>\n",
       "    <tr>\n",
       "      <th>Cognome</th>\n",
       "      <td></td>\n",
       "    </tr>\n",
       "    <tr>\n",
       "      <th>Età</th>\n",
       "      <td></td>\n",
       "    </tr>\n",
       "  </tbody>\n",
       "</table>\n",
       "</div>"
      ],
      "text/plain": [
       "        Paziente\n",
       "Nome         001\n",
       "Cognome         \n",
       "Età             "
      ]
     },
     "metadata": {},
     "output_type": "display_data"
    }
   ],
   "source": [
    "\n",
    "#load file \n",
    "home = expanduser(\"~\")\n",
    "id_patient = 'datadump-FDG-001-20230208-mr'\n",
    "pth = home + '/dev_iit/assistive-rehab/data_exp/'+ id_patient\n",
    "files = glob.glob(os.path.join(pth, '*.mat'))\n",
    "lastfile = max(files, key=os.path.getctime)\n",
    "\n",
    "#print personal data\n",
    "i = [pos for pos, char in enumerate(lastfile) if char == \"-\"]\n",
    "i1 = i[-3]\n",
    "i2 = i[-2]\n",
    "name = lastfile[i1+1:i2]\n",
    "surname = \"\"\n",
    "age = \"\"\n",
    "\n",
    "personaldata = []\n",
    "personaldata.append(name)\n",
    "personaldata.append(surname)\n",
    "personaldata.append(age)        \n",
    "table = pd.DataFrame(personaldata) \n",
    "table.rename(index={0:\"Nome\",1:\"Cognome\",2:\"Età\"},  columns={0:\"Paziente\"}, inplace=True)\n",
    "display(table) "
   ]
  },
  {
   "cell_type": "code",
   "execution_count": 13,
   "metadata": {
    "scrolled": false
   },
   "outputs": [],
   "source": [
    "\n",
    "data = []\n",
    "ctime = []\n",
    "filename = []\n",
    "tagex = []\n",
    "files.sort(key=os.path.getctime)\n",
    "for fi in files:\n",
    "    i = [pos for pos, char in enumerate(fi) if char == \"-\"]\n",
    "    i1 = i[-3]\n",
    "    i2 = i[-2]\n",
    "    i3 = i[-1]\n",
    "    namei = fi[i1+1:i2]\n",
    "    if namei == name:\n",
    "        filename.append(fi)\n",
    "        data.append(loadmat(fi)) #data.append(scipy.io.loadmat(fi))\n",
    "        tagex.append(fi[i2+1:i3])\n",
    "        ctime.append(os.path.getctime(fi))   "
   ]
  },
  {
   "cell_type": "code",
   "execution_count": 20,
   "metadata": {
    "scrolled": false
   },
   "outputs": [
    {
     "name": "stderr",
     "output_type": "stream",
     "text": [
      "/tmp/ipykernel_129311/4137539940.py:86: RuntimeWarning:\n",
      "\n",
      "invalid value encountered in arccos\n",
      "\n"
     ]
    }
   ],
   "source": [
    "time = []\n",
    "month = []\n",
    "exercises = []\n",
    "ex_names = []\n",
    "#count how many exercise of the same type were performed at that month\n",
    "countexmonth = {\n",
    "    \"tug\" : [0,0,0,0,0,0,0,0,0,0,0,0],\n",
    "    \"abduction_left\" : [0,0,0,0,0,0,0,0,0,0,0,0],\n",
    "    \"internal_rotation_left\" : [0,0,0,0,0,0,0,0,0,0,0,0],\n",
    "    \"external_rotation_left\" : [0,0,0,0,0,0,0,0,0,0,0,0],\n",
    "    \"reaching_left\" : [0,0,0,0,0,0,0,0,0,0,0,0]\n",
    "}\n",
    "\n",
    "for i in range(len(data)):\n",
    "\n",
    "    datai = data[i]\n",
    "    time.append(datai['Time_samples'])\n",
    "    monthi = datetime.date.fromtimestamp(ctime[i]).month-1\n",
    "    month.append(monthi)\n",
    "    shoulderCenter = datai['Keypoints']['shoulderCenter']\n",
    "    head = datai['Keypoints']['head']\n",
    "    shoulderLeft = datai['Keypoints']['shoulderLeft']\n",
    "    shoulderRight = datai['Keypoints']['shoulderRight']\n",
    "    elbowLeft = datai['Keypoints']['elbowLeft']\n",
    "    handLeft = datai['Keypoints']['handLeft']\n",
    "    elbowRight = datai['Keypoints']['elbowRight']\n",
    "    handRight = datai['Keypoints']['handRight']\n",
    "    hipLeft = datai['Keypoints']['hipLeft']\n",
    "    hipRight = datai['Keypoints']['hipRight']\n",
    "    ankleLeft = datai['Keypoints']['ankleLeft']\n",
    "    ankleRight = datai['Keypoints']['ankleRight']\n",
    "    kneeLeft = datai['Keypoints']['kneeLeft']\n",
    "    kneeRight = datai['Keypoints']['kneeRight']\n",
    "    footLeft = datai['Keypoints']['footLeft']\n",
    "    footRight = datai['Keypoints']['footRight']\n",
    "    hipCenter = datai['Keypoints']['hipCenter']\n",
    "\n",
    "    key_pam = {\n",
    "        \"shoulderCenter\" : shoulderCenter,\n",
    "        \"head\" : head,\n",
    "        \"shoulderLeft\" : shoulderLeft,\n",
    "        \"shoulderRight\" : shoulderRight,\n",
    "        \"elbowLeft\" : elbowLeft,\n",
    "        \"handLeft\" : handLeft,\n",
    "        \"elbowRight\" : elbowRight,\n",
    "        \"handRight\" : handRight,\n",
    "        \"hipLeft\" : hipLeft,\n",
    "        \"hipRight\" : hipRight,\n",
    "        \"ankleLeft\" : ankleLeft,\n",
    "        \"ankleRight\" : ankleRight,\n",
    "        \"kneeLeft\" : kneeLeft,\n",
    "        \"kneeRight\" : kneeRight,\n",
    "        \"footLeft\" : footLeft,\n",
    "        \"footRight\" : footRight,\n",
    "        \"hipCenter\" : hipCenter\n",
    "    }\n",
    "    s=Skeleton(key_pam)\n",
    "    #s.show()\n",
    "\n",
    "    exname = datai[\"Exercise\"][\"name\"]\n",
    "    exname = re.sub(r'[^\\w]','',exname)\n",
    "    ex_names.append(exname)\n",
    "    result_singleexercise = []\n",
    "    allmet = datai[\"Exercise\"][\"metrics\"]\n",
    "    metrics = allmet.keys()\n",
    "    for metname in metrics:\n",
    "        if \"ROM\" in metname:\n",
    "            tagjoint = allmet[metname][\"tag_joint\"]\n",
    "            tagjoint = re.sub(r'[^\\w]', '',tagjoint)\n",
    "            refjoint = allmet[metname][\"ref_joint\"]\n",
    "            if type(refjoint) is np.ndarray:\n",
    "                refjoint = \"\"\n",
    "            refjoint = re.sub(r'[^\\w]', '',refjoint)\n",
    "            refdir = allmet[metname][\"ref_dir\"]\n",
    "            tagplane = allmet[metname][\"tag_plane\"]\n",
    "            tagplane = re.sub(r'[^\\w]', '',tagplane)\n",
    "            rom = Rom(tagjoint,refjoint,refdir,tagplane)\n",
    "            result_singleexercise.append((rom,rom.compute(s)))\n",
    "\n",
    "        if \"step\" in metname:\n",
    "            flt = allmet[metname][\"median_filter_window\"]\n",
    "            proj = allmet[metname][\"enable_plane_projection\"]\n",
    "            proj = False\n",
    "            tstart = allmet[metname][\"tstart\"]\n",
    "            tend = allmet[metname][\"tend\"]\n",
    "            step_thresh = allmet[metname][\"step_thresh\"]\n",
    "            step = Step(flt,proj,tstart,tend,step_thresh)\n",
    "            step.compute(s)\n",
    "            stepmet = [step.step_distance, step.nsteps, step.cadence, step.speed, step.ex_time,\n",
    "                       step.filtered_step_distance, step.strikes, step.step_width, step.step_length]\n",
    "            result_singleexercise.append((step,stepmet))\n",
    "\n",
    "        if \"EP\" in metname:\n",
    "            tagjoint = allmet[metname][\"tag_joint\"]\n",
    "            tagjoint = re.sub(r'[^\\w]', '',tagjoint)\n",
    "            refdir = allmet[metname][\"ref_dir\"]\n",
    "            tagplane = allmet[metname][\"tag_plane\"]\n",
    "            tagplane = re.sub(r'[^\\w]', '',tagplane)\n",
    "            target = allmet[metname][\"target\"]\n",
    "            tstart = allmet[metname][\"tstart\"]\n",
    "            tend = allmet[metname][\"tend\"]\n",
    "            ep = EndPoint(tagjoint,refdir,tagplane,target,tstart,tend)\n",
    "            ep.compute(s)\n",
    "            result_singleexercise.append((ep,ep.trajectories))\n",
    "\n",
    "    if exname == \"tug\":\n",
    "        ex = Tug(monthi,result_singleexercise)\n",
    "    if \"abduction\" in exname:\n",
    "        ex = Abduction(exname,monthi,result_singleexercise)\n",
    "    if \"internal_rotation\" in exname:\n",
    "        ex = Internal_Rotation(exname,monthi,result_singleexercise)\n",
    "    if \"external_rotation\" in exname:\n",
    "        ex = External_Rotation(exname,monthi,result_singleexercise)\n",
    "    if \"reaching\" in exname:\n",
    "        ex = Reaching(exname,monthi,result_singleexercise)\n",
    "\n",
    "    countexmonth[exname][monthi] = 1 + countexmonth[exname][monthi]\n",
    "\n",
    "    exercises.append(ex)   "
   ]
  },
  {
   "cell_type": "markdown",
   "metadata": {},
   "source": [
    " \n",
    "## Report della seduta odierna\n",
    "Il paziente ha svolto il seguente esercizio: "
   ]
  },
  {
   "cell_type": "code",
   "execution_count": 21,
   "metadata": {
    "scrolled": false
   },
   "outputs": [
    {
     "name": "stdout",
     "output_type": "stream",
     "text": [
      "b'tug'\n"
     ]
    }
   ],
   "source": [
    "\n",
    "print(exname.encode('ascii')) "
   ]
  },
  {
   "cell_type": "markdown",
   "metadata": {},
   "source": [
    " \n",
    "on: "
   ]
  },
  {
   "cell_type": "code",
   "execution_count": 22,
   "metadata": {
    "scrolled": false
   },
   "outputs": [
    {
     "name": "stdout",
     "output_type": "stream",
     "text": [
      "2023-02-24 16:01:24.001305\n"
     ]
    }
   ],
   "source": [
    "\n",
    "now = datetime.datetime.now()\n",
    "print(now)"
   ]
  },
  {
   "cell_type": "markdown",
   "metadata": {},
   "source": [
    " \n",
    "Di seguito si riporta il grafico:"
   ]
  },
  {
   "cell_type": "code",
   "execution_count": 23,
   "metadata": {
    "scrolled": true
   },
   "outputs": [
    {
     "data": {
      "application/vnd.plotly.v1+json": {
       "config": {
        "linkText": "Export to plot.ly",
        "plotlyServerURL": "https://plot.ly",
        "showLink": false
       },
       "data": [
        {
         "line": {
          "color": "blue",
          "width": 3
         },
         "mode": "lines",
         "name": "Andamento Reale",
         "type": "scatter",
         "x": [
          364.45887899398804,
          364.5586404800415,
          364.6589159965515,
          364.7593548297882,
          364.8601448535919,
          364.96894550323486,
          365.0596868991852,
          365.1594166755676,
          365.25956082344055,
          365.3596260547638,
          365.4601356983185,
          365.55979108810425,
          365.6599338054657,
          365.760290145874,
          365.8600797653198,
          365.9602725505829,
          366.0603938102722,
          366.16379594802856,
          366.2636842727661,
          366.3638548851013,
          366.4605884552002,
          366.5609917640686,
          366.6607811450958,
          366.7835304737091,
          366.86488342285156,
          366.96648716926575,
          367.0610132217407,
          367.1611726284027,
          367.26143312454224,
          367.36129570007324,
          367.46194195747375,
          367.5621943473816,
          367.6617558002472,
          367.76181387901306,
          367.8632423877716,
          367.9623694419861,
          368.0634768009186,
          368.16354393959045,
          368.26345467567444,
          368.3634202480316,
          368.4639570713043,
          368.56341767311096,
          368.66284465789795,
          368.76342129707336,
          368.8643660545349,
          368.96563172340393,
          369.06455993652344,
          369.16477060317993,
          369.26576590538025,
          369.3649263381958,
          369.46443724632263,
          369.564484834671,
          369.6652081012726,
          369.7659890651703,
          369.86567997932434,
          369.9659514427185,
          370.0671544075012,
          370.1666123867035,
          370.266783952713,
          370.36477303504944,
          370.4668548107147,
          370.565545797348,
          370.6652846336365,
          370.7655713558197,
          370.8653576374054,
          370.96653938293457,
          371.0674316883087,
          371.1659688949585,
          371.26658487319946,
          371.3692162036896,
          371.46680188179016,
          371.56940364837646,
          371.66719913482666,
          371.7668056488037,
          371.86815881729126,
          371.9680743217468,
          372.0671577453613,
          372.1683523654938,
          372.2659475803375,
          372.3691494464874,
          372.46960973739624,
          372.5661597251892,
          372.66928935050964,
          372.7676477432251,
          372.8702368736267,
          372.9683094024658,
          373.06783747673035,
          373.1671121120453,
          373.26922821998596,
          373.36808013916016,
          373.46855306625366,
          373.5675835609436,
          373.66880536079407,
          373.76876640319824,
          373.8698561191559,
          373.97192335128784,
          374.0674250125885,
          374.16755986213684,
          374.2683062553406,
          374.3683798313141,
          374.46939849853516,
          374.56834268569946,
          374.66983461380005,
          374.7691607475281,
          374.8697361946106,
          374.9699294567108,
          375.06860613822937,
          375.16787028312683,
          375.26893734931946,
          375.3684616088867,
          375.46800565719604,
          375.572505235672,
          375.66814947128296,
          375.77130460739136,
          375.86928486824036,
          375.9735300540924,
          376.0717408657074,
          376.1719069480896,
          376.27218413352966,
          376.37700939178467,
          376.4729585647583,
          376.568984746933,
          376.6694688796997,
          376.7690782546997,
          376.8701825141907,
          376.96993613243103,
          377.06991147994995,
          377.17006039619446,
          377.2700288295746,
          377.369996547699,
          377.47222781181335,
          377.57026195526123,
          377.6698634624481,
          377.77056527137756,
          377.87061953544617,
          377.97315883636475,
          378.07047605514526,
          378.17071175575256,
          378.2701976299286,
          378.37180352211,
          378.4711010456085,
          378.57070755958557,
          378.67058849334717,
          378.77225136756897,
          378.8715682029724,
          378.97123861312866,
          379.0709683895111,
          379.17172718048096,
          379.2713677883148,
          379.37117290496826,
          379.4718773365021,
          379.5713415145874,
          379.6712350845337,
          379.7715103626251,
          379.8717985153198,
          379.97728991508484,
          380.0728027820587,
          380.1717813014984,
          380.27346563339233,
          380.3715305328369,
          380.47183561325073,
          380.5720341205597,
          380.6718740463257,
          380.7727301120758,
          380.87255120277405,
          380.9730746746063,
          381.0756416320801,
          381.17266750335693
         ],
         "y": [
          90,
          90,
          90,
          90,
          90,
          90,
          90,
          90,
          90,
          90,
          90,
          90,
          90,
          90,
          90,
          90,
          90,
          90,
          90,
          90,
          90,
          90,
          90,
          90,
          90,
          90,
          90,
          90,
          90,
          90,
          90,
          90,
          90,
          90,
          90,
          90,
          90,
          90,
          90,
          90,
          90,
          90,
          90,
          90,
          90,
          90,
          90,
          90,
          90,
          90,
          90,
          90,
          90,
          90,
          90,
          90,
          90,
          90,
          90,
          90,
          90,
          90,
          90,
          90,
          90,
          90,
          90,
          90,
          90,
          90,
          90,
          90,
          90,
          90,
          90,
          90,
          90,
          90,
          90,
          90,
          90,
          90,
          90,
          90,
          90,
          90,
          90,
          90,
          90,
          90,
          90,
          90,
          90,
          90,
          90,
          90,
          90,
          90,
          90,
          90,
          90,
          90,
          90,
          90,
          90,
          90,
          90,
          90,
          90,
          90,
          90,
          90,
          90,
          90,
          90,
          90,
          90,
          90,
          90,
          90,
          90,
          90,
          90,
          90,
          90,
          90,
          90,
          90,
          90,
          90,
          90,
          90,
          90,
          90,
          90,
          90,
          90,
          90,
          90,
          90,
          90,
          90,
          90,
          90,
          90,
          90,
          90,
          90,
          90,
          90,
          90,
          90,
          90,
          90,
          90,
          90,
          90,
          90,
          90,
          90,
          90,
          90,
          90,
          90,
          90,
          90,
          90
         ]
        }
       ],
       "layout": {
        "autosize": false,
        "font": {
         "color": "black",
         "family": "Courier New, monospace",
         "size": 22
        },
        "height": 600,
        "template": {
         "data": {
          "bar": [
           {
            "error_x": {
             "color": "#2a3f5f"
            },
            "error_y": {
             "color": "#2a3f5f"
            },
            "marker": {
             "line": {
              "color": "#E5ECF6",
              "width": 0.5
             },
             "pattern": {
              "fillmode": "overlay",
              "size": 10,
              "solidity": 0.2
             }
            },
            "type": "bar"
           }
          ],
          "barpolar": [
           {
            "marker": {
             "line": {
              "color": "#E5ECF6",
              "width": 0.5
             },
             "pattern": {
              "fillmode": "overlay",
              "size": 10,
              "solidity": 0.2
             }
            },
            "type": "barpolar"
           }
          ],
          "carpet": [
           {
            "aaxis": {
             "endlinecolor": "#2a3f5f",
             "gridcolor": "white",
             "linecolor": "white",
             "minorgridcolor": "white",
             "startlinecolor": "#2a3f5f"
            },
            "baxis": {
             "endlinecolor": "#2a3f5f",
             "gridcolor": "white",
             "linecolor": "white",
             "minorgridcolor": "white",
             "startlinecolor": "#2a3f5f"
            },
            "type": "carpet"
           }
          ],
          "choropleth": [
           {
            "colorbar": {
             "outlinewidth": 0,
             "ticks": ""
            },
            "type": "choropleth"
           }
          ],
          "contour": [
           {
            "colorbar": {
             "outlinewidth": 0,
             "ticks": ""
            },
            "colorscale": [
             [
              0,
              "#0d0887"
             ],
             [
              0.1111111111111111,
              "#46039f"
             ],
             [
              0.2222222222222222,
              "#7201a8"
             ],
             [
              0.3333333333333333,
              "#9c179e"
             ],
             [
              0.4444444444444444,
              "#bd3786"
             ],
             [
              0.5555555555555556,
              "#d8576b"
             ],
             [
              0.6666666666666666,
              "#ed7953"
             ],
             [
              0.7777777777777778,
              "#fb9f3a"
             ],
             [
              0.8888888888888888,
              "#fdca26"
             ],
             [
              1,
              "#f0f921"
             ]
            ],
            "type": "contour"
           }
          ],
          "contourcarpet": [
           {
            "colorbar": {
             "outlinewidth": 0,
             "ticks": ""
            },
            "type": "contourcarpet"
           }
          ],
          "heatmap": [
           {
            "colorbar": {
             "outlinewidth": 0,
             "ticks": ""
            },
            "colorscale": [
             [
              0,
              "#0d0887"
             ],
             [
              0.1111111111111111,
              "#46039f"
             ],
             [
              0.2222222222222222,
              "#7201a8"
             ],
             [
              0.3333333333333333,
              "#9c179e"
             ],
             [
              0.4444444444444444,
              "#bd3786"
             ],
             [
              0.5555555555555556,
              "#d8576b"
             ],
             [
              0.6666666666666666,
              "#ed7953"
             ],
             [
              0.7777777777777778,
              "#fb9f3a"
             ],
             [
              0.8888888888888888,
              "#fdca26"
             ],
             [
              1,
              "#f0f921"
             ]
            ],
            "type": "heatmap"
           }
          ],
          "heatmapgl": [
           {
            "colorbar": {
             "outlinewidth": 0,
             "ticks": ""
            },
            "colorscale": [
             [
              0,
              "#0d0887"
             ],
             [
              0.1111111111111111,
              "#46039f"
             ],
             [
              0.2222222222222222,
              "#7201a8"
             ],
             [
              0.3333333333333333,
              "#9c179e"
             ],
             [
              0.4444444444444444,
              "#bd3786"
             ],
             [
              0.5555555555555556,
              "#d8576b"
             ],
             [
              0.6666666666666666,
              "#ed7953"
             ],
             [
              0.7777777777777778,
              "#fb9f3a"
             ],
             [
              0.8888888888888888,
              "#fdca26"
             ],
             [
              1,
              "#f0f921"
             ]
            ],
            "type": "heatmapgl"
           }
          ],
          "histogram": [
           {
            "marker": {
             "pattern": {
              "fillmode": "overlay",
              "size": 10,
              "solidity": 0.2
             }
            },
            "type": "histogram"
           }
          ],
          "histogram2d": [
           {
            "colorbar": {
             "outlinewidth": 0,
             "ticks": ""
            },
            "colorscale": [
             [
              0,
              "#0d0887"
             ],
             [
              0.1111111111111111,
              "#46039f"
             ],
             [
              0.2222222222222222,
              "#7201a8"
             ],
             [
              0.3333333333333333,
              "#9c179e"
             ],
             [
              0.4444444444444444,
              "#bd3786"
             ],
             [
              0.5555555555555556,
              "#d8576b"
             ],
             [
              0.6666666666666666,
              "#ed7953"
             ],
             [
              0.7777777777777778,
              "#fb9f3a"
             ],
             [
              0.8888888888888888,
              "#fdca26"
             ],
             [
              1,
              "#f0f921"
             ]
            ],
            "type": "histogram2d"
           }
          ],
          "histogram2dcontour": [
           {
            "colorbar": {
             "outlinewidth": 0,
             "ticks": ""
            },
            "colorscale": [
             [
              0,
              "#0d0887"
             ],
             [
              0.1111111111111111,
              "#46039f"
             ],
             [
              0.2222222222222222,
              "#7201a8"
             ],
             [
              0.3333333333333333,
              "#9c179e"
             ],
             [
              0.4444444444444444,
              "#bd3786"
             ],
             [
              0.5555555555555556,
              "#d8576b"
             ],
             [
              0.6666666666666666,
              "#ed7953"
             ],
             [
              0.7777777777777778,
              "#fb9f3a"
             ],
             [
              0.8888888888888888,
              "#fdca26"
             ],
             [
              1,
              "#f0f921"
             ]
            ],
            "type": "histogram2dcontour"
           }
          ],
          "mesh3d": [
           {
            "colorbar": {
             "outlinewidth": 0,
             "ticks": ""
            },
            "type": "mesh3d"
           }
          ],
          "parcoords": [
           {
            "line": {
             "colorbar": {
              "outlinewidth": 0,
              "ticks": ""
             }
            },
            "type": "parcoords"
           }
          ],
          "pie": [
           {
            "automargin": true,
            "type": "pie"
           }
          ],
          "scatter": [
           {
            "fillpattern": {
             "fillmode": "overlay",
             "size": 10,
             "solidity": 0.2
            },
            "type": "scatter"
           }
          ],
          "scatter3d": [
           {
            "line": {
             "colorbar": {
              "outlinewidth": 0,
              "ticks": ""
             }
            },
            "marker": {
             "colorbar": {
              "outlinewidth": 0,
              "ticks": ""
             }
            },
            "type": "scatter3d"
           }
          ],
          "scattercarpet": [
           {
            "marker": {
             "colorbar": {
              "outlinewidth": 0,
              "ticks": ""
             }
            },
            "type": "scattercarpet"
           }
          ],
          "scattergeo": [
           {
            "marker": {
             "colorbar": {
              "outlinewidth": 0,
              "ticks": ""
             }
            },
            "type": "scattergeo"
           }
          ],
          "scattergl": [
           {
            "marker": {
             "colorbar": {
              "outlinewidth": 0,
              "ticks": ""
             }
            },
            "type": "scattergl"
           }
          ],
          "scattermapbox": [
           {
            "marker": {
             "colorbar": {
              "outlinewidth": 0,
              "ticks": ""
             }
            },
            "type": "scattermapbox"
           }
          ],
          "scatterpolar": [
           {
            "marker": {
             "colorbar": {
              "outlinewidth": 0,
              "ticks": ""
             }
            },
            "type": "scatterpolar"
           }
          ],
          "scatterpolargl": [
           {
            "marker": {
             "colorbar": {
              "outlinewidth": 0,
              "ticks": ""
             }
            },
            "type": "scatterpolargl"
           }
          ],
          "scatterternary": [
           {
            "marker": {
             "colorbar": {
              "outlinewidth": 0,
              "ticks": ""
             }
            },
            "type": "scatterternary"
           }
          ],
          "surface": [
           {
            "colorbar": {
             "outlinewidth": 0,
             "ticks": ""
            },
            "colorscale": [
             [
              0,
              "#0d0887"
             ],
             [
              0.1111111111111111,
              "#46039f"
             ],
             [
              0.2222222222222222,
              "#7201a8"
             ],
             [
              0.3333333333333333,
              "#9c179e"
             ],
             [
              0.4444444444444444,
              "#bd3786"
             ],
             [
              0.5555555555555556,
              "#d8576b"
             ],
             [
              0.6666666666666666,
              "#ed7953"
             ],
             [
              0.7777777777777778,
              "#fb9f3a"
             ],
             [
              0.8888888888888888,
              "#fdca26"
             ],
             [
              1,
              "#f0f921"
             ]
            ],
            "type": "surface"
           }
          ],
          "table": [
           {
            "cells": {
             "fill": {
              "color": "#EBF0F8"
             },
             "line": {
              "color": "white"
             }
            },
            "header": {
             "fill": {
              "color": "#C8D4E3"
             },
             "line": {
              "color": "white"
             }
            },
            "type": "table"
           }
          ]
         },
         "layout": {
          "annotationdefaults": {
           "arrowcolor": "#2a3f5f",
           "arrowhead": 0,
           "arrowwidth": 1
          },
          "autotypenumbers": "strict",
          "coloraxis": {
           "colorbar": {
            "outlinewidth": 0,
            "ticks": ""
           }
          },
          "colorscale": {
           "diverging": [
            [
             0,
             "#8e0152"
            ],
            [
             0.1,
             "#c51b7d"
            ],
            [
             0.2,
             "#de77ae"
            ],
            [
             0.3,
             "#f1b6da"
            ],
            [
             0.4,
             "#fde0ef"
            ],
            [
             0.5,
             "#f7f7f7"
            ],
            [
             0.6,
             "#e6f5d0"
            ],
            [
             0.7,
             "#b8e186"
            ],
            [
             0.8,
             "#7fbc41"
            ],
            [
             0.9,
             "#4d9221"
            ],
            [
             1,
             "#276419"
            ]
           ],
           "sequential": [
            [
             0,
             "#0d0887"
            ],
            [
             0.1111111111111111,
             "#46039f"
            ],
            [
             0.2222222222222222,
             "#7201a8"
            ],
            [
             0.3333333333333333,
             "#9c179e"
            ],
            [
             0.4444444444444444,
             "#bd3786"
            ],
            [
             0.5555555555555556,
             "#d8576b"
            ],
            [
             0.6666666666666666,
             "#ed7953"
            ],
            [
             0.7777777777777778,
             "#fb9f3a"
            ],
            [
             0.8888888888888888,
             "#fdca26"
            ],
            [
             1,
             "#f0f921"
            ]
           ],
           "sequentialminus": [
            [
             0,
             "#0d0887"
            ],
            [
             0.1111111111111111,
             "#46039f"
            ],
            [
             0.2222222222222222,
             "#7201a8"
            ],
            [
             0.3333333333333333,
             "#9c179e"
            ],
            [
             0.4444444444444444,
             "#bd3786"
            ],
            [
             0.5555555555555556,
             "#d8576b"
            ],
            [
             0.6666666666666666,
             "#ed7953"
            ],
            [
             0.7777777777777778,
             "#fb9f3a"
            ],
            [
             0.8888888888888888,
             "#fdca26"
            ],
            [
             1,
             "#f0f921"
            ]
           ]
          },
          "colorway": [
           "#636efa",
           "#EF553B",
           "#00cc96",
           "#ab63fa",
           "#FFA15A",
           "#19d3f3",
           "#FF6692",
           "#B6E880",
           "#FF97FF",
           "#FECB52"
          ],
          "font": {
           "color": "#2a3f5f"
          },
          "geo": {
           "bgcolor": "white",
           "lakecolor": "white",
           "landcolor": "#E5ECF6",
           "showlakes": true,
           "showland": true,
           "subunitcolor": "white"
          },
          "hoverlabel": {
           "align": "left"
          },
          "hovermode": "closest",
          "mapbox": {
           "style": "light"
          },
          "paper_bgcolor": "white",
          "plot_bgcolor": "#E5ECF6",
          "polar": {
           "angularaxis": {
            "gridcolor": "white",
            "linecolor": "white",
            "ticks": ""
           },
           "bgcolor": "#E5ECF6",
           "radialaxis": {
            "gridcolor": "white",
            "linecolor": "white",
            "ticks": ""
           }
          },
          "scene": {
           "xaxis": {
            "backgroundcolor": "#E5ECF6",
            "gridcolor": "white",
            "gridwidth": 2,
            "linecolor": "white",
            "showbackground": true,
            "ticks": "",
            "zerolinecolor": "white"
           },
           "yaxis": {
            "backgroundcolor": "#E5ECF6",
            "gridcolor": "white",
            "gridwidth": 2,
            "linecolor": "white",
            "showbackground": true,
            "ticks": "",
            "zerolinecolor": "white"
           },
           "zaxis": {
            "backgroundcolor": "#E5ECF6",
            "gridcolor": "white",
            "gridwidth": 2,
            "linecolor": "white",
            "showbackground": true,
            "ticks": "",
            "zerolinecolor": "white"
           }
          },
          "shapedefaults": {
           "line": {
            "color": "#2a3f5f"
           }
          },
          "ternary": {
           "aaxis": {
            "gridcolor": "white",
            "linecolor": "white",
            "ticks": ""
           },
           "baxis": {
            "gridcolor": "white",
            "linecolor": "white",
            "ticks": ""
           },
           "bgcolor": "#E5ECF6",
           "caxis": {
            "gridcolor": "white",
            "linecolor": "white",
            "ticks": ""
           }
          },
          "title": {
           "x": 0.05
          },
          "xaxis": {
           "automargin": true,
           "gridcolor": "white",
           "linecolor": "white",
           "ticks": "",
           "title": {
            "standoff": 15
           },
           "zerolinecolor": "white",
           "zerolinewidth": 2
          },
          "yaxis": {
           "automargin": true,
           "gridcolor": "white",
           "linecolor": "white",
           "ticks": "",
           "title": {
            "standoff": 15
           },
           "zerolinecolor": "white",
           "zerolinewidth": 2
          }
         }
        },
        "title": {
         "text": "Range of Motion hipLeft"
        },
        "width": 750,
        "xaxis": {
         "title": {
          "font": {
           "color": "#7f7f7f",
           "family": "Courier New, monospace",
           "size": 18
          },
          "text": "time [s]"
         }
        },
        "yaxis": {
         "title": {
          "font": {
           "color": "#7f7f7f",
           "family": "Courier New, monospace",
           "size": 18
          },
          "text": "ROM [gradi]"
         }
        }
       }
      },
      "text/html": [
       "<div>                            <div id=\"e6fc3e82-aec6-4272-81f6-0f5ca78dd365\" class=\"plotly-graph-div\" style=\"height:600px; width:750px;\"></div>            <script type=\"text/javascript\">                require([\"plotly\"], function(Plotly) {                    window.PLOTLYENV=window.PLOTLYENV || {};                                    if (document.getElementById(\"e6fc3e82-aec6-4272-81f6-0f5ca78dd365\")) {                    Plotly.newPlot(                        \"e6fc3e82-aec6-4272-81f6-0f5ca78dd365\",                        [{\"line\":{\"color\":\"blue\",\"width\":3},\"mode\":\"lines\",\"name\":\"Andamento Reale\",\"x\":[364.45887899398804,364.5586404800415,364.6589159965515,364.7593548297882,364.8601448535919,364.96894550323486,365.0596868991852,365.1594166755676,365.25956082344055,365.3596260547638,365.4601356983185,365.55979108810425,365.6599338054657,365.760290145874,365.8600797653198,365.9602725505829,366.0603938102722,366.16379594802856,366.2636842727661,366.3638548851013,366.4605884552002,366.5609917640686,366.6607811450958,366.7835304737091,366.86488342285156,366.96648716926575,367.0610132217407,367.1611726284027,367.26143312454224,367.36129570007324,367.46194195747375,367.5621943473816,367.6617558002472,367.76181387901306,367.8632423877716,367.9623694419861,368.0634768009186,368.16354393959045,368.26345467567444,368.3634202480316,368.4639570713043,368.56341767311096,368.66284465789795,368.76342129707336,368.8643660545349,368.96563172340393,369.06455993652344,369.16477060317993,369.26576590538025,369.3649263381958,369.46443724632263,369.564484834671,369.6652081012726,369.7659890651703,369.86567997932434,369.9659514427185,370.0671544075012,370.1666123867035,370.266783952713,370.36477303504944,370.4668548107147,370.565545797348,370.6652846336365,370.7655713558197,370.8653576374054,370.96653938293457,371.0674316883087,371.1659688949585,371.26658487319946,371.3692162036896,371.46680188179016,371.56940364837646,371.66719913482666,371.7668056488037,371.86815881729126,371.9680743217468,372.0671577453613,372.1683523654938,372.2659475803375,372.3691494464874,372.46960973739624,372.5661597251892,372.66928935050964,372.7676477432251,372.8702368736267,372.9683094024658,373.06783747673035,373.1671121120453,373.26922821998596,373.36808013916016,373.46855306625366,373.5675835609436,373.66880536079407,373.76876640319824,373.8698561191559,373.97192335128784,374.0674250125885,374.16755986213684,374.2683062553406,374.3683798313141,374.46939849853516,374.56834268569946,374.66983461380005,374.7691607475281,374.8697361946106,374.9699294567108,375.06860613822937,375.16787028312683,375.26893734931946,375.3684616088867,375.46800565719604,375.572505235672,375.66814947128296,375.77130460739136,375.86928486824036,375.9735300540924,376.0717408657074,376.1719069480896,376.27218413352966,376.37700939178467,376.4729585647583,376.568984746933,376.6694688796997,376.7690782546997,376.8701825141907,376.96993613243103,377.06991147994995,377.17006039619446,377.2700288295746,377.369996547699,377.47222781181335,377.57026195526123,377.6698634624481,377.77056527137756,377.87061953544617,377.97315883636475,378.07047605514526,378.17071175575256,378.2701976299286,378.37180352211,378.4711010456085,378.57070755958557,378.67058849334717,378.77225136756897,378.8715682029724,378.97123861312866,379.0709683895111,379.17172718048096,379.2713677883148,379.37117290496826,379.4718773365021,379.5713415145874,379.6712350845337,379.7715103626251,379.8717985153198,379.97728991508484,380.0728027820587,380.1717813014984,380.27346563339233,380.3715305328369,380.47183561325073,380.5720341205597,380.6718740463257,380.7727301120758,380.87255120277405,380.9730746746063,381.0756416320801,381.17266750335693],\"y\":[90.0,90.0,90.0,90.0,90.0,90.0,90.0,90.0,90.0,90.0,90.0,90.0,90.0,90.0,90.0,90.0,90.0,90.0,90.0,90.0,90.0,90.0,90.0,90.0,90.0,90.0,90.0,90.0,90.0,90.0,90.0,90.0,90.0,90.0,90.0,90.0,90.0,90.0,90.0,90.0,90.0,90.0,90.0,90.0,90.0,90.0,90.0,90.0,90.0,90.0,90.0,90.0,90.0,90.0,90.0,90.0,90.0,90.0,90.0,90.0,90.0,90.0,90.0,90.0,90.0,90.0,90.0,90.0,90.0,90.0,90.0,90.0,90.0,90.0,90.0,90.0,90.0,90.0,90.0,90.0,90.0,90.0,90.0,90.0,90.0,90.0,90.0,90.0,90.0,90.0,90.0,90.0,90.0,90.0,90.0,90.0,90.0,90.0,90.0,90.0,90.0,90.0,90.0,90.0,90.0,90.0,90.0,90.0,90.0,90.0,90.0,90.0,90.0,90.0,90.0,90.0,90.0,90.0,90.0,90.0,90.0,90.0,90.0,90.0,90.0,90.0,90.0,90.0,90.0,90.0,90.0,90.0,90.0,90.0,90.0,90.0,90.0,90.0,90.0,90.0,90.0,90.0,90.0,90.0,90.0,90.0,90.0,90.0,90.0,90.0,90.0,90.0,90.0,90.0,90.0,90.0,90.0,90.0,90.0,90.0,90.0,90.0,90.0,90.0,90.0,90.0,90.0],\"type\":\"scatter\"}],                        {\"autosize\":false,\"font\":{\"color\":\"black\",\"family\":\"Courier New, monospace\",\"size\":22},\"height\":600,\"template\":{\"data\":{\"barpolar\":[{\"marker\":{\"line\":{\"color\":\"#E5ECF6\",\"width\":0.5},\"pattern\":{\"fillmode\":\"overlay\",\"size\":10,\"solidity\":0.2}},\"type\":\"barpolar\"}],\"bar\":[{\"error_x\":{\"color\":\"#2a3f5f\"},\"error_y\":{\"color\":\"#2a3f5f\"},\"marker\":{\"line\":{\"color\":\"#E5ECF6\",\"width\":0.5},\"pattern\":{\"fillmode\":\"overlay\",\"size\":10,\"solidity\":0.2}},\"type\":\"bar\"}],\"carpet\":[{\"aaxis\":{\"endlinecolor\":\"#2a3f5f\",\"gridcolor\":\"white\",\"linecolor\":\"white\",\"minorgridcolor\":\"white\",\"startlinecolor\":\"#2a3f5f\"},\"baxis\":{\"endlinecolor\":\"#2a3f5f\",\"gridcolor\":\"white\",\"linecolor\":\"white\",\"minorgridcolor\":\"white\",\"startlinecolor\":\"#2a3f5f\"},\"type\":\"carpet\"}],\"choropleth\":[{\"colorbar\":{\"outlinewidth\":0,\"ticks\":\"\"},\"type\":\"choropleth\"}],\"contourcarpet\":[{\"colorbar\":{\"outlinewidth\":0,\"ticks\":\"\"},\"type\":\"contourcarpet\"}],\"contour\":[{\"colorbar\":{\"outlinewidth\":0,\"ticks\":\"\"},\"colorscale\":[[0.0,\"#0d0887\"],[0.1111111111111111,\"#46039f\"],[0.2222222222222222,\"#7201a8\"],[0.3333333333333333,\"#9c179e\"],[0.4444444444444444,\"#bd3786\"],[0.5555555555555556,\"#d8576b\"],[0.6666666666666666,\"#ed7953\"],[0.7777777777777778,\"#fb9f3a\"],[0.8888888888888888,\"#fdca26\"],[1.0,\"#f0f921\"]],\"type\":\"contour\"}],\"heatmapgl\":[{\"colorbar\":{\"outlinewidth\":0,\"ticks\":\"\"},\"colorscale\":[[0.0,\"#0d0887\"],[0.1111111111111111,\"#46039f\"],[0.2222222222222222,\"#7201a8\"],[0.3333333333333333,\"#9c179e\"],[0.4444444444444444,\"#bd3786\"],[0.5555555555555556,\"#d8576b\"],[0.6666666666666666,\"#ed7953\"],[0.7777777777777778,\"#fb9f3a\"],[0.8888888888888888,\"#fdca26\"],[1.0,\"#f0f921\"]],\"type\":\"heatmapgl\"}],\"heatmap\":[{\"colorbar\":{\"outlinewidth\":0,\"ticks\":\"\"},\"colorscale\":[[0.0,\"#0d0887\"],[0.1111111111111111,\"#46039f\"],[0.2222222222222222,\"#7201a8\"],[0.3333333333333333,\"#9c179e\"],[0.4444444444444444,\"#bd3786\"],[0.5555555555555556,\"#d8576b\"],[0.6666666666666666,\"#ed7953\"],[0.7777777777777778,\"#fb9f3a\"],[0.8888888888888888,\"#fdca26\"],[1.0,\"#f0f921\"]],\"type\":\"heatmap\"}],\"histogram2dcontour\":[{\"colorbar\":{\"outlinewidth\":0,\"ticks\":\"\"},\"colorscale\":[[0.0,\"#0d0887\"],[0.1111111111111111,\"#46039f\"],[0.2222222222222222,\"#7201a8\"],[0.3333333333333333,\"#9c179e\"],[0.4444444444444444,\"#bd3786\"],[0.5555555555555556,\"#d8576b\"],[0.6666666666666666,\"#ed7953\"],[0.7777777777777778,\"#fb9f3a\"],[0.8888888888888888,\"#fdca26\"],[1.0,\"#f0f921\"]],\"type\":\"histogram2dcontour\"}],\"histogram2d\":[{\"colorbar\":{\"outlinewidth\":0,\"ticks\":\"\"},\"colorscale\":[[0.0,\"#0d0887\"],[0.1111111111111111,\"#46039f\"],[0.2222222222222222,\"#7201a8\"],[0.3333333333333333,\"#9c179e\"],[0.4444444444444444,\"#bd3786\"],[0.5555555555555556,\"#d8576b\"],[0.6666666666666666,\"#ed7953\"],[0.7777777777777778,\"#fb9f3a\"],[0.8888888888888888,\"#fdca26\"],[1.0,\"#f0f921\"]],\"type\":\"histogram2d\"}],\"histogram\":[{\"marker\":{\"pattern\":{\"fillmode\":\"overlay\",\"size\":10,\"solidity\":0.2}},\"type\":\"histogram\"}],\"mesh3d\":[{\"colorbar\":{\"outlinewidth\":0,\"ticks\":\"\"},\"type\":\"mesh3d\"}],\"parcoords\":[{\"line\":{\"colorbar\":{\"outlinewidth\":0,\"ticks\":\"\"}},\"type\":\"parcoords\"}],\"pie\":[{\"automargin\":true,\"type\":\"pie\"}],\"scatter3d\":[{\"line\":{\"colorbar\":{\"outlinewidth\":0,\"ticks\":\"\"}},\"marker\":{\"colorbar\":{\"outlinewidth\":0,\"ticks\":\"\"}},\"type\":\"scatter3d\"}],\"scattercarpet\":[{\"marker\":{\"colorbar\":{\"outlinewidth\":0,\"ticks\":\"\"}},\"type\":\"scattercarpet\"}],\"scattergeo\":[{\"marker\":{\"colorbar\":{\"outlinewidth\":0,\"ticks\":\"\"}},\"type\":\"scattergeo\"}],\"scattergl\":[{\"marker\":{\"colorbar\":{\"outlinewidth\":0,\"ticks\":\"\"}},\"type\":\"scattergl\"}],\"scattermapbox\":[{\"marker\":{\"colorbar\":{\"outlinewidth\":0,\"ticks\":\"\"}},\"type\":\"scattermapbox\"}],\"scatterpolargl\":[{\"marker\":{\"colorbar\":{\"outlinewidth\":0,\"ticks\":\"\"}},\"type\":\"scatterpolargl\"}],\"scatterpolar\":[{\"marker\":{\"colorbar\":{\"outlinewidth\":0,\"ticks\":\"\"}},\"type\":\"scatterpolar\"}],\"scatter\":[{\"fillpattern\":{\"fillmode\":\"overlay\",\"size\":10,\"solidity\":0.2},\"type\":\"scatter\"}],\"scatterternary\":[{\"marker\":{\"colorbar\":{\"outlinewidth\":0,\"ticks\":\"\"}},\"type\":\"scatterternary\"}],\"surface\":[{\"colorbar\":{\"outlinewidth\":0,\"ticks\":\"\"},\"colorscale\":[[0.0,\"#0d0887\"],[0.1111111111111111,\"#46039f\"],[0.2222222222222222,\"#7201a8\"],[0.3333333333333333,\"#9c179e\"],[0.4444444444444444,\"#bd3786\"],[0.5555555555555556,\"#d8576b\"],[0.6666666666666666,\"#ed7953\"],[0.7777777777777778,\"#fb9f3a\"],[0.8888888888888888,\"#fdca26\"],[1.0,\"#f0f921\"]],\"type\":\"surface\"}],\"table\":[{\"cells\":{\"fill\":{\"color\":\"#EBF0F8\"},\"line\":{\"color\":\"white\"}},\"header\":{\"fill\":{\"color\":\"#C8D4E3\"},\"line\":{\"color\":\"white\"}},\"type\":\"table\"}]},\"layout\":{\"annotationdefaults\":{\"arrowcolor\":\"#2a3f5f\",\"arrowhead\":0,\"arrowwidth\":1},\"autotypenumbers\":\"strict\",\"coloraxis\":{\"colorbar\":{\"outlinewidth\":0,\"ticks\":\"\"}},\"colorscale\":{\"diverging\":[[0,\"#8e0152\"],[0.1,\"#c51b7d\"],[0.2,\"#de77ae\"],[0.3,\"#f1b6da\"],[0.4,\"#fde0ef\"],[0.5,\"#f7f7f7\"],[0.6,\"#e6f5d0\"],[0.7,\"#b8e186\"],[0.8,\"#7fbc41\"],[0.9,\"#4d9221\"],[1,\"#276419\"]],\"sequential\":[[0.0,\"#0d0887\"],[0.1111111111111111,\"#46039f\"],[0.2222222222222222,\"#7201a8\"],[0.3333333333333333,\"#9c179e\"],[0.4444444444444444,\"#bd3786\"],[0.5555555555555556,\"#d8576b\"],[0.6666666666666666,\"#ed7953\"],[0.7777777777777778,\"#fb9f3a\"],[0.8888888888888888,\"#fdca26\"],[1.0,\"#f0f921\"]],\"sequentialminus\":[[0.0,\"#0d0887\"],[0.1111111111111111,\"#46039f\"],[0.2222222222222222,\"#7201a8\"],[0.3333333333333333,\"#9c179e\"],[0.4444444444444444,\"#bd3786\"],[0.5555555555555556,\"#d8576b\"],[0.6666666666666666,\"#ed7953\"],[0.7777777777777778,\"#fb9f3a\"],[0.8888888888888888,\"#fdca26\"],[1.0,\"#f0f921\"]]},\"colorway\":[\"#636efa\",\"#EF553B\",\"#00cc96\",\"#ab63fa\",\"#FFA15A\",\"#19d3f3\",\"#FF6692\",\"#B6E880\",\"#FF97FF\",\"#FECB52\"],\"font\":{\"color\":\"#2a3f5f\"},\"geo\":{\"bgcolor\":\"white\",\"lakecolor\":\"white\",\"landcolor\":\"#E5ECF6\",\"showlakes\":true,\"showland\":true,\"subunitcolor\":\"white\"},\"hoverlabel\":{\"align\":\"left\"},\"hovermode\":\"closest\",\"mapbox\":{\"style\":\"light\"},\"paper_bgcolor\":\"white\",\"plot_bgcolor\":\"#E5ECF6\",\"polar\":{\"angularaxis\":{\"gridcolor\":\"white\",\"linecolor\":\"white\",\"ticks\":\"\"},\"bgcolor\":\"#E5ECF6\",\"radialaxis\":{\"gridcolor\":\"white\",\"linecolor\":\"white\",\"ticks\":\"\"}},\"scene\":{\"xaxis\":{\"backgroundcolor\":\"#E5ECF6\",\"gridcolor\":\"white\",\"gridwidth\":2,\"linecolor\":\"white\",\"showbackground\":true,\"ticks\":\"\",\"zerolinecolor\":\"white\"},\"yaxis\":{\"backgroundcolor\":\"#E5ECF6\",\"gridcolor\":\"white\",\"gridwidth\":2,\"linecolor\":\"white\",\"showbackground\":true,\"ticks\":\"\",\"zerolinecolor\":\"white\"},\"zaxis\":{\"backgroundcolor\":\"#E5ECF6\",\"gridcolor\":\"white\",\"gridwidth\":2,\"linecolor\":\"white\",\"showbackground\":true,\"ticks\":\"\",\"zerolinecolor\":\"white\"}},\"shapedefaults\":{\"line\":{\"color\":\"#2a3f5f\"}},\"ternary\":{\"aaxis\":{\"gridcolor\":\"white\",\"linecolor\":\"white\",\"ticks\":\"\"},\"baxis\":{\"gridcolor\":\"white\",\"linecolor\":\"white\",\"ticks\":\"\"},\"bgcolor\":\"#E5ECF6\",\"caxis\":{\"gridcolor\":\"white\",\"linecolor\":\"white\",\"ticks\":\"\"}},\"title\":{\"x\":0.05},\"xaxis\":{\"automargin\":true,\"gridcolor\":\"white\",\"linecolor\":\"white\",\"ticks\":\"\",\"title\":{\"standoff\":15},\"zerolinecolor\":\"white\",\"zerolinewidth\":2},\"yaxis\":{\"automargin\":true,\"gridcolor\":\"white\",\"linecolor\":\"white\",\"ticks\":\"\",\"title\":{\"standoff\":15},\"zerolinecolor\":\"white\",\"zerolinewidth\":2}}},\"title\":{\"text\":\"Range of Motion hipLeft\"},\"width\":750,\"xaxis\":{\"title\":{\"font\":{\"color\":\"#7f7f7f\",\"family\":\"Courier New, monospace\",\"size\":18},\"text\":\"time [s]\"}},\"yaxis\":{\"title\":{\"font\":{\"color\":\"#7f7f7f\",\"family\":\"Courier New, monospace\",\"size\":18},\"text\":\"ROM [gradi]\"}}},                        {\"responsive\": true}                    ).then(function(){\n",
       "                            \n",
       "var gd = document.getElementById('e6fc3e82-aec6-4272-81f6-0f5ca78dd365');\n",
       "var x = new MutationObserver(function (mutations, observer) {{\n",
       "        var display = window.getComputedStyle(gd).display;\n",
       "        if (!display || display === 'none') {{\n",
       "            console.log([gd, 'removed!']);\n",
       "            Plotly.purge(gd);\n",
       "            observer.disconnect();\n",
       "        }}\n",
       "}});\n",
       "\n",
       "// Listen for the removal of the full notebook cells\n",
       "var notebookContainer = gd.closest('#notebook-container');\n",
       "if (notebookContainer) {{\n",
       "    x.observe(notebookContainer, {childList: true});\n",
       "}}\n",
       "\n",
       "// Listen for the clearing of the current output cell\n",
       "var outputEl = gd.closest('.output');\n",
       "if (outputEl) {{\n",
       "    x.observe(outputEl, {childList: true});\n",
       "}}\n",
       "\n",
       "                        })                };                });            </script>        </div>"
      ]
     },
     "metadata": {},
     "output_type": "display_data"
    },
    {
     "data": {
      "application/vnd.plotly.v1+json": {
       "config": {
        "linkText": "Export to plot.ly",
        "plotlyServerURL": "https://plot.ly",
        "showLink": false
       },
       "data": [
        {
         "line": {
          "color": "blue",
          "width": 3
         },
         "mode": "lines",
         "name": "Andamento Reale",
         "type": "scatter",
         "x": [
          364.45887899398804,
          364.5586404800415,
          364.6589159965515,
          364.7593548297882,
          364.8601448535919,
          364.96894550323486,
          365.0596868991852,
          365.1594166755676,
          365.25956082344055,
          365.3596260547638,
          365.4601356983185,
          365.55979108810425,
          365.6599338054657,
          365.760290145874,
          365.8600797653198,
          365.9602725505829,
          366.0603938102722,
          366.16379594802856,
          366.2636842727661,
          366.3638548851013,
          366.4605884552002,
          366.5609917640686,
          366.6607811450958,
          366.7835304737091,
          366.86488342285156,
          366.96648716926575,
          367.0610132217407,
          367.1611726284027,
          367.26143312454224,
          367.36129570007324,
          367.46194195747375,
          367.5621943473816,
          367.6617558002472,
          367.76181387901306,
          367.8632423877716,
          367.9623694419861,
          368.0634768009186,
          368.16354393959045,
          368.26345467567444,
          368.3634202480316,
          368.4639570713043,
          368.56341767311096,
          368.66284465789795,
          368.76342129707336,
          368.8643660545349,
          368.96563172340393,
          369.06455993652344,
          369.16477060317993,
          369.26576590538025,
          369.3649263381958,
          369.46443724632263,
          369.564484834671,
          369.6652081012726,
          369.7659890651703,
          369.86567997932434,
          369.9659514427185,
          370.0671544075012,
          370.1666123867035,
          370.266783952713,
          370.36477303504944,
          370.4668548107147,
          370.565545797348,
          370.6652846336365,
          370.7655713558197,
          370.8653576374054,
          370.96653938293457,
          371.0674316883087,
          371.1659688949585,
          371.26658487319946,
          371.3692162036896,
          371.46680188179016,
          371.56940364837646,
          371.66719913482666,
          371.7668056488037,
          371.86815881729126,
          371.9680743217468,
          372.0671577453613,
          372.1683523654938,
          372.2659475803375,
          372.3691494464874,
          372.46960973739624,
          372.5661597251892,
          372.66928935050964,
          372.7676477432251,
          372.8702368736267,
          372.9683094024658,
          373.06783747673035,
          373.1671121120453,
          373.26922821998596,
          373.36808013916016,
          373.46855306625366,
          373.5675835609436,
          373.66880536079407,
          373.76876640319824,
          373.8698561191559,
          373.97192335128784,
          374.0674250125885,
          374.16755986213684,
          374.2683062553406,
          374.3683798313141,
          374.46939849853516,
          374.56834268569946,
          374.66983461380005,
          374.7691607475281,
          374.8697361946106,
          374.9699294567108,
          375.06860613822937,
          375.16787028312683,
          375.26893734931946,
          375.3684616088867,
          375.46800565719604,
          375.572505235672,
          375.66814947128296,
          375.77130460739136,
          375.86928486824036,
          375.9735300540924,
          376.0717408657074,
          376.1719069480896,
          376.27218413352966,
          376.37700939178467,
          376.4729585647583,
          376.568984746933,
          376.6694688796997,
          376.7690782546997,
          376.8701825141907,
          376.96993613243103,
          377.06991147994995,
          377.17006039619446,
          377.2700288295746,
          377.369996547699,
          377.47222781181335,
          377.57026195526123,
          377.6698634624481,
          377.77056527137756,
          377.87061953544617,
          377.97315883636475,
          378.07047605514526,
          378.17071175575256,
          378.2701976299286,
          378.37180352211,
          378.4711010456085,
          378.57070755958557,
          378.67058849334717,
          378.77225136756897,
          378.8715682029724,
          378.97123861312866,
          379.0709683895111,
          379.17172718048096,
          379.2713677883148,
          379.37117290496826,
          379.4718773365021,
          379.5713415145874,
          379.6712350845337,
          379.7715103626251,
          379.8717985153198,
          379.97728991508484,
          380.0728027820587,
          380.1717813014984,
          380.27346563339233,
          380.3715305328369,
          380.47183561325073,
          380.5720341205597,
          380.6718740463257,
          380.7727301120758,
          380.87255120277405,
          380.9730746746063,
          381.0756416320801,
          381.17266750335693
         ],
         "y": [
          80.99848325697738,
          81.40963981400253,
          81.41632433956082,
          81.94494352405604,
          81.39471031437583,
          80.72518519085058,
          81.47451292089757,
          80.95936965132074,
          81.39398695094683,
          81.44179444685334,
          81.24707338683126,
          80.95980493847429,
          81.1267015371734,
          81.01301479500162,
          81.20992011578842,
          81.28982089820393,
          81.97855166822042,
          81.35124580051385,
          81.30016675818271,
          80.49740681518374,
          79.89809645304449,
          80.49874163707132,
          80.48032368950513,
          81.19231574586611,
          81.87056625791801,
          82.1319809508054,
          81.67732588289763,
          81.25454166316182,
          80.38010994793214,
          80.97969086808975,
          80.74751361598115,
          81.14702729642615,
          82.21595061496475,
          81.76524938733847,
          81.51164847912375,
          81.51747101927225,
          81.7429944151633,
          80.73073371847889,
          79.90628946830286,
          79.8339302546789,
          79.85222081569792,
          79.88906699539463,
          80.43279610051617,
          81.29190593462017,
          81.11514538020454,
          80.65803445392649,
          80.7556978525023,
          80.56135853404439,
          81.34233794028141,
          81.35002924349432,
          81.18787322611203,
          80.61048609395473,
          80.10792596419861,
          79.99880835575952,
          80.71786549732076,
          81.22127017428896,
          81.14296135115026,
          81.33059581893322,
          80.63669186651481,
          80.70477967238462,
          81.20493488213873,
          81.43090910318264,
          81.21065242571063,
          80.68518906133365,
          80.00136272027446,
          79.87967139857032,
          79.84731359105412,
          80.64514565805726,
          81.56561452427535,
          81.67159471677142,
          81.17979967337092,
          82.05512702830381,
          82.05512702830381,
          81.54459180486326,
          81.40442436132409,
          78.95576999610971,
          77.0130883979062,
          75.31684533499381,
          71.15162286819198,
          69.78721793339454,
          69.11072718756384,
          69.11072718756384,
          69.71497009452268,
          70.02692837092138,
          68.15484665649211,
          68.55939170990435,
          68.55939170990435,
          68.1569495864706,
          67.04249547137498,
          66.2858529409772,
          66.2858529409772,
          68.75543362635985,
          68.75543362635985,
          69.43794301718201,
          68.62004319520344,
          68.62004319520344,
          69.74447630750797,
          70.27870784800348,
          69.42862337829942,
          68.43197630481816,
          67.71596198589287,
          68.57660706709999,
          69.67608324418374,
          71.83855652746774,
          72.66615009184737,
          69.36149843912858,
          67.27630912258215,
          66.67069469999704,
          66.62383548630612,
          67.33771354631126,
          67.77024550317164,
          68.11887619927029,
          68.4946346512398,
          69.77433648341005,
          69.76505903410342,
          68.80357670508411,
          68.80357670508411,
          68.77386162721314,
          69.93229292112485,
          68.88999564156913,
          67.00391906624036,
          67.47765684608973,
          70.0595564195655,
          71.29763378384892,
          71.46419709446195,
          71.06959467590238,
          69.39241957886865,
          68.27722382805479,
          67.6766522588207,
          66.96724163955113,
          67.95069414606328,
          69.7736268222417,
          70.04409741171015,
          70.32160830680387,
          71.44952702997871,
          70.05081616203651,
          68.45329121742233,
          68.66980746282574,
          68.66980746282574,
          71.05920237991806,
          70.92338772312714,
          72.23596562668357,
          72.23596562668357,
          107.84706830663023,
          69.62181937456808,
          69.40282366429278,
          70.15120300391295,
          70.15120300391295,
          77.3631843503004,
          76.98698903169944,
          76.98698903169944,
          null,
          null,
          null,
          73.20995924744234,
          77.3466409965586,
          77.3466409965586,
          77.42502704310871,
          78.36485720715763,
          78.1103571886068,
          77.62169249739135,
          78.33635889364433,
          78.88554191475271,
          80.10038037345937,
          81.60809557614111,
          81.05362142498295,
          81.71962475639275
         ]
        }
       ],
       "layout": {
        "autosize": false,
        "font": {
         "color": "black",
         "family": "Courier New, monospace",
         "size": 22
        },
        "height": 600,
        "template": {
         "data": {
          "bar": [
           {
            "error_x": {
             "color": "#2a3f5f"
            },
            "error_y": {
             "color": "#2a3f5f"
            },
            "marker": {
             "line": {
              "color": "#E5ECF6",
              "width": 0.5
             },
             "pattern": {
              "fillmode": "overlay",
              "size": 10,
              "solidity": 0.2
             }
            },
            "type": "bar"
           }
          ],
          "barpolar": [
           {
            "marker": {
             "line": {
              "color": "#E5ECF6",
              "width": 0.5
             },
             "pattern": {
              "fillmode": "overlay",
              "size": 10,
              "solidity": 0.2
             }
            },
            "type": "barpolar"
           }
          ],
          "carpet": [
           {
            "aaxis": {
             "endlinecolor": "#2a3f5f",
             "gridcolor": "white",
             "linecolor": "white",
             "minorgridcolor": "white",
             "startlinecolor": "#2a3f5f"
            },
            "baxis": {
             "endlinecolor": "#2a3f5f",
             "gridcolor": "white",
             "linecolor": "white",
             "minorgridcolor": "white",
             "startlinecolor": "#2a3f5f"
            },
            "type": "carpet"
           }
          ],
          "choropleth": [
           {
            "colorbar": {
             "outlinewidth": 0,
             "ticks": ""
            },
            "type": "choropleth"
           }
          ],
          "contour": [
           {
            "colorbar": {
             "outlinewidth": 0,
             "ticks": ""
            },
            "colorscale": [
             [
              0,
              "#0d0887"
             ],
             [
              0.1111111111111111,
              "#46039f"
             ],
             [
              0.2222222222222222,
              "#7201a8"
             ],
             [
              0.3333333333333333,
              "#9c179e"
             ],
             [
              0.4444444444444444,
              "#bd3786"
             ],
             [
              0.5555555555555556,
              "#d8576b"
             ],
             [
              0.6666666666666666,
              "#ed7953"
             ],
             [
              0.7777777777777778,
              "#fb9f3a"
             ],
             [
              0.8888888888888888,
              "#fdca26"
             ],
             [
              1,
              "#f0f921"
             ]
            ],
            "type": "contour"
           }
          ],
          "contourcarpet": [
           {
            "colorbar": {
             "outlinewidth": 0,
             "ticks": ""
            },
            "type": "contourcarpet"
           }
          ],
          "heatmap": [
           {
            "colorbar": {
             "outlinewidth": 0,
             "ticks": ""
            },
            "colorscale": [
             [
              0,
              "#0d0887"
             ],
             [
              0.1111111111111111,
              "#46039f"
             ],
             [
              0.2222222222222222,
              "#7201a8"
             ],
             [
              0.3333333333333333,
              "#9c179e"
             ],
             [
              0.4444444444444444,
              "#bd3786"
             ],
             [
              0.5555555555555556,
              "#d8576b"
             ],
             [
              0.6666666666666666,
              "#ed7953"
             ],
             [
              0.7777777777777778,
              "#fb9f3a"
             ],
             [
              0.8888888888888888,
              "#fdca26"
             ],
             [
              1,
              "#f0f921"
             ]
            ],
            "type": "heatmap"
           }
          ],
          "heatmapgl": [
           {
            "colorbar": {
             "outlinewidth": 0,
             "ticks": ""
            },
            "colorscale": [
             [
              0,
              "#0d0887"
             ],
             [
              0.1111111111111111,
              "#46039f"
             ],
             [
              0.2222222222222222,
              "#7201a8"
             ],
             [
              0.3333333333333333,
              "#9c179e"
             ],
             [
              0.4444444444444444,
              "#bd3786"
             ],
             [
              0.5555555555555556,
              "#d8576b"
             ],
             [
              0.6666666666666666,
              "#ed7953"
             ],
             [
              0.7777777777777778,
              "#fb9f3a"
             ],
             [
              0.8888888888888888,
              "#fdca26"
             ],
             [
              1,
              "#f0f921"
             ]
            ],
            "type": "heatmapgl"
           }
          ],
          "histogram": [
           {
            "marker": {
             "pattern": {
              "fillmode": "overlay",
              "size": 10,
              "solidity": 0.2
             }
            },
            "type": "histogram"
           }
          ],
          "histogram2d": [
           {
            "colorbar": {
             "outlinewidth": 0,
             "ticks": ""
            },
            "colorscale": [
             [
              0,
              "#0d0887"
             ],
             [
              0.1111111111111111,
              "#46039f"
             ],
             [
              0.2222222222222222,
              "#7201a8"
             ],
             [
              0.3333333333333333,
              "#9c179e"
             ],
             [
              0.4444444444444444,
              "#bd3786"
             ],
             [
              0.5555555555555556,
              "#d8576b"
             ],
             [
              0.6666666666666666,
              "#ed7953"
             ],
             [
              0.7777777777777778,
              "#fb9f3a"
             ],
             [
              0.8888888888888888,
              "#fdca26"
             ],
             [
              1,
              "#f0f921"
             ]
            ],
            "type": "histogram2d"
           }
          ],
          "histogram2dcontour": [
           {
            "colorbar": {
             "outlinewidth": 0,
             "ticks": ""
            },
            "colorscale": [
             [
              0,
              "#0d0887"
             ],
             [
              0.1111111111111111,
              "#46039f"
             ],
             [
              0.2222222222222222,
              "#7201a8"
             ],
             [
              0.3333333333333333,
              "#9c179e"
             ],
             [
              0.4444444444444444,
              "#bd3786"
             ],
             [
              0.5555555555555556,
              "#d8576b"
             ],
             [
              0.6666666666666666,
              "#ed7953"
             ],
             [
              0.7777777777777778,
              "#fb9f3a"
             ],
             [
              0.8888888888888888,
              "#fdca26"
             ],
             [
              1,
              "#f0f921"
             ]
            ],
            "type": "histogram2dcontour"
           }
          ],
          "mesh3d": [
           {
            "colorbar": {
             "outlinewidth": 0,
             "ticks": ""
            },
            "type": "mesh3d"
           }
          ],
          "parcoords": [
           {
            "line": {
             "colorbar": {
              "outlinewidth": 0,
              "ticks": ""
             }
            },
            "type": "parcoords"
           }
          ],
          "pie": [
           {
            "automargin": true,
            "type": "pie"
           }
          ],
          "scatter": [
           {
            "fillpattern": {
             "fillmode": "overlay",
             "size": 10,
             "solidity": 0.2
            },
            "type": "scatter"
           }
          ],
          "scatter3d": [
           {
            "line": {
             "colorbar": {
              "outlinewidth": 0,
              "ticks": ""
             }
            },
            "marker": {
             "colorbar": {
              "outlinewidth": 0,
              "ticks": ""
             }
            },
            "type": "scatter3d"
           }
          ],
          "scattercarpet": [
           {
            "marker": {
             "colorbar": {
              "outlinewidth": 0,
              "ticks": ""
             }
            },
            "type": "scattercarpet"
           }
          ],
          "scattergeo": [
           {
            "marker": {
             "colorbar": {
              "outlinewidth": 0,
              "ticks": ""
             }
            },
            "type": "scattergeo"
           }
          ],
          "scattergl": [
           {
            "marker": {
             "colorbar": {
              "outlinewidth": 0,
              "ticks": ""
             }
            },
            "type": "scattergl"
           }
          ],
          "scattermapbox": [
           {
            "marker": {
             "colorbar": {
              "outlinewidth": 0,
              "ticks": ""
             }
            },
            "type": "scattermapbox"
           }
          ],
          "scatterpolar": [
           {
            "marker": {
             "colorbar": {
              "outlinewidth": 0,
              "ticks": ""
             }
            },
            "type": "scatterpolar"
           }
          ],
          "scatterpolargl": [
           {
            "marker": {
             "colorbar": {
              "outlinewidth": 0,
              "ticks": ""
             }
            },
            "type": "scatterpolargl"
           }
          ],
          "scatterternary": [
           {
            "marker": {
             "colorbar": {
              "outlinewidth": 0,
              "ticks": ""
             }
            },
            "type": "scatterternary"
           }
          ],
          "surface": [
           {
            "colorbar": {
             "outlinewidth": 0,
             "ticks": ""
            },
            "colorscale": [
             [
              0,
              "#0d0887"
             ],
             [
              0.1111111111111111,
              "#46039f"
             ],
             [
              0.2222222222222222,
              "#7201a8"
             ],
             [
              0.3333333333333333,
              "#9c179e"
             ],
             [
              0.4444444444444444,
              "#bd3786"
             ],
             [
              0.5555555555555556,
              "#d8576b"
             ],
             [
              0.6666666666666666,
              "#ed7953"
             ],
             [
              0.7777777777777778,
              "#fb9f3a"
             ],
             [
              0.8888888888888888,
              "#fdca26"
             ],
             [
              1,
              "#f0f921"
             ]
            ],
            "type": "surface"
           }
          ],
          "table": [
           {
            "cells": {
             "fill": {
              "color": "#EBF0F8"
             },
             "line": {
              "color": "white"
             }
            },
            "header": {
             "fill": {
              "color": "#C8D4E3"
             },
             "line": {
              "color": "white"
             }
            },
            "type": "table"
           }
          ]
         },
         "layout": {
          "annotationdefaults": {
           "arrowcolor": "#2a3f5f",
           "arrowhead": 0,
           "arrowwidth": 1
          },
          "autotypenumbers": "strict",
          "coloraxis": {
           "colorbar": {
            "outlinewidth": 0,
            "ticks": ""
           }
          },
          "colorscale": {
           "diverging": [
            [
             0,
             "#8e0152"
            ],
            [
             0.1,
             "#c51b7d"
            ],
            [
             0.2,
             "#de77ae"
            ],
            [
             0.3,
             "#f1b6da"
            ],
            [
             0.4,
             "#fde0ef"
            ],
            [
             0.5,
             "#f7f7f7"
            ],
            [
             0.6,
             "#e6f5d0"
            ],
            [
             0.7,
             "#b8e186"
            ],
            [
             0.8,
             "#7fbc41"
            ],
            [
             0.9,
             "#4d9221"
            ],
            [
             1,
             "#276419"
            ]
           ],
           "sequential": [
            [
             0,
             "#0d0887"
            ],
            [
             0.1111111111111111,
             "#46039f"
            ],
            [
             0.2222222222222222,
             "#7201a8"
            ],
            [
             0.3333333333333333,
             "#9c179e"
            ],
            [
             0.4444444444444444,
             "#bd3786"
            ],
            [
             0.5555555555555556,
             "#d8576b"
            ],
            [
             0.6666666666666666,
             "#ed7953"
            ],
            [
             0.7777777777777778,
             "#fb9f3a"
            ],
            [
             0.8888888888888888,
             "#fdca26"
            ],
            [
             1,
             "#f0f921"
            ]
           ],
           "sequentialminus": [
            [
             0,
             "#0d0887"
            ],
            [
             0.1111111111111111,
             "#46039f"
            ],
            [
             0.2222222222222222,
             "#7201a8"
            ],
            [
             0.3333333333333333,
             "#9c179e"
            ],
            [
             0.4444444444444444,
             "#bd3786"
            ],
            [
             0.5555555555555556,
             "#d8576b"
            ],
            [
             0.6666666666666666,
             "#ed7953"
            ],
            [
             0.7777777777777778,
             "#fb9f3a"
            ],
            [
             0.8888888888888888,
             "#fdca26"
            ],
            [
             1,
             "#f0f921"
            ]
           ]
          },
          "colorway": [
           "#636efa",
           "#EF553B",
           "#00cc96",
           "#ab63fa",
           "#FFA15A",
           "#19d3f3",
           "#FF6692",
           "#B6E880",
           "#FF97FF",
           "#FECB52"
          ],
          "font": {
           "color": "#2a3f5f"
          },
          "geo": {
           "bgcolor": "white",
           "lakecolor": "white",
           "landcolor": "#E5ECF6",
           "showlakes": true,
           "showland": true,
           "subunitcolor": "white"
          },
          "hoverlabel": {
           "align": "left"
          },
          "hovermode": "closest",
          "mapbox": {
           "style": "light"
          },
          "paper_bgcolor": "white",
          "plot_bgcolor": "#E5ECF6",
          "polar": {
           "angularaxis": {
            "gridcolor": "white",
            "linecolor": "white",
            "ticks": ""
           },
           "bgcolor": "#E5ECF6",
           "radialaxis": {
            "gridcolor": "white",
            "linecolor": "white",
            "ticks": ""
           }
          },
          "scene": {
           "xaxis": {
            "backgroundcolor": "#E5ECF6",
            "gridcolor": "white",
            "gridwidth": 2,
            "linecolor": "white",
            "showbackground": true,
            "ticks": "",
            "zerolinecolor": "white"
           },
           "yaxis": {
            "backgroundcolor": "#E5ECF6",
            "gridcolor": "white",
            "gridwidth": 2,
            "linecolor": "white",
            "showbackground": true,
            "ticks": "",
            "zerolinecolor": "white"
           },
           "zaxis": {
            "backgroundcolor": "#E5ECF6",
            "gridcolor": "white",
            "gridwidth": 2,
            "linecolor": "white",
            "showbackground": true,
            "ticks": "",
            "zerolinecolor": "white"
           }
          },
          "shapedefaults": {
           "line": {
            "color": "#2a3f5f"
           }
          },
          "ternary": {
           "aaxis": {
            "gridcolor": "white",
            "linecolor": "white",
            "ticks": ""
           },
           "baxis": {
            "gridcolor": "white",
            "linecolor": "white",
            "ticks": ""
           },
           "bgcolor": "#E5ECF6",
           "caxis": {
            "gridcolor": "white",
            "linecolor": "white",
            "ticks": ""
           }
          },
          "title": {
           "x": 0.05
          },
          "xaxis": {
           "automargin": true,
           "gridcolor": "white",
           "linecolor": "white",
           "ticks": "",
           "title": {
            "standoff": 15
           },
           "zerolinecolor": "white",
           "zerolinewidth": 2
          },
          "yaxis": {
           "automargin": true,
           "gridcolor": "white",
           "linecolor": "white",
           "ticks": "",
           "title": {
            "standoff": 15
           },
           "zerolinecolor": "white",
           "zerolinewidth": 2
          }
         }
        },
        "title": {
         "text": "Range of Motion kneeLeft"
        },
        "width": 750,
        "xaxis": {
         "title": {
          "font": {
           "color": "#7f7f7f",
           "family": "Courier New, monospace",
           "size": 18
          },
          "text": "time [s]"
         }
        },
        "yaxis": {
         "title": {
          "font": {
           "color": "#7f7f7f",
           "family": "Courier New, monospace",
           "size": 18
          },
          "text": "ROM [gradi]"
         }
        }
       }
      },
      "text/html": [
       "<div>                            <div id=\"b4ba1327-f0ba-44fb-9099-bd78190ae9d9\" class=\"plotly-graph-div\" style=\"height:600px; width:750px;\"></div>            <script type=\"text/javascript\">                require([\"plotly\"], function(Plotly) {                    window.PLOTLYENV=window.PLOTLYENV || {};                                    if (document.getElementById(\"b4ba1327-f0ba-44fb-9099-bd78190ae9d9\")) {                    Plotly.newPlot(                        \"b4ba1327-f0ba-44fb-9099-bd78190ae9d9\",                        [{\"line\":{\"color\":\"blue\",\"width\":3},\"mode\":\"lines\",\"name\":\"Andamento Reale\",\"x\":[364.45887899398804,364.5586404800415,364.6589159965515,364.7593548297882,364.8601448535919,364.96894550323486,365.0596868991852,365.1594166755676,365.25956082344055,365.3596260547638,365.4601356983185,365.55979108810425,365.6599338054657,365.760290145874,365.8600797653198,365.9602725505829,366.0603938102722,366.16379594802856,366.2636842727661,366.3638548851013,366.4605884552002,366.5609917640686,366.6607811450958,366.7835304737091,366.86488342285156,366.96648716926575,367.0610132217407,367.1611726284027,367.26143312454224,367.36129570007324,367.46194195747375,367.5621943473816,367.6617558002472,367.76181387901306,367.8632423877716,367.9623694419861,368.0634768009186,368.16354393959045,368.26345467567444,368.3634202480316,368.4639570713043,368.56341767311096,368.66284465789795,368.76342129707336,368.8643660545349,368.96563172340393,369.06455993652344,369.16477060317993,369.26576590538025,369.3649263381958,369.46443724632263,369.564484834671,369.6652081012726,369.7659890651703,369.86567997932434,369.9659514427185,370.0671544075012,370.1666123867035,370.266783952713,370.36477303504944,370.4668548107147,370.565545797348,370.6652846336365,370.7655713558197,370.8653576374054,370.96653938293457,371.0674316883087,371.1659688949585,371.26658487319946,371.3692162036896,371.46680188179016,371.56940364837646,371.66719913482666,371.7668056488037,371.86815881729126,371.9680743217468,372.0671577453613,372.1683523654938,372.2659475803375,372.3691494464874,372.46960973739624,372.5661597251892,372.66928935050964,372.7676477432251,372.8702368736267,372.9683094024658,373.06783747673035,373.1671121120453,373.26922821998596,373.36808013916016,373.46855306625366,373.5675835609436,373.66880536079407,373.76876640319824,373.8698561191559,373.97192335128784,374.0674250125885,374.16755986213684,374.2683062553406,374.3683798313141,374.46939849853516,374.56834268569946,374.66983461380005,374.7691607475281,374.8697361946106,374.9699294567108,375.06860613822937,375.16787028312683,375.26893734931946,375.3684616088867,375.46800565719604,375.572505235672,375.66814947128296,375.77130460739136,375.86928486824036,375.9735300540924,376.0717408657074,376.1719069480896,376.27218413352966,376.37700939178467,376.4729585647583,376.568984746933,376.6694688796997,376.7690782546997,376.8701825141907,376.96993613243103,377.06991147994995,377.17006039619446,377.2700288295746,377.369996547699,377.47222781181335,377.57026195526123,377.6698634624481,377.77056527137756,377.87061953544617,377.97315883636475,378.07047605514526,378.17071175575256,378.2701976299286,378.37180352211,378.4711010456085,378.57070755958557,378.67058849334717,378.77225136756897,378.8715682029724,378.97123861312866,379.0709683895111,379.17172718048096,379.2713677883148,379.37117290496826,379.4718773365021,379.5713415145874,379.6712350845337,379.7715103626251,379.8717985153198,379.97728991508484,380.0728027820587,380.1717813014984,380.27346563339233,380.3715305328369,380.47183561325073,380.5720341205597,380.6718740463257,380.7727301120758,380.87255120277405,380.9730746746063,381.0756416320801,381.17266750335693],\"y\":[80.99848325697738,81.40963981400253,81.41632433956082,81.94494352405604,81.39471031437583,80.72518519085058,81.47451292089757,80.95936965132074,81.39398695094683,81.44179444685334,81.24707338683126,80.95980493847429,81.1267015371734,81.01301479500162,81.20992011578842,81.28982089820393,81.97855166822042,81.35124580051385,81.30016675818271,80.49740681518374,79.89809645304449,80.49874163707132,80.48032368950513,81.19231574586611,81.87056625791801,82.1319809508054,81.67732588289763,81.25454166316182,80.38010994793214,80.97969086808975,80.74751361598115,81.14702729642615,82.21595061496475,81.76524938733847,81.51164847912375,81.51747101927225,81.7429944151633,80.73073371847889,79.90628946830286,79.8339302546789,79.85222081569792,79.88906699539463,80.43279610051617,81.29190593462017,81.11514538020454,80.65803445392649,80.7556978525023,80.56135853404439,81.34233794028141,81.35002924349432,81.18787322611203,80.61048609395473,80.10792596419861,79.99880835575952,80.71786549732076,81.22127017428896,81.14296135115026,81.33059581893322,80.63669186651481,80.70477967238462,81.20493488213873,81.43090910318264,81.21065242571063,80.68518906133365,80.00136272027446,79.87967139857032,79.84731359105412,80.64514565805726,81.56561452427535,81.67159471677142,81.17979967337092,82.05512702830381,82.05512702830381,81.54459180486326,81.40442436132409,78.95576999610971,77.0130883979062,75.31684533499381,71.15162286819198,69.78721793339454,69.11072718756384,69.11072718756384,69.71497009452268,70.02692837092138,68.15484665649211,68.55939170990435,68.55939170990435,68.1569495864706,67.04249547137498,66.2858529409772,66.2858529409772,68.75543362635985,68.75543362635985,69.43794301718201,68.62004319520344,68.62004319520344,69.74447630750797,70.27870784800348,69.42862337829942,68.43197630481816,67.71596198589287,68.57660706709999,69.67608324418374,71.83855652746774,72.66615009184737,69.36149843912858,67.27630912258215,66.67069469999704,66.62383548630612,67.33771354631126,67.77024550317164,68.11887619927029,68.4946346512398,69.77433648341005,69.76505903410342,68.80357670508411,68.80357670508411,68.77386162721314,69.93229292112485,68.88999564156913,67.00391906624036,67.47765684608973,70.0595564195655,71.29763378384892,71.46419709446195,71.06959467590238,69.39241957886865,68.27722382805479,67.6766522588207,66.96724163955113,67.95069414606328,69.7736268222417,70.04409741171015,70.32160830680387,71.44952702997871,70.05081616203651,68.45329121742233,68.66980746282574,68.66980746282574,71.05920237991806,70.92338772312714,72.23596562668357,72.23596562668357,107.84706830663023,69.62181937456808,69.40282366429278,70.15120300391295,70.15120300391295,77.3631843503004,76.98698903169944,76.98698903169944,null,null,null,73.20995924744234,77.3466409965586,77.3466409965586,77.42502704310871,78.36485720715763,78.1103571886068,77.62169249739135,78.33635889364433,78.88554191475271,80.10038037345937,81.60809557614111,81.05362142498295,81.71962475639275],\"type\":\"scatter\"}],                        {\"autosize\":false,\"font\":{\"color\":\"black\",\"family\":\"Courier New, monospace\",\"size\":22},\"height\":600,\"template\":{\"data\":{\"barpolar\":[{\"marker\":{\"line\":{\"color\":\"#E5ECF6\",\"width\":0.5},\"pattern\":{\"fillmode\":\"overlay\",\"size\":10,\"solidity\":0.2}},\"type\":\"barpolar\"}],\"bar\":[{\"error_x\":{\"color\":\"#2a3f5f\"},\"error_y\":{\"color\":\"#2a3f5f\"},\"marker\":{\"line\":{\"color\":\"#E5ECF6\",\"width\":0.5},\"pattern\":{\"fillmode\":\"overlay\",\"size\":10,\"solidity\":0.2}},\"type\":\"bar\"}],\"carpet\":[{\"aaxis\":{\"endlinecolor\":\"#2a3f5f\",\"gridcolor\":\"white\",\"linecolor\":\"white\",\"minorgridcolor\":\"white\",\"startlinecolor\":\"#2a3f5f\"},\"baxis\":{\"endlinecolor\":\"#2a3f5f\",\"gridcolor\":\"white\",\"linecolor\":\"white\",\"minorgridcolor\":\"white\",\"startlinecolor\":\"#2a3f5f\"},\"type\":\"carpet\"}],\"choropleth\":[{\"colorbar\":{\"outlinewidth\":0,\"ticks\":\"\"},\"type\":\"choropleth\"}],\"contourcarpet\":[{\"colorbar\":{\"outlinewidth\":0,\"ticks\":\"\"},\"type\":\"contourcarpet\"}],\"contour\":[{\"colorbar\":{\"outlinewidth\":0,\"ticks\":\"\"},\"colorscale\":[[0.0,\"#0d0887\"],[0.1111111111111111,\"#46039f\"],[0.2222222222222222,\"#7201a8\"],[0.3333333333333333,\"#9c179e\"],[0.4444444444444444,\"#bd3786\"],[0.5555555555555556,\"#d8576b\"],[0.6666666666666666,\"#ed7953\"],[0.7777777777777778,\"#fb9f3a\"],[0.8888888888888888,\"#fdca26\"],[1.0,\"#f0f921\"]],\"type\":\"contour\"}],\"heatmapgl\":[{\"colorbar\":{\"outlinewidth\":0,\"ticks\":\"\"},\"colorscale\":[[0.0,\"#0d0887\"],[0.1111111111111111,\"#46039f\"],[0.2222222222222222,\"#7201a8\"],[0.3333333333333333,\"#9c179e\"],[0.4444444444444444,\"#bd3786\"],[0.5555555555555556,\"#d8576b\"],[0.6666666666666666,\"#ed7953\"],[0.7777777777777778,\"#fb9f3a\"],[0.8888888888888888,\"#fdca26\"],[1.0,\"#f0f921\"]],\"type\":\"heatmapgl\"}],\"heatmap\":[{\"colorbar\":{\"outlinewidth\":0,\"ticks\":\"\"},\"colorscale\":[[0.0,\"#0d0887\"],[0.1111111111111111,\"#46039f\"],[0.2222222222222222,\"#7201a8\"],[0.3333333333333333,\"#9c179e\"],[0.4444444444444444,\"#bd3786\"],[0.5555555555555556,\"#d8576b\"],[0.6666666666666666,\"#ed7953\"],[0.7777777777777778,\"#fb9f3a\"],[0.8888888888888888,\"#fdca26\"],[1.0,\"#f0f921\"]],\"type\":\"heatmap\"}],\"histogram2dcontour\":[{\"colorbar\":{\"outlinewidth\":0,\"ticks\":\"\"},\"colorscale\":[[0.0,\"#0d0887\"],[0.1111111111111111,\"#46039f\"],[0.2222222222222222,\"#7201a8\"],[0.3333333333333333,\"#9c179e\"],[0.4444444444444444,\"#bd3786\"],[0.5555555555555556,\"#d8576b\"],[0.6666666666666666,\"#ed7953\"],[0.7777777777777778,\"#fb9f3a\"],[0.8888888888888888,\"#fdca26\"],[1.0,\"#f0f921\"]],\"type\":\"histogram2dcontour\"}],\"histogram2d\":[{\"colorbar\":{\"outlinewidth\":0,\"ticks\":\"\"},\"colorscale\":[[0.0,\"#0d0887\"],[0.1111111111111111,\"#46039f\"],[0.2222222222222222,\"#7201a8\"],[0.3333333333333333,\"#9c179e\"],[0.4444444444444444,\"#bd3786\"],[0.5555555555555556,\"#d8576b\"],[0.6666666666666666,\"#ed7953\"],[0.7777777777777778,\"#fb9f3a\"],[0.8888888888888888,\"#fdca26\"],[1.0,\"#f0f921\"]],\"type\":\"histogram2d\"}],\"histogram\":[{\"marker\":{\"pattern\":{\"fillmode\":\"overlay\",\"size\":10,\"solidity\":0.2}},\"type\":\"histogram\"}],\"mesh3d\":[{\"colorbar\":{\"outlinewidth\":0,\"ticks\":\"\"},\"type\":\"mesh3d\"}],\"parcoords\":[{\"line\":{\"colorbar\":{\"outlinewidth\":0,\"ticks\":\"\"}},\"type\":\"parcoords\"}],\"pie\":[{\"automargin\":true,\"type\":\"pie\"}],\"scatter3d\":[{\"line\":{\"colorbar\":{\"outlinewidth\":0,\"ticks\":\"\"}},\"marker\":{\"colorbar\":{\"outlinewidth\":0,\"ticks\":\"\"}},\"type\":\"scatter3d\"}],\"scattercarpet\":[{\"marker\":{\"colorbar\":{\"outlinewidth\":0,\"ticks\":\"\"}},\"type\":\"scattercarpet\"}],\"scattergeo\":[{\"marker\":{\"colorbar\":{\"outlinewidth\":0,\"ticks\":\"\"}},\"type\":\"scattergeo\"}],\"scattergl\":[{\"marker\":{\"colorbar\":{\"outlinewidth\":0,\"ticks\":\"\"}},\"type\":\"scattergl\"}],\"scattermapbox\":[{\"marker\":{\"colorbar\":{\"outlinewidth\":0,\"ticks\":\"\"}},\"type\":\"scattermapbox\"}],\"scatterpolargl\":[{\"marker\":{\"colorbar\":{\"outlinewidth\":0,\"ticks\":\"\"}},\"type\":\"scatterpolargl\"}],\"scatterpolar\":[{\"marker\":{\"colorbar\":{\"outlinewidth\":0,\"ticks\":\"\"}},\"type\":\"scatterpolar\"}],\"scatter\":[{\"fillpattern\":{\"fillmode\":\"overlay\",\"size\":10,\"solidity\":0.2},\"type\":\"scatter\"}],\"scatterternary\":[{\"marker\":{\"colorbar\":{\"outlinewidth\":0,\"ticks\":\"\"}},\"type\":\"scatterternary\"}],\"surface\":[{\"colorbar\":{\"outlinewidth\":0,\"ticks\":\"\"},\"colorscale\":[[0.0,\"#0d0887\"],[0.1111111111111111,\"#46039f\"],[0.2222222222222222,\"#7201a8\"],[0.3333333333333333,\"#9c179e\"],[0.4444444444444444,\"#bd3786\"],[0.5555555555555556,\"#d8576b\"],[0.6666666666666666,\"#ed7953\"],[0.7777777777777778,\"#fb9f3a\"],[0.8888888888888888,\"#fdca26\"],[1.0,\"#f0f921\"]],\"type\":\"surface\"}],\"table\":[{\"cells\":{\"fill\":{\"color\":\"#EBF0F8\"},\"line\":{\"color\":\"white\"}},\"header\":{\"fill\":{\"color\":\"#C8D4E3\"},\"line\":{\"color\":\"white\"}},\"type\":\"table\"}]},\"layout\":{\"annotationdefaults\":{\"arrowcolor\":\"#2a3f5f\",\"arrowhead\":0,\"arrowwidth\":1},\"autotypenumbers\":\"strict\",\"coloraxis\":{\"colorbar\":{\"outlinewidth\":0,\"ticks\":\"\"}},\"colorscale\":{\"diverging\":[[0,\"#8e0152\"],[0.1,\"#c51b7d\"],[0.2,\"#de77ae\"],[0.3,\"#f1b6da\"],[0.4,\"#fde0ef\"],[0.5,\"#f7f7f7\"],[0.6,\"#e6f5d0\"],[0.7,\"#b8e186\"],[0.8,\"#7fbc41\"],[0.9,\"#4d9221\"],[1,\"#276419\"]],\"sequential\":[[0.0,\"#0d0887\"],[0.1111111111111111,\"#46039f\"],[0.2222222222222222,\"#7201a8\"],[0.3333333333333333,\"#9c179e\"],[0.4444444444444444,\"#bd3786\"],[0.5555555555555556,\"#d8576b\"],[0.6666666666666666,\"#ed7953\"],[0.7777777777777778,\"#fb9f3a\"],[0.8888888888888888,\"#fdca26\"],[1.0,\"#f0f921\"]],\"sequentialminus\":[[0.0,\"#0d0887\"],[0.1111111111111111,\"#46039f\"],[0.2222222222222222,\"#7201a8\"],[0.3333333333333333,\"#9c179e\"],[0.4444444444444444,\"#bd3786\"],[0.5555555555555556,\"#d8576b\"],[0.6666666666666666,\"#ed7953\"],[0.7777777777777778,\"#fb9f3a\"],[0.8888888888888888,\"#fdca26\"],[1.0,\"#f0f921\"]]},\"colorway\":[\"#636efa\",\"#EF553B\",\"#00cc96\",\"#ab63fa\",\"#FFA15A\",\"#19d3f3\",\"#FF6692\",\"#B6E880\",\"#FF97FF\",\"#FECB52\"],\"font\":{\"color\":\"#2a3f5f\"},\"geo\":{\"bgcolor\":\"white\",\"lakecolor\":\"white\",\"landcolor\":\"#E5ECF6\",\"showlakes\":true,\"showland\":true,\"subunitcolor\":\"white\"},\"hoverlabel\":{\"align\":\"left\"},\"hovermode\":\"closest\",\"mapbox\":{\"style\":\"light\"},\"paper_bgcolor\":\"white\",\"plot_bgcolor\":\"#E5ECF6\",\"polar\":{\"angularaxis\":{\"gridcolor\":\"white\",\"linecolor\":\"white\",\"ticks\":\"\"},\"bgcolor\":\"#E5ECF6\",\"radialaxis\":{\"gridcolor\":\"white\",\"linecolor\":\"white\",\"ticks\":\"\"}},\"scene\":{\"xaxis\":{\"backgroundcolor\":\"#E5ECF6\",\"gridcolor\":\"white\",\"gridwidth\":2,\"linecolor\":\"white\",\"showbackground\":true,\"ticks\":\"\",\"zerolinecolor\":\"white\"},\"yaxis\":{\"backgroundcolor\":\"#E5ECF6\",\"gridcolor\":\"white\",\"gridwidth\":2,\"linecolor\":\"white\",\"showbackground\":true,\"ticks\":\"\",\"zerolinecolor\":\"white\"},\"zaxis\":{\"backgroundcolor\":\"#E5ECF6\",\"gridcolor\":\"white\",\"gridwidth\":2,\"linecolor\":\"white\",\"showbackground\":true,\"ticks\":\"\",\"zerolinecolor\":\"white\"}},\"shapedefaults\":{\"line\":{\"color\":\"#2a3f5f\"}},\"ternary\":{\"aaxis\":{\"gridcolor\":\"white\",\"linecolor\":\"white\",\"ticks\":\"\"},\"baxis\":{\"gridcolor\":\"white\",\"linecolor\":\"white\",\"ticks\":\"\"},\"bgcolor\":\"#E5ECF6\",\"caxis\":{\"gridcolor\":\"white\",\"linecolor\":\"white\",\"ticks\":\"\"}},\"title\":{\"x\":0.05},\"xaxis\":{\"automargin\":true,\"gridcolor\":\"white\",\"linecolor\":\"white\",\"ticks\":\"\",\"title\":{\"standoff\":15},\"zerolinecolor\":\"white\",\"zerolinewidth\":2},\"yaxis\":{\"automargin\":true,\"gridcolor\":\"white\",\"linecolor\":\"white\",\"ticks\":\"\",\"title\":{\"standoff\":15},\"zerolinecolor\":\"white\",\"zerolinewidth\":2}}},\"title\":{\"text\":\"Range of Motion kneeLeft\"},\"width\":750,\"xaxis\":{\"title\":{\"font\":{\"color\":\"#7f7f7f\",\"family\":\"Courier New, monospace\",\"size\":18},\"text\":\"time [s]\"}},\"yaxis\":{\"title\":{\"font\":{\"color\":\"#7f7f7f\",\"family\":\"Courier New, monospace\",\"size\":18},\"text\":\"ROM [gradi]\"}}},                        {\"responsive\": true}                    ).then(function(){\n",
       "                            \n",
       "var gd = document.getElementById('b4ba1327-f0ba-44fb-9099-bd78190ae9d9');\n",
       "var x = new MutationObserver(function (mutations, observer) {{\n",
       "        var display = window.getComputedStyle(gd).display;\n",
       "        if (!display || display === 'none') {{\n",
       "            console.log([gd, 'removed!']);\n",
       "            Plotly.purge(gd);\n",
       "            observer.disconnect();\n",
       "        }}\n",
       "}});\n",
       "\n",
       "// Listen for the removal of the full notebook cells\n",
       "var notebookContainer = gd.closest('#notebook-container');\n",
       "if (notebookContainer) {{\n",
       "    x.observe(notebookContainer, {childList: true});\n",
       "}}\n",
       "\n",
       "// Listen for the clearing of the current output cell\n",
       "var outputEl = gd.closest('.output');\n",
       "if (outputEl) {{\n",
       "    x.observe(outputEl, {childList: true});\n",
       "}}\n",
       "\n",
       "                        })                };                });            </script>        </div>"
      ]
     },
     "metadata": {},
     "output_type": "display_data"
    },
    {
     "data": {
      "application/vnd.plotly.v1+json": {
       "config": {
        "linkText": "Export to plot.ly",
        "plotlyServerURL": "https://plot.ly",
        "showLink": false
       },
       "data": [
        {
         "line": {
          "color": "blue",
          "width": 3
         },
         "mode": "lines",
         "name": "Andamento Reale",
         "type": "scatter",
         "x": [
          364.45887899398804,
          364.5586404800415,
          364.6589159965515,
          364.7593548297882,
          364.8601448535919,
          364.96894550323486,
          365.0596868991852,
          365.1594166755676,
          365.25956082344055,
          365.3596260547638,
          365.4601356983185,
          365.55979108810425,
          365.6599338054657,
          365.760290145874,
          365.8600797653198,
          365.9602725505829,
          366.0603938102722,
          366.16379594802856,
          366.2636842727661,
          366.3638548851013,
          366.4605884552002,
          366.5609917640686,
          366.6607811450958,
          366.7835304737091,
          366.86488342285156,
          366.96648716926575,
          367.0610132217407,
          367.1611726284027,
          367.26143312454224,
          367.36129570007324,
          367.46194195747375,
          367.5621943473816,
          367.6617558002472,
          367.76181387901306,
          367.8632423877716,
          367.9623694419861,
          368.0634768009186,
          368.16354393959045,
          368.26345467567444,
          368.3634202480316,
          368.4639570713043,
          368.56341767311096,
          368.66284465789795,
          368.76342129707336,
          368.8643660545349,
          368.96563172340393,
          369.06455993652344,
          369.16477060317993,
          369.26576590538025,
          369.3649263381958,
          369.46443724632263,
          369.564484834671,
          369.6652081012726,
          369.7659890651703,
          369.86567997932434,
          369.9659514427185,
          370.0671544075012,
          370.1666123867035,
          370.266783952713,
          370.36477303504944,
          370.4668548107147,
          370.565545797348,
          370.6652846336365,
          370.7655713558197,
          370.8653576374054,
          370.96653938293457,
          371.0674316883087,
          371.1659688949585,
          371.26658487319946,
          371.3692162036896,
          371.46680188179016,
          371.56940364837646,
          371.66719913482666,
          371.7668056488037,
          371.86815881729126,
          371.9680743217468,
          372.0671577453613,
          372.1683523654938,
          372.2659475803375,
          372.3691494464874,
          372.46960973739624,
          372.5661597251892,
          372.66928935050964,
          372.7676477432251,
          372.8702368736267,
          372.9683094024658,
          373.06783747673035,
          373.1671121120453,
          373.26922821998596,
          373.36808013916016,
          373.46855306625366,
          373.5675835609436,
          373.66880536079407,
          373.76876640319824,
          373.8698561191559,
          373.97192335128784,
          374.0674250125885,
          374.16755986213684,
          374.2683062553406,
          374.3683798313141,
          374.46939849853516,
          374.56834268569946,
          374.66983461380005,
          374.7691607475281,
          374.8697361946106,
          374.9699294567108,
          375.06860613822937,
          375.16787028312683,
          375.26893734931946,
          375.3684616088867,
          375.46800565719604,
          375.572505235672,
          375.66814947128296,
          375.77130460739136,
          375.86928486824036,
          375.9735300540924,
          376.0717408657074,
          376.1719069480896,
          376.27218413352966,
          376.37700939178467,
          376.4729585647583,
          376.568984746933,
          376.6694688796997,
          376.7690782546997,
          376.8701825141907,
          376.96993613243103,
          377.06991147994995,
          377.17006039619446,
          377.2700288295746,
          377.369996547699,
          377.47222781181335,
          377.57026195526123,
          377.6698634624481,
          377.77056527137756,
          377.87061953544617,
          377.97315883636475,
          378.07047605514526,
          378.17071175575256,
          378.2701976299286,
          378.37180352211,
          378.4711010456085,
          378.57070755958557,
          378.67058849334717,
          378.77225136756897,
          378.8715682029724,
          378.97123861312866,
          379.0709683895111,
          379.17172718048096,
          379.2713677883148,
          379.37117290496826,
          379.4718773365021,
          379.5713415145874,
          379.6712350845337,
          379.7715103626251,
          379.8717985153198,
          379.97728991508484,
          380.0728027820587,
          380.1717813014984,
          380.27346563339233,
          380.3715305328369,
          380.47183561325073,
          380.5720341205597,
          380.6718740463257,
          380.7727301120758,
          380.87255120277405,
          380.9730746746063,
          381.0756416320801,
          381.17266750335693
         ],
         "y": [
          90,
          90,
          90,
          90,
          90,
          90,
          90,
          90,
          90,
          90,
          90,
          90,
          90,
          90,
          90,
          90,
          90,
          90,
          90,
          90,
          90,
          90,
          90,
          90,
          90,
          90,
          90,
          90,
          90,
          90,
          90,
          90,
          90,
          90,
          90,
          90,
          90,
          90,
          90,
          90,
          90,
          90,
          90,
          90,
          90,
          90,
          90,
          90,
          90,
          90,
          90,
          90,
          90,
          90,
          90,
          90,
          90,
          90,
          90,
          90,
          90,
          90,
          90,
          90,
          90,
          90,
          90,
          90,
          90,
          90,
          90,
          90,
          90,
          90,
          90,
          90,
          90,
          90,
          90,
          90,
          90,
          90,
          90,
          90,
          90,
          90,
          90,
          90,
          90,
          90,
          90,
          90,
          90,
          90,
          90,
          90,
          90,
          90,
          90,
          90,
          90,
          90,
          90,
          90,
          90,
          90,
          90,
          90,
          90,
          90,
          90,
          90,
          90,
          90,
          90,
          90,
          90,
          90,
          90,
          90,
          90,
          90,
          90,
          90,
          90,
          90,
          90,
          90,
          90,
          90,
          90,
          90,
          90,
          90,
          90,
          90,
          90,
          90,
          90,
          90,
          90,
          90,
          90,
          90,
          90,
          90,
          90,
          90,
          90,
          90,
          90,
          90,
          90,
          90,
          90,
          90,
          90,
          90,
          90,
          90,
          90,
          90,
          90,
          90,
          90,
          90,
          90
         ]
        }
       ],
       "layout": {
        "autosize": false,
        "font": {
         "color": "black",
         "family": "Courier New, monospace",
         "size": 22
        },
        "height": 600,
        "template": {
         "data": {
          "bar": [
           {
            "error_x": {
             "color": "#2a3f5f"
            },
            "error_y": {
             "color": "#2a3f5f"
            },
            "marker": {
             "line": {
              "color": "#E5ECF6",
              "width": 0.5
             },
             "pattern": {
              "fillmode": "overlay",
              "size": 10,
              "solidity": 0.2
             }
            },
            "type": "bar"
           }
          ],
          "barpolar": [
           {
            "marker": {
             "line": {
              "color": "#E5ECF6",
              "width": 0.5
             },
             "pattern": {
              "fillmode": "overlay",
              "size": 10,
              "solidity": 0.2
             }
            },
            "type": "barpolar"
           }
          ],
          "carpet": [
           {
            "aaxis": {
             "endlinecolor": "#2a3f5f",
             "gridcolor": "white",
             "linecolor": "white",
             "minorgridcolor": "white",
             "startlinecolor": "#2a3f5f"
            },
            "baxis": {
             "endlinecolor": "#2a3f5f",
             "gridcolor": "white",
             "linecolor": "white",
             "minorgridcolor": "white",
             "startlinecolor": "#2a3f5f"
            },
            "type": "carpet"
           }
          ],
          "choropleth": [
           {
            "colorbar": {
             "outlinewidth": 0,
             "ticks": ""
            },
            "type": "choropleth"
           }
          ],
          "contour": [
           {
            "colorbar": {
             "outlinewidth": 0,
             "ticks": ""
            },
            "colorscale": [
             [
              0,
              "#0d0887"
             ],
             [
              0.1111111111111111,
              "#46039f"
             ],
             [
              0.2222222222222222,
              "#7201a8"
             ],
             [
              0.3333333333333333,
              "#9c179e"
             ],
             [
              0.4444444444444444,
              "#bd3786"
             ],
             [
              0.5555555555555556,
              "#d8576b"
             ],
             [
              0.6666666666666666,
              "#ed7953"
             ],
             [
              0.7777777777777778,
              "#fb9f3a"
             ],
             [
              0.8888888888888888,
              "#fdca26"
             ],
             [
              1,
              "#f0f921"
             ]
            ],
            "type": "contour"
           }
          ],
          "contourcarpet": [
           {
            "colorbar": {
             "outlinewidth": 0,
             "ticks": ""
            },
            "type": "contourcarpet"
           }
          ],
          "heatmap": [
           {
            "colorbar": {
             "outlinewidth": 0,
             "ticks": ""
            },
            "colorscale": [
             [
              0,
              "#0d0887"
             ],
             [
              0.1111111111111111,
              "#46039f"
             ],
             [
              0.2222222222222222,
              "#7201a8"
             ],
             [
              0.3333333333333333,
              "#9c179e"
             ],
             [
              0.4444444444444444,
              "#bd3786"
             ],
             [
              0.5555555555555556,
              "#d8576b"
             ],
             [
              0.6666666666666666,
              "#ed7953"
             ],
             [
              0.7777777777777778,
              "#fb9f3a"
             ],
             [
              0.8888888888888888,
              "#fdca26"
             ],
             [
              1,
              "#f0f921"
             ]
            ],
            "type": "heatmap"
           }
          ],
          "heatmapgl": [
           {
            "colorbar": {
             "outlinewidth": 0,
             "ticks": ""
            },
            "colorscale": [
             [
              0,
              "#0d0887"
             ],
             [
              0.1111111111111111,
              "#46039f"
             ],
             [
              0.2222222222222222,
              "#7201a8"
             ],
             [
              0.3333333333333333,
              "#9c179e"
             ],
             [
              0.4444444444444444,
              "#bd3786"
             ],
             [
              0.5555555555555556,
              "#d8576b"
             ],
             [
              0.6666666666666666,
              "#ed7953"
             ],
             [
              0.7777777777777778,
              "#fb9f3a"
             ],
             [
              0.8888888888888888,
              "#fdca26"
             ],
             [
              1,
              "#f0f921"
             ]
            ],
            "type": "heatmapgl"
           }
          ],
          "histogram": [
           {
            "marker": {
             "pattern": {
              "fillmode": "overlay",
              "size": 10,
              "solidity": 0.2
             }
            },
            "type": "histogram"
           }
          ],
          "histogram2d": [
           {
            "colorbar": {
             "outlinewidth": 0,
             "ticks": ""
            },
            "colorscale": [
             [
              0,
              "#0d0887"
             ],
             [
              0.1111111111111111,
              "#46039f"
             ],
             [
              0.2222222222222222,
              "#7201a8"
             ],
             [
              0.3333333333333333,
              "#9c179e"
             ],
             [
              0.4444444444444444,
              "#bd3786"
             ],
             [
              0.5555555555555556,
              "#d8576b"
             ],
             [
              0.6666666666666666,
              "#ed7953"
             ],
             [
              0.7777777777777778,
              "#fb9f3a"
             ],
             [
              0.8888888888888888,
              "#fdca26"
             ],
             [
              1,
              "#f0f921"
             ]
            ],
            "type": "histogram2d"
           }
          ],
          "histogram2dcontour": [
           {
            "colorbar": {
             "outlinewidth": 0,
             "ticks": ""
            },
            "colorscale": [
             [
              0,
              "#0d0887"
             ],
             [
              0.1111111111111111,
              "#46039f"
             ],
             [
              0.2222222222222222,
              "#7201a8"
             ],
             [
              0.3333333333333333,
              "#9c179e"
             ],
             [
              0.4444444444444444,
              "#bd3786"
             ],
             [
              0.5555555555555556,
              "#d8576b"
             ],
             [
              0.6666666666666666,
              "#ed7953"
             ],
             [
              0.7777777777777778,
              "#fb9f3a"
             ],
             [
              0.8888888888888888,
              "#fdca26"
             ],
             [
              1,
              "#f0f921"
             ]
            ],
            "type": "histogram2dcontour"
           }
          ],
          "mesh3d": [
           {
            "colorbar": {
             "outlinewidth": 0,
             "ticks": ""
            },
            "type": "mesh3d"
           }
          ],
          "parcoords": [
           {
            "line": {
             "colorbar": {
              "outlinewidth": 0,
              "ticks": ""
             }
            },
            "type": "parcoords"
           }
          ],
          "pie": [
           {
            "automargin": true,
            "type": "pie"
           }
          ],
          "scatter": [
           {
            "fillpattern": {
             "fillmode": "overlay",
             "size": 10,
             "solidity": 0.2
            },
            "type": "scatter"
           }
          ],
          "scatter3d": [
           {
            "line": {
             "colorbar": {
              "outlinewidth": 0,
              "ticks": ""
             }
            },
            "marker": {
             "colorbar": {
              "outlinewidth": 0,
              "ticks": ""
             }
            },
            "type": "scatter3d"
           }
          ],
          "scattercarpet": [
           {
            "marker": {
             "colorbar": {
              "outlinewidth": 0,
              "ticks": ""
             }
            },
            "type": "scattercarpet"
           }
          ],
          "scattergeo": [
           {
            "marker": {
             "colorbar": {
              "outlinewidth": 0,
              "ticks": ""
             }
            },
            "type": "scattergeo"
           }
          ],
          "scattergl": [
           {
            "marker": {
             "colorbar": {
              "outlinewidth": 0,
              "ticks": ""
             }
            },
            "type": "scattergl"
           }
          ],
          "scattermapbox": [
           {
            "marker": {
             "colorbar": {
              "outlinewidth": 0,
              "ticks": ""
             }
            },
            "type": "scattermapbox"
           }
          ],
          "scatterpolar": [
           {
            "marker": {
             "colorbar": {
              "outlinewidth": 0,
              "ticks": ""
             }
            },
            "type": "scatterpolar"
           }
          ],
          "scatterpolargl": [
           {
            "marker": {
             "colorbar": {
              "outlinewidth": 0,
              "ticks": ""
             }
            },
            "type": "scatterpolargl"
           }
          ],
          "scatterternary": [
           {
            "marker": {
             "colorbar": {
              "outlinewidth": 0,
              "ticks": ""
             }
            },
            "type": "scatterternary"
           }
          ],
          "surface": [
           {
            "colorbar": {
             "outlinewidth": 0,
             "ticks": ""
            },
            "colorscale": [
             [
              0,
              "#0d0887"
             ],
             [
              0.1111111111111111,
              "#46039f"
             ],
             [
              0.2222222222222222,
              "#7201a8"
             ],
             [
              0.3333333333333333,
              "#9c179e"
             ],
             [
              0.4444444444444444,
              "#bd3786"
             ],
             [
              0.5555555555555556,
              "#d8576b"
             ],
             [
              0.6666666666666666,
              "#ed7953"
             ],
             [
              0.7777777777777778,
              "#fb9f3a"
             ],
             [
              0.8888888888888888,
              "#fdca26"
             ],
             [
              1,
              "#f0f921"
             ]
            ],
            "type": "surface"
           }
          ],
          "table": [
           {
            "cells": {
             "fill": {
              "color": "#EBF0F8"
             },
             "line": {
              "color": "white"
             }
            },
            "header": {
             "fill": {
              "color": "#C8D4E3"
             },
             "line": {
              "color": "white"
             }
            },
            "type": "table"
           }
          ]
         },
         "layout": {
          "annotationdefaults": {
           "arrowcolor": "#2a3f5f",
           "arrowhead": 0,
           "arrowwidth": 1
          },
          "autotypenumbers": "strict",
          "coloraxis": {
           "colorbar": {
            "outlinewidth": 0,
            "ticks": ""
           }
          },
          "colorscale": {
           "diverging": [
            [
             0,
             "#8e0152"
            ],
            [
             0.1,
             "#c51b7d"
            ],
            [
             0.2,
             "#de77ae"
            ],
            [
             0.3,
             "#f1b6da"
            ],
            [
             0.4,
             "#fde0ef"
            ],
            [
             0.5,
             "#f7f7f7"
            ],
            [
             0.6,
             "#e6f5d0"
            ],
            [
             0.7,
             "#b8e186"
            ],
            [
             0.8,
             "#7fbc41"
            ],
            [
             0.9,
             "#4d9221"
            ],
            [
             1,
             "#276419"
            ]
           ],
           "sequential": [
            [
             0,
             "#0d0887"
            ],
            [
             0.1111111111111111,
             "#46039f"
            ],
            [
             0.2222222222222222,
             "#7201a8"
            ],
            [
             0.3333333333333333,
             "#9c179e"
            ],
            [
             0.4444444444444444,
             "#bd3786"
            ],
            [
             0.5555555555555556,
             "#d8576b"
            ],
            [
             0.6666666666666666,
             "#ed7953"
            ],
            [
             0.7777777777777778,
             "#fb9f3a"
            ],
            [
             0.8888888888888888,
             "#fdca26"
            ],
            [
             1,
             "#f0f921"
            ]
           ],
           "sequentialminus": [
            [
             0,
             "#0d0887"
            ],
            [
             0.1111111111111111,
             "#46039f"
            ],
            [
             0.2222222222222222,
             "#7201a8"
            ],
            [
             0.3333333333333333,
             "#9c179e"
            ],
            [
             0.4444444444444444,
             "#bd3786"
            ],
            [
             0.5555555555555556,
             "#d8576b"
            ],
            [
             0.6666666666666666,
             "#ed7953"
            ],
            [
             0.7777777777777778,
             "#fb9f3a"
            ],
            [
             0.8888888888888888,
             "#fdca26"
            ],
            [
             1,
             "#f0f921"
            ]
           ]
          },
          "colorway": [
           "#636efa",
           "#EF553B",
           "#00cc96",
           "#ab63fa",
           "#FFA15A",
           "#19d3f3",
           "#FF6692",
           "#B6E880",
           "#FF97FF",
           "#FECB52"
          ],
          "font": {
           "color": "#2a3f5f"
          },
          "geo": {
           "bgcolor": "white",
           "lakecolor": "white",
           "landcolor": "#E5ECF6",
           "showlakes": true,
           "showland": true,
           "subunitcolor": "white"
          },
          "hoverlabel": {
           "align": "left"
          },
          "hovermode": "closest",
          "mapbox": {
           "style": "light"
          },
          "paper_bgcolor": "white",
          "plot_bgcolor": "#E5ECF6",
          "polar": {
           "angularaxis": {
            "gridcolor": "white",
            "linecolor": "white",
            "ticks": ""
           },
           "bgcolor": "#E5ECF6",
           "radialaxis": {
            "gridcolor": "white",
            "linecolor": "white",
            "ticks": ""
           }
          },
          "scene": {
           "xaxis": {
            "backgroundcolor": "#E5ECF6",
            "gridcolor": "white",
            "gridwidth": 2,
            "linecolor": "white",
            "showbackground": true,
            "ticks": "",
            "zerolinecolor": "white"
           },
           "yaxis": {
            "backgroundcolor": "#E5ECF6",
            "gridcolor": "white",
            "gridwidth": 2,
            "linecolor": "white",
            "showbackground": true,
            "ticks": "",
            "zerolinecolor": "white"
           },
           "zaxis": {
            "backgroundcolor": "#E5ECF6",
            "gridcolor": "white",
            "gridwidth": 2,
            "linecolor": "white",
            "showbackground": true,
            "ticks": "",
            "zerolinecolor": "white"
           }
          },
          "shapedefaults": {
           "line": {
            "color": "#2a3f5f"
           }
          },
          "ternary": {
           "aaxis": {
            "gridcolor": "white",
            "linecolor": "white",
            "ticks": ""
           },
           "baxis": {
            "gridcolor": "white",
            "linecolor": "white",
            "ticks": ""
           },
           "bgcolor": "#E5ECF6",
           "caxis": {
            "gridcolor": "white",
            "linecolor": "white",
            "ticks": ""
           }
          },
          "title": {
           "x": 0.05
          },
          "xaxis": {
           "automargin": true,
           "gridcolor": "white",
           "linecolor": "white",
           "ticks": "",
           "title": {
            "standoff": 15
           },
           "zerolinecolor": "white",
           "zerolinewidth": 2
          },
          "yaxis": {
           "automargin": true,
           "gridcolor": "white",
           "linecolor": "white",
           "ticks": "",
           "title": {
            "standoff": 15
           },
           "zerolinecolor": "white",
           "zerolinewidth": 2
          }
         }
        },
        "title": {
         "text": "Range of Motion ankleLeft"
        },
        "width": 750,
        "xaxis": {
         "title": {
          "font": {
           "color": "#7f7f7f",
           "family": "Courier New, monospace",
           "size": 18
          },
          "text": "time [s]"
         }
        },
        "yaxis": {
         "title": {
          "font": {
           "color": "#7f7f7f",
           "family": "Courier New, monospace",
           "size": 18
          },
          "text": "ROM [gradi]"
         }
        }
       }
      },
      "text/html": [
       "<div>                            <div id=\"2183cddd-5633-4d74-87d0-74469a195d49\" class=\"plotly-graph-div\" style=\"height:600px; width:750px;\"></div>            <script type=\"text/javascript\">                require([\"plotly\"], function(Plotly) {                    window.PLOTLYENV=window.PLOTLYENV || {};                                    if (document.getElementById(\"2183cddd-5633-4d74-87d0-74469a195d49\")) {                    Plotly.newPlot(                        \"2183cddd-5633-4d74-87d0-74469a195d49\",                        [{\"line\":{\"color\":\"blue\",\"width\":3},\"mode\":\"lines\",\"name\":\"Andamento Reale\",\"x\":[364.45887899398804,364.5586404800415,364.6589159965515,364.7593548297882,364.8601448535919,364.96894550323486,365.0596868991852,365.1594166755676,365.25956082344055,365.3596260547638,365.4601356983185,365.55979108810425,365.6599338054657,365.760290145874,365.8600797653198,365.9602725505829,366.0603938102722,366.16379594802856,366.2636842727661,366.3638548851013,366.4605884552002,366.5609917640686,366.6607811450958,366.7835304737091,366.86488342285156,366.96648716926575,367.0610132217407,367.1611726284027,367.26143312454224,367.36129570007324,367.46194195747375,367.5621943473816,367.6617558002472,367.76181387901306,367.8632423877716,367.9623694419861,368.0634768009186,368.16354393959045,368.26345467567444,368.3634202480316,368.4639570713043,368.56341767311096,368.66284465789795,368.76342129707336,368.8643660545349,368.96563172340393,369.06455993652344,369.16477060317993,369.26576590538025,369.3649263381958,369.46443724632263,369.564484834671,369.6652081012726,369.7659890651703,369.86567997932434,369.9659514427185,370.0671544075012,370.1666123867035,370.266783952713,370.36477303504944,370.4668548107147,370.565545797348,370.6652846336365,370.7655713558197,370.8653576374054,370.96653938293457,371.0674316883087,371.1659688949585,371.26658487319946,371.3692162036896,371.46680188179016,371.56940364837646,371.66719913482666,371.7668056488037,371.86815881729126,371.9680743217468,372.0671577453613,372.1683523654938,372.2659475803375,372.3691494464874,372.46960973739624,372.5661597251892,372.66928935050964,372.7676477432251,372.8702368736267,372.9683094024658,373.06783747673035,373.1671121120453,373.26922821998596,373.36808013916016,373.46855306625366,373.5675835609436,373.66880536079407,373.76876640319824,373.8698561191559,373.97192335128784,374.0674250125885,374.16755986213684,374.2683062553406,374.3683798313141,374.46939849853516,374.56834268569946,374.66983461380005,374.7691607475281,374.8697361946106,374.9699294567108,375.06860613822937,375.16787028312683,375.26893734931946,375.3684616088867,375.46800565719604,375.572505235672,375.66814947128296,375.77130460739136,375.86928486824036,375.9735300540924,376.0717408657074,376.1719069480896,376.27218413352966,376.37700939178467,376.4729585647583,376.568984746933,376.6694688796997,376.7690782546997,376.8701825141907,376.96993613243103,377.06991147994995,377.17006039619446,377.2700288295746,377.369996547699,377.47222781181335,377.57026195526123,377.6698634624481,377.77056527137756,377.87061953544617,377.97315883636475,378.07047605514526,378.17071175575256,378.2701976299286,378.37180352211,378.4711010456085,378.57070755958557,378.67058849334717,378.77225136756897,378.8715682029724,378.97123861312866,379.0709683895111,379.17172718048096,379.2713677883148,379.37117290496826,379.4718773365021,379.5713415145874,379.6712350845337,379.7715103626251,379.8717985153198,379.97728991508484,380.0728027820587,380.1717813014984,380.27346563339233,380.3715305328369,380.47183561325073,380.5720341205597,380.6718740463257,380.7727301120758,380.87255120277405,380.9730746746063,381.0756416320801,381.17266750335693],\"y\":[90.0,90.0,90.0,90.0,90.0,90.0,90.0,90.0,90.0,90.0,90.0,90.0,90.0,90.0,90.0,90.0,90.0,90.0,90.0,90.0,90.0,90.0,90.0,90.0,90.0,90.0,90.0,90.0,90.0,90.0,90.0,90.0,90.0,90.0,90.0,90.0,90.0,90.0,90.0,90.0,90.0,90.0,90.0,90.0,90.0,90.0,90.0,90.0,90.0,90.0,90.0,90.0,90.0,90.0,90.0,90.0,90.0,90.0,90.0,90.0,90.0,90.0,90.0,90.0,90.0,90.0,90.0,90.0,90.0,90.0,90.0,90.0,90.0,90.0,90.0,90.0,90.0,90.0,90.0,90.0,90.0,90.0,90.0,90.0,90.0,90.0,90.0,90.0,90.0,90.0,90.0,90.0,90.0,90.0,90.0,90.0,90.0,90.0,90.0,90.0,90.0,90.0,90.0,90.0,90.0,90.0,90.0,90.0,90.0,90.0,90.0,90.0,90.0,90.0,90.0,90.0,90.0,90.0,90.0,90.0,90.0,90.0,90.0,90.0,90.0,90.0,90.0,90.0,90.0,90.0,90.0,90.0,90.0,90.0,90.0,90.0,90.0,90.0,90.0,90.0,90.0,90.0,90.0,90.0,90.0,90.0,90.0,90.0,90.0,90.0,90.0,90.0,90.0,90.0,90.0,90.0,90.0,90.0,90.0,90.0,90.0,90.0,90.0,90.0,90.0,90.0,90.0],\"type\":\"scatter\"}],                        {\"autosize\":false,\"font\":{\"color\":\"black\",\"family\":\"Courier New, monospace\",\"size\":22},\"height\":600,\"template\":{\"data\":{\"barpolar\":[{\"marker\":{\"line\":{\"color\":\"#E5ECF6\",\"width\":0.5},\"pattern\":{\"fillmode\":\"overlay\",\"size\":10,\"solidity\":0.2}},\"type\":\"barpolar\"}],\"bar\":[{\"error_x\":{\"color\":\"#2a3f5f\"},\"error_y\":{\"color\":\"#2a3f5f\"},\"marker\":{\"line\":{\"color\":\"#E5ECF6\",\"width\":0.5},\"pattern\":{\"fillmode\":\"overlay\",\"size\":10,\"solidity\":0.2}},\"type\":\"bar\"}],\"carpet\":[{\"aaxis\":{\"endlinecolor\":\"#2a3f5f\",\"gridcolor\":\"white\",\"linecolor\":\"white\",\"minorgridcolor\":\"white\",\"startlinecolor\":\"#2a3f5f\"},\"baxis\":{\"endlinecolor\":\"#2a3f5f\",\"gridcolor\":\"white\",\"linecolor\":\"white\",\"minorgridcolor\":\"white\",\"startlinecolor\":\"#2a3f5f\"},\"type\":\"carpet\"}],\"choropleth\":[{\"colorbar\":{\"outlinewidth\":0,\"ticks\":\"\"},\"type\":\"choropleth\"}],\"contourcarpet\":[{\"colorbar\":{\"outlinewidth\":0,\"ticks\":\"\"},\"type\":\"contourcarpet\"}],\"contour\":[{\"colorbar\":{\"outlinewidth\":0,\"ticks\":\"\"},\"colorscale\":[[0.0,\"#0d0887\"],[0.1111111111111111,\"#46039f\"],[0.2222222222222222,\"#7201a8\"],[0.3333333333333333,\"#9c179e\"],[0.4444444444444444,\"#bd3786\"],[0.5555555555555556,\"#d8576b\"],[0.6666666666666666,\"#ed7953\"],[0.7777777777777778,\"#fb9f3a\"],[0.8888888888888888,\"#fdca26\"],[1.0,\"#f0f921\"]],\"type\":\"contour\"}],\"heatmapgl\":[{\"colorbar\":{\"outlinewidth\":0,\"ticks\":\"\"},\"colorscale\":[[0.0,\"#0d0887\"],[0.1111111111111111,\"#46039f\"],[0.2222222222222222,\"#7201a8\"],[0.3333333333333333,\"#9c179e\"],[0.4444444444444444,\"#bd3786\"],[0.5555555555555556,\"#d8576b\"],[0.6666666666666666,\"#ed7953\"],[0.7777777777777778,\"#fb9f3a\"],[0.8888888888888888,\"#fdca26\"],[1.0,\"#f0f921\"]],\"type\":\"heatmapgl\"}],\"heatmap\":[{\"colorbar\":{\"outlinewidth\":0,\"ticks\":\"\"},\"colorscale\":[[0.0,\"#0d0887\"],[0.1111111111111111,\"#46039f\"],[0.2222222222222222,\"#7201a8\"],[0.3333333333333333,\"#9c179e\"],[0.4444444444444444,\"#bd3786\"],[0.5555555555555556,\"#d8576b\"],[0.6666666666666666,\"#ed7953\"],[0.7777777777777778,\"#fb9f3a\"],[0.8888888888888888,\"#fdca26\"],[1.0,\"#f0f921\"]],\"type\":\"heatmap\"}],\"histogram2dcontour\":[{\"colorbar\":{\"outlinewidth\":0,\"ticks\":\"\"},\"colorscale\":[[0.0,\"#0d0887\"],[0.1111111111111111,\"#46039f\"],[0.2222222222222222,\"#7201a8\"],[0.3333333333333333,\"#9c179e\"],[0.4444444444444444,\"#bd3786\"],[0.5555555555555556,\"#d8576b\"],[0.6666666666666666,\"#ed7953\"],[0.7777777777777778,\"#fb9f3a\"],[0.8888888888888888,\"#fdca26\"],[1.0,\"#f0f921\"]],\"type\":\"histogram2dcontour\"}],\"histogram2d\":[{\"colorbar\":{\"outlinewidth\":0,\"ticks\":\"\"},\"colorscale\":[[0.0,\"#0d0887\"],[0.1111111111111111,\"#46039f\"],[0.2222222222222222,\"#7201a8\"],[0.3333333333333333,\"#9c179e\"],[0.4444444444444444,\"#bd3786\"],[0.5555555555555556,\"#d8576b\"],[0.6666666666666666,\"#ed7953\"],[0.7777777777777778,\"#fb9f3a\"],[0.8888888888888888,\"#fdca26\"],[1.0,\"#f0f921\"]],\"type\":\"histogram2d\"}],\"histogram\":[{\"marker\":{\"pattern\":{\"fillmode\":\"overlay\",\"size\":10,\"solidity\":0.2}},\"type\":\"histogram\"}],\"mesh3d\":[{\"colorbar\":{\"outlinewidth\":0,\"ticks\":\"\"},\"type\":\"mesh3d\"}],\"parcoords\":[{\"line\":{\"colorbar\":{\"outlinewidth\":0,\"ticks\":\"\"}},\"type\":\"parcoords\"}],\"pie\":[{\"automargin\":true,\"type\":\"pie\"}],\"scatter3d\":[{\"line\":{\"colorbar\":{\"outlinewidth\":0,\"ticks\":\"\"}},\"marker\":{\"colorbar\":{\"outlinewidth\":0,\"ticks\":\"\"}},\"type\":\"scatter3d\"}],\"scattercarpet\":[{\"marker\":{\"colorbar\":{\"outlinewidth\":0,\"ticks\":\"\"}},\"type\":\"scattercarpet\"}],\"scattergeo\":[{\"marker\":{\"colorbar\":{\"outlinewidth\":0,\"ticks\":\"\"}},\"type\":\"scattergeo\"}],\"scattergl\":[{\"marker\":{\"colorbar\":{\"outlinewidth\":0,\"ticks\":\"\"}},\"type\":\"scattergl\"}],\"scattermapbox\":[{\"marker\":{\"colorbar\":{\"outlinewidth\":0,\"ticks\":\"\"}},\"type\":\"scattermapbox\"}],\"scatterpolargl\":[{\"marker\":{\"colorbar\":{\"outlinewidth\":0,\"ticks\":\"\"}},\"type\":\"scatterpolargl\"}],\"scatterpolar\":[{\"marker\":{\"colorbar\":{\"outlinewidth\":0,\"ticks\":\"\"}},\"type\":\"scatterpolar\"}],\"scatter\":[{\"fillpattern\":{\"fillmode\":\"overlay\",\"size\":10,\"solidity\":0.2},\"type\":\"scatter\"}],\"scatterternary\":[{\"marker\":{\"colorbar\":{\"outlinewidth\":0,\"ticks\":\"\"}},\"type\":\"scatterternary\"}],\"surface\":[{\"colorbar\":{\"outlinewidth\":0,\"ticks\":\"\"},\"colorscale\":[[0.0,\"#0d0887\"],[0.1111111111111111,\"#46039f\"],[0.2222222222222222,\"#7201a8\"],[0.3333333333333333,\"#9c179e\"],[0.4444444444444444,\"#bd3786\"],[0.5555555555555556,\"#d8576b\"],[0.6666666666666666,\"#ed7953\"],[0.7777777777777778,\"#fb9f3a\"],[0.8888888888888888,\"#fdca26\"],[1.0,\"#f0f921\"]],\"type\":\"surface\"}],\"table\":[{\"cells\":{\"fill\":{\"color\":\"#EBF0F8\"},\"line\":{\"color\":\"white\"}},\"header\":{\"fill\":{\"color\":\"#C8D4E3\"},\"line\":{\"color\":\"white\"}},\"type\":\"table\"}]},\"layout\":{\"annotationdefaults\":{\"arrowcolor\":\"#2a3f5f\",\"arrowhead\":0,\"arrowwidth\":1},\"autotypenumbers\":\"strict\",\"coloraxis\":{\"colorbar\":{\"outlinewidth\":0,\"ticks\":\"\"}},\"colorscale\":{\"diverging\":[[0,\"#8e0152\"],[0.1,\"#c51b7d\"],[0.2,\"#de77ae\"],[0.3,\"#f1b6da\"],[0.4,\"#fde0ef\"],[0.5,\"#f7f7f7\"],[0.6,\"#e6f5d0\"],[0.7,\"#b8e186\"],[0.8,\"#7fbc41\"],[0.9,\"#4d9221\"],[1,\"#276419\"]],\"sequential\":[[0.0,\"#0d0887\"],[0.1111111111111111,\"#46039f\"],[0.2222222222222222,\"#7201a8\"],[0.3333333333333333,\"#9c179e\"],[0.4444444444444444,\"#bd3786\"],[0.5555555555555556,\"#d8576b\"],[0.6666666666666666,\"#ed7953\"],[0.7777777777777778,\"#fb9f3a\"],[0.8888888888888888,\"#fdca26\"],[1.0,\"#f0f921\"]],\"sequentialminus\":[[0.0,\"#0d0887\"],[0.1111111111111111,\"#46039f\"],[0.2222222222222222,\"#7201a8\"],[0.3333333333333333,\"#9c179e\"],[0.4444444444444444,\"#bd3786\"],[0.5555555555555556,\"#d8576b\"],[0.6666666666666666,\"#ed7953\"],[0.7777777777777778,\"#fb9f3a\"],[0.8888888888888888,\"#fdca26\"],[1.0,\"#f0f921\"]]},\"colorway\":[\"#636efa\",\"#EF553B\",\"#00cc96\",\"#ab63fa\",\"#FFA15A\",\"#19d3f3\",\"#FF6692\",\"#B6E880\",\"#FF97FF\",\"#FECB52\"],\"font\":{\"color\":\"#2a3f5f\"},\"geo\":{\"bgcolor\":\"white\",\"lakecolor\":\"white\",\"landcolor\":\"#E5ECF6\",\"showlakes\":true,\"showland\":true,\"subunitcolor\":\"white\"},\"hoverlabel\":{\"align\":\"left\"},\"hovermode\":\"closest\",\"mapbox\":{\"style\":\"light\"},\"paper_bgcolor\":\"white\",\"plot_bgcolor\":\"#E5ECF6\",\"polar\":{\"angularaxis\":{\"gridcolor\":\"white\",\"linecolor\":\"white\",\"ticks\":\"\"},\"bgcolor\":\"#E5ECF6\",\"radialaxis\":{\"gridcolor\":\"white\",\"linecolor\":\"white\",\"ticks\":\"\"}},\"scene\":{\"xaxis\":{\"backgroundcolor\":\"#E5ECF6\",\"gridcolor\":\"white\",\"gridwidth\":2,\"linecolor\":\"white\",\"showbackground\":true,\"ticks\":\"\",\"zerolinecolor\":\"white\"},\"yaxis\":{\"backgroundcolor\":\"#E5ECF6\",\"gridcolor\":\"white\",\"gridwidth\":2,\"linecolor\":\"white\",\"showbackground\":true,\"ticks\":\"\",\"zerolinecolor\":\"white\"},\"zaxis\":{\"backgroundcolor\":\"#E5ECF6\",\"gridcolor\":\"white\",\"gridwidth\":2,\"linecolor\":\"white\",\"showbackground\":true,\"ticks\":\"\",\"zerolinecolor\":\"white\"}},\"shapedefaults\":{\"line\":{\"color\":\"#2a3f5f\"}},\"ternary\":{\"aaxis\":{\"gridcolor\":\"white\",\"linecolor\":\"white\",\"ticks\":\"\"},\"baxis\":{\"gridcolor\":\"white\",\"linecolor\":\"white\",\"ticks\":\"\"},\"bgcolor\":\"#E5ECF6\",\"caxis\":{\"gridcolor\":\"white\",\"linecolor\":\"white\",\"ticks\":\"\"}},\"title\":{\"x\":0.05},\"xaxis\":{\"automargin\":true,\"gridcolor\":\"white\",\"linecolor\":\"white\",\"ticks\":\"\",\"title\":{\"standoff\":15},\"zerolinecolor\":\"white\",\"zerolinewidth\":2},\"yaxis\":{\"automargin\":true,\"gridcolor\":\"white\",\"linecolor\":\"white\",\"ticks\":\"\",\"title\":{\"standoff\":15},\"zerolinecolor\":\"white\",\"zerolinewidth\":2}}},\"title\":{\"text\":\"Range of Motion ankleLeft\"},\"width\":750,\"xaxis\":{\"title\":{\"font\":{\"color\":\"#7f7f7f\",\"family\":\"Courier New, monospace\",\"size\":18},\"text\":\"time [s]\"}},\"yaxis\":{\"title\":{\"font\":{\"color\":\"#7f7f7f\",\"family\":\"Courier New, monospace\",\"size\":18},\"text\":\"ROM [gradi]\"}}},                        {\"responsive\": true}                    ).then(function(){\n",
       "                            \n",
       "var gd = document.getElementById('2183cddd-5633-4d74-87d0-74469a195d49');\n",
       "var x = new MutationObserver(function (mutations, observer) {{\n",
       "        var display = window.getComputedStyle(gd).display;\n",
       "        if (!display || display === 'none') {{\n",
       "            console.log([gd, 'removed!']);\n",
       "            Plotly.purge(gd);\n",
       "            observer.disconnect();\n",
       "        }}\n",
       "}});\n",
       "\n",
       "// Listen for the removal of the full notebook cells\n",
       "var notebookContainer = gd.closest('#notebook-container');\n",
       "if (notebookContainer) {{\n",
       "    x.observe(notebookContainer, {childList: true});\n",
       "}}\n",
       "\n",
       "// Listen for the clearing of the current output cell\n",
       "var outputEl = gd.closest('.output');\n",
       "if (outputEl) {{\n",
       "    x.observe(outputEl, {childList: true});\n",
       "}}\n",
       "\n",
       "                        })                };                });            </script>        </div>"
      ]
     },
     "metadata": {},
     "output_type": "display_data"
    },
    {
     "data": {
      "application/vnd.plotly.v1+json": {
       "config": {
        "linkText": "Export to plot.ly",
        "plotlyServerURL": "https://plot.ly",
        "showLink": false
       },
       "data": [
        {
         "line": {
          "color": "blue",
          "width": 3
         },
         "mode": "lines",
         "name": "Andamento Reale",
         "type": "scatter",
         "x": [
          364.45887899398804,
          364.5586404800415,
          364.6589159965515,
          364.7593548297882,
          364.8601448535919,
          364.96894550323486,
          365.0596868991852,
          365.1594166755676,
          365.25956082344055,
          365.3596260547638,
          365.4601356983185,
          365.55979108810425,
          365.6599338054657,
          365.760290145874,
          365.8600797653198,
          365.9602725505829,
          366.0603938102722,
          366.16379594802856,
          366.2636842727661,
          366.3638548851013,
          366.4605884552002,
          366.5609917640686,
          366.6607811450958,
          366.7835304737091,
          366.86488342285156,
          366.96648716926575,
          367.0610132217407,
          367.1611726284027,
          367.26143312454224,
          367.36129570007324,
          367.46194195747375,
          367.5621943473816,
          367.6617558002472,
          367.76181387901306,
          367.8632423877716,
          367.9623694419861,
          368.0634768009186,
          368.16354393959045,
          368.26345467567444,
          368.3634202480316,
          368.4639570713043,
          368.56341767311096,
          368.66284465789795,
          368.76342129707336,
          368.8643660545349,
          368.96563172340393,
          369.06455993652344,
          369.16477060317993,
          369.26576590538025,
          369.3649263381958,
          369.46443724632263,
          369.564484834671,
          369.6652081012726,
          369.7659890651703,
          369.86567997932434,
          369.9659514427185,
          370.0671544075012,
          370.1666123867035,
          370.266783952713,
          370.36477303504944,
          370.4668548107147,
          370.565545797348,
          370.6652846336365,
          370.7655713558197,
          370.8653576374054,
          370.96653938293457,
          371.0674316883087,
          371.1659688949585,
          371.26658487319946,
          371.3692162036896,
          371.46680188179016,
          371.56940364837646,
          371.66719913482666,
          371.7668056488037,
          371.86815881729126,
          371.9680743217468,
          372.0671577453613,
          372.1683523654938,
          372.2659475803375,
          372.3691494464874,
          372.46960973739624,
          372.5661597251892,
          372.66928935050964,
          372.7676477432251,
          372.8702368736267,
          372.9683094024658,
          373.06783747673035,
          373.1671121120453,
          373.26922821998596,
          373.36808013916016,
          373.46855306625366,
          373.5675835609436,
          373.66880536079407,
          373.76876640319824,
          373.8698561191559,
          373.97192335128784,
          374.0674250125885,
          374.16755986213684,
          374.2683062553406,
          374.3683798313141,
          374.46939849853516,
          374.56834268569946,
          374.66983461380005,
          374.7691607475281,
          374.8697361946106,
          374.9699294567108,
          375.06860613822937,
          375.16787028312683,
          375.26893734931946,
          375.3684616088867,
          375.46800565719604,
          375.572505235672,
          375.66814947128296,
          375.77130460739136,
          375.86928486824036,
          375.9735300540924,
          376.0717408657074,
          376.1719069480896,
          376.27218413352966,
          376.37700939178467,
          376.4729585647583,
          376.568984746933,
          376.6694688796997,
          376.7690782546997,
          376.8701825141907,
          376.96993613243103,
          377.06991147994995,
          377.17006039619446,
          377.2700288295746,
          377.369996547699,
          377.47222781181335,
          377.57026195526123,
          377.6698634624481,
          377.77056527137756,
          377.87061953544617,
          377.97315883636475,
          378.07047605514526,
          378.17071175575256,
          378.2701976299286,
          378.37180352211,
          378.4711010456085,
          378.57070755958557,
          378.67058849334717,
          378.77225136756897,
          378.8715682029724,
          378.97123861312866,
          379.0709683895111,
          379.17172718048096,
          379.2713677883148,
          379.37117290496826,
          379.4718773365021,
          379.5713415145874,
          379.6712350845337,
          379.7715103626251,
          379.8717985153198,
          379.97728991508484,
          380.0728027820587,
          380.1717813014984,
          380.27346563339233,
          380.3715305328369,
          380.47183561325073,
          380.5720341205597,
          380.6718740463257,
          380.7727301120758,
          380.87255120277405,
          380.9730746746063,
          381.0756416320801,
          381.17266750335693
         ],
         "y": [
          90,
          90,
          90,
          90,
          90,
          90,
          90,
          90,
          90,
          90,
          90,
          90,
          90,
          90,
          90,
          90,
          90,
          90,
          90,
          90,
          90,
          90,
          90,
          90,
          90,
          90,
          90,
          90,
          90,
          90,
          90,
          90,
          90,
          90,
          90,
          90,
          90,
          90,
          90,
          90,
          90,
          90,
          90,
          90,
          90,
          90,
          90,
          90,
          90,
          90,
          90,
          90,
          90,
          90,
          90,
          90,
          90,
          90,
          90,
          90,
          90,
          90,
          90,
          90,
          90,
          90,
          90,
          90,
          90,
          90,
          90,
          90,
          90,
          90,
          90,
          90,
          90,
          90,
          90,
          90,
          90,
          90,
          90,
          90,
          90,
          90,
          90,
          90,
          90,
          90,
          90,
          90,
          90,
          90,
          90,
          90,
          90,
          90,
          90,
          90,
          90,
          90,
          90,
          90,
          90,
          90,
          90,
          90,
          90,
          90,
          90,
          90,
          90,
          90,
          90,
          90,
          90,
          90,
          90,
          90,
          90,
          90,
          90,
          90,
          90,
          90,
          90,
          90,
          90,
          90,
          90,
          90,
          90,
          90,
          90,
          90,
          90,
          90,
          90,
          90,
          90,
          90,
          90,
          90,
          90,
          90,
          90,
          90,
          90,
          90,
          90,
          90,
          90,
          90,
          90,
          90,
          90,
          90,
          90,
          90,
          90,
          90,
          90,
          90,
          90,
          90,
          90
         ]
        }
       ],
       "layout": {
        "autosize": false,
        "font": {
         "color": "black",
         "family": "Courier New, monospace",
         "size": 22
        },
        "height": 600,
        "template": {
         "data": {
          "bar": [
           {
            "error_x": {
             "color": "#2a3f5f"
            },
            "error_y": {
             "color": "#2a3f5f"
            },
            "marker": {
             "line": {
              "color": "#E5ECF6",
              "width": 0.5
             },
             "pattern": {
              "fillmode": "overlay",
              "size": 10,
              "solidity": 0.2
             }
            },
            "type": "bar"
           }
          ],
          "barpolar": [
           {
            "marker": {
             "line": {
              "color": "#E5ECF6",
              "width": 0.5
             },
             "pattern": {
              "fillmode": "overlay",
              "size": 10,
              "solidity": 0.2
             }
            },
            "type": "barpolar"
           }
          ],
          "carpet": [
           {
            "aaxis": {
             "endlinecolor": "#2a3f5f",
             "gridcolor": "white",
             "linecolor": "white",
             "minorgridcolor": "white",
             "startlinecolor": "#2a3f5f"
            },
            "baxis": {
             "endlinecolor": "#2a3f5f",
             "gridcolor": "white",
             "linecolor": "white",
             "minorgridcolor": "white",
             "startlinecolor": "#2a3f5f"
            },
            "type": "carpet"
           }
          ],
          "choropleth": [
           {
            "colorbar": {
             "outlinewidth": 0,
             "ticks": ""
            },
            "type": "choropleth"
           }
          ],
          "contour": [
           {
            "colorbar": {
             "outlinewidth": 0,
             "ticks": ""
            },
            "colorscale": [
             [
              0,
              "#0d0887"
             ],
             [
              0.1111111111111111,
              "#46039f"
             ],
             [
              0.2222222222222222,
              "#7201a8"
             ],
             [
              0.3333333333333333,
              "#9c179e"
             ],
             [
              0.4444444444444444,
              "#bd3786"
             ],
             [
              0.5555555555555556,
              "#d8576b"
             ],
             [
              0.6666666666666666,
              "#ed7953"
             ],
             [
              0.7777777777777778,
              "#fb9f3a"
             ],
             [
              0.8888888888888888,
              "#fdca26"
             ],
             [
              1,
              "#f0f921"
             ]
            ],
            "type": "contour"
           }
          ],
          "contourcarpet": [
           {
            "colorbar": {
             "outlinewidth": 0,
             "ticks": ""
            },
            "type": "contourcarpet"
           }
          ],
          "heatmap": [
           {
            "colorbar": {
             "outlinewidth": 0,
             "ticks": ""
            },
            "colorscale": [
             [
              0,
              "#0d0887"
             ],
             [
              0.1111111111111111,
              "#46039f"
             ],
             [
              0.2222222222222222,
              "#7201a8"
             ],
             [
              0.3333333333333333,
              "#9c179e"
             ],
             [
              0.4444444444444444,
              "#bd3786"
             ],
             [
              0.5555555555555556,
              "#d8576b"
             ],
             [
              0.6666666666666666,
              "#ed7953"
             ],
             [
              0.7777777777777778,
              "#fb9f3a"
             ],
             [
              0.8888888888888888,
              "#fdca26"
             ],
             [
              1,
              "#f0f921"
             ]
            ],
            "type": "heatmap"
           }
          ],
          "heatmapgl": [
           {
            "colorbar": {
             "outlinewidth": 0,
             "ticks": ""
            },
            "colorscale": [
             [
              0,
              "#0d0887"
             ],
             [
              0.1111111111111111,
              "#46039f"
             ],
             [
              0.2222222222222222,
              "#7201a8"
             ],
             [
              0.3333333333333333,
              "#9c179e"
             ],
             [
              0.4444444444444444,
              "#bd3786"
             ],
             [
              0.5555555555555556,
              "#d8576b"
             ],
             [
              0.6666666666666666,
              "#ed7953"
             ],
             [
              0.7777777777777778,
              "#fb9f3a"
             ],
             [
              0.8888888888888888,
              "#fdca26"
             ],
             [
              1,
              "#f0f921"
             ]
            ],
            "type": "heatmapgl"
           }
          ],
          "histogram": [
           {
            "marker": {
             "pattern": {
              "fillmode": "overlay",
              "size": 10,
              "solidity": 0.2
             }
            },
            "type": "histogram"
           }
          ],
          "histogram2d": [
           {
            "colorbar": {
             "outlinewidth": 0,
             "ticks": ""
            },
            "colorscale": [
             [
              0,
              "#0d0887"
             ],
             [
              0.1111111111111111,
              "#46039f"
             ],
             [
              0.2222222222222222,
              "#7201a8"
             ],
             [
              0.3333333333333333,
              "#9c179e"
             ],
             [
              0.4444444444444444,
              "#bd3786"
             ],
             [
              0.5555555555555556,
              "#d8576b"
             ],
             [
              0.6666666666666666,
              "#ed7953"
             ],
             [
              0.7777777777777778,
              "#fb9f3a"
             ],
             [
              0.8888888888888888,
              "#fdca26"
             ],
             [
              1,
              "#f0f921"
             ]
            ],
            "type": "histogram2d"
           }
          ],
          "histogram2dcontour": [
           {
            "colorbar": {
             "outlinewidth": 0,
             "ticks": ""
            },
            "colorscale": [
             [
              0,
              "#0d0887"
             ],
             [
              0.1111111111111111,
              "#46039f"
             ],
             [
              0.2222222222222222,
              "#7201a8"
             ],
             [
              0.3333333333333333,
              "#9c179e"
             ],
             [
              0.4444444444444444,
              "#bd3786"
             ],
             [
              0.5555555555555556,
              "#d8576b"
             ],
             [
              0.6666666666666666,
              "#ed7953"
             ],
             [
              0.7777777777777778,
              "#fb9f3a"
             ],
             [
              0.8888888888888888,
              "#fdca26"
             ],
             [
              1,
              "#f0f921"
             ]
            ],
            "type": "histogram2dcontour"
           }
          ],
          "mesh3d": [
           {
            "colorbar": {
             "outlinewidth": 0,
             "ticks": ""
            },
            "type": "mesh3d"
           }
          ],
          "parcoords": [
           {
            "line": {
             "colorbar": {
              "outlinewidth": 0,
              "ticks": ""
             }
            },
            "type": "parcoords"
           }
          ],
          "pie": [
           {
            "automargin": true,
            "type": "pie"
           }
          ],
          "scatter": [
           {
            "fillpattern": {
             "fillmode": "overlay",
             "size": 10,
             "solidity": 0.2
            },
            "type": "scatter"
           }
          ],
          "scatter3d": [
           {
            "line": {
             "colorbar": {
              "outlinewidth": 0,
              "ticks": ""
             }
            },
            "marker": {
             "colorbar": {
              "outlinewidth": 0,
              "ticks": ""
             }
            },
            "type": "scatter3d"
           }
          ],
          "scattercarpet": [
           {
            "marker": {
             "colorbar": {
              "outlinewidth": 0,
              "ticks": ""
             }
            },
            "type": "scattercarpet"
           }
          ],
          "scattergeo": [
           {
            "marker": {
             "colorbar": {
              "outlinewidth": 0,
              "ticks": ""
             }
            },
            "type": "scattergeo"
           }
          ],
          "scattergl": [
           {
            "marker": {
             "colorbar": {
              "outlinewidth": 0,
              "ticks": ""
             }
            },
            "type": "scattergl"
           }
          ],
          "scattermapbox": [
           {
            "marker": {
             "colorbar": {
              "outlinewidth": 0,
              "ticks": ""
             }
            },
            "type": "scattermapbox"
           }
          ],
          "scatterpolar": [
           {
            "marker": {
             "colorbar": {
              "outlinewidth": 0,
              "ticks": ""
             }
            },
            "type": "scatterpolar"
           }
          ],
          "scatterpolargl": [
           {
            "marker": {
             "colorbar": {
              "outlinewidth": 0,
              "ticks": ""
             }
            },
            "type": "scatterpolargl"
           }
          ],
          "scatterternary": [
           {
            "marker": {
             "colorbar": {
              "outlinewidth": 0,
              "ticks": ""
             }
            },
            "type": "scatterternary"
           }
          ],
          "surface": [
           {
            "colorbar": {
             "outlinewidth": 0,
             "ticks": ""
            },
            "colorscale": [
             [
              0,
              "#0d0887"
             ],
             [
              0.1111111111111111,
              "#46039f"
             ],
             [
              0.2222222222222222,
              "#7201a8"
             ],
             [
              0.3333333333333333,
              "#9c179e"
             ],
             [
              0.4444444444444444,
              "#bd3786"
             ],
             [
              0.5555555555555556,
              "#d8576b"
             ],
             [
              0.6666666666666666,
              "#ed7953"
             ],
             [
              0.7777777777777778,
              "#fb9f3a"
             ],
             [
              0.8888888888888888,
              "#fdca26"
             ],
             [
              1,
              "#f0f921"
             ]
            ],
            "type": "surface"
           }
          ],
          "table": [
           {
            "cells": {
             "fill": {
              "color": "#EBF0F8"
             },
             "line": {
              "color": "white"
             }
            },
            "header": {
             "fill": {
              "color": "#C8D4E3"
             },
             "line": {
              "color": "white"
             }
            },
            "type": "table"
           }
          ]
         },
         "layout": {
          "annotationdefaults": {
           "arrowcolor": "#2a3f5f",
           "arrowhead": 0,
           "arrowwidth": 1
          },
          "autotypenumbers": "strict",
          "coloraxis": {
           "colorbar": {
            "outlinewidth": 0,
            "ticks": ""
           }
          },
          "colorscale": {
           "diverging": [
            [
             0,
             "#8e0152"
            ],
            [
             0.1,
             "#c51b7d"
            ],
            [
             0.2,
             "#de77ae"
            ],
            [
             0.3,
             "#f1b6da"
            ],
            [
             0.4,
             "#fde0ef"
            ],
            [
             0.5,
             "#f7f7f7"
            ],
            [
             0.6,
             "#e6f5d0"
            ],
            [
             0.7,
             "#b8e186"
            ],
            [
             0.8,
             "#7fbc41"
            ],
            [
             0.9,
             "#4d9221"
            ],
            [
             1,
             "#276419"
            ]
           ],
           "sequential": [
            [
             0,
             "#0d0887"
            ],
            [
             0.1111111111111111,
             "#46039f"
            ],
            [
             0.2222222222222222,
             "#7201a8"
            ],
            [
             0.3333333333333333,
             "#9c179e"
            ],
            [
             0.4444444444444444,
             "#bd3786"
            ],
            [
             0.5555555555555556,
             "#d8576b"
            ],
            [
             0.6666666666666666,
             "#ed7953"
            ],
            [
             0.7777777777777778,
             "#fb9f3a"
            ],
            [
             0.8888888888888888,
             "#fdca26"
            ],
            [
             1,
             "#f0f921"
            ]
           ],
           "sequentialminus": [
            [
             0,
             "#0d0887"
            ],
            [
             0.1111111111111111,
             "#46039f"
            ],
            [
             0.2222222222222222,
             "#7201a8"
            ],
            [
             0.3333333333333333,
             "#9c179e"
            ],
            [
             0.4444444444444444,
             "#bd3786"
            ],
            [
             0.5555555555555556,
             "#d8576b"
            ],
            [
             0.6666666666666666,
             "#ed7953"
            ],
            [
             0.7777777777777778,
             "#fb9f3a"
            ],
            [
             0.8888888888888888,
             "#fdca26"
            ],
            [
             1,
             "#f0f921"
            ]
           ]
          },
          "colorway": [
           "#636efa",
           "#EF553B",
           "#00cc96",
           "#ab63fa",
           "#FFA15A",
           "#19d3f3",
           "#FF6692",
           "#B6E880",
           "#FF97FF",
           "#FECB52"
          ],
          "font": {
           "color": "#2a3f5f"
          },
          "geo": {
           "bgcolor": "white",
           "lakecolor": "white",
           "landcolor": "#E5ECF6",
           "showlakes": true,
           "showland": true,
           "subunitcolor": "white"
          },
          "hoverlabel": {
           "align": "left"
          },
          "hovermode": "closest",
          "mapbox": {
           "style": "light"
          },
          "paper_bgcolor": "white",
          "plot_bgcolor": "#E5ECF6",
          "polar": {
           "angularaxis": {
            "gridcolor": "white",
            "linecolor": "white",
            "ticks": ""
           },
           "bgcolor": "#E5ECF6",
           "radialaxis": {
            "gridcolor": "white",
            "linecolor": "white",
            "ticks": ""
           }
          },
          "scene": {
           "xaxis": {
            "backgroundcolor": "#E5ECF6",
            "gridcolor": "white",
            "gridwidth": 2,
            "linecolor": "white",
            "showbackground": true,
            "ticks": "",
            "zerolinecolor": "white"
           },
           "yaxis": {
            "backgroundcolor": "#E5ECF6",
            "gridcolor": "white",
            "gridwidth": 2,
            "linecolor": "white",
            "showbackground": true,
            "ticks": "",
            "zerolinecolor": "white"
           },
           "zaxis": {
            "backgroundcolor": "#E5ECF6",
            "gridcolor": "white",
            "gridwidth": 2,
            "linecolor": "white",
            "showbackground": true,
            "ticks": "",
            "zerolinecolor": "white"
           }
          },
          "shapedefaults": {
           "line": {
            "color": "#2a3f5f"
           }
          },
          "ternary": {
           "aaxis": {
            "gridcolor": "white",
            "linecolor": "white",
            "ticks": ""
           },
           "baxis": {
            "gridcolor": "white",
            "linecolor": "white",
            "ticks": ""
           },
           "bgcolor": "#E5ECF6",
           "caxis": {
            "gridcolor": "white",
            "linecolor": "white",
            "ticks": ""
           }
          },
          "title": {
           "x": 0.05
          },
          "xaxis": {
           "automargin": true,
           "gridcolor": "white",
           "linecolor": "white",
           "ticks": "",
           "title": {
            "standoff": 15
           },
           "zerolinecolor": "white",
           "zerolinewidth": 2
          },
          "yaxis": {
           "automargin": true,
           "gridcolor": "white",
           "linecolor": "white",
           "ticks": "",
           "title": {
            "standoff": 15
           },
           "zerolinecolor": "white",
           "zerolinewidth": 2
          }
         }
        },
        "title": {
         "text": "Range of Motion hipRight"
        },
        "width": 750,
        "xaxis": {
         "title": {
          "font": {
           "color": "#7f7f7f",
           "family": "Courier New, monospace",
           "size": 18
          },
          "text": "time [s]"
         }
        },
        "yaxis": {
         "title": {
          "font": {
           "color": "#7f7f7f",
           "family": "Courier New, monospace",
           "size": 18
          },
          "text": "ROM [gradi]"
         }
        }
       }
      },
      "text/html": [
       "<div>                            <div id=\"69ecdade-dd4f-442f-9344-4e86c300faa2\" class=\"plotly-graph-div\" style=\"height:600px; width:750px;\"></div>            <script type=\"text/javascript\">                require([\"plotly\"], function(Plotly) {                    window.PLOTLYENV=window.PLOTLYENV || {};                                    if (document.getElementById(\"69ecdade-dd4f-442f-9344-4e86c300faa2\")) {                    Plotly.newPlot(                        \"69ecdade-dd4f-442f-9344-4e86c300faa2\",                        [{\"line\":{\"color\":\"blue\",\"width\":3},\"mode\":\"lines\",\"name\":\"Andamento Reale\",\"x\":[364.45887899398804,364.5586404800415,364.6589159965515,364.7593548297882,364.8601448535919,364.96894550323486,365.0596868991852,365.1594166755676,365.25956082344055,365.3596260547638,365.4601356983185,365.55979108810425,365.6599338054657,365.760290145874,365.8600797653198,365.9602725505829,366.0603938102722,366.16379594802856,366.2636842727661,366.3638548851013,366.4605884552002,366.5609917640686,366.6607811450958,366.7835304737091,366.86488342285156,366.96648716926575,367.0610132217407,367.1611726284027,367.26143312454224,367.36129570007324,367.46194195747375,367.5621943473816,367.6617558002472,367.76181387901306,367.8632423877716,367.9623694419861,368.0634768009186,368.16354393959045,368.26345467567444,368.3634202480316,368.4639570713043,368.56341767311096,368.66284465789795,368.76342129707336,368.8643660545349,368.96563172340393,369.06455993652344,369.16477060317993,369.26576590538025,369.3649263381958,369.46443724632263,369.564484834671,369.6652081012726,369.7659890651703,369.86567997932434,369.9659514427185,370.0671544075012,370.1666123867035,370.266783952713,370.36477303504944,370.4668548107147,370.565545797348,370.6652846336365,370.7655713558197,370.8653576374054,370.96653938293457,371.0674316883087,371.1659688949585,371.26658487319946,371.3692162036896,371.46680188179016,371.56940364837646,371.66719913482666,371.7668056488037,371.86815881729126,371.9680743217468,372.0671577453613,372.1683523654938,372.2659475803375,372.3691494464874,372.46960973739624,372.5661597251892,372.66928935050964,372.7676477432251,372.8702368736267,372.9683094024658,373.06783747673035,373.1671121120453,373.26922821998596,373.36808013916016,373.46855306625366,373.5675835609436,373.66880536079407,373.76876640319824,373.8698561191559,373.97192335128784,374.0674250125885,374.16755986213684,374.2683062553406,374.3683798313141,374.46939849853516,374.56834268569946,374.66983461380005,374.7691607475281,374.8697361946106,374.9699294567108,375.06860613822937,375.16787028312683,375.26893734931946,375.3684616088867,375.46800565719604,375.572505235672,375.66814947128296,375.77130460739136,375.86928486824036,375.9735300540924,376.0717408657074,376.1719069480896,376.27218413352966,376.37700939178467,376.4729585647583,376.568984746933,376.6694688796997,376.7690782546997,376.8701825141907,376.96993613243103,377.06991147994995,377.17006039619446,377.2700288295746,377.369996547699,377.47222781181335,377.57026195526123,377.6698634624481,377.77056527137756,377.87061953544617,377.97315883636475,378.07047605514526,378.17071175575256,378.2701976299286,378.37180352211,378.4711010456085,378.57070755958557,378.67058849334717,378.77225136756897,378.8715682029724,378.97123861312866,379.0709683895111,379.17172718048096,379.2713677883148,379.37117290496826,379.4718773365021,379.5713415145874,379.6712350845337,379.7715103626251,379.8717985153198,379.97728991508484,380.0728027820587,380.1717813014984,380.27346563339233,380.3715305328369,380.47183561325073,380.5720341205597,380.6718740463257,380.7727301120758,380.87255120277405,380.9730746746063,381.0756416320801,381.17266750335693],\"y\":[90.0,90.0,90.0,90.0,90.0,90.0,90.0,90.0,90.0,90.0,90.0,90.0,90.0,90.0,90.0,90.0,90.0,90.0,90.0,90.0,90.0,90.0,90.0,90.0,90.0,90.0,90.0,90.0,90.0,90.0,90.0,90.0,90.0,90.0,90.0,90.0,90.0,90.0,90.0,90.0,90.0,90.0,90.0,90.0,90.0,90.0,90.0,90.0,90.0,90.0,90.0,90.0,90.0,90.0,90.0,90.0,90.0,90.0,90.0,90.0,90.0,90.0,90.0,90.0,90.0,90.0,90.0,90.0,90.0,90.0,90.0,90.0,90.0,90.0,90.0,90.0,90.0,90.0,90.0,90.0,90.0,90.0,90.0,90.0,90.0,90.0,90.0,90.0,90.0,90.0,90.0,90.0,90.0,90.0,90.0,90.0,90.0,90.0,90.0,90.0,90.0,90.0,90.0,90.0,90.0,90.0,90.0,90.0,90.0,90.0,90.0,90.0,90.0,90.0,90.0,90.0,90.0,90.0,90.0,90.0,90.0,90.0,90.0,90.0,90.0,90.0,90.0,90.0,90.0,90.0,90.0,90.0,90.0,90.0,90.0,90.0,90.0,90.0,90.0,90.0,90.0,90.0,90.0,90.0,90.0,90.0,90.0,90.0,90.0,90.0,90.0,90.0,90.0,90.0,90.0,90.0,90.0,90.0,90.0,90.0,90.0,90.0,90.0,90.0,90.0,90.0,90.0],\"type\":\"scatter\"}],                        {\"autosize\":false,\"font\":{\"color\":\"black\",\"family\":\"Courier New, monospace\",\"size\":22},\"height\":600,\"template\":{\"data\":{\"barpolar\":[{\"marker\":{\"line\":{\"color\":\"#E5ECF6\",\"width\":0.5},\"pattern\":{\"fillmode\":\"overlay\",\"size\":10,\"solidity\":0.2}},\"type\":\"barpolar\"}],\"bar\":[{\"error_x\":{\"color\":\"#2a3f5f\"},\"error_y\":{\"color\":\"#2a3f5f\"},\"marker\":{\"line\":{\"color\":\"#E5ECF6\",\"width\":0.5},\"pattern\":{\"fillmode\":\"overlay\",\"size\":10,\"solidity\":0.2}},\"type\":\"bar\"}],\"carpet\":[{\"aaxis\":{\"endlinecolor\":\"#2a3f5f\",\"gridcolor\":\"white\",\"linecolor\":\"white\",\"minorgridcolor\":\"white\",\"startlinecolor\":\"#2a3f5f\"},\"baxis\":{\"endlinecolor\":\"#2a3f5f\",\"gridcolor\":\"white\",\"linecolor\":\"white\",\"minorgridcolor\":\"white\",\"startlinecolor\":\"#2a3f5f\"},\"type\":\"carpet\"}],\"choropleth\":[{\"colorbar\":{\"outlinewidth\":0,\"ticks\":\"\"},\"type\":\"choropleth\"}],\"contourcarpet\":[{\"colorbar\":{\"outlinewidth\":0,\"ticks\":\"\"},\"type\":\"contourcarpet\"}],\"contour\":[{\"colorbar\":{\"outlinewidth\":0,\"ticks\":\"\"},\"colorscale\":[[0.0,\"#0d0887\"],[0.1111111111111111,\"#46039f\"],[0.2222222222222222,\"#7201a8\"],[0.3333333333333333,\"#9c179e\"],[0.4444444444444444,\"#bd3786\"],[0.5555555555555556,\"#d8576b\"],[0.6666666666666666,\"#ed7953\"],[0.7777777777777778,\"#fb9f3a\"],[0.8888888888888888,\"#fdca26\"],[1.0,\"#f0f921\"]],\"type\":\"contour\"}],\"heatmapgl\":[{\"colorbar\":{\"outlinewidth\":0,\"ticks\":\"\"},\"colorscale\":[[0.0,\"#0d0887\"],[0.1111111111111111,\"#46039f\"],[0.2222222222222222,\"#7201a8\"],[0.3333333333333333,\"#9c179e\"],[0.4444444444444444,\"#bd3786\"],[0.5555555555555556,\"#d8576b\"],[0.6666666666666666,\"#ed7953\"],[0.7777777777777778,\"#fb9f3a\"],[0.8888888888888888,\"#fdca26\"],[1.0,\"#f0f921\"]],\"type\":\"heatmapgl\"}],\"heatmap\":[{\"colorbar\":{\"outlinewidth\":0,\"ticks\":\"\"},\"colorscale\":[[0.0,\"#0d0887\"],[0.1111111111111111,\"#46039f\"],[0.2222222222222222,\"#7201a8\"],[0.3333333333333333,\"#9c179e\"],[0.4444444444444444,\"#bd3786\"],[0.5555555555555556,\"#d8576b\"],[0.6666666666666666,\"#ed7953\"],[0.7777777777777778,\"#fb9f3a\"],[0.8888888888888888,\"#fdca26\"],[1.0,\"#f0f921\"]],\"type\":\"heatmap\"}],\"histogram2dcontour\":[{\"colorbar\":{\"outlinewidth\":0,\"ticks\":\"\"},\"colorscale\":[[0.0,\"#0d0887\"],[0.1111111111111111,\"#46039f\"],[0.2222222222222222,\"#7201a8\"],[0.3333333333333333,\"#9c179e\"],[0.4444444444444444,\"#bd3786\"],[0.5555555555555556,\"#d8576b\"],[0.6666666666666666,\"#ed7953\"],[0.7777777777777778,\"#fb9f3a\"],[0.8888888888888888,\"#fdca26\"],[1.0,\"#f0f921\"]],\"type\":\"histogram2dcontour\"}],\"histogram2d\":[{\"colorbar\":{\"outlinewidth\":0,\"ticks\":\"\"},\"colorscale\":[[0.0,\"#0d0887\"],[0.1111111111111111,\"#46039f\"],[0.2222222222222222,\"#7201a8\"],[0.3333333333333333,\"#9c179e\"],[0.4444444444444444,\"#bd3786\"],[0.5555555555555556,\"#d8576b\"],[0.6666666666666666,\"#ed7953\"],[0.7777777777777778,\"#fb9f3a\"],[0.8888888888888888,\"#fdca26\"],[1.0,\"#f0f921\"]],\"type\":\"histogram2d\"}],\"histogram\":[{\"marker\":{\"pattern\":{\"fillmode\":\"overlay\",\"size\":10,\"solidity\":0.2}},\"type\":\"histogram\"}],\"mesh3d\":[{\"colorbar\":{\"outlinewidth\":0,\"ticks\":\"\"},\"type\":\"mesh3d\"}],\"parcoords\":[{\"line\":{\"colorbar\":{\"outlinewidth\":0,\"ticks\":\"\"}},\"type\":\"parcoords\"}],\"pie\":[{\"automargin\":true,\"type\":\"pie\"}],\"scatter3d\":[{\"line\":{\"colorbar\":{\"outlinewidth\":0,\"ticks\":\"\"}},\"marker\":{\"colorbar\":{\"outlinewidth\":0,\"ticks\":\"\"}},\"type\":\"scatter3d\"}],\"scattercarpet\":[{\"marker\":{\"colorbar\":{\"outlinewidth\":0,\"ticks\":\"\"}},\"type\":\"scattercarpet\"}],\"scattergeo\":[{\"marker\":{\"colorbar\":{\"outlinewidth\":0,\"ticks\":\"\"}},\"type\":\"scattergeo\"}],\"scattergl\":[{\"marker\":{\"colorbar\":{\"outlinewidth\":0,\"ticks\":\"\"}},\"type\":\"scattergl\"}],\"scattermapbox\":[{\"marker\":{\"colorbar\":{\"outlinewidth\":0,\"ticks\":\"\"}},\"type\":\"scattermapbox\"}],\"scatterpolargl\":[{\"marker\":{\"colorbar\":{\"outlinewidth\":0,\"ticks\":\"\"}},\"type\":\"scatterpolargl\"}],\"scatterpolar\":[{\"marker\":{\"colorbar\":{\"outlinewidth\":0,\"ticks\":\"\"}},\"type\":\"scatterpolar\"}],\"scatter\":[{\"fillpattern\":{\"fillmode\":\"overlay\",\"size\":10,\"solidity\":0.2},\"type\":\"scatter\"}],\"scatterternary\":[{\"marker\":{\"colorbar\":{\"outlinewidth\":0,\"ticks\":\"\"}},\"type\":\"scatterternary\"}],\"surface\":[{\"colorbar\":{\"outlinewidth\":0,\"ticks\":\"\"},\"colorscale\":[[0.0,\"#0d0887\"],[0.1111111111111111,\"#46039f\"],[0.2222222222222222,\"#7201a8\"],[0.3333333333333333,\"#9c179e\"],[0.4444444444444444,\"#bd3786\"],[0.5555555555555556,\"#d8576b\"],[0.6666666666666666,\"#ed7953\"],[0.7777777777777778,\"#fb9f3a\"],[0.8888888888888888,\"#fdca26\"],[1.0,\"#f0f921\"]],\"type\":\"surface\"}],\"table\":[{\"cells\":{\"fill\":{\"color\":\"#EBF0F8\"},\"line\":{\"color\":\"white\"}},\"header\":{\"fill\":{\"color\":\"#C8D4E3\"},\"line\":{\"color\":\"white\"}},\"type\":\"table\"}]},\"layout\":{\"annotationdefaults\":{\"arrowcolor\":\"#2a3f5f\",\"arrowhead\":0,\"arrowwidth\":1},\"autotypenumbers\":\"strict\",\"coloraxis\":{\"colorbar\":{\"outlinewidth\":0,\"ticks\":\"\"}},\"colorscale\":{\"diverging\":[[0,\"#8e0152\"],[0.1,\"#c51b7d\"],[0.2,\"#de77ae\"],[0.3,\"#f1b6da\"],[0.4,\"#fde0ef\"],[0.5,\"#f7f7f7\"],[0.6,\"#e6f5d0\"],[0.7,\"#b8e186\"],[0.8,\"#7fbc41\"],[0.9,\"#4d9221\"],[1,\"#276419\"]],\"sequential\":[[0.0,\"#0d0887\"],[0.1111111111111111,\"#46039f\"],[0.2222222222222222,\"#7201a8\"],[0.3333333333333333,\"#9c179e\"],[0.4444444444444444,\"#bd3786\"],[0.5555555555555556,\"#d8576b\"],[0.6666666666666666,\"#ed7953\"],[0.7777777777777778,\"#fb9f3a\"],[0.8888888888888888,\"#fdca26\"],[1.0,\"#f0f921\"]],\"sequentialminus\":[[0.0,\"#0d0887\"],[0.1111111111111111,\"#46039f\"],[0.2222222222222222,\"#7201a8\"],[0.3333333333333333,\"#9c179e\"],[0.4444444444444444,\"#bd3786\"],[0.5555555555555556,\"#d8576b\"],[0.6666666666666666,\"#ed7953\"],[0.7777777777777778,\"#fb9f3a\"],[0.8888888888888888,\"#fdca26\"],[1.0,\"#f0f921\"]]},\"colorway\":[\"#636efa\",\"#EF553B\",\"#00cc96\",\"#ab63fa\",\"#FFA15A\",\"#19d3f3\",\"#FF6692\",\"#B6E880\",\"#FF97FF\",\"#FECB52\"],\"font\":{\"color\":\"#2a3f5f\"},\"geo\":{\"bgcolor\":\"white\",\"lakecolor\":\"white\",\"landcolor\":\"#E5ECF6\",\"showlakes\":true,\"showland\":true,\"subunitcolor\":\"white\"},\"hoverlabel\":{\"align\":\"left\"},\"hovermode\":\"closest\",\"mapbox\":{\"style\":\"light\"},\"paper_bgcolor\":\"white\",\"plot_bgcolor\":\"#E5ECF6\",\"polar\":{\"angularaxis\":{\"gridcolor\":\"white\",\"linecolor\":\"white\",\"ticks\":\"\"},\"bgcolor\":\"#E5ECF6\",\"radialaxis\":{\"gridcolor\":\"white\",\"linecolor\":\"white\",\"ticks\":\"\"}},\"scene\":{\"xaxis\":{\"backgroundcolor\":\"#E5ECF6\",\"gridcolor\":\"white\",\"gridwidth\":2,\"linecolor\":\"white\",\"showbackground\":true,\"ticks\":\"\",\"zerolinecolor\":\"white\"},\"yaxis\":{\"backgroundcolor\":\"#E5ECF6\",\"gridcolor\":\"white\",\"gridwidth\":2,\"linecolor\":\"white\",\"showbackground\":true,\"ticks\":\"\",\"zerolinecolor\":\"white\"},\"zaxis\":{\"backgroundcolor\":\"#E5ECF6\",\"gridcolor\":\"white\",\"gridwidth\":2,\"linecolor\":\"white\",\"showbackground\":true,\"ticks\":\"\",\"zerolinecolor\":\"white\"}},\"shapedefaults\":{\"line\":{\"color\":\"#2a3f5f\"}},\"ternary\":{\"aaxis\":{\"gridcolor\":\"white\",\"linecolor\":\"white\",\"ticks\":\"\"},\"baxis\":{\"gridcolor\":\"white\",\"linecolor\":\"white\",\"ticks\":\"\"},\"bgcolor\":\"#E5ECF6\",\"caxis\":{\"gridcolor\":\"white\",\"linecolor\":\"white\",\"ticks\":\"\"}},\"title\":{\"x\":0.05},\"xaxis\":{\"automargin\":true,\"gridcolor\":\"white\",\"linecolor\":\"white\",\"ticks\":\"\",\"title\":{\"standoff\":15},\"zerolinecolor\":\"white\",\"zerolinewidth\":2},\"yaxis\":{\"automargin\":true,\"gridcolor\":\"white\",\"linecolor\":\"white\",\"ticks\":\"\",\"title\":{\"standoff\":15},\"zerolinecolor\":\"white\",\"zerolinewidth\":2}}},\"title\":{\"text\":\"Range of Motion hipRight\"},\"width\":750,\"xaxis\":{\"title\":{\"font\":{\"color\":\"#7f7f7f\",\"family\":\"Courier New, monospace\",\"size\":18},\"text\":\"time [s]\"}},\"yaxis\":{\"title\":{\"font\":{\"color\":\"#7f7f7f\",\"family\":\"Courier New, monospace\",\"size\":18},\"text\":\"ROM [gradi]\"}}},                        {\"responsive\": true}                    ).then(function(){\n",
       "                            \n",
       "var gd = document.getElementById('69ecdade-dd4f-442f-9344-4e86c300faa2');\n",
       "var x = new MutationObserver(function (mutations, observer) {{\n",
       "        var display = window.getComputedStyle(gd).display;\n",
       "        if (!display || display === 'none') {{\n",
       "            console.log([gd, 'removed!']);\n",
       "            Plotly.purge(gd);\n",
       "            observer.disconnect();\n",
       "        }}\n",
       "}});\n",
       "\n",
       "// Listen for the removal of the full notebook cells\n",
       "var notebookContainer = gd.closest('#notebook-container');\n",
       "if (notebookContainer) {{\n",
       "    x.observe(notebookContainer, {childList: true});\n",
       "}}\n",
       "\n",
       "// Listen for the clearing of the current output cell\n",
       "var outputEl = gd.closest('.output');\n",
       "if (outputEl) {{\n",
       "    x.observe(outputEl, {childList: true});\n",
       "}}\n",
       "\n",
       "                        })                };                });            </script>        </div>"
      ]
     },
     "metadata": {},
     "output_type": "display_data"
    },
    {
     "data": {
      "application/vnd.plotly.v1+json": {
       "config": {
        "linkText": "Export to plot.ly",
        "plotlyServerURL": "https://plot.ly",
        "showLink": false
       },
       "data": [
        {
         "line": {
          "color": "blue",
          "width": 3
         },
         "mode": "lines",
         "name": "Andamento Reale",
         "type": "scatter",
         "x": [
          364.45887899398804,
          364.5586404800415,
          364.6589159965515,
          364.7593548297882,
          364.8601448535919,
          364.96894550323486,
          365.0596868991852,
          365.1594166755676,
          365.25956082344055,
          365.3596260547638,
          365.4601356983185,
          365.55979108810425,
          365.6599338054657,
          365.760290145874,
          365.8600797653198,
          365.9602725505829,
          366.0603938102722,
          366.16379594802856,
          366.2636842727661,
          366.3638548851013,
          366.4605884552002,
          366.5609917640686,
          366.6607811450958,
          366.7835304737091,
          366.86488342285156,
          366.96648716926575,
          367.0610132217407,
          367.1611726284027,
          367.26143312454224,
          367.36129570007324,
          367.46194195747375,
          367.5621943473816,
          367.6617558002472,
          367.76181387901306,
          367.8632423877716,
          367.9623694419861,
          368.0634768009186,
          368.16354393959045,
          368.26345467567444,
          368.3634202480316,
          368.4639570713043,
          368.56341767311096,
          368.66284465789795,
          368.76342129707336,
          368.8643660545349,
          368.96563172340393,
          369.06455993652344,
          369.16477060317993,
          369.26576590538025,
          369.3649263381958,
          369.46443724632263,
          369.564484834671,
          369.6652081012726,
          369.7659890651703,
          369.86567997932434,
          369.9659514427185,
          370.0671544075012,
          370.1666123867035,
          370.266783952713,
          370.36477303504944,
          370.4668548107147,
          370.565545797348,
          370.6652846336365,
          370.7655713558197,
          370.8653576374054,
          370.96653938293457,
          371.0674316883087,
          371.1659688949585,
          371.26658487319946,
          371.3692162036896,
          371.46680188179016,
          371.56940364837646,
          371.66719913482666,
          371.7668056488037,
          371.86815881729126,
          371.9680743217468,
          372.0671577453613,
          372.1683523654938,
          372.2659475803375,
          372.3691494464874,
          372.46960973739624,
          372.5661597251892,
          372.66928935050964,
          372.7676477432251,
          372.8702368736267,
          372.9683094024658,
          373.06783747673035,
          373.1671121120453,
          373.26922821998596,
          373.36808013916016,
          373.46855306625366,
          373.5675835609436,
          373.66880536079407,
          373.76876640319824,
          373.8698561191559,
          373.97192335128784,
          374.0674250125885,
          374.16755986213684,
          374.2683062553406,
          374.3683798313141,
          374.46939849853516,
          374.56834268569946,
          374.66983461380005,
          374.7691607475281,
          374.8697361946106,
          374.9699294567108,
          375.06860613822937,
          375.16787028312683,
          375.26893734931946,
          375.3684616088867,
          375.46800565719604,
          375.572505235672,
          375.66814947128296,
          375.77130460739136,
          375.86928486824036,
          375.9735300540924,
          376.0717408657074,
          376.1719069480896,
          376.27218413352966,
          376.37700939178467,
          376.4729585647583,
          376.568984746933,
          376.6694688796997,
          376.7690782546997,
          376.8701825141907,
          376.96993613243103,
          377.06991147994995,
          377.17006039619446,
          377.2700288295746,
          377.369996547699,
          377.47222781181335,
          377.57026195526123,
          377.6698634624481,
          377.77056527137756,
          377.87061953544617,
          377.97315883636475,
          378.07047605514526,
          378.17071175575256,
          378.2701976299286,
          378.37180352211,
          378.4711010456085,
          378.57070755958557,
          378.67058849334717,
          378.77225136756897,
          378.8715682029724,
          378.97123861312866,
          379.0709683895111,
          379.17172718048096,
          379.2713677883148,
          379.37117290496826,
          379.4718773365021,
          379.5713415145874,
          379.6712350845337,
          379.7715103626251,
          379.8717985153198,
          379.97728991508484,
          380.0728027820587,
          380.1717813014984,
          380.27346563339233,
          380.3715305328369,
          380.47183561325073,
          380.5720341205597,
          380.6718740463257,
          380.7727301120758,
          380.87255120277405,
          380.9730746746063,
          381.0756416320801,
          381.17266750335693
         ],
         "y": [
          78.59057551943236,
          78.60520513697134,
          78.67857135755567,
          78.6255172449992,
          78.60964954110729,
          77.81501675964026,
          77.81501675964026,
          78.589804429657,
          78.54792793928301,
          78.7131319886003,
          78.61081323730627,
          78.6298561560929,
          78.62107686605954,
          78.61550256398839,
          78.63020008278741,
          78.64303213712454,
          78.69114577542383,
          77.84540556248541,
          77.80227495247412,
          77.82504839214664,
          76.98265154421196,
          76.92613431804715,
          76.96845387621319,
          76.8904991238367,
          76.9557411240515,
          76.99669248493295,
          76.94842679309671,
          76.97022165761375,
          76.92760969923165,
          76.9361376821527,
          76.9967909849449,
          77.06687428742377,
          77.04467124662962,
          77.88370216873501,
          77.80815462066582,
          77.78437569063443,
          77.83596042155244,
          76.98076358791525,
          76.98763822334749,
          76.93157643217313,
          77.02115349601299,
          77.90807414700737,
          77.81560810545349,
          77.89076727801329,
          77.05864014982421,
          77.04579940070866,
          77.87769520582209,
          77.80322464137649,
          77.82516839935691,
          77.81000538626787,
          76.97078209110907,
          77.80833949737791,
          77.83233623942718,
          77.01395172793828,
          76.99439395149848,
          77.01037979714903,
          77.81596382044489,
          78.66342308810269,
          78.684981481584,
          78.61589303041,
          78.60200930254881,
          77.80656740203477,
          77.78463157170454,
          78.6548492273598,
          77.81460864526402,
          78.65541227374868,
          77.79378836813248,
          77.80377579175806,
          78.70606309452461,
          77.82265745996898,
          78.7105849785726,
          79.97306648899206,
          79.97306648899206,
          79.612391891846,
          78.09951041642638,
          75.90858323246917,
          75.21085442057965,
          73.22268742536264,
          73.36547152986576,
          72.092931971463,
          71.086999347889,
          71.086999347889,
          70.18578289926482,
          67.96817106397485,
          66.91598880910571,
          66.77192594771275,
          66.77192594771275,
          65.82203360794989,
          66.80388079960379,
          69.71127670137247,
          69.71127670137247,
          70.241871685712,
          70.241871685712,
          68.97198449790542,
          67.25714071244451,
          67.25714071244451,
          66.73250132566311,
          68.18240462254892,
          68.38686679259068,
          69.10127079704775,
          70.10974344038492,
          69.54674306500758,
          69.06605076009086,
          69.33990869349209,
          69.09181396434792,
          68.37195326868463,
          67.62364341996086,
          70.19314070771314,
          75.86059219001686,
          75.37771832540218,
          69.87288976517848,
          68.94067392760162,
          68.92294243440084,
          68.92736521048218,
          68.27776229783649,
          68.65864483107246,
          68.65864483107246,
          69.02588765808385,
          69.63212515897703,
          69.56214834301534,
          69.49396680650352,
          69.51992684374463,
          69.45349841453323,
          68.95060200977308,
          67.5764630514907,
          65.81071501094304,
          66.07037782379571,
          67.56522598400154,
          68.72130821303313,
          68.72810235224364,
          68.70273023239574,
          68.74240319873269,
          68.5584664055126,
          69.22181707211993,
          71.46074495751265,
          108.98493349576461,
          109.77254044478202,
          110.00094078844785,
          110.00094078844785,
          73.9093603620126,
          71.86318237174177,
          71.1101131479553,
          71.1101131479553,
          70.70491608857868,
          70.70591122591432,
          71.63146365409509,
          72.97734190337783,
          72.97734190337783,
          74.04512561183302,
          73.50752463063358,
          73.50752463063358,
          72.37199961381765,
          72.9886314503548,
          72.9886314503548,
          74.19493614416808,
          75.50495140308001,
          75.50495140308001,
          75.54777312892571,
          76.65256258223165,
          76.49055019074376,
          76.40587815933726,
          75.64468831237266,
          74.40208192031639,
          75.2438244375482,
          75.35502357216927,
          75.3749966105233,
          75.29374743413064
         ]
        }
       ],
       "layout": {
        "autosize": false,
        "font": {
         "color": "black",
         "family": "Courier New, monospace",
         "size": 22
        },
        "height": 600,
        "template": {
         "data": {
          "bar": [
           {
            "error_x": {
             "color": "#2a3f5f"
            },
            "error_y": {
             "color": "#2a3f5f"
            },
            "marker": {
             "line": {
              "color": "#E5ECF6",
              "width": 0.5
             },
             "pattern": {
              "fillmode": "overlay",
              "size": 10,
              "solidity": 0.2
             }
            },
            "type": "bar"
           }
          ],
          "barpolar": [
           {
            "marker": {
             "line": {
              "color": "#E5ECF6",
              "width": 0.5
             },
             "pattern": {
              "fillmode": "overlay",
              "size": 10,
              "solidity": 0.2
             }
            },
            "type": "barpolar"
           }
          ],
          "carpet": [
           {
            "aaxis": {
             "endlinecolor": "#2a3f5f",
             "gridcolor": "white",
             "linecolor": "white",
             "minorgridcolor": "white",
             "startlinecolor": "#2a3f5f"
            },
            "baxis": {
             "endlinecolor": "#2a3f5f",
             "gridcolor": "white",
             "linecolor": "white",
             "minorgridcolor": "white",
             "startlinecolor": "#2a3f5f"
            },
            "type": "carpet"
           }
          ],
          "choropleth": [
           {
            "colorbar": {
             "outlinewidth": 0,
             "ticks": ""
            },
            "type": "choropleth"
           }
          ],
          "contour": [
           {
            "colorbar": {
             "outlinewidth": 0,
             "ticks": ""
            },
            "colorscale": [
             [
              0,
              "#0d0887"
             ],
             [
              0.1111111111111111,
              "#46039f"
             ],
             [
              0.2222222222222222,
              "#7201a8"
             ],
             [
              0.3333333333333333,
              "#9c179e"
             ],
             [
              0.4444444444444444,
              "#bd3786"
             ],
             [
              0.5555555555555556,
              "#d8576b"
             ],
             [
              0.6666666666666666,
              "#ed7953"
             ],
             [
              0.7777777777777778,
              "#fb9f3a"
             ],
             [
              0.8888888888888888,
              "#fdca26"
             ],
             [
              1,
              "#f0f921"
             ]
            ],
            "type": "contour"
           }
          ],
          "contourcarpet": [
           {
            "colorbar": {
             "outlinewidth": 0,
             "ticks": ""
            },
            "type": "contourcarpet"
           }
          ],
          "heatmap": [
           {
            "colorbar": {
             "outlinewidth": 0,
             "ticks": ""
            },
            "colorscale": [
             [
              0,
              "#0d0887"
             ],
             [
              0.1111111111111111,
              "#46039f"
             ],
             [
              0.2222222222222222,
              "#7201a8"
             ],
             [
              0.3333333333333333,
              "#9c179e"
             ],
             [
              0.4444444444444444,
              "#bd3786"
             ],
             [
              0.5555555555555556,
              "#d8576b"
             ],
             [
              0.6666666666666666,
              "#ed7953"
             ],
             [
              0.7777777777777778,
              "#fb9f3a"
             ],
             [
              0.8888888888888888,
              "#fdca26"
             ],
             [
              1,
              "#f0f921"
             ]
            ],
            "type": "heatmap"
           }
          ],
          "heatmapgl": [
           {
            "colorbar": {
             "outlinewidth": 0,
             "ticks": ""
            },
            "colorscale": [
             [
              0,
              "#0d0887"
             ],
             [
              0.1111111111111111,
              "#46039f"
             ],
             [
              0.2222222222222222,
              "#7201a8"
             ],
             [
              0.3333333333333333,
              "#9c179e"
             ],
             [
              0.4444444444444444,
              "#bd3786"
             ],
             [
              0.5555555555555556,
              "#d8576b"
             ],
             [
              0.6666666666666666,
              "#ed7953"
             ],
             [
              0.7777777777777778,
              "#fb9f3a"
             ],
             [
              0.8888888888888888,
              "#fdca26"
             ],
             [
              1,
              "#f0f921"
             ]
            ],
            "type": "heatmapgl"
           }
          ],
          "histogram": [
           {
            "marker": {
             "pattern": {
              "fillmode": "overlay",
              "size": 10,
              "solidity": 0.2
             }
            },
            "type": "histogram"
           }
          ],
          "histogram2d": [
           {
            "colorbar": {
             "outlinewidth": 0,
             "ticks": ""
            },
            "colorscale": [
             [
              0,
              "#0d0887"
             ],
             [
              0.1111111111111111,
              "#46039f"
             ],
             [
              0.2222222222222222,
              "#7201a8"
             ],
             [
              0.3333333333333333,
              "#9c179e"
             ],
             [
              0.4444444444444444,
              "#bd3786"
             ],
             [
              0.5555555555555556,
              "#d8576b"
             ],
             [
              0.6666666666666666,
              "#ed7953"
             ],
             [
              0.7777777777777778,
              "#fb9f3a"
             ],
             [
              0.8888888888888888,
              "#fdca26"
             ],
             [
              1,
              "#f0f921"
             ]
            ],
            "type": "histogram2d"
           }
          ],
          "histogram2dcontour": [
           {
            "colorbar": {
             "outlinewidth": 0,
             "ticks": ""
            },
            "colorscale": [
             [
              0,
              "#0d0887"
             ],
             [
              0.1111111111111111,
              "#46039f"
             ],
             [
              0.2222222222222222,
              "#7201a8"
             ],
             [
              0.3333333333333333,
              "#9c179e"
             ],
             [
              0.4444444444444444,
              "#bd3786"
             ],
             [
              0.5555555555555556,
              "#d8576b"
             ],
             [
              0.6666666666666666,
              "#ed7953"
             ],
             [
              0.7777777777777778,
              "#fb9f3a"
             ],
             [
              0.8888888888888888,
              "#fdca26"
             ],
             [
              1,
              "#f0f921"
             ]
            ],
            "type": "histogram2dcontour"
           }
          ],
          "mesh3d": [
           {
            "colorbar": {
             "outlinewidth": 0,
             "ticks": ""
            },
            "type": "mesh3d"
           }
          ],
          "parcoords": [
           {
            "line": {
             "colorbar": {
              "outlinewidth": 0,
              "ticks": ""
             }
            },
            "type": "parcoords"
           }
          ],
          "pie": [
           {
            "automargin": true,
            "type": "pie"
           }
          ],
          "scatter": [
           {
            "fillpattern": {
             "fillmode": "overlay",
             "size": 10,
             "solidity": 0.2
            },
            "type": "scatter"
           }
          ],
          "scatter3d": [
           {
            "line": {
             "colorbar": {
              "outlinewidth": 0,
              "ticks": ""
             }
            },
            "marker": {
             "colorbar": {
              "outlinewidth": 0,
              "ticks": ""
             }
            },
            "type": "scatter3d"
           }
          ],
          "scattercarpet": [
           {
            "marker": {
             "colorbar": {
              "outlinewidth": 0,
              "ticks": ""
             }
            },
            "type": "scattercarpet"
           }
          ],
          "scattergeo": [
           {
            "marker": {
             "colorbar": {
              "outlinewidth": 0,
              "ticks": ""
             }
            },
            "type": "scattergeo"
           }
          ],
          "scattergl": [
           {
            "marker": {
             "colorbar": {
              "outlinewidth": 0,
              "ticks": ""
             }
            },
            "type": "scattergl"
           }
          ],
          "scattermapbox": [
           {
            "marker": {
             "colorbar": {
              "outlinewidth": 0,
              "ticks": ""
             }
            },
            "type": "scattermapbox"
           }
          ],
          "scatterpolar": [
           {
            "marker": {
             "colorbar": {
              "outlinewidth": 0,
              "ticks": ""
             }
            },
            "type": "scatterpolar"
           }
          ],
          "scatterpolargl": [
           {
            "marker": {
             "colorbar": {
              "outlinewidth": 0,
              "ticks": ""
             }
            },
            "type": "scatterpolargl"
           }
          ],
          "scatterternary": [
           {
            "marker": {
             "colorbar": {
              "outlinewidth": 0,
              "ticks": ""
             }
            },
            "type": "scatterternary"
           }
          ],
          "surface": [
           {
            "colorbar": {
             "outlinewidth": 0,
             "ticks": ""
            },
            "colorscale": [
             [
              0,
              "#0d0887"
             ],
             [
              0.1111111111111111,
              "#46039f"
             ],
             [
              0.2222222222222222,
              "#7201a8"
             ],
             [
              0.3333333333333333,
              "#9c179e"
             ],
             [
              0.4444444444444444,
              "#bd3786"
             ],
             [
              0.5555555555555556,
              "#d8576b"
             ],
             [
              0.6666666666666666,
              "#ed7953"
             ],
             [
              0.7777777777777778,
              "#fb9f3a"
             ],
             [
              0.8888888888888888,
              "#fdca26"
             ],
             [
              1,
              "#f0f921"
             ]
            ],
            "type": "surface"
           }
          ],
          "table": [
           {
            "cells": {
             "fill": {
              "color": "#EBF0F8"
             },
             "line": {
              "color": "white"
             }
            },
            "header": {
             "fill": {
              "color": "#C8D4E3"
             },
             "line": {
              "color": "white"
             }
            },
            "type": "table"
           }
          ]
         },
         "layout": {
          "annotationdefaults": {
           "arrowcolor": "#2a3f5f",
           "arrowhead": 0,
           "arrowwidth": 1
          },
          "autotypenumbers": "strict",
          "coloraxis": {
           "colorbar": {
            "outlinewidth": 0,
            "ticks": ""
           }
          },
          "colorscale": {
           "diverging": [
            [
             0,
             "#8e0152"
            ],
            [
             0.1,
             "#c51b7d"
            ],
            [
             0.2,
             "#de77ae"
            ],
            [
             0.3,
             "#f1b6da"
            ],
            [
             0.4,
             "#fde0ef"
            ],
            [
             0.5,
             "#f7f7f7"
            ],
            [
             0.6,
             "#e6f5d0"
            ],
            [
             0.7,
             "#b8e186"
            ],
            [
             0.8,
             "#7fbc41"
            ],
            [
             0.9,
             "#4d9221"
            ],
            [
             1,
             "#276419"
            ]
           ],
           "sequential": [
            [
             0,
             "#0d0887"
            ],
            [
             0.1111111111111111,
             "#46039f"
            ],
            [
             0.2222222222222222,
             "#7201a8"
            ],
            [
             0.3333333333333333,
             "#9c179e"
            ],
            [
             0.4444444444444444,
             "#bd3786"
            ],
            [
             0.5555555555555556,
             "#d8576b"
            ],
            [
             0.6666666666666666,
             "#ed7953"
            ],
            [
             0.7777777777777778,
             "#fb9f3a"
            ],
            [
             0.8888888888888888,
             "#fdca26"
            ],
            [
             1,
             "#f0f921"
            ]
           ],
           "sequentialminus": [
            [
             0,
             "#0d0887"
            ],
            [
             0.1111111111111111,
             "#46039f"
            ],
            [
             0.2222222222222222,
             "#7201a8"
            ],
            [
             0.3333333333333333,
             "#9c179e"
            ],
            [
             0.4444444444444444,
             "#bd3786"
            ],
            [
             0.5555555555555556,
             "#d8576b"
            ],
            [
             0.6666666666666666,
             "#ed7953"
            ],
            [
             0.7777777777777778,
             "#fb9f3a"
            ],
            [
             0.8888888888888888,
             "#fdca26"
            ],
            [
             1,
             "#f0f921"
            ]
           ]
          },
          "colorway": [
           "#636efa",
           "#EF553B",
           "#00cc96",
           "#ab63fa",
           "#FFA15A",
           "#19d3f3",
           "#FF6692",
           "#B6E880",
           "#FF97FF",
           "#FECB52"
          ],
          "font": {
           "color": "#2a3f5f"
          },
          "geo": {
           "bgcolor": "white",
           "lakecolor": "white",
           "landcolor": "#E5ECF6",
           "showlakes": true,
           "showland": true,
           "subunitcolor": "white"
          },
          "hoverlabel": {
           "align": "left"
          },
          "hovermode": "closest",
          "mapbox": {
           "style": "light"
          },
          "paper_bgcolor": "white",
          "plot_bgcolor": "#E5ECF6",
          "polar": {
           "angularaxis": {
            "gridcolor": "white",
            "linecolor": "white",
            "ticks": ""
           },
           "bgcolor": "#E5ECF6",
           "radialaxis": {
            "gridcolor": "white",
            "linecolor": "white",
            "ticks": ""
           }
          },
          "scene": {
           "xaxis": {
            "backgroundcolor": "#E5ECF6",
            "gridcolor": "white",
            "gridwidth": 2,
            "linecolor": "white",
            "showbackground": true,
            "ticks": "",
            "zerolinecolor": "white"
           },
           "yaxis": {
            "backgroundcolor": "#E5ECF6",
            "gridcolor": "white",
            "gridwidth": 2,
            "linecolor": "white",
            "showbackground": true,
            "ticks": "",
            "zerolinecolor": "white"
           },
           "zaxis": {
            "backgroundcolor": "#E5ECF6",
            "gridcolor": "white",
            "gridwidth": 2,
            "linecolor": "white",
            "showbackground": true,
            "ticks": "",
            "zerolinecolor": "white"
           }
          },
          "shapedefaults": {
           "line": {
            "color": "#2a3f5f"
           }
          },
          "ternary": {
           "aaxis": {
            "gridcolor": "white",
            "linecolor": "white",
            "ticks": ""
           },
           "baxis": {
            "gridcolor": "white",
            "linecolor": "white",
            "ticks": ""
           },
           "bgcolor": "#E5ECF6",
           "caxis": {
            "gridcolor": "white",
            "linecolor": "white",
            "ticks": ""
           }
          },
          "title": {
           "x": 0.05
          },
          "xaxis": {
           "automargin": true,
           "gridcolor": "white",
           "linecolor": "white",
           "ticks": "",
           "title": {
            "standoff": 15
           },
           "zerolinecolor": "white",
           "zerolinewidth": 2
          },
          "yaxis": {
           "automargin": true,
           "gridcolor": "white",
           "linecolor": "white",
           "ticks": "",
           "title": {
            "standoff": 15
           },
           "zerolinecolor": "white",
           "zerolinewidth": 2
          }
         }
        },
        "title": {
         "text": "Range of Motion kneeRight"
        },
        "width": 750,
        "xaxis": {
         "title": {
          "font": {
           "color": "#7f7f7f",
           "family": "Courier New, monospace",
           "size": 18
          },
          "text": "time [s]"
         }
        },
        "yaxis": {
         "title": {
          "font": {
           "color": "#7f7f7f",
           "family": "Courier New, monospace",
           "size": 18
          },
          "text": "ROM [gradi]"
         }
        }
       }
      },
      "text/html": [
       "<div>                            <div id=\"2761a964-278e-4fa5-9df6-f3141fa9e4ae\" class=\"plotly-graph-div\" style=\"height:600px; width:750px;\"></div>            <script type=\"text/javascript\">                require([\"plotly\"], function(Plotly) {                    window.PLOTLYENV=window.PLOTLYENV || {};                                    if (document.getElementById(\"2761a964-278e-4fa5-9df6-f3141fa9e4ae\")) {                    Plotly.newPlot(                        \"2761a964-278e-4fa5-9df6-f3141fa9e4ae\",                        [{\"line\":{\"color\":\"blue\",\"width\":3},\"mode\":\"lines\",\"name\":\"Andamento Reale\",\"x\":[364.45887899398804,364.5586404800415,364.6589159965515,364.7593548297882,364.8601448535919,364.96894550323486,365.0596868991852,365.1594166755676,365.25956082344055,365.3596260547638,365.4601356983185,365.55979108810425,365.6599338054657,365.760290145874,365.8600797653198,365.9602725505829,366.0603938102722,366.16379594802856,366.2636842727661,366.3638548851013,366.4605884552002,366.5609917640686,366.6607811450958,366.7835304737091,366.86488342285156,366.96648716926575,367.0610132217407,367.1611726284027,367.26143312454224,367.36129570007324,367.46194195747375,367.5621943473816,367.6617558002472,367.76181387901306,367.8632423877716,367.9623694419861,368.0634768009186,368.16354393959045,368.26345467567444,368.3634202480316,368.4639570713043,368.56341767311096,368.66284465789795,368.76342129707336,368.8643660545349,368.96563172340393,369.06455993652344,369.16477060317993,369.26576590538025,369.3649263381958,369.46443724632263,369.564484834671,369.6652081012726,369.7659890651703,369.86567997932434,369.9659514427185,370.0671544075012,370.1666123867035,370.266783952713,370.36477303504944,370.4668548107147,370.565545797348,370.6652846336365,370.7655713558197,370.8653576374054,370.96653938293457,371.0674316883087,371.1659688949585,371.26658487319946,371.3692162036896,371.46680188179016,371.56940364837646,371.66719913482666,371.7668056488037,371.86815881729126,371.9680743217468,372.0671577453613,372.1683523654938,372.2659475803375,372.3691494464874,372.46960973739624,372.5661597251892,372.66928935050964,372.7676477432251,372.8702368736267,372.9683094024658,373.06783747673035,373.1671121120453,373.26922821998596,373.36808013916016,373.46855306625366,373.5675835609436,373.66880536079407,373.76876640319824,373.8698561191559,373.97192335128784,374.0674250125885,374.16755986213684,374.2683062553406,374.3683798313141,374.46939849853516,374.56834268569946,374.66983461380005,374.7691607475281,374.8697361946106,374.9699294567108,375.06860613822937,375.16787028312683,375.26893734931946,375.3684616088867,375.46800565719604,375.572505235672,375.66814947128296,375.77130460739136,375.86928486824036,375.9735300540924,376.0717408657074,376.1719069480896,376.27218413352966,376.37700939178467,376.4729585647583,376.568984746933,376.6694688796997,376.7690782546997,376.8701825141907,376.96993613243103,377.06991147994995,377.17006039619446,377.2700288295746,377.369996547699,377.47222781181335,377.57026195526123,377.6698634624481,377.77056527137756,377.87061953544617,377.97315883636475,378.07047605514526,378.17071175575256,378.2701976299286,378.37180352211,378.4711010456085,378.57070755958557,378.67058849334717,378.77225136756897,378.8715682029724,378.97123861312866,379.0709683895111,379.17172718048096,379.2713677883148,379.37117290496826,379.4718773365021,379.5713415145874,379.6712350845337,379.7715103626251,379.8717985153198,379.97728991508484,380.0728027820587,380.1717813014984,380.27346563339233,380.3715305328369,380.47183561325073,380.5720341205597,380.6718740463257,380.7727301120758,380.87255120277405,380.9730746746063,381.0756416320801,381.17266750335693],\"y\":[78.59057551943236,78.60520513697134,78.67857135755567,78.6255172449992,78.60964954110729,77.81501675964026,77.81501675964026,78.589804429657,78.54792793928301,78.7131319886003,78.61081323730627,78.6298561560929,78.62107686605954,78.61550256398839,78.63020008278741,78.64303213712454,78.69114577542383,77.84540556248541,77.80227495247412,77.82504839214664,76.98265154421196,76.92613431804715,76.96845387621319,76.8904991238367,76.9557411240515,76.99669248493295,76.94842679309671,76.97022165761375,76.92760969923165,76.9361376821527,76.9967909849449,77.06687428742377,77.04467124662962,77.88370216873501,77.80815462066582,77.78437569063443,77.83596042155244,76.98076358791525,76.98763822334749,76.93157643217313,77.02115349601299,77.90807414700737,77.81560810545349,77.89076727801329,77.05864014982421,77.04579940070866,77.87769520582209,77.80322464137649,77.82516839935691,77.81000538626787,76.97078209110907,77.80833949737791,77.83233623942718,77.01395172793828,76.99439395149848,77.01037979714903,77.81596382044489,78.66342308810269,78.684981481584,78.61589303041,78.60200930254881,77.80656740203477,77.78463157170454,78.6548492273598,77.81460864526402,78.65541227374868,77.79378836813248,77.80377579175806,78.70606309452461,77.82265745996898,78.7105849785726,79.97306648899206,79.97306648899206,79.612391891846,78.09951041642638,75.90858323246917,75.21085442057965,73.22268742536264,73.36547152986576,72.092931971463,71.086999347889,71.086999347889,70.18578289926482,67.96817106397485,66.91598880910571,66.77192594771275,66.77192594771275,65.82203360794989,66.80388079960379,69.71127670137247,69.71127670137247,70.241871685712,70.241871685712,68.97198449790542,67.25714071244451,67.25714071244451,66.73250132566311,68.18240462254892,68.38686679259068,69.10127079704775,70.10974344038492,69.54674306500758,69.06605076009086,69.33990869349209,69.09181396434792,68.37195326868463,67.62364341996086,70.19314070771314,75.86059219001686,75.37771832540218,69.87288976517848,68.94067392760162,68.92294243440084,68.92736521048218,68.27776229783649,68.65864483107246,68.65864483107246,69.02588765808385,69.63212515897703,69.56214834301534,69.49396680650352,69.51992684374463,69.45349841453323,68.95060200977308,67.5764630514907,65.81071501094304,66.07037782379571,67.56522598400154,68.72130821303313,68.72810235224364,68.70273023239574,68.74240319873269,68.5584664055126,69.22181707211993,71.46074495751265,108.98493349576461,109.77254044478202,110.00094078844785,110.00094078844785,73.9093603620126,71.86318237174177,71.1101131479553,71.1101131479553,70.70491608857868,70.70591122591432,71.63146365409509,72.97734190337783,72.97734190337783,74.04512561183302,73.50752463063358,73.50752463063358,72.37199961381765,72.9886314503548,72.9886314503548,74.19493614416808,75.50495140308001,75.50495140308001,75.54777312892571,76.65256258223165,76.49055019074376,76.40587815933726,75.64468831237266,74.40208192031639,75.2438244375482,75.35502357216927,75.3749966105233,75.29374743413064],\"type\":\"scatter\"}],                        {\"autosize\":false,\"font\":{\"color\":\"black\",\"family\":\"Courier New, monospace\",\"size\":22},\"height\":600,\"template\":{\"data\":{\"barpolar\":[{\"marker\":{\"line\":{\"color\":\"#E5ECF6\",\"width\":0.5},\"pattern\":{\"fillmode\":\"overlay\",\"size\":10,\"solidity\":0.2}},\"type\":\"barpolar\"}],\"bar\":[{\"error_x\":{\"color\":\"#2a3f5f\"},\"error_y\":{\"color\":\"#2a3f5f\"},\"marker\":{\"line\":{\"color\":\"#E5ECF6\",\"width\":0.5},\"pattern\":{\"fillmode\":\"overlay\",\"size\":10,\"solidity\":0.2}},\"type\":\"bar\"}],\"carpet\":[{\"aaxis\":{\"endlinecolor\":\"#2a3f5f\",\"gridcolor\":\"white\",\"linecolor\":\"white\",\"minorgridcolor\":\"white\",\"startlinecolor\":\"#2a3f5f\"},\"baxis\":{\"endlinecolor\":\"#2a3f5f\",\"gridcolor\":\"white\",\"linecolor\":\"white\",\"minorgridcolor\":\"white\",\"startlinecolor\":\"#2a3f5f\"},\"type\":\"carpet\"}],\"choropleth\":[{\"colorbar\":{\"outlinewidth\":0,\"ticks\":\"\"},\"type\":\"choropleth\"}],\"contourcarpet\":[{\"colorbar\":{\"outlinewidth\":0,\"ticks\":\"\"},\"type\":\"contourcarpet\"}],\"contour\":[{\"colorbar\":{\"outlinewidth\":0,\"ticks\":\"\"},\"colorscale\":[[0.0,\"#0d0887\"],[0.1111111111111111,\"#46039f\"],[0.2222222222222222,\"#7201a8\"],[0.3333333333333333,\"#9c179e\"],[0.4444444444444444,\"#bd3786\"],[0.5555555555555556,\"#d8576b\"],[0.6666666666666666,\"#ed7953\"],[0.7777777777777778,\"#fb9f3a\"],[0.8888888888888888,\"#fdca26\"],[1.0,\"#f0f921\"]],\"type\":\"contour\"}],\"heatmapgl\":[{\"colorbar\":{\"outlinewidth\":0,\"ticks\":\"\"},\"colorscale\":[[0.0,\"#0d0887\"],[0.1111111111111111,\"#46039f\"],[0.2222222222222222,\"#7201a8\"],[0.3333333333333333,\"#9c179e\"],[0.4444444444444444,\"#bd3786\"],[0.5555555555555556,\"#d8576b\"],[0.6666666666666666,\"#ed7953\"],[0.7777777777777778,\"#fb9f3a\"],[0.8888888888888888,\"#fdca26\"],[1.0,\"#f0f921\"]],\"type\":\"heatmapgl\"}],\"heatmap\":[{\"colorbar\":{\"outlinewidth\":0,\"ticks\":\"\"},\"colorscale\":[[0.0,\"#0d0887\"],[0.1111111111111111,\"#46039f\"],[0.2222222222222222,\"#7201a8\"],[0.3333333333333333,\"#9c179e\"],[0.4444444444444444,\"#bd3786\"],[0.5555555555555556,\"#d8576b\"],[0.6666666666666666,\"#ed7953\"],[0.7777777777777778,\"#fb9f3a\"],[0.8888888888888888,\"#fdca26\"],[1.0,\"#f0f921\"]],\"type\":\"heatmap\"}],\"histogram2dcontour\":[{\"colorbar\":{\"outlinewidth\":0,\"ticks\":\"\"},\"colorscale\":[[0.0,\"#0d0887\"],[0.1111111111111111,\"#46039f\"],[0.2222222222222222,\"#7201a8\"],[0.3333333333333333,\"#9c179e\"],[0.4444444444444444,\"#bd3786\"],[0.5555555555555556,\"#d8576b\"],[0.6666666666666666,\"#ed7953\"],[0.7777777777777778,\"#fb9f3a\"],[0.8888888888888888,\"#fdca26\"],[1.0,\"#f0f921\"]],\"type\":\"histogram2dcontour\"}],\"histogram2d\":[{\"colorbar\":{\"outlinewidth\":0,\"ticks\":\"\"},\"colorscale\":[[0.0,\"#0d0887\"],[0.1111111111111111,\"#46039f\"],[0.2222222222222222,\"#7201a8\"],[0.3333333333333333,\"#9c179e\"],[0.4444444444444444,\"#bd3786\"],[0.5555555555555556,\"#d8576b\"],[0.6666666666666666,\"#ed7953\"],[0.7777777777777778,\"#fb9f3a\"],[0.8888888888888888,\"#fdca26\"],[1.0,\"#f0f921\"]],\"type\":\"histogram2d\"}],\"histogram\":[{\"marker\":{\"pattern\":{\"fillmode\":\"overlay\",\"size\":10,\"solidity\":0.2}},\"type\":\"histogram\"}],\"mesh3d\":[{\"colorbar\":{\"outlinewidth\":0,\"ticks\":\"\"},\"type\":\"mesh3d\"}],\"parcoords\":[{\"line\":{\"colorbar\":{\"outlinewidth\":0,\"ticks\":\"\"}},\"type\":\"parcoords\"}],\"pie\":[{\"automargin\":true,\"type\":\"pie\"}],\"scatter3d\":[{\"line\":{\"colorbar\":{\"outlinewidth\":0,\"ticks\":\"\"}},\"marker\":{\"colorbar\":{\"outlinewidth\":0,\"ticks\":\"\"}},\"type\":\"scatter3d\"}],\"scattercarpet\":[{\"marker\":{\"colorbar\":{\"outlinewidth\":0,\"ticks\":\"\"}},\"type\":\"scattercarpet\"}],\"scattergeo\":[{\"marker\":{\"colorbar\":{\"outlinewidth\":0,\"ticks\":\"\"}},\"type\":\"scattergeo\"}],\"scattergl\":[{\"marker\":{\"colorbar\":{\"outlinewidth\":0,\"ticks\":\"\"}},\"type\":\"scattergl\"}],\"scattermapbox\":[{\"marker\":{\"colorbar\":{\"outlinewidth\":0,\"ticks\":\"\"}},\"type\":\"scattermapbox\"}],\"scatterpolargl\":[{\"marker\":{\"colorbar\":{\"outlinewidth\":0,\"ticks\":\"\"}},\"type\":\"scatterpolargl\"}],\"scatterpolar\":[{\"marker\":{\"colorbar\":{\"outlinewidth\":0,\"ticks\":\"\"}},\"type\":\"scatterpolar\"}],\"scatter\":[{\"fillpattern\":{\"fillmode\":\"overlay\",\"size\":10,\"solidity\":0.2},\"type\":\"scatter\"}],\"scatterternary\":[{\"marker\":{\"colorbar\":{\"outlinewidth\":0,\"ticks\":\"\"}},\"type\":\"scatterternary\"}],\"surface\":[{\"colorbar\":{\"outlinewidth\":0,\"ticks\":\"\"},\"colorscale\":[[0.0,\"#0d0887\"],[0.1111111111111111,\"#46039f\"],[0.2222222222222222,\"#7201a8\"],[0.3333333333333333,\"#9c179e\"],[0.4444444444444444,\"#bd3786\"],[0.5555555555555556,\"#d8576b\"],[0.6666666666666666,\"#ed7953\"],[0.7777777777777778,\"#fb9f3a\"],[0.8888888888888888,\"#fdca26\"],[1.0,\"#f0f921\"]],\"type\":\"surface\"}],\"table\":[{\"cells\":{\"fill\":{\"color\":\"#EBF0F8\"},\"line\":{\"color\":\"white\"}},\"header\":{\"fill\":{\"color\":\"#C8D4E3\"},\"line\":{\"color\":\"white\"}},\"type\":\"table\"}]},\"layout\":{\"annotationdefaults\":{\"arrowcolor\":\"#2a3f5f\",\"arrowhead\":0,\"arrowwidth\":1},\"autotypenumbers\":\"strict\",\"coloraxis\":{\"colorbar\":{\"outlinewidth\":0,\"ticks\":\"\"}},\"colorscale\":{\"diverging\":[[0,\"#8e0152\"],[0.1,\"#c51b7d\"],[0.2,\"#de77ae\"],[0.3,\"#f1b6da\"],[0.4,\"#fde0ef\"],[0.5,\"#f7f7f7\"],[0.6,\"#e6f5d0\"],[0.7,\"#b8e186\"],[0.8,\"#7fbc41\"],[0.9,\"#4d9221\"],[1,\"#276419\"]],\"sequential\":[[0.0,\"#0d0887\"],[0.1111111111111111,\"#46039f\"],[0.2222222222222222,\"#7201a8\"],[0.3333333333333333,\"#9c179e\"],[0.4444444444444444,\"#bd3786\"],[0.5555555555555556,\"#d8576b\"],[0.6666666666666666,\"#ed7953\"],[0.7777777777777778,\"#fb9f3a\"],[0.8888888888888888,\"#fdca26\"],[1.0,\"#f0f921\"]],\"sequentialminus\":[[0.0,\"#0d0887\"],[0.1111111111111111,\"#46039f\"],[0.2222222222222222,\"#7201a8\"],[0.3333333333333333,\"#9c179e\"],[0.4444444444444444,\"#bd3786\"],[0.5555555555555556,\"#d8576b\"],[0.6666666666666666,\"#ed7953\"],[0.7777777777777778,\"#fb9f3a\"],[0.8888888888888888,\"#fdca26\"],[1.0,\"#f0f921\"]]},\"colorway\":[\"#636efa\",\"#EF553B\",\"#00cc96\",\"#ab63fa\",\"#FFA15A\",\"#19d3f3\",\"#FF6692\",\"#B6E880\",\"#FF97FF\",\"#FECB52\"],\"font\":{\"color\":\"#2a3f5f\"},\"geo\":{\"bgcolor\":\"white\",\"lakecolor\":\"white\",\"landcolor\":\"#E5ECF6\",\"showlakes\":true,\"showland\":true,\"subunitcolor\":\"white\"},\"hoverlabel\":{\"align\":\"left\"},\"hovermode\":\"closest\",\"mapbox\":{\"style\":\"light\"},\"paper_bgcolor\":\"white\",\"plot_bgcolor\":\"#E5ECF6\",\"polar\":{\"angularaxis\":{\"gridcolor\":\"white\",\"linecolor\":\"white\",\"ticks\":\"\"},\"bgcolor\":\"#E5ECF6\",\"radialaxis\":{\"gridcolor\":\"white\",\"linecolor\":\"white\",\"ticks\":\"\"}},\"scene\":{\"xaxis\":{\"backgroundcolor\":\"#E5ECF6\",\"gridcolor\":\"white\",\"gridwidth\":2,\"linecolor\":\"white\",\"showbackground\":true,\"ticks\":\"\",\"zerolinecolor\":\"white\"},\"yaxis\":{\"backgroundcolor\":\"#E5ECF6\",\"gridcolor\":\"white\",\"gridwidth\":2,\"linecolor\":\"white\",\"showbackground\":true,\"ticks\":\"\",\"zerolinecolor\":\"white\"},\"zaxis\":{\"backgroundcolor\":\"#E5ECF6\",\"gridcolor\":\"white\",\"gridwidth\":2,\"linecolor\":\"white\",\"showbackground\":true,\"ticks\":\"\",\"zerolinecolor\":\"white\"}},\"shapedefaults\":{\"line\":{\"color\":\"#2a3f5f\"}},\"ternary\":{\"aaxis\":{\"gridcolor\":\"white\",\"linecolor\":\"white\",\"ticks\":\"\"},\"baxis\":{\"gridcolor\":\"white\",\"linecolor\":\"white\",\"ticks\":\"\"},\"bgcolor\":\"#E5ECF6\",\"caxis\":{\"gridcolor\":\"white\",\"linecolor\":\"white\",\"ticks\":\"\"}},\"title\":{\"x\":0.05},\"xaxis\":{\"automargin\":true,\"gridcolor\":\"white\",\"linecolor\":\"white\",\"ticks\":\"\",\"title\":{\"standoff\":15},\"zerolinecolor\":\"white\",\"zerolinewidth\":2},\"yaxis\":{\"automargin\":true,\"gridcolor\":\"white\",\"linecolor\":\"white\",\"ticks\":\"\",\"title\":{\"standoff\":15},\"zerolinecolor\":\"white\",\"zerolinewidth\":2}}},\"title\":{\"text\":\"Range of Motion kneeRight\"},\"width\":750,\"xaxis\":{\"title\":{\"font\":{\"color\":\"#7f7f7f\",\"family\":\"Courier New, monospace\",\"size\":18},\"text\":\"time [s]\"}},\"yaxis\":{\"title\":{\"font\":{\"color\":\"#7f7f7f\",\"family\":\"Courier New, monospace\",\"size\":18},\"text\":\"ROM [gradi]\"}}},                        {\"responsive\": true}                    ).then(function(){\n",
       "                            \n",
       "var gd = document.getElementById('2761a964-278e-4fa5-9df6-f3141fa9e4ae');\n",
       "var x = new MutationObserver(function (mutations, observer) {{\n",
       "        var display = window.getComputedStyle(gd).display;\n",
       "        if (!display || display === 'none') {{\n",
       "            console.log([gd, 'removed!']);\n",
       "            Plotly.purge(gd);\n",
       "            observer.disconnect();\n",
       "        }}\n",
       "}});\n",
       "\n",
       "// Listen for the removal of the full notebook cells\n",
       "var notebookContainer = gd.closest('#notebook-container');\n",
       "if (notebookContainer) {{\n",
       "    x.observe(notebookContainer, {childList: true});\n",
       "}}\n",
       "\n",
       "// Listen for the clearing of the current output cell\n",
       "var outputEl = gd.closest('.output');\n",
       "if (outputEl) {{\n",
       "    x.observe(outputEl, {childList: true});\n",
       "}}\n",
       "\n",
       "                        })                };                });            </script>        </div>"
      ]
     },
     "metadata": {},
     "output_type": "display_data"
    },
    {
     "data": {
      "application/vnd.plotly.v1+json": {
       "config": {
        "linkText": "Export to plot.ly",
        "plotlyServerURL": "https://plot.ly",
        "showLink": false
       },
       "data": [
        {
         "line": {
          "color": "blue",
          "width": 3
         },
         "mode": "lines",
         "name": "Andamento Reale",
         "type": "scatter",
         "x": [
          364.45887899398804,
          364.5586404800415,
          364.6589159965515,
          364.7593548297882,
          364.8601448535919,
          364.96894550323486,
          365.0596868991852,
          365.1594166755676,
          365.25956082344055,
          365.3596260547638,
          365.4601356983185,
          365.55979108810425,
          365.6599338054657,
          365.760290145874,
          365.8600797653198,
          365.9602725505829,
          366.0603938102722,
          366.16379594802856,
          366.2636842727661,
          366.3638548851013,
          366.4605884552002,
          366.5609917640686,
          366.6607811450958,
          366.7835304737091,
          366.86488342285156,
          366.96648716926575,
          367.0610132217407,
          367.1611726284027,
          367.26143312454224,
          367.36129570007324,
          367.46194195747375,
          367.5621943473816,
          367.6617558002472,
          367.76181387901306,
          367.8632423877716,
          367.9623694419861,
          368.0634768009186,
          368.16354393959045,
          368.26345467567444,
          368.3634202480316,
          368.4639570713043,
          368.56341767311096,
          368.66284465789795,
          368.76342129707336,
          368.8643660545349,
          368.96563172340393,
          369.06455993652344,
          369.16477060317993,
          369.26576590538025,
          369.3649263381958,
          369.46443724632263,
          369.564484834671,
          369.6652081012726,
          369.7659890651703,
          369.86567997932434,
          369.9659514427185,
          370.0671544075012,
          370.1666123867035,
          370.266783952713,
          370.36477303504944,
          370.4668548107147,
          370.565545797348,
          370.6652846336365,
          370.7655713558197,
          370.8653576374054,
          370.96653938293457,
          371.0674316883087,
          371.1659688949585,
          371.26658487319946,
          371.3692162036896,
          371.46680188179016,
          371.56940364837646,
          371.66719913482666,
          371.7668056488037,
          371.86815881729126,
          371.9680743217468,
          372.0671577453613,
          372.1683523654938,
          372.2659475803375,
          372.3691494464874,
          372.46960973739624,
          372.5661597251892,
          372.66928935050964,
          372.7676477432251,
          372.8702368736267,
          372.9683094024658,
          373.06783747673035,
          373.1671121120453,
          373.26922821998596,
          373.36808013916016,
          373.46855306625366,
          373.5675835609436,
          373.66880536079407,
          373.76876640319824,
          373.8698561191559,
          373.97192335128784,
          374.0674250125885,
          374.16755986213684,
          374.2683062553406,
          374.3683798313141,
          374.46939849853516,
          374.56834268569946,
          374.66983461380005,
          374.7691607475281,
          374.8697361946106,
          374.9699294567108,
          375.06860613822937,
          375.16787028312683,
          375.26893734931946,
          375.3684616088867,
          375.46800565719604,
          375.572505235672,
          375.66814947128296,
          375.77130460739136,
          375.86928486824036,
          375.9735300540924,
          376.0717408657074,
          376.1719069480896,
          376.27218413352966,
          376.37700939178467,
          376.4729585647583,
          376.568984746933,
          376.6694688796997,
          376.7690782546997,
          376.8701825141907,
          376.96993613243103,
          377.06991147994995,
          377.17006039619446,
          377.2700288295746,
          377.369996547699,
          377.47222781181335,
          377.57026195526123,
          377.6698634624481,
          377.77056527137756,
          377.87061953544617,
          377.97315883636475,
          378.07047605514526,
          378.17071175575256,
          378.2701976299286,
          378.37180352211,
          378.4711010456085,
          378.57070755958557,
          378.67058849334717,
          378.77225136756897,
          378.8715682029724,
          378.97123861312866,
          379.0709683895111,
          379.17172718048096,
          379.2713677883148,
          379.37117290496826,
          379.4718773365021,
          379.5713415145874,
          379.6712350845337,
          379.7715103626251,
          379.8717985153198,
          379.97728991508484,
          380.0728027820587,
          380.1717813014984,
          380.27346563339233,
          380.3715305328369,
          380.47183561325073,
          380.5720341205597,
          380.6718740463257,
          380.7727301120758,
          380.87255120277405,
          380.9730746746063,
          381.0756416320801,
          381.17266750335693
         ],
         "y": [
          90,
          90,
          90,
          90,
          90,
          90,
          90,
          90,
          90,
          90,
          90,
          90,
          90,
          90,
          90,
          90,
          90,
          90,
          90,
          90,
          90,
          90,
          90,
          90,
          90,
          90,
          90,
          90,
          90,
          90,
          90,
          90,
          90,
          90,
          90,
          90,
          90,
          90,
          90,
          90,
          90,
          90,
          90,
          90,
          90,
          90,
          90,
          90,
          90,
          90,
          90,
          90,
          90,
          90,
          90,
          90,
          90,
          90,
          90,
          90,
          90,
          90,
          90,
          90,
          90,
          90,
          90,
          90,
          90,
          90,
          90,
          90,
          90,
          90,
          90,
          90,
          90,
          90,
          90,
          90,
          90,
          90,
          90,
          90,
          90,
          90,
          90,
          90,
          90,
          90,
          90,
          90,
          90,
          90,
          90,
          90,
          90,
          90,
          90,
          90,
          90,
          90,
          90,
          90,
          90,
          90,
          90,
          90,
          90,
          90,
          90,
          90,
          90,
          90,
          90,
          90,
          90,
          90,
          90,
          90,
          90,
          90,
          90,
          90,
          90,
          90,
          90,
          90,
          90,
          90,
          90,
          90,
          90,
          90,
          90,
          90,
          90,
          90,
          90,
          90,
          90,
          90,
          90,
          90,
          90,
          90,
          90,
          90,
          90,
          90,
          90,
          90,
          90,
          90,
          90,
          90,
          90,
          90,
          90,
          90,
          90,
          90,
          90,
          90,
          90,
          90,
          90
         ]
        }
       ],
       "layout": {
        "autosize": false,
        "font": {
         "color": "black",
         "family": "Courier New, monospace",
         "size": 22
        },
        "height": 600,
        "template": {
         "data": {
          "bar": [
           {
            "error_x": {
             "color": "#2a3f5f"
            },
            "error_y": {
             "color": "#2a3f5f"
            },
            "marker": {
             "line": {
              "color": "#E5ECF6",
              "width": 0.5
             },
             "pattern": {
              "fillmode": "overlay",
              "size": 10,
              "solidity": 0.2
             }
            },
            "type": "bar"
           }
          ],
          "barpolar": [
           {
            "marker": {
             "line": {
              "color": "#E5ECF6",
              "width": 0.5
             },
             "pattern": {
              "fillmode": "overlay",
              "size": 10,
              "solidity": 0.2
             }
            },
            "type": "barpolar"
           }
          ],
          "carpet": [
           {
            "aaxis": {
             "endlinecolor": "#2a3f5f",
             "gridcolor": "white",
             "linecolor": "white",
             "minorgridcolor": "white",
             "startlinecolor": "#2a3f5f"
            },
            "baxis": {
             "endlinecolor": "#2a3f5f",
             "gridcolor": "white",
             "linecolor": "white",
             "minorgridcolor": "white",
             "startlinecolor": "#2a3f5f"
            },
            "type": "carpet"
           }
          ],
          "choropleth": [
           {
            "colorbar": {
             "outlinewidth": 0,
             "ticks": ""
            },
            "type": "choropleth"
           }
          ],
          "contour": [
           {
            "colorbar": {
             "outlinewidth": 0,
             "ticks": ""
            },
            "colorscale": [
             [
              0,
              "#0d0887"
             ],
             [
              0.1111111111111111,
              "#46039f"
             ],
             [
              0.2222222222222222,
              "#7201a8"
             ],
             [
              0.3333333333333333,
              "#9c179e"
             ],
             [
              0.4444444444444444,
              "#bd3786"
             ],
             [
              0.5555555555555556,
              "#d8576b"
             ],
             [
              0.6666666666666666,
              "#ed7953"
             ],
             [
              0.7777777777777778,
              "#fb9f3a"
             ],
             [
              0.8888888888888888,
              "#fdca26"
             ],
             [
              1,
              "#f0f921"
             ]
            ],
            "type": "contour"
           }
          ],
          "contourcarpet": [
           {
            "colorbar": {
             "outlinewidth": 0,
             "ticks": ""
            },
            "type": "contourcarpet"
           }
          ],
          "heatmap": [
           {
            "colorbar": {
             "outlinewidth": 0,
             "ticks": ""
            },
            "colorscale": [
             [
              0,
              "#0d0887"
             ],
             [
              0.1111111111111111,
              "#46039f"
             ],
             [
              0.2222222222222222,
              "#7201a8"
             ],
             [
              0.3333333333333333,
              "#9c179e"
             ],
             [
              0.4444444444444444,
              "#bd3786"
             ],
             [
              0.5555555555555556,
              "#d8576b"
             ],
             [
              0.6666666666666666,
              "#ed7953"
             ],
             [
              0.7777777777777778,
              "#fb9f3a"
             ],
             [
              0.8888888888888888,
              "#fdca26"
             ],
             [
              1,
              "#f0f921"
             ]
            ],
            "type": "heatmap"
           }
          ],
          "heatmapgl": [
           {
            "colorbar": {
             "outlinewidth": 0,
             "ticks": ""
            },
            "colorscale": [
             [
              0,
              "#0d0887"
             ],
             [
              0.1111111111111111,
              "#46039f"
             ],
             [
              0.2222222222222222,
              "#7201a8"
             ],
             [
              0.3333333333333333,
              "#9c179e"
             ],
             [
              0.4444444444444444,
              "#bd3786"
             ],
             [
              0.5555555555555556,
              "#d8576b"
             ],
             [
              0.6666666666666666,
              "#ed7953"
             ],
             [
              0.7777777777777778,
              "#fb9f3a"
             ],
             [
              0.8888888888888888,
              "#fdca26"
             ],
             [
              1,
              "#f0f921"
             ]
            ],
            "type": "heatmapgl"
           }
          ],
          "histogram": [
           {
            "marker": {
             "pattern": {
              "fillmode": "overlay",
              "size": 10,
              "solidity": 0.2
             }
            },
            "type": "histogram"
           }
          ],
          "histogram2d": [
           {
            "colorbar": {
             "outlinewidth": 0,
             "ticks": ""
            },
            "colorscale": [
             [
              0,
              "#0d0887"
             ],
             [
              0.1111111111111111,
              "#46039f"
             ],
             [
              0.2222222222222222,
              "#7201a8"
             ],
             [
              0.3333333333333333,
              "#9c179e"
             ],
             [
              0.4444444444444444,
              "#bd3786"
             ],
             [
              0.5555555555555556,
              "#d8576b"
             ],
             [
              0.6666666666666666,
              "#ed7953"
             ],
             [
              0.7777777777777778,
              "#fb9f3a"
             ],
             [
              0.8888888888888888,
              "#fdca26"
             ],
             [
              1,
              "#f0f921"
             ]
            ],
            "type": "histogram2d"
           }
          ],
          "histogram2dcontour": [
           {
            "colorbar": {
             "outlinewidth": 0,
             "ticks": ""
            },
            "colorscale": [
             [
              0,
              "#0d0887"
             ],
             [
              0.1111111111111111,
              "#46039f"
             ],
             [
              0.2222222222222222,
              "#7201a8"
             ],
             [
              0.3333333333333333,
              "#9c179e"
             ],
             [
              0.4444444444444444,
              "#bd3786"
             ],
             [
              0.5555555555555556,
              "#d8576b"
             ],
             [
              0.6666666666666666,
              "#ed7953"
             ],
             [
              0.7777777777777778,
              "#fb9f3a"
             ],
             [
              0.8888888888888888,
              "#fdca26"
             ],
             [
              1,
              "#f0f921"
             ]
            ],
            "type": "histogram2dcontour"
           }
          ],
          "mesh3d": [
           {
            "colorbar": {
             "outlinewidth": 0,
             "ticks": ""
            },
            "type": "mesh3d"
           }
          ],
          "parcoords": [
           {
            "line": {
             "colorbar": {
              "outlinewidth": 0,
              "ticks": ""
             }
            },
            "type": "parcoords"
           }
          ],
          "pie": [
           {
            "automargin": true,
            "type": "pie"
           }
          ],
          "scatter": [
           {
            "fillpattern": {
             "fillmode": "overlay",
             "size": 10,
             "solidity": 0.2
            },
            "type": "scatter"
           }
          ],
          "scatter3d": [
           {
            "line": {
             "colorbar": {
              "outlinewidth": 0,
              "ticks": ""
             }
            },
            "marker": {
             "colorbar": {
              "outlinewidth": 0,
              "ticks": ""
             }
            },
            "type": "scatter3d"
           }
          ],
          "scattercarpet": [
           {
            "marker": {
             "colorbar": {
              "outlinewidth": 0,
              "ticks": ""
             }
            },
            "type": "scattercarpet"
           }
          ],
          "scattergeo": [
           {
            "marker": {
             "colorbar": {
              "outlinewidth": 0,
              "ticks": ""
             }
            },
            "type": "scattergeo"
           }
          ],
          "scattergl": [
           {
            "marker": {
             "colorbar": {
              "outlinewidth": 0,
              "ticks": ""
             }
            },
            "type": "scattergl"
           }
          ],
          "scattermapbox": [
           {
            "marker": {
             "colorbar": {
              "outlinewidth": 0,
              "ticks": ""
             }
            },
            "type": "scattermapbox"
           }
          ],
          "scatterpolar": [
           {
            "marker": {
             "colorbar": {
              "outlinewidth": 0,
              "ticks": ""
             }
            },
            "type": "scatterpolar"
           }
          ],
          "scatterpolargl": [
           {
            "marker": {
             "colorbar": {
              "outlinewidth": 0,
              "ticks": ""
             }
            },
            "type": "scatterpolargl"
           }
          ],
          "scatterternary": [
           {
            "marker": {
             "colorbar": {
              "outlinewidth": 0,
              "ticks": ""
             }
            },
            "type": "scatterternary"
           }
          ],
          "surface": [
           {
            "colorbar": {
             "outlinewidth": 0,
             "ticks": ""
            },
            "colorscale": [
             [
              0,
              "#0d0887"
             ],
             [
              0.1111111111111111,
              "#46039f"
             ],
             [
              0.2222222222222222,
              "#7201a8"
             ],
             [
              0.3333333333333333,
              "#9c179e"
             ],
             [
              0.4444444444444444,
              "#bd3786"
             ],
             [
              0.5555555555555556,
              "#d8576b"
             ],
             [
              0.6666666666666666,
              "#ed7953"
             ],
             [
              0.7777777777777778,
              "#fb9f3a"
             ],
             [
              0.8888888888888888,
              "#fdca26"
             ],
             [
              1,
              "#f0f921"
             ]
            ],
            "type": "surface"
           }
          ],
          "table": [
           {
            "cells": {
             "fill": {
              "color": "#EBF0F8"
             },
             "line": {
              "color": "white"
             }
            },
            "header": {
             "fill": {
              "color": "#C8D4E3"
             },
             "line": {
              "color": "white"
             }
            },
            "type": "table"
           }
          ]
         },
         "layout": {
          "annotationdefaults": {
           "arrowcolor": "#2a3f5f",
           "arrowhead": 0,
           "arrowwidth": 1
          },
          "autotypenumbers": "strict",
          "coloraxis": {
           "colorbar": {
            "outlinewidth": 0,
            "ticks": ""
           }
          },
          "colorscale": {
           "diverging": [
            [
             0,
             "#8e0152"
            ],
            [
             0.1,
             "#c51b7d"
            ],
            [
             0.2,
             "#de77ae"
            ],
            [
             0.3,
             "#f1b6da"
            ],
            [
             0.4,
             "#fde0ef"
            ],
            [
             0.5,
             "#f7f7f7"
            ],
            [
             0.6,
             "#e6f5d0"
            ],
            [
             0.7,
             "#b8e186"
            ],
            [
             0.8,
             "#7fbc41"
            ],
            [
             0.9,
             "#4d9221"
            ],
            [
             1,
             "#276419"
            ]
           ],
           "sequential": [
            [
             0,
             "#0d0887"
            ],
            [
             0.1111111111111111,
             "#46039f"
            ],
            [
             0.2222222222222222,
             "#7201a8"
            ],
            [
             0.3333333333333333,
             "#9c179e"
            ],
            [
             0.4444444444444444,
             "#bd3786"
            ],
            [
             0.5555555555555556,
             "#d8576b"
            ],
            [
             0.6666666666666666,
             "#ed7953"
            ],
            [
             0.7777777777777778,
             "#fb9f3a"
            ],
            [
             0.8888888888888888,
             "#fdca26"
            ],
            [
             1,
             "#f0f921"
            ]
           ],
           "sequentialminus": [
            [
             0,
             "#0d0887"
            ],
            [
             0.1111111111111111,
             "#46039f"
            ],
            [
             0.2222222222222222,
             "#7201a8"
            ],
            [
             0.3333333333333333,
             "#9c179e"
            ],
            [
             0.4444444444444444,
             "#bd3786"
            ],
            [
             0.5555555555555556,
             "#d8576b"
            ],
            [
             0.6666666666666666,
             "#ed7953"
            ],
            [
             0.7777777777777778,
             "#fb9f3a"
            ],
            [
             0.8888888888888888,
             "#fdca26"
            ],
            [
             1,
             "#f0f921"
            ]
           ]
          },
          "colorway": [
           "#636efa",
           "#EF553B",
           "#00cc96",
           "#ab63fa",
           "#FFA15A",
           "#19d3f3",
           "#FF6692",
           "#B6E880",
           "#FF97FF",
           "#FECB52"
          ],
          "font": {
           "color": "#2a3f5f"
          },
          "geo": {
           "bgcolor": "white",
           "lakecolor": "white",
           "landcolor": "#E5ECF6",
           "showlakes": true,
           "showland": true,
           "subunitcolor": "white"
          },
          "hoverlabel": {
           "align": "left"
          },
          "hovermode": "closest",
          "mapbox": {
           "style": "light"
          },
          "paper_bgcolor": "white",
          "plot_bgcolor": "#E5ECF6",
          "polar": {
           "angularaxis": {
            "gridcolor": "white",
            "linecolor": "white",
            "ticks": ""
           },
           "bgcolor": "#E5ECF6",
           "radialaxis": {
            "gridcolor": "white",
            "linecolor": "white",
            "ticks": ""
           }
          },
          "scene": {
           "xaxis": {
            "backgroundcolor": "#E5ECF6",
            "gridcolor": "white",
            "gridwidth": 2,
            "linecolor": "white",
            "showbackground": true,
            "ticks": "",
            "zerolinecolor": "white"
           },
           "yaxis": {
            "backgroundcolor": "#E5ECF6",
            "gridcolor": "white",
            "gridwidth": 2,
            "linecolor": "white",
            "showbackground": true,
            "ticks": "",
            "zerolinecolor": "white"
           },
           "zaxis": {
            "backgroundcolor": "#E5ECF6",
            "gridcolor": "white",
            "gridwidth": 2,
            "linecolor": "white",
            "showbackground": true,
            "ticks": "",
            "zerolinecolor": "white"
           }
          },
          "shapedefaults": {
           "line": {
            "color": "#2a3f5f"
           }
          },
          "ternary": {
           "aaxis": {
            "gridcolor": "white",
            "linecolor": "white",
            "ticks": ""
           },
           "baxis": {
            "gridcolor": "white",
            "linecolor": "white",
            "ticks": ""
           },
           "bgcolor": "#E5ECF6",
           "caxis": {
            "gridcolor": "white",
            "linecolor": "white",
            "ticks": ""
           }
          },
          "title": {
           "x": 0.05
          },
          "xaxis": {
           "automargin": true,
           "gridcolor": "white",
           "linecolor": "white",
           "ticks": "",
           "title": {
            "standoff": 15
           },
           "zerolinecolor": "white",
           "zerolinewidth": 2
          },
          "yaxis": {
           "automargin": true,
           "gridcolor": "white",
           "linecolor": "white",
           "ticks": "",
           "title": {
            "standoff": 15
           },
           "zerolinecolor": "white",
           "zerolinewidth": 2
          }
         }
        },
        "title": {
         "text": "Range of Motion ankleRight"
        },
        "width": 750,
        "xaxis": {
         "title": {
          "font": {
           "color": "#7f7f7f",
           "family": "Courier New, monospace",
           "size": 18
          },
          "text": "time [s]"
         }
        },
        "yaxis": {
         "title": {
          "font": {
           "color": "#7f7f7f",
           "family": "Courier New, monospace",
           "size": 18
          },
          "text": "ROM [gradi]"
         }
        }
       }
      },
      "text/html": [
       "<div>                            <div id=\"cefd0930-e00d-4a04-8f28-eb486124c8ce\" class=\"plotly-graph-div\" style=\"height:600px; width:750px;\"></div>            <script type=\"text/javascript\">                require([\"plotly\"], function(Plotly) {                    window.PLOTLYENV=window.PLOTLYENV || {};                                    if (document.getElementById(\"cefd0930-e00d-4a04-8f28-eb486124c8ce\")) {                    Plotly.newPlot(                        \"cefd0930-e00d-4a04-8f28-eb486124c8ce\",                        [{\"line\":{\"color\":\"blue\",\"width\":3},\"mode\":\"lines\",\"name\":\"Andamento Reale\",\"x\":[364.45887899398804,364.5586404800415,364.6589159965515,364.7593548297882,364.8601448535919,364.96894550323486,365.0596868991852,365.1594166755676,365.25956082344055,365.3596260547638,365.4601356983185,365.55979108810425,365.6599338054657,365.760290145874,365.8600797653198,365.9602725505829,366.0603938102722,366.16379594802856,366.2636842727661,366.3638548851013,366.4605884552002,366.5609917640686,366.6607811450958,366.7835304737091,366.86488342285156,366.96648716926575,367.0610132217407,367.1611726284027,367.26143312454224,367.36129570007324,367.46194195747375,367.5621943473816,367.6617558002472,367.76181387901306,367.8632423877716,367.9623694419861,368.0634768009186,368.16354393959045,368.26345467567444,368.3634202480316,368.4639570713043,368.56341767311096,368.66284465789795,368.76342129707336,368.8643660545349,368.96563172340393,369.06455993652344,369.16477060317993,369.26576590538025,369.3649263381958,369.46443724632263,369.564484834671,369.6652081012726,369.7659890651703,369.86567997932434,369.9659514427185,370.0671544075012,370.1666123867035,370.266783952713,370.36477303504944,370.4668548107147,370.565545797348,370.6652846336365,370.7655713558197,370.8653576374054,370.96653938293457,371.0674316883087,371.1659688949585,371.26658487319946,371.3692162036896,371.46680188179016,371.56940364837646,371.66719913482666,371.7668056488037,371.86815881729126,371.9680743217468,372.0671577453613,372.1683523654938,372.2659475803375,372.3691494464874,372.46960973739624,372.5661597251892,372.66928935050964,372.7676477432251,372.8702368736267,372.9683094024658,373.06783747673035,373.1671121120453,373.26922821998596,373.36808013916016,373.46855306625366,373.5675835609436,373.66880536079407,373.76876640319824,373.8698561191559,373.97192335128784,374.0674250125885,374.16755986213684,374.2683062553406,374.3683798313141,374.46939849853516,374.56834268569946,374.66983461380005,374.7691607475281,374.8697361946106,374.9699294567108,375.06860613822937,375.16787028312683,375.26893734931946,375.3684616088867,375.46800565719604,375.572505235672,375.66814947128296,375.77130460739136,375.86928486824036,375.9735300540924,376.0717408657074,376.1719069480896,376.27218413352966,376.37700939178467,376.4729585647583,376.568984746933,376.6694688796997,376.7690782546997,376.8701825141907,376.96993613243103,377.06991147994995,377.17006039619446,377.2700288295746,377.369996547699,377.47222781181335,377.57026195526123,377.6698634624481,377.77056527137756,377.87061953544617,377.97315883636475,378.07047605514526,378.17071175575256,378.2701976299286,378.37180352211,378.4711010456085,378.57070755958557,378.67058849334717,378.77225136756897,378.8715682029724,378.97123861312866,379.0709683895111,379.17172718048096,379.2713677883148,379.37117290496826,379.4718773365021,379.5713415145874,379.6712350845337,379.7715103626251,379.8717985153198,379.97728991508484,380.0728027820587,380.1717813014984,380.27346563339233,380.3715305328369,380.47183561325073,380.5720341205597,380.6718740463257,380.7727301120758,380.87255120277405,380.9730746746063,381.0756416320801,381.17266750335693],\"y\":[90.0,90.0,90.0,90.0,90.0,90.0,90.0,90.0,90.0,90.0,90.0,90.0,90.0,90.0,90.0,90.0,90.0,90.0,90.0,90.0,90.0,90.0,90.0,90.0,90.0,90.0,90.0,90.0,90.0,90.0,90.0,90.0,90.0,90.0,90.0,90.0,90.0,90.0,90.0,90.0,90.0,90.0,90.0,90.0,90.0,90.0,90.0,90.0,90.0,90.0,90.0,90.0,90.0,90.0,90.0,90.0,90.0,90.0,90.0,90.0,90.0,90.0,90.0,90.0,90.0,90.0,90.0,90.0,90.0,90.0,90.0,90.0,90.0,90.0,90.0,90.0,90.0,90.0,90.0,90.0,90.0,90.0,90.0,90.0,90.0,90.0,90.0,90.0,90.0,90.0,90.0,90.0,90.0,90.0,90.0,90.0,90.0,90.0,90.0,90.0,90.0,90.0,90.0,90.0,90.0,90.0,90.0,90.0,90.0,90.0,90.0,90.0,90.0,90.0,90.0,90.0,90.0,90.0,90.0,90.0,90.0,90.0,90.0,90.0,90.0,90.0,90.0,90.0,90.0,90.0,90.0,90.0,90.0,90.0,90.0,90.0,90.0,90.0,90.0,90.0,90.0,90.0,90.0,90.0,90.0,90.0,90.0,90.0,90.0,90.0,90.0,90.0,90.0,90.0,90.0,90.0,90.0,90.0,90.0,90.0,90.0,90.0,90.0,90.0,90.0,90.0,90.0],\"type\":\"scatter\"}],                        {\"autosize\":false,\"font\":{\"color\":\"black\",\"family\":\"Courier New, monospace\",\"size\":22},\"height\":600,\"template\":{\"data\":{\"barpolar\":[{\"marker\":{\"line\":{\"color\":\"#E5ECF6\",\"width\":0.5},\"pattern\":{\"fillmode\":\"overlay\",\"size\":10,\"solidity\":0.2}},\"type\":\"barpolar\"}],\"bar\":[{\"error_x\":{\"color\":\"#2a3f5f\"},\"error_y\":{\"color\":\"#2a3f5f\"},\"marker\":{\"line\":{\"color\":\"#E5ECF6\",\"width\":0.5},\"pattern\":{\"fillmode\":\"overlay\",\"size\":10,\"solidity\":0.2}},\"type\":\"bar\"}],\"carpet\":[{\"aaxis\":{\"endlinecolor\":\"#2a3f5f\",\"gridcolor\":\"white\",\"linecolor\":\"white\",\"minorgridcolor\":\"white\",\"startlinecolor\":\"#2a3f5f\"},\"baxis\":{\"endlinecolor\":\"#2a3f5f\",\"gridcolor\":\"white\",\"linecolor\":\"white\",\"minorgridcolor\":\"white\",\"startlinecolor\":\"#2a3f5f\"},\"type\":\"carpet\"}],\"choropleth\":[{\"colorbar\":{\"outlinewidth\":0,\"ticks\":\"\"},\"type\":\"choropleth\"}],\"contourcarpet\":[{\"colorbar\":{\"outlinewidth\":0,\"ticks\":\"\"},\"type\":\"contourcarpet\"}],\"contour\":[{\"colorbar\":{\"outlinewidth\":0,\"ticks\":\"\"},\"colorscale\":[[0.0,\"#0d0887\"],[0.1111111111111111,\"#46039f\"],[0.2222222222222222,\"#7201a8\"],[0.3333333333333333,\"#9c179e\"],[0.4444444444444444,\"#bd3786\"],[0.5555555555555556,\"#d8576b\"],[0.6666666666666666,\"#ed7953\"],[0.7777777777777778,\"#fb9f3a\"],[0.8888888888888888,\"#fdca26\"],[1.0,\"#f0f921\"]],\"type\":\"contour\"}],\"heatmapgl\":[{\"colorbar\":{\"outlinewidth\":0,\"ticks\":\"\"},\"colorscale\":[[0.0,\"#0d0887\"],[0.1111111111111111,\"#46039f\"],[0.2222222222222222,\"#7201a8\"],[0.3333333333333333,\"#9c179e\"],[0.4444444444444444,\"#bd3786\"],[0.5555555555555556,\"#d8576b\"],[0.6666666666666666,\"#ed7953\"],[0.7777777777777778,\"#fb9f3a\"],[0.8888888888888888,\"#fdca26\"],[1.0,\"#f0f921\"]],\"type\":\"heatmapgl\"}],\"heatmap\":[{\"colorbar\":{\"outlinewidth\":0,\"ticks\":\"\"},\"colorscale\":[[0.0,\"#0d0887\"],[0.1111111111111111,\"#46039f\"],[0.2222222222222222,\"#7201a8\"],[0.3333333333333333,\"#9c179e\"],[0.4444444444444444,\"#bd3786\"],[0.5555555555555556,\"#d8576b\"],[0.6666666666666666,\"#ed7953\"],[0.7777777777777778,\"#fb9f3a\"],[0.8888888888888888,\"#fdca26\"],[1.0,\"#f0f921\"]],\"type\":\"heatmap\"}],\"histogram2dcontour\":[{\"colorbar\":{\"outlinewidth\":0,\"ticks\":\"\"},\"colorscale\":[[0.0,\"#0d0887\"],[0.1111111111111111,\"#46039f\"],[0.2222222222222222,\"#7201a8\"],[0.3333333333333333,\"#9c179e\"],[0.4444444444444444,\"#bd3786\"],[0.5555555555555556,\"#d8576b\"],[0.6666666666666666,\"#ed7953\"],[0.7777777777777778,\"#fb9f3a\"],[0.8888888888888888,\"#fdca26\"],[1.0,\"#f0f921\"]],\"type\":\"histogram2dcontour\"}],\"histogram2d\":[{\"colorbar\":{\"outlinewidth\":0,\"ticks\":\"\"},\"colorscale\":[[0.0,\"#0d0887\"],[0.1111111111111111,\"#46039f\"],[0.2222222222222222,\"#7201a8\"],[0.3333333333333333,\"#9c179e\"],[0.4444444444444444,\"#bd3786\"],[0.5555555555555556,\"#d8576b\"],[0.6666666666666666,\"#ed7953\"],[0.7777777777777778,\"#fb9f3a\"],[0.8888888888888888,\"#fdca26\"],[1.0,\"#f0f921\"]],\"type\":\"histogram2d\"}],\"histogram\":[{\"marker\":{\"pattern\":{\"fillmode\":\"overlay\",\"size\":10,\"solidity\":0.2}},\"type\":\"histogram\"}],\"mesh3d\":[{\"colorbar\":{\"outlinewidth\":0,\"ticks\":\"\"},\"type\":\"mesh3d\"}],\"parcoords\":[{\"line\":{\"colorbar\":{\"outlinewidth\":0,\"ticks\":\"\"}},\"type\":\"parcoords\"}],\"pie\":[{\"automargin\":true,\"type\":\"pie\"}],\"scatter3d\":[{\"line\":{\"colorbar\":{\"outlinewidth\":0,\"ticks\":\"\"}},\"marker\":{\"colorbar\":{\"outlinewidth\":0,\"ticks\":\"\"}},\"type\":\"scatter3d\"}],\"scattercarpet\":[{\"marker\":{\"colorbar\":{\"outlinewidth\":0,\"ticks\":\"\"}},\"type\":\"scattercarpet\"}],\"scattergeo\":[{\"marker\":{\"colorbar\":{\"outlinewidth\":0,\"ticks\":\"\"}},\"type\":\"scattergeo\"}],\"scattergl\":[{\"marker\":{\"colorbar\":{\"outlinewidth\":0,\"ticks\":\"\"}},\"type\":\"scattergl\"}],\"scattermapbox\":[{\"marker\":{\"colorbar\":{\"outlinewidth\":0,\"ticks\":\"\"}},\"type\":\"scattermapbox\"}],\"scatterpolargl\":[{\"marker\":{\"colorbar\":{\"outlinewidth\":0,\"ticks\":\"\"}},\"type\":\"scatterpolargl\"}],\"scatterpolar\":[{\"marker\":{\"colorbar\":{\"outlinewidth\":0,\"ticks\":\"\"}},\"type\":\"scatterpolar\"}],\"scatter\":[{\"fillpattern\":{\"fillmode\":\"overlay\",\"size\":10,\"solidity\":0.2},\"type\":\"scatter\"}],\"scatterternary\":[{\"marker\":{\"colorbar\":{\"outlinewidth\":0,\"ticks\":\"\"}},\"type\":\"scatterternary\"}],\"surface\":[{\"colorbar\":{\"outlinewidth\":0,\"ticks\":\"\"},\"colorscale\":[[0.0,\"#0d0887\"],[0.1111111111111111,\"#46039f\"],[0.2222222222222222,\"#7201a8\"],[0.3333333333333333,\"#9c179e\"],[0.4444444444444444,\"#bd3786\"],[0.5555555555555556,\"#d8576b\"],[0.6666666666666666,\"#ed7953\"],[0.7777777777777778,\"#fb9f3a\"],[0.8888888888888888,\"#fdca26\"],[1.0,\"#f0f921\"]],\"type\":\"surface\"}],\"table\":[{\"cells\":{\"fill\":{\"color\":\"#EBF0F8\"},\"line\":{\"color\":\"white\"}},\"header\":{\"fill\":{\"color\":\"#C8D4E3\"},\"line\":{\"color\":\"white\"}},\"type\":\"table\"}]},\"layout\":{\"annotationdefaults\":{\"arrowcolor\":\"#2a3f5f\",\"arrowhead\":0,\"arrowwidth\":1},\"autotypenumbers\":\"strict\",\"coloraxis\":{\"colorbar\":{\"outlinewidth\":0,\"ticks\":\"\"}},\"colorscale\":{\"diverging\":[[0,\"#8e0152\"],[0.1,\"#c51b7d\"],[0.2,\"#de77ae\"],[0.3,\"#f1b6da\"],[0.4,\"#fde0ef\"],[0.5,\"#f7f7f7\"],[0.6,\"#e6f5d0\"],[0.7,\"#b8e186\"],[0.8,\"#7fbc41\"],[0.9,\"#4d9221\"],[1,\"#276419\"]],\"sequential\":[[0.0,\"#0d0887\"],[0.1111111111111111,\"#46039f\"],[0.2222222222222222,\"#7201a8\"],[0.3333333333333333,\"#9c179e\"],[0.4444444444444444,\"#bd3786\"],[0.5555555555555556,\"#d8576b\"],[0.6666666666666666,\"#ed7953\"],[0.7777777777777778,\"#fb9f3a\"],[0.8888888888888888,\"#fdca26\"],[1.0,\"#f0f921\"]],\"sequentialminus\":[[0.0,\"#0d0887\"],[0.1111111111111111,\"#46039f\"],[0.2222222222222222,\"#7201a8\"],[0.3333333333333333,\"#9c179e\"],[0.4444444444444444,\"#bd3786\"],[0.5555555555555556,\"#d8576b\"],[0.6666666666666666,\"#ed7953\"],[0.7777777777777778,\"#fb9f3a\"],[0.8888888888888888,\"#fdca26\"],[1.0,\"#f0f921\"]]},\"colorway\":[\"#636efa\",\"#EF553B\",\"#00cc96\",\"#ab63fa\",\"#FFA15A\",\"#19d3f3\",\"#FF6692\",\"#B6E880\",\"#FF97FF\",\"#FECB52\"],\"font\":{\"color\":\"#2a3f5f\"},\"geo\":{\"bgcolor\":\"white\",\"lakecolor\":\"white\",\"landcolor\":\"#E5ECF6\",\"showlakes\":true,\"showland\":true,\"subunitcolor\":\"white\"},\"hoverlabel\":{\"align\":\"left\"},\"hovermode\":\"closest\",\"mapbox\":{\"style\":\"light\"},\"paper_bgcolor\":\"white\",\"plot_bgcolor\":\"#E5ECF6\",\"polar\":{\"angularaxis\":{\"gridcolor\":\"white\",\"linecolor\":\"white\",\"ticks\":\"\"},\"bgcolor\":\"#E5ECF6\",\"radialaxis\":{\"gridcolor\":\"white\",\"linecolor\":\"white\",\"ticks\":\"\"}},\"scene\":{\"xaxis\":{\"backgroundcolor\":\"#E5ECF6\",\"gridcolor\":\"white\",\"gridwidth\":2,\"linecolor\":\"white\",\"showbackground\":true,\"ticks\":\"\",\"zerolinecolor\":\"white\"},\"yaxis\":{\"backgroundcolor\":\"#E5ECF6\",\"gridcolor\":\"white\",\"gridwidth\":2,\"linecolor\":\"white\",\"showbackground\":true,\"ticks\":\"\",\"zerolinecolor\":\"white\"},\"zaxis\":{\"backgroundcolor\":\"#E5ECF6\",\"gridcolor\":\"white\",\"gridwidth\":2,\"linecolor\":\"white\",\"showbackground\":true,\"ticks\":\"\",\"zerolinecolor\":\"white\"}},\"shapedefaults\":{\"line\":{\"color\":\"#2a3f5f\"}},\"ternary\":{\"aaxis\":{\"gridcolor\":\"white\",\"linecolor\":\"white\",\"ticks\":\"\"},\"baxis\":{\"gridcolor\":\"white\",\"linecolor\":\"white\",\"ticks\":\"\"},\"bgcolor\":\"#E5ECF6\",\"caxis\":{\"gridcolor\":\"white\",\"linecolor\":\"white\",\"ticks\":\"\"}},\"title\":{\"x\":0.05},\"xaxis\":{\"automargin\":true,\"gridcolor\":\"white\",\"linecolor\":\"white\",\"ticks\":\"\",\"title\":{\"standoff\":15},\"zerolinecolor\":\"white\",\"zerolinewidth\":2},\"yaxis\":{\"automargin\":true,\"gridcolor\":\"white\",\"linecolor\":\"white\",\"ticks\":\"\",\"title\":{\"standoff\":15},\"zerolinecolor\":\"white\",\"zerolinewidth\":2}}},\"title\":{\"text\":\"Range of Motion ankleRight\"},\"width\":750,\"xaxis\":{\"title\":{\"font\":{\"color\":\"#7f7f7f\",\"family\":\"Courier New, monospace\",\"size\":18},\"text\":\"time [s]\"}},\"yaxis\":{\"title\":{\"font\":{\"color\":\"#7f7f7f\",\"family\":\"Courier New, monospace\",\"size\":18},\"text\":\"ROM [gradi]\"}}},                        {\"responsive\": true}                    ).then(function(){\n",
       "                            \n",
       "var gd = document.getElementById('cefd0930-e00d-4a04-8f28-eb486124c8ce');\n",
       "var x = new MutationObserver(function (mutations, observer) {{\n",
       "        var display = window.getComputedStyle(gd).display;\n",
       "        if (!display || display === 'none') {{\n",
       "            console.log([gd, 'removed!']);\n",
       "            Plotly.purge(gd);\n",
       "            observer.disconnect();\n",
       "        }}\n",
       "}});\n",
       "\n",
       "// Listen for the removal of the full notebook cells\n",
       "var notebookContainer = gd.closest('#notebook-container');\n",
       "if (notebookContainer) {{\n",
       "    x.observe(notebookContainer, {childList: true});\n",
       "}}\n",
       "\n",
       "// Listen for the clearing of the current output cell\n",
       "var outputEl = gd.closest('.output');\n",
       "if (outputEl) {{\n",
       "    x.observe(outputEl, {childList: true});\n",
       "}}\n",
       "\n",
       "                        })                };                });            </script>        </div>"
      ]
     },
     "metadata": {},
     "output_type": "display_data"
    },
    {
     "data": {
      "application/vnd.plotly.v1+json": {
       "config": {
        "linkText": "Export to plot.ly",
        "plotlyServerURL": "https://plot.ly",
        "showLink": false
       },
       "data": [
        {
         "line": {
          "color": "blue",
          "width": 3
         },
         "mode": "lines",
         "name": "Distanza tra i piedi",
         "type": "scatter",
         "x": [
          364.45887899398804,
          364.5586404800415,
          364.6589159965515,
          364.7593548297882,
          364.8601448535919,
          364.96894550323486,
          365.0596868991852,
          365.1594166755676,
          365.25956082344055,
          365.3596260547638,
          365.4601356983185,
          365.55979108810425,
          365.6599338054657,
          365.760290145874,
          365.8600797653198,
          365.9602725505829,
          366.0603938102722,
          366.16379594802856,
          366.2636842727661,
          366.3638548851013,
          366.4605884552002,
          366.5609917640686,
          366.6607811450958,
          366.7835304737091,
          366.86488342285156,
          366.96648716926575,
          367.0610132217407,
          367.1611726284027,
          367.26143312454224,
          367.36129570007324,
          367.46194195747375,
          367.5621943473816,
          367.6617558002472,
          367.76181387901306,
          367.8632423877716,
          367.9623694419861,
          368.0634768009186,
          368.16354393959045,
          368.26345467567444,
          368.3634202480316,
          368.4639570713043,
          368.56341767311096,
          368.66284465789795,
          368.76342129707336,
          368.8643660545349,
          368.96563172340393,
          369.06455993652344,
          369.16477060317993,
          369.26576590538025,
          369.3649263381958,
          369.46443724632263,
          369.564484834671,
          369.6652081012726,
          369.7659890651703,
          369.86567997932434,
          369.9659514427185,
          370.0671544075012,
          370.1666123867035,
          370.266783952713,
          370.36477303504944,
          370.4668548107147,
          370.565545797348,
          370.6652846336365,
          370.7655713558197,
          370.8653576374054,
          370.96653938293457,
          371.0674316883087,
          371.1659688949585,
          371.26658487319946,
          371.3692162036896,
          371.46680188179016,
          371.56940364837646,
          371.66719913482666,
          371.7668056488037,
          371.86815881729126,
          371.9680743217468,
          372.0671577453613,
          372.1683523654938,
          372.2659475803375,
          372.3691494464874,
          372.46960973739624,
          372.5661597251892,
          372.66928935050964,
          372.7676477432251,
          372.8702368736267,
          372.9683094024658,
          373.06783747673035,
          373.1671121120453,
          373.26922821998596,
          373.36808013916016,
          373.46855306625366,
          373.5675835609436,
          373.66880536079407,
          373.76876640319824,
          373.8698561191559,
          373.97192335128784,
          374.0674250125885,
          374.16755986213684,
          374.2683062553406,
          374.3683798313141,
          374.46939849853516,
          374.56834268569946,
          374.66983461380005,
          374.7691607475281,
          374.8697361946106,
          374.9699294567108,
          375.06860613822937,
          375.16787028312683,
          375.26893734931946,
          375.3684616088867,
          375.46800565719604,
          375.572505235672,
          375.66814947128296,
          375.77130460739136,
          375.86928486824036,
          375.9735300540924,
          376.0717408657074,
          376.1719069480896,
          376.27218413352966,
          376.37700939178467,
          376.4729585647583,
          376.568984746933,
          376.6694688796997,
          376.7690782546997,
          376.8701825141907,
          376.96993613243103,
          377.06991147994995,
          377.17006039619446,
          377.2700288295746,
          377.369996547699,
          377.47222781181335,
          377.57026195526123,
          377.6698634624481,
          377.77056527137756,
          377.87061953544617,
          377.97315883636475,
          378.07047605514526,
          378.17071175575256,
          378.2701976299286,
          378.37180352211,
          378.4711010456085,
          378.57070755958557,
          378.67058849334717,
          378.77225136756897,
          378.8715682029724,
          378.97123861312866,
          379.0709683895111,
          379.17172718048096,
          379.2713677883148,
          379.37117290496826,
          379.4718773365021,
          379.5713415145874,
          379.6712350845337,
          379.7715103626251,
          379.8717985153198,
          379.97728991508484,
          380.0728027820587,
          380.1717813014984,
          380.27346563339233,
          380.3715305328369,
          380.47183561325073,
          380.5720341205597,
          380.6718740463257,
          380.7727301120758,
          380.87255120277405,
          380.9730746746063,
          381.0756416320801,
          381.17266750335693
         ],
         "y": [
          0.22550608582281653,
          0.22449410230330605,
          0.22367105908357332,
          0.22299201734784557,
          0.22241900966410844,
          0.22192136649083574,
          0.22147594123498096,
          0.22106726565661186,
          0.2206876612271153,
          0.22033732419617655,
          0.21973215850597172,
          0.21963254642540758,
          0.22057042991557646,
          0.22066315834906497,
          0.2210474761517728,
          0.2209823717734921,
          0.2204426246324708,
          0.2196494877596815,
          0.2189636360979769,
          0.21832493459855373,
          0.2177646083233337,
          0.21730273823327276,
          0.21706748683342814,
          0.21720533195504207,
          0.2176642439336071,
          0.21811775448267198,
          0.2184202495025458,
          0.21869372013648444,
          0.21882302537485798,
          0.21905026038040407,
          0.21936599877253152,
          0.21986155840534646,
          0.21913163535531396,
          0.21921545202419354,
          0.21921631877659936,
          0.2191422670840862,
          0.219054143159536,
          0.21901374741977267,
          0.21896669482788364,
          0.21899687881193627,
          0.2190891319127399,
          0.21923053923084845,
          0.21941403027136902,
          0.21962334855398052,
          0.2199412222081849,
          0.22038455790511158,
          0.22083220200803091,
          0.22113280535922938,
          0.22142174059093064,
          0.22157082295054725,
          0.22176109028538757,
          0.22206876095562467,
          0.22230214336916293,
          0.22241024219440156,
          0.22236518313466777,
          0.2221763241558945,
          0.22209904945107686,
          0.22185797786812067,
          0.2215930091984008,
          0.2212874236671306,
          0.2204260319853809,
          0.2191837422122113,
          0.21865374497586224,
          0.21932404784172732,
          0.22087649445453458,
          0.22226287205026304,
          0.2236402223553488,
          0.2257224101653704,
          0.23117186449010155,
          0.23472161482812628,
          0.23453376092263092,
          0.22991426888467417,
          0.22451101360508147,
          0.2375100547137424,
          0.27713706785703673,
          0.3202484727350465,
          0.34590068235671456,
          0.35110013897068265,
          0.32349294190275074,
          0.2603595644826042,
          0.21581935037695213,
          0.1897246693136346,
          0.17769874910441422,
          0.17163312191103808,
          0.16588658499044048,
          0.15957362228309238,
          0.1530114376270221,
          0.15360379050346382,
          0.15725440512448677,
          0.16681886083601197,
          0.17038121501055495,
          0.1550731997800091,
          0.13310111331324698,
          0.12754054465544287,
          0.1306048704280779,
          0.1304200962722548,
          0.12326721642607069,
          0.11490271421177893,
          0.12331514381531429,
          0.13563453773980585,
          0.15684398922660378,
          0.1880535866440192,
          0.2381354415663204,
          0.27908227209671066,
          0.25981307489538885,
          0.20290118004138993,
          0.12324567700822432,
          0.049283899982252403,
          0.11101506111212511,
          0.16719189659995778,
          0.18113105177372915,
          0.16512085500844667,
          0.1625439080660741,
          0.1904937436706369,
          0.23105352673622587,
          0.2522113108727371,
          0.24443057703968832,
          0.21906635388829807,
          0.18670089754324495,
          0.16060871933697082,
          0.14995190105587425,
          0.15491596477893696,
          0.15916664953354923,
          0.15406011783478912,
          0.14495022620652875,
          0.08958172188980949,
          0.06839640477556813,
          0.08177385913089137,
          0.11614056295453634,
          0.2350285558280235,
          0.33000461953236093,
          0.4102564804694569,
          0.46881642520625766,
          0,
          0.5528917724327111,
          0.5308352358832014,
          0.4901880867094133,
          0.4282144919054783,
          0.34261887907749666,
          0.2489165317334858,
          0.15491779272751155,
          0.12423083397550859,
          0.1148790462997327,
          0.19078206548913257,
          0.36205367844573527,
          0.45991485660566,
          0.5184236074466365,
          0.5348401566669787,
          0.5013698363291877,
          0.5149403035723006,
          0.5138892869391699,
          0.49338726168656066,
          0.45266154865553015,
          0.4896283231662134,
          0.4674749295928096,
          0.43491470545676775,
          0.3908053244296834,
          0.37928342062404113,
          0.3529176164271499,
          0.32214406974572823,
          0.28700494074616884,
          0.24757843682526073,
          0.20402637510296093,
          0.15674240214412644,
          0.10696602820611541,
          0.06075270477025562,
          0.05366771631319851
         ]
        },
        {
         "marker": {
          "color": "red",
          "size": 10
         },
         "mode": "markers",
         "name": "Appoggio tallone",
         "type": "scatter",
         "x": [
          365.8600797653198,
          367.5621943473816,
          369.7659890651703,
          372.1683523654938,
          373.46855306625366,
          374.7691607475281,
          375.9735300540924,
          377.87061953544617,
          379.17172718048096
         ],
         "y": [
          0.2210474761517728,
          0.21986155840534646,
          0.22241024219440156,
          0.35110013897068265,
          0.17038121501055495,
          0.27908227209671066,
          0.2522113108727371,
          0.5528917724327111,
          0.5348401566669787
         ]
        }
       ],
       "layout": {
        "autosize": false,
        "font": {
         "color": "black",
         "family": "Courier New, monospace",
         "size": 22
        },
        "height": 600,
        "template": {
         "data": {
          "bar": [
           {
            "error_x": {
             "color": "#2a3f5f"
            },
            "error_y": {
             "color": "#2a3f5f"
            },
            "marker": {
             "line": {
              "color": "#E5ECF6",
              "width": 0.5
             },
             "pattern": {
              "fillmode": "overlay",
              "size": 10,
              "solidity": 0.2
             }
            },
            "type": "bar"
           }
          ],
          "barpolar": [
           {
            "marker": {
             "line": {
              "color": "#E5ECF6",
              "width": 0.5
             },
             "pattern": {
              "fillmode": "overlay",
              "size": 10,
              "solidity": 0.2
             }
            },
            "type": "barpolar"
           }
          ],
          "carpet": [
           {
            "aaxis": {
             "endlinecolor": "#2a3f5f",
             "gridcolor": "white",
             "linecolor": "white",
             "minorgridcolor": "white",
             "startlinecolor": "#2a3f5f"
            },
            "baxis": {
             "endlinecolor": "#2a3f5f",
             "gridcolor": "white",
             "linecolor": "white",
             "minorgridcolor": "white",
             "startlinecolor": "#2a3f5f"
            },
            "type": "carpet"
           }
          ],
          "choropleth": [
           {
            "colorbar": {
             "outlinewidth": 0,
             "ticks": ""
            },
            "type": "choropleth"
           }
          ],
          "contour": [
           {
            "colorbar": {
             "outlinewidth": 0,
             "ticks": ""
            },
            "colorscale": [
             [
              0,
              "#0d0887"
             ],
             [
              0.1111111111111111,
              "#46039f"
             ],
             [
              0.2222222222222222,
              "#7201a8"
             ],
             [
              0.3333333333333333,
              "#9c179e"
             ],
             [
              0.4444444444444444,
              "#bd3786"
             ],
             [
              0.5555555555555556,
              "#d8576b"
             ],
             [
              0.6666666666666666,
              "#ed7953"
             ],
             [
              0.7777777777777778,
              "#fb9f3a"
             ],
             [
              0.8888888888888888,
              "#fdca26"
             ],
             [
              1,
              "#f0f921"
             ]
            ],
            "type": "contour"
           }
          ],
          "contourcarpet": [
           {
            "colorbar": {
             "outlinewidth": 0,
             "ticks": ""
            },
            "type": "contourcarpet"
           }
          ],
          "heatmap": [
           {
            "colorbar": {
             "outlinewidth": 0,
             "ticks": ""
            },
            "colorscale": [
             [
              0,
              "#0d0887"
             ],
             [
              0.1111111111111111,
              "#46039f"
             ],
             [
              0.2222222222222222,
              "#7201a8"
             ],
             [
              0.3333333333333333,
              "#9c179e"
             ],
             [
              0.4444444444444444,
              "#bd3786"
             ],
             [
              0.5555555555555556,
              "#d8576b"
             ],
             [
              0.6666666666666666,
              "#ed7953"
             ],
             [
              0.7777777777777778,
              "#fb9f3a"
             ],
             [
              0.8888888888888888,
              "#fdca26"
             ],
             [
              1,
              "#f0f921"
             ]
            ],
            "type": "heatmap"
           }
          ],
          "heatmapgl": [
           {
            "colorbar": {
             "outlinewidth": 0,
             "ticks": ""
            },
            "colorscale": [
             [
              0,
              "#0d0887"
             ],
             [
              0.1111111111111111,
              "#46039f"
             ],
             [
              0.2222222222222222,
              "#7201a8"
             ],
             [
              0.3333333333333333,
              "#9c179e"
             ],
             [
              0.4444444444444444,
              "#bd3786"
             ],
             [
              0.5555555555555556,
              "#d8576b"
             ],
             [
              0.6666666666666666,
              "#ed7953"
             ],
             [
              0.7777777777777778,
              "#fb9f3a"
             ],
             [
              0.8888888888888888,
              "#fdca26"
             ],
             [
              1,
              "#f0f921"
             ]
            ],
            "type": "heatmapgl"
           }
          ],
          "histogram": [
           {
            "marker": {
             "pattern": {
              "fillmode": "overlay",
              "size": 10,
              "solidity": 0.2
             }
            },
            "type": "histogram"
           }
          ],
          "histogram2d": [
           {
            "colorbar": {
             "outlinewidth": 0,
             "ticks": ""
            },
            "colorscale": [
             [
              0,
              "#0d0887"
             ],
             [
              0.1111111111111111,
              "#46039f"
             ],
             [
              0.2222222222222222,
              "#7201a8"
             ],
             [
              0.3333333333333333,
              "#9c179e"
             ],
             [
              0.4444444444444444,
              "#bd3786"
             ],
             [
              0.5555555555555556,
              "#d8576b"
             ],
             [
              0.6666666666666666,
              "#ed7953"
             ],
             [
              0.7777777777777778,
              "#fb9f3a"
             ],
             [
              0.8888888888888888,
              "#fdca26"
             ],
             [
              1,
              "#f0f921"
             ]
            ],
            "type": "histogram2d"
           }
          ],
          "histogram2dcontour": [
           {
            "colorbar": {
             "outlinewidth": 0,
             "ticks": ""
            },
            "colorscale": [
             [
              0,
              "#0d0887"
             ],
             [
              0.1111111111111111,
              "#46039f"
             ],
             [
              0.2222222222222222,
              "#7201a8"
             ],
             [
              0.3333333333333333,
              "#9c179e"
             ],
             [
              0.4444444444444444,
              "#bd3786"
             ],
             [
              0.5555555555555556,
              "#d8576b"
             ],
             [
              0.6666666666666666,
              "#ed7953"
             ],
             [
              0.7777777777777778,
              "#fb9f3a"
             ],
             [
              0.8888888888888888,
              "#fdca26"
             ],
             [
              1,
              "#f0f921"
             ]
            ],
            "type": "histogram2dcontour"
           }
          ],
          "mesh3d": [
           {
            "colorbar": {
             "outlinewidth": 0,
             "ticks": ""
            },
            "type": "mesh3d"
           }
          ],
          "parcoords": [
           {
            "line": {
             "colorbar": {
              "outlinewidth": 0,
              "ticks": ""
             }
            },
            "type": "parcoords"
           }
          ],
          "pie": [
           {
            "automargin": true,
            "type": "pie"
           }
          ],
          "scatter": [
           {
            "fillpattern": {
             "fillmode": "overlay",
             "size": 10,
             "solidity": 0.2
            },
            "type": "scatter"
           }
          ],
          "scatter3d": [
           {
            "line": {
             "colorbar": {
              "outlinewidth": 0,
              "ticks": ""
             }
            },
            "marker": {
             "colorbar": {
              "outlinewidth": 0,
              "ticks": ""
             }
            },
            "type": "scatter3d"
           }
          ],
          "scattercarpet": [
           {
            "marker": {
             "colorbar": {
              "outlinewidth": 0,
              "ticks": ""
             }
            },
            "type": "scattercarpet"
           }
          ],
          "scattergeo": [
           {
            "marker": {
             "colorbar": {
              "outlinewidth": 0,
              "ticks": ""
             }
            },
            "type": "scattergeo"
           }
          ],
          "scattergl": [
           {
            "marker": {
             "colorbar": {
              "outlinewidth": 0,
              "ticks": ""
             }
            },
            "type": "scattergl"
           }
          ],
          "scattermapbox": [
           {
            "marker": {
             "colorbar": {
              "outlinewidth": 0,
              "ticks": ""
             }
            },
            "type": "scattermapbox"
           }
          ],
          "scatterpolar": [
           {
            "marker": {
             "colorbar": {
              "outlinewidth": 0,
              "ticks": ""
             }
            },
            "type": "scatterpolar"
           }
          ],
          "scatterpolargl": [
           {
            "marker": {
             "colorbar": {
              "outlinewidth": 0,
              "ticks": ""
             }
            },
            "type": "scatterpolargl"
           }
          ],
          "scatterternary": [
           {
            "marker": {
             "colorbar": {
              "outlinewidth": 0,
              "ticks": ""
             }
            },
            "type": "scatterternary"
           }
          ],
          "surface": [
           {
            "colorbar": {
             "outlinewidth": 0,
             "ticks": ""
            },
            "colorscale": [
             [
              0,
              "#0d0887"
             ],
             [
              0.1111111111111111,
              "#46039f"
             ],
             [
              0.2222222222222222,
              "#7201a8"
             ],
             [
              0.3333333333333333,
              "#9c179e"
             ],
             [
              0.4444444444444444,
              "#bd3786"
             ],
             [
              0.5555555555555556,
              "#d8576b"
             ],
             [
              0.6666666666666666,
              "#ed7953"
             ],
             [
              0.7777777777777778,
              "#fb9f3a"
             ],
             [
              0.8888888888888888,
              "#fdca26"
             ],
             [
              1,
              "#f0f921"
             ]
            ],
            "type": "surface"
           }
          ],
          "table": [
           {
            "cells": {
             "fill": {
              "color": "#EBF0F8"
             },
             "line": {
              "color": "white"
             }
            },
            "header": {
             "fill": {
              "color": "#C8D4E3"
             },
             "line": {
              "color": "white"
             }
            },
            "type": "table"
           }
          ]
         },
         "layout": {
          "annotationdefaults": {
           "arrowcolor": "#2a3f5f",
           "arrowhead": 0,
           "arrowwidth": 1
          },
          "autotypenumbers": "strict",
          "coloraxis": {
           "colorbar": {
            "outlinewidth": 0,
            "ticks": ""
           }
          },
          "colorscale": {
           "diverging": [
            [
             0,
             "#8e0152"
            ],
            [
             0.1,
             "#c51b7d"
            ],
            [
             0.2,
             "#de77ae"
            ],
            [
             0.3,
             "#f1b6da"
            ],
            [
             0.4,
             "#fde0ef"
            ],
            [
             0.5,
             "#f7f7f7"
            ],
            [
             0.6,
             "#e6f5d0"
            ],
            [
             0.7,
             "#b8e186"
            ],
            [
             0.8,
             "#7fbc41"
            ],
            [
             0.9,
             "#4d9221"
            ],
            [
             1,
             "#276419"
            ]
           ],
           "sequential": [
            [
             0,
             "#0d0887"
            ],
            [
             0.1111111111111111,
             "#46039f"
            ],
            [
             0.2222222222222222,
             "#7201a8"
            ],
            [
             0.3333333333333333,
             "#9c179e"
            ],
            [
             0.4444444444444444,
             "#bd3786"
            ],
            [
             0.5555555555555556,
             "#d8576b"
            ],
            [
             0.6666666666666666,
             "#ed7953"
            ],
            [
             0.7777777777777778,
             "#fb9f3a"
            ],
            [
             0.8888888888888888,
             "#fdca26"
            ],
            [
             1,
             "#f0f921"
            ]
           ],
           "sequentialminus": [
            [
             0,
             "#0d0887"
            ],
            [
             0.1111111111111111,
             "#46039f"
            ],
            [
             0.2222222222222222,
             "#7201a8"
            ],
            [
             0.3333333333333333,
             "#9c179e"
            ],
            [
             0.4444444444444444,
             "#bd3786"
            ],
            [
             0.5555555555555556,
             "#d8576b"
            ],
            [
             0.6666666666666666,
             "#ed7953"
            ],
            [
             0.7777777777777778,
             "#fb9f3a"
            ],
            [
             0.8888888888888888,
             "#fdca26"
            ],
            [
             1,
             "#f0f921"
            ]
           ]
          },
          "colorway": [
           "#636efa",
           "#EF553B",
           "#00cc96",
           "#ab63fa",
           "#FFA15A",
           "#19d3f3",
           "#FF6692",
           "#B6E880",
           "#FF97FF",
           "#FECB52"
          ],
          "font": {
           "color": "#2a3f5f"
          },
          "geo": {
           "bgcolor": "white",
           "lakecolor": "white",
           "landcolor": "#E5ECF6",
           "showlakes": true,
           "showland": true,
           "subunitcolor": "white"
          },
          "hoverlabel": {
           "align": "left"
          },
          "hovermode": "closest",
          "mapbox": {
           "style": "light"
          },
          "paper_bgcolor": "white",
          "plot_bgcolor": "#E5ECF6",
          "polar": {
           "angularaxis": {
            "gridcolor": "white",
            "linecolor": "white",
            "ticks": ""
           },
           "bgcolor": "#E5ECF6",
           "radialaxis": {
            "gridcolor": "white",
            "linecolor": "white",
            "ticks": ""
           }
          },
          "scene": {
           "xaxis": {
            "backgroundcolor": "#E5ECF6",
            "gridcolor": "white",
            "gridwidth": 2,
            "linecolor": "white",
            "showbackground": true,
            "ticks": "",
            "zerolinecolor": "white"
           },
           "yaxis": {
            "backgroundcolor": "#E5ECF6",
            "gridcolor": "white",
            "gridwidth": 2,
            "linecolor": "white",
            "showbackground": true,
            "ticks": "",
            "zerolinecolor": "white"
           },
           "zaxis": {
            "backgroundcolor": "#E5ECF6",
            "gridcolor": "white",
            "gridwidth": 2,
            "linecolor": "white",
            "showbackground": true,
            "ticks": "",
            "zerolinecolor": "white"
           }
          },
          "shapedefaults": {
           "line": {
            "color": "#2a3f5f"
           }
          },
          "ternary": {
           "aaxis": {
            "gridcolor": "white",
            "linecolor": "white",
            "ticks": ""
           },
           "baxis": {
            "gridcolor": "white",
            "linecolor": "white",
            "ticks": ""
           },
           "bgcolor": "#E5ECF6",
           "caxis": {
            "gridcolor": "white",
            "linecolor": "white",
            "ticks": ""
           }
          },
          "title": {
           "x": 0.05
          },
          "xaxis": {
           "automargin": true,
           "gridcolor": "white",
           "linecolor": "white",
           "ticks": "",
           "title": {
            "standoff": 15
           },
           "zerolinecolor": "white",
           "zerolinewidth": 2
          },
          "yaxis": {
           "automargin": true,
           "gridcolor": "white",
           "linecolor": "white",
           "ticks": "",
           "title": {
            "standoff": 15
           },
           "zerolinecolor": "white",
           "zerolinewidth": 2
          }
         }
        },
        "title": {
         "text": "Distanza tra i piedi"
        },
        "width": 750,
        "xaxis": {
         "title": {
          "font": {
           "color": "#7f7f7f",
           "family": "Courier New, monospace",
           "size": 18
          },
          "text": "time [s]"
         }
        },
        "yaxis": {
         "title": {
          "font": {
           "color": "#7f7f7f",
           "family": "Courier New, monospace",
           "size": 18
          },
          "text": "dist [m]"
         }
        }
       }
      },
      "text/html": [
       "<div>                            <div id=\"a437d982-fb2a-4951-a04c-e318471e63ac\" class=\"plotly-graph-div\" style=\"height:600px; width:750px;\"></div>            <script type=\"text/javascript\">                require([\"plotly\"], function(Plotly) {                    window.PLOTLYENV=window.PLOTLYENV || {};                                    if (document.getElementById(\"a437d982-fb2a-4951-a04c-e318471e63ac\")) {                    Plotly.newPlot(                        \"a437d982-fb2a-4951-a04c-e318471e63ac\",                        [{\"line\":{\"color\":\"blue\",\"width\":3},\"mode\":\"lines\",\"name\":\"Distanza tra i piedi\",\"x\":[364.45887899398804,364.5586404800415,364.6589159965515,364.7593548297882,364.8601448535919,364.96894550323486,365.0596868991852,365.1594166755676,365.25956082344055,365.3596260547638,365.4601356983185,365.55979108810425,365.6599338054657,365.760290145874,365.8600797653198,365.9602725505829,366.0603938102722,366.16379594802856,366.2636842727661,366.3638548851013,366.4605884552002,366.5609917640686,366.6607811450958,366.7835304737091,366.86488342285156,366.96648716926575,367.0610132217407,367.1611726284027,367.26143312454224,367.36129570007324,367.46194195747375,367.5621943473816,367.6617558002472,367.76181387901306,367.8632423877716,367.9623694419861,368.0634768009186,368.16354393959045,368.26345467567444,368.3634202480316,368.4639570713043,368.56341767311096,368.66284465789795,368.76342129707336,368.8643660545349,368.96563172340393,369.06455993652344,369.16477060317993,369.26576590538025,369.3649263381958,369.46443724632263,369.564484834671,369.6652081012726,369.7659890651703,369.86567997932434,369.9659514427185,370.0671544075012,370.1666123867035,370.266783952713,370.36477303504944,370.4668548107147,370.565545797348,370.6652846336365,370.7655713558197,370.8653576374054,370.96653938293457,371.0674316883087,371.1659688949585,371.26658487319946,371.3692162036896,371.46680188179016,371.56940364837646,371.66719913482666,371.7668056488037,371.86815881729126,371.9680743217468,372.0671577453613,372.1683523654938,372.2659475803375,372.3691494464874,372.46960973739624,372.5661597251892,372.66928935050964,372.7676477432251,372.8702368736267,372.9683094024658,373.06783747673035,373.1671121120453,373.26922821998596,373.36808013916016,373.46855306625366,373.5675835609436,373.66880536079407,373.76876640319824,373.8698561191559,373.97192335128784,374.0674250125885,374.16755986213684,374.2683062553406,374.3683798313141,374.46939849853516,374.56834268569946,374.66983461380005,374.7691607475281,374.8697361946106,374.9699294567108,375.06860613822937,375.16787028312683,375.26893734931946,375.3684616088867,375.46800565719604,375.572505235672,375.66814947128296,375.77130460739136,375.86928486824036,375.9735300540924,376.0717408657074,376.1719069480896,376.27218413352966,376.37700939178467,376.4729585647583,376.568984746933,376.6694688796997,376.7690782546997,376.8701825141907,376.96993613243103,377.06991147994995,377.17006039619446,377.2700288295746,377.369996547699,377.47222781181335,377.57026195526123,377.6698634624481,377.77056527137756,377.87061953544617,377.97315883636475,378.07047605514526,378.17071175575256,378.2701976299286,378.37180352211,378.4711010456085,378.57070755958557,378.67058849334717,378.77225136756897,378.8715682029724,378.97123861312866,379.0709683895111,379.17172718048096,379.2713677883148,379.37117290496826,379.4718773365021,379.5713415145874,379.6712350845337,379.7715103626251,379.8717985153198,379.97728991508484,380.0728027820587,380.1717813014984,380.27346563339233,380.3715305328369,380.47183561325073,380.5720341205597,380.6718740463257,380.7727301120758,380.87255120277405,380.9730746746063,381.0756416320801,381.17266750335693],\"y\":[0.22550608582281653,0.22449410230330605,0.22367105908357332,0.22299201734784557,0.22241900966410844,0.22192136649083574,0.22147594123498096,0.22106726565661186,0.2206876612271153,0.22033732419617655,0.21973215850597172,0.21963254642540758,0.22057042991557646,0.22066315834906497,0.2210474761517728,0.2209823717734921,0.2204426246324708,0.2196494877596815,0.2189636360979769,0.21832493459855373,0.2177646083233337,0.21730273823327276,0.21706748683342814,0.21720533195504207,0.2176642439336071,0.21811775448267198,0.2184202495025458,0.21869372013648444,0.21882302537485798,0.21905026038040407,0.21936599877253152,0.21986155840534646,0.21913163535531396,0.21921545202419354,0.21921631877659936,0.2191422670840862,0.219054143159536,0.21901374741977267,0.21896669482788364,0.21899687881193627,0.2190891319127399,0.21923053923084845,0.21941403027136902,0.21962334855398052,0.2199412222081849,0.22038455790511158,0.22083220200803091,0.22113280535922938,0.22142174059093064,0.22157082295054725,0.22176109028538757,0.22206876095562467,0.22230214336916293,0.22241024219440156,0.22236518313466777,0.2221763241558945,0.22209904945107686,0.22185797786812067,0.2215930091984008,0.2212874236671306,0.2204260319853809,0.2191837422122113,0.21865374497586224,0.21932404784172732,0.22087649445453458,0.22226287205026304,0.2236402223553488,0.2257224101653704,0.23117186449010155,0.23472161482812628,0.23453376092263092,0.22991426888467417,0.22451101360508147,0.2375100547137424,0.27713706785703673,0.3202484727350465,0.34590068235671456,0.35110013897068265,0.32349294190275074,0.2603595644826042,0.21581935037695213,0.1897246693136346,0.17769874910441422,0.17163312191103808,0.16588658499044048,0.15957362228309238,0.1530114376270221,0.15360379050346382,0.15725440512448677,0.16681886083601197,0.17038121501055495,0.1550731997800091,0.13310111331324698,0.12754054465544287,0.1306048704280779,0.1304200962722548,0.12326721642607069,0.11490271421177893,0.12331514381531429,0.13563453773980585,0.15684398922660378,0.1880535866440192,0.2381354415663204,0.27908227209671066,0.25981307489538885,0.20290118004138993,0.12324567700822432,0.049283899982252403,0.11101506111212511,0.16719189659995778,0.18113105177372915,0.16512085500844667,0.1625439080660741,0.1904937436706369,0.23105352673622587,0.2522113108727371,0.24443057703968832,0.21906635388829807,0.18670089754324495,0.16060871933697082,0.14995190105587425,0.15491596477893696,0.15916664953354923,0.15406011783478912,0.14495022620652875,0.08958172188980949,0.06839640477556813,0.08177385913089137,0.11614056295453634,0.2350285558280235,0.33000461953236093,0.4102564804694569,0.46881642520625766,0.0,0.5528917724327111,0.5308352358832014,0.4901880867094133,0.4282144919054783,0.34261887907749666,0.2489165317334858,0.15491779272751155,0.12423083397550859,0.1148790462997327,0.19078206548913257,0.36205367844573527,0.45991485660566,0.5184236074466365,0.5348401566669787,0.5013698363291877,0.5149403035723006,0.5138892869391699,0.49338726168656066,0.45266154865553015,0.4896283231662134,0.4674749295928096,0.43491470545676775,0.3908053244296834,0.37928342062404113,0.3529176164271499,0.32214406974572823,0.28700494074616884,0.24757843682526073,0.20402637510296093,0.15674240214412644,0.10696602820611541,0.06075270477025562,0.05366771631319851],\"type\":\"scatter\"},{\"marker\":{\"color\":\"red\",\"size\":10},\"mode\":\"markers\",\"name\":\"Appoggio tallone\",\"x\":[365.8600797653198,367.5621943473816,369.7659890651703,372.1683523654938,373.46855306625366,374.7691607475281,375.9735300540924,377.87061953544617,379.17172718048096],\"y\":[0.2210474761517728,0.21986155840534646,0.22241024219440156,0.35110013897068265,0.17038121501055495,0.27908227209671066,0.2522113108727371,0.5528917724327111,0.5348401566669787],\"type\":\"scatter\"}],                        {\"autosize\":false,\"font\":{\"color\":\"black\",\"family\":\"Courier New, monospace\",\"size\":22},\"height\":600,\"template\":{\"data\":{\"barpolar\":[{\"marker\":{\"line\":{\"color\":\"#E5ECF6\",\"width\":0.5},\"pattern\":{\"fillmode\":\"overlay\",\"size\":10,\"solidity\":0.2}},\"type\":\"barpolar\"}],\"bar\":[{\"error_x\":{\"color\":\"#2a3f5f\"},\"error_y\":{\"color\":\"#2a3f5f\"},\"marker\":{\"line\":{\"color\":\"#E5ECF6\",\"width\":0.5},\"pattern\":{\"fillmode\":\"overlay\",\"size\":10,\"solidity\":0.2}},\"type\":\"bar\"}],\"carpet\":[{\"aaxis\":{\"endlinecolor\":\"#2a3f5f\",\"gridcolor\":\"white\",\"linecolor\":\"white\",\"minorgridcolor\":\"white\",\"startlinecolor\":\"#2a3f5f\"},\"baxis\":{\"endlinecolor\":\"#2a3f5f\",\"gridcolor\":\"white\",\"linecolor\":\"white\",\"minorgridcolor\":\"white\",\"startlinecolor\":\"#2a3f5f\"},\"type\":\"carpet\"}],\"choropleth\":[{\"colorbar\":{\"outlinewidth\":0,\"ticks\":\"\"},\"type\":\"choropleth\"}],\"contourcarpet\":[{\"colorbar\":{\"outlinewidth\":0,\"ticks\":\"\"},\"type\":\"contourcarpet\"}],\"contour\":[{\"colorbar\":{\"outlinewidth\":0,\"ticks\":\"\"},\"colorscale\":[[0.0,\"#0d0887\"],[0.1111111111111111,\"#46039f\"],[0.2222222222222222,\"#7201a8\"],[0.3333333333333333,\"#9c179e\"],[0.4444444444444444,\"#bd3786\"],[0.5555555555555556,\"#d8576b\"],[0.6666666666666666,\"#ed7953\"],[0.7777777777777778,\"#fb9f3a\"],[0.8888888888888888,\"#fdca26\"],[1.0,\"#f0f921\"]],\"type\":\"contour\"}],\"heatmapgl\":[{\"colorbar\":{\"outlinewidth\":0,\"ticks\":\"\"},\"colorscale\":[[0.0,\"#0d0887\"],[0.1111111111111111,\"#46039f\"],[0.2222222222222222,\"#7201a8\"],[0.3333333333333333,\"#9c179e\"],[0.4444444444444444,\"#bd3786\"],[0.5555555555555556,\"#d8576b\"],[0.6666666666666666,\"#ed7953\"],[0.7777777777777778,\"#fb9f3a\"],[0.8888888888888888,\"#fdca26\"],[1.0,\"#f0f921\"]],\"type\":\"heatmapgl\"}],\"heatmap\":[{\"colorbar\":{\"outlinewidth\":0,\"ticks\":\"\"},\"colorscale\":[[0.0,\"#0d0887\"],[0.1111111111111111,\"#46039f\"],[0.2222222222222222,\"#7201a8\"],[0.3333333333333333,\"#9c179e\"],[0.4444444444444444,\"#bd3786\"],[0.5555555555555556,\"#d8576b\"],[0.6666666666666666,\"#ed7953\"],[0.7777777777777778,\"#fb9f3a\"],[0.8888888888888888,\"#fdca26\"],[1.0,\"#f0f921\"]],\"type\":\"heatmap\"}],\"histogram2dcontour\":[{\"colorbar\":{\"outlinewidth\":0,\"ticks\":\"\"},\"colorscale\":[[0.0,\"#0d0887\"],[0.1111111111111111,\"#46039f\"],[0.2222222222222222,\"#7201a8\"],[0.3333333333333333,\"#9c179e\"],[0.4444444444444444,\"#bd3786\"],[0.5555555555555556,\"#d8576b\"],[0.6666666666666666,\"#ed7953\"],[0.7777777777777778,\"#fb9f3a\"],[0.8888888888888888,\"#fdca26\"],[1.0,\"#f0f921\"]],\"type\":\"histogram2dcontour\"}],\"histogram2d\":[{\"colorbar\":{\"outlinewidth\":0,\"ticks\":\"\"},\"colorscale\":[[0.0,\"#0d0887\"],[0.1111111111111111,\"#46039f\"],[0.2222222222222222,\"#7201a8\"],[0.3333333333333333,\"#9c179e\"],[0.4444444444444444,\"#bd3786\"],[0.5555555555555556,\"#d8576b\"],[0.6666666666666666,\"#ed7953\"],[0.7777777777777778,\"#fb9f3a\"],[0.8888888888888888,\"#fdca26\"],[1.0,\"#f0f921\"]],\"type\":\"histogram2d\"}],\"histogram\":[{\"marker\":{\"pattern\":{\"fillmode\":\"overlay\",\"size\":10,\"solidity\":0.2}},\"type\":\"histogram\"}],\"mesh3d\":[{\"colorbar\":{\"outlinewidth\":0,\"ticks\":\"\"},\"type\":\"mesh3d\"}],\"parcoords\":[{\"line\":{\"colorbar\":{\"outlinewidth\":0,\"ticks\":\"\"}},\"type\":\"parcoords\"}],\"pie\":[{\"automargin\":true,\"type\":\"pie\"}],\"scatter3d\":[{\"line\":{\"colorbar\":{\"outlinewidth\":0,\"ticks\":\"\"}},\"marker\":{\"colorbar\":{\"outlinewidth\":0,\"ticks\":\"\"}},\"type\":\"scatter3d\"}],\"scattercarpet\":[{\"marker\":{\"colorbar\":{\"outlinewidth\":0,\"ticks\":\"\"}},\"type\":\"scattercarpet\"}],\"scattergeo\":[{\"marker\":{\"colorbar\":{\"outlinewidth\":0,\"ticks\":\"\"}},\"type\":\"scattergeo\"}],\"scattergl\":[{\"marker\":{\"colorbar\":{\"outlinewidth\":0,\"ticks\":\"\"}},\"type\":\"scattergl\"}],\"scattermapbox\":[{\"marker\":{\"colorbar\":{\"outlinewidth\":0,\"ticks\":\"\"}},\"type\":\"scattermapbox\"}],\"scatterpolargl\":[{\"marker\":{\"colorbar\":{\"outlinewidth\":0,\"ticks\":\"\"}},\"type\":\"scatterpolargl\"}],\"scatterpolar\":[{\"marker\":{\"colorbar\":{\"outlinewidth\":0,\"ticks\":\"\"}},\"type\":\"scatterpolar\"}],\"scatter\":[{\"fillpattern\":{\"fillmode\":\"overlay\",\"size\":10,\"solidity\":0.2},\"type\":\"scatter\"}],\"scatterternary\":[{\"marker\":{\"colorbar\":{\"outlinewidth\":0,\"ticks\":\"\"}},\"type\":\"scatterternary\"}],\"surface\":[{\"colorbar\":{\"outlinewidth\":0,\"ticks\":\"\"},\"colorscale\":[[0.0,\"#0d0887\"],[0.1111111111111111,\"#46039f\"],[0.2222222222222222,\"#7201a8\"],[0.3333333333333333,\"#9c179e\"],[0.4444444444444444,\"#bd3786\"],[0.5555555555555556,\"#d8576b\"],[0.6666666666666666,\"#ed7953\"],[0.7777777777777778,\"#fb9f3a\"],[0.8888888888888888,\"#fdca26\"],[1.0,\"#f0f921\"]],\"type\":\"surface\"}],\"table\":[{\"cells\":{\"fill\":{\"color\":\"#EBF0F8\"},\"line\":{\"color\":\"white\"}},\"header\":{\"fill\":{\"color\":\"#C8D4E3\"},\"line\":{\"color\":\"white\"}},\"type\":\"table\"}]},\"layout\":{\"annotationdefaults\":{\"arrowcolor\":\"#2a3f5f\",\"arrowhead\":0,\"arrowwidth\":1},\"autotypenumbers\":\"strict\",\"coloraxis\":{\"colorbar\":{\"outlinewidth\":0,\"ticks\":\"\"}},\"colorscale\":{\"diverging\":[[0,\"#8e0152\"],[0.1,\"#c51b7d\"],[0.2,\"#de77ae\"],[0.3,\"#f1b6da\"],[0.4,\"#fde0ef\"],[0.5,\"#f7f7f7\"],[0.6,\"#e6f5d0\"],[0.7,\"#b8e186\"],[0.8,\"#7fbc41\"],[0.9,\"#4d9221\"],[1,\"#276419\"]],\"sequential\":[[0.0,\"#0d0887\"],[0.1111111111111111,\"#46039f\"],[0.2222222222222222,\"#7201a8\"],[0.3333333333333333,\"#9c179e\"],[0.4444444444444444,\"#bd3786\"],[0.5555555555555556,\"#d8576b\"],[0.6666666666666666,\"#ed7953\"],[0.7777777777777778,\"#fb9f3a\"],[0.8888888888888888,\"#fdca26\"],[1.0,\"#f0f921\"]],\"sequentialminus\":[[0.0,\"#0d0887\"],[0.1111111111111111,\"#46039f\"],[0.2222222222222222,\"#7201a8\"],[0.3333333333333333,\"#9c179e\"],[0.4444444444444444,\"#bd3786\"],[0.5555555555555556,\"#d8576b\"],[0.6666666666666666,\"#ed7953\"],[0.7777777777777778,\"#fb9f3a\"],[0.8888888888888888,\"#fdca26\"],[1.0,\"#f0f921\"]]},\"colorway\":[\"#636efa\",\"#EF553B\",\"#00cc96\",\"#ab63fa\",\"#FFA15A\",\"#19d3f3\",\"#FF6692\",\"#B6E880\",\"#FF97FF\",\"#FECB52\"],\"font\":{\"color\":\"#2a3f5f\"},\"geo\":{\"bgcolor\":\"white\",\"lakecolor\":\"white\",\"landcolor\":\"#E5ECF6\",\"showlakes\":true,\"showland\":true,\"subunitcolor\":\"white\"},\"hoverlabel\":{\"align\":\"left\"},\"hovermode\":\"closest\",\"mapbox\":{\"style\":\"light\"},\"paper_bgcolor\":\"white\",\"plot_bgcolor\":\"#E5ECF6\",\"polar\":{\"angularaxis\":{\"gridcolor\":\"white\",\"linecolor\":\"white\",\"ticks\":\"\"},\"bgcolor\":\"#E5ECF6\",\"radialaxis\":{\"gridcolor\":\"white\",\"linecolor\":\"white\",\"ticks\":\"\"}},\"scene\":{\"xaxis\":{\"backgroundcolor\":\"#E5ECF6\",\"gridcolor\":\"white\",\"gridwidth\":2,\"linecolor\":\"white\",\"showbackground\":true,\"ticks\":\"\",\"zerolinecolor\":\"white\"},\"yaxis\":{\"backgroundcolor\":\"#E5ECF6\",\"gridcolor\":\"white\",\"gridwidth\":2,\"linecolor\":\"white\",\"showbackground\":true,\"ticks\":\"\",\"zerolinecolor\":\"white\"},\"zaxis\":{\"backgroundcolor\":\"#E5ECF6\",\"gridcolor\":\"white\",\"gridwidth\":2,\"linecolor\":\"white\",\"showbackground\":true,\"ticks\":\"\",\"zerolinecolor\":\"white\"}},\"shapedefaults\":{\"line\":{\"color\":\"#2a3f5f\"}},\"ternary\":{\"aaxis\":{\"gridcolor\":\"white\",\"linecolor\":\"white\",\"ticks\":\"\"},\"baxis\":{\"gridcolor\":\"white\",\"linecolor\":\"white\",\"ticks\":\"\"},\"bgcolor\":\"#E5ECF6\",\"caxis\":{\"gridcolor\":\"white\",\"linecolor\":\"white\",\"ticks\":\"\"}},\"title\":{\"x\":0.05},\"xaxis\":{\"automargin\":true,\"gridcolor\":\"white\",\"linecolor\":\"white\",\"ticks\":\"\",\"title\":{\"standoff\":15},\"zerolinecolor\":\"white\",\"zerolinewidth\":2},\"yaxis\":{\"automargin\":true,\"gridcolor\":\"white\",\"linecolor\":\"white\",\"ticks\":\"\",\"title\":{\"standoff\":15},\"zerolinecolor\":\"white\",\"zerolinewidth\":2}}},\"title\":{\"text\":\"Distanza tra i piedi\"},\"width\":750,\"xaxis\":{\"title\":{\"font\":{\"color\":\"#7f7f7f\",\"family\":\"Courier New, monospace\",\"size\":18},\"text\":\"time [s]\"}},\"yaxis\":{\"title\":{\"font\":{\"color\":\"#7f7f7f\",\"family\":\"Courier New, monospace\",\"size\":18},\"text\":\"dist [m]\"}}},                        {\"responsive\": true}                    ).then(function(){\n",
       "                            \n",
       "var gd = document.getElementById('a437d982-fb2a-4951-a04c-e318471e63ac');\n",
       "var x = new MutationObserver(function (mutations, observer) {{\n",
       "        var display = window.getComputedStyle(gd).display;\n",
       "        if (!display || display === 'none') {{\n",
       "            console.log([gd, 'removed!']);\n",
       "            Plotly.purge(gd);\n",
       "            observer.disconnect();\n",
       "        }}\n",
       "}});\n",
       "\n",
       "// Listen for the removal of the full notebook cells\n",
       "var notebookContainer = gd.closest('#notebook-container');\n",
       "if (notebookContainer) {{\n",
       "    x.observe(notebookContainer, {childList: true});\n",
       "}}\n",
       "\n",
       "// Listen for the clearing of the current output cell\n",
       "var outputEl = gd.closest('.output');\n",
       "if (outputEl) {{\n",
       "    x.observe(outputEl, {childList: true});\n",
       "}}\n",
       "\n",
       "                        })                };                });            </script>        </div>"
      ]
     },
     "metadata": {},
     "output_type": "display_data"
    },
    {
     "data": {
      "text/html": [
       "<div>\n",
       "<style scoped>\n",
       "    .dataframe tbody tr th:only-of-type {\n",
       "        vertical-align: middle;\n",
       "    }\n",
       "\n",
       "    .dataframe tbody tr th {\n",
       "        vertical-align: top;\n",
       "    }\n",
       "\n",
       "    .dataframe thead th {\n",
       "        text-align: right;\n",
       "    }\n",
       "</style>\n",
       "<table border=\"1\" class=\"dataframe\">\n",
       "  <thead>\n",
       "    <tr style=\"text-align: right;\">\n",
       "      <th></th>\n",
       "      <th>Gait analysis</th>\n",
       "    </tr>\n",
       "  </thead>\n",
       "  <tbody>\n",
       "    <tr>\n",
       "      <th>Step Length Avg. [m]</th>\n",
       "      <td>0.311536</td>\n",
       "    </tr>\n",
       "    <tr>\n",
       "      <th>Number of steps</th>\n",
       "      <td>9.000000</td>\n",
       "    </tr>\n",
       "    <tr>\n",
       "      <th>Cadence [steps/s]</th>\n",
       "      <td>0.535295</td>\n",
       "    </tr>\n",
       "    <tr>\n",
       "      <th>Speed [m/s]</th>\n",
       "      <td>0.166764</td>\n",
       "    </tr>\n",
       "    <tr>\n",
       "      <th>Execution time [s]</th>\n",
       "      <td>16.813154</td>\n",
       "    </tr>\n",
       "  </tbody>\n",
       "</table>\n",
       "</div>"
      ],
      "text/plain": [
       "                      Gait analysis\n",
       "Step Length Avg. [m]       0.311536\n",
       "Number of steps            9.000000\n",
       "Cadence [steps/s]          0.535295\n",
       "Speed [m/s]                0.166764\n",
       "Execution time [s]        16.813154"
      ]
     },
     "metadata": {},
     "output_type": "display_data"
    }
   ],
   "source": [
    "lastsess_time = time[-1]\n",
    "lastsess_result = exercises[-1].result\n",
    "lastsess_res_step = []\n",
    "\n",
    "%matplotlib inline\n",
    "%matplotlib inline\n",
    "for i in range(len(lastsess_result)):\n",
    "    lastsess_met,lastsess_resi = lastsess_result[i]\n",
    "    lastsess_metname = lastsess_met.name\n",
    "    ################\n",
    "    #     ROM      #\n",
    "    ################\n",
    "    if lastsess_metname == \"ROM\":\n",
    "        lastsess_metjoint = lastsess_met.tagjoint\n",
    "        trace1 = go.Scatter(\n",
    "            x=lastsess_time,y=lastsess_resi,\n",
    "            mode='lines',\n",
    "            line=dict(\n",
    "                color='blue',\n",
    "                width=3\n",
    "            ),\n",
    "            name='Andamento Reale'\n",
    "        )\n",
    "        data = [trace1]\n",
    "        layout = dict(\n",
    "            width=750,\n",
    "            height=600,\n",
    "            autosize=False,\n",
    "            title='Range of Motion '+lastsess_metjoint,\n",
    "            font=dict(family='Courier New, monospace', size=22, color='black'),\n",
    "            xaxis=dict(\n",
    "                title='time [s]',\n",
    "                titlefont=dict(\n",
    "                    family='Courier New, monospace',\n",
    "                    size=18,\n",
    "                    color='#7f7f7f'\n",
    "                )\n",
    "            ),\n",
    "            yaxis=dict(\n",
    "                title='ROM [gradi]',\n",
    "                titlefont=dict(\n",
    "                    family='Courier New, monospace',\n",
    "                    size=18,\n",
    "                    color='#7f7f7f'\n",
    "                )\n",
    "            )\n",
    "        )\n",
    "        fig = dict(data=data, layout=layout)\n",
    "        iplot(fig)\n",
    "\n",
    "    ################\n",
    "    #     STEP     #\n",
    "    ################\n",
    "    if lastsess_metname == \"step\":\n",
    "        dist=lastsess_resi[5]\n",
    "        strikes=lastsess_resi[6]\n",
    "        trace1 = go.Scatter(\n",
    "            x=lastsess_time,y=dist,\n",
    "            mode='lines',\n",
    "            line=dict(\n",
    "                color='blue',\n",
    "                width=3\n",
    "            ),\n",
    "            name='Distanza tra i piedi'\n",
    "        )\n",
    "        trace2 = go.Scatter(\n",
    "            x=lastsess_time[strikes],y=dist[strikes],\n",
    "            mode='markers',\n",
    "            marker=dict(\n",
    "                color='red',\n",
    "                size=10\n",
    "            ),\n",
    "            name='Appoggio tallone'\n",
    "        )\n",
    "        data = [trace1,trace2]\n",
    "        layout = dict(\n",
    "            width=750,\n",
    "            height=600,\n",
    "            autosize=False,\n",
    "            title='Distanza tra i piedi',\n",
    "            font=dict(family='Courier New, monospace', size=22, color='black'),\n",
    "            xaxis=dict(\n",
    "                title='time [s]',\n",
    "                titlefont=dict(\n",
    "                    family='Courier New, monospace',\n",
    "                    size=18,\n",
    "                    color='#7f7f7f'\n",
    "                )\n",
    "            ),\n",
    "            yaxis=dict(\n",
    "                title='dist [m]',\n",
    "                titlefont=dict(\n",
    "                    family='Courier New, monospace',\n",
    "                    size=18,\n",
    "                    color='#7f7f7f'\n",
    "                )\n",
    "            )\n",
    "        )\n",
    "        fig = dict(data=data, layout=layout)\n",
    "        iplot(fig)\n",
    "\n",
    "        lastsess_res_step.append(lastsess_resi)\n",
    "        sla = lastsess_res_step[0][8]\n",
    "        ns = lastsess_res_step[0][1]\n",
    "        cad = lastsess_res_step[0][2]\n",
    "        sp = lastsess_res_step[0][3]\n",
    "        ex = lastsess_res_step[0][4]\n",
    "        tablestep = pd.DataFrame([sla, ns, cad, sp, ex])\n",
    "        tablestep.rename(index={0:\"Step Length Avg. [m]\",1:\"Number of steps\",2:\"Cadence [steps/s]\",\n",
    "                                3:\"Speed [m/s]\",4:\"Execution time [s]\"},\n",
    "                         columns={0:\"Gait analysis\"}, inplace=True)\n",
    "        display(tablestep)\n",
    "\n",
    "    ################\n",
    "    #      EP      #\n",
    "    ################\n",
    "    if lastsess_metname == \"EP\":\n",
    "        target = lastsess_met.target\n",
    "        trace1 = go.Scatter3d(\n",
    "            x=lastsess_resi[:,0], y=lastsess_resi[:,1], z=lastsess_resi[:,2],\n",
    "            mode = 'lines',\n",
    "            line=dict(\n",
    "                color='blue',\n",
    "                width=3\n",
    "            ),\n",
    "            name = 'Traiettorie'\n",
    "        )\n",
    "        trace2 = go.Scatter3d(\n",
    "            x=[target[0]], y=[target[1]], z=[target[2]],\n",
    "            mode = 'markers',\n",
    "            marker=dict(\n",
    "                color='red',\n",
    "                size=5\n",
    "            ),\n",
    "            name = 'Target da raggiungere'\n",
    "        )\n",
    "        data = [trace1, trace2]    \n",
    "        layout = dict(\n",
    "            margin=dict(\n",
    "                l=0,\n",
    "                r=0,\n",
    "                b=0\n",
    "            ),\n",
    "            title='Traiettorie End-point',\n",
    "            font=dict(family='Courier New, monospace', size=22, color='black'),\n",
    "            scene=dict(\n",
    "                xaxis=dict(\n",
    "                    title='x [cm]',\n",
    "                    titlefont=dict(\n",
    "                        family='Courier New, monospace',\n",
    "                        size=18,\n",
    "                        color='#7f7f7f'\n",
    "                    ),\n",
    "                    tickfont=dict(\n",
    "                        family='Courier New, monospace',\n",
    "                        size=14,\n",
    "                        color='#7f7f7f'\n",
    "                    ),\n",
    "                    gridcolor='rgb(255, 255, 255)',\n",
    "                    zerolinecolor='rgb(255, 255, 255)',\n",
    "                    showbackground=True,\n",
    "                    backgroundcolor='rgb(230, 230,230)'\n",
    "                ),\n",
    "                yaxis=dict(\n",
    "                    title='y [cm]',\n",
    "                    titlefont=dict(\n",
    "                        family='Courier New, monospace',\n",
    "                        size=18,\n",
    "                        color='#7f7f7f'\n",
    "                    ),\n",
    "                    tickfont=dict(\n",
    "                        family='Courier New, monospace',\n",
    "                        size=14,\n",
    "                        color='#7f7f7f'\n",
    "                    ),\n",
    "                    gridcolor='rgb(255, 255, 255)',\n",
    "                    zerolinecolor='rgb(255, 255, 255)',\n",
    "                    showbackground=True,\n",
    "                    backgroundcolor='rgb(230, 230,230)'\n",
    "                ),\n",
    "                zaxis=dict(\n",
    "                    title='z [cm]',\n",
    "                    titlefont=dict(\n",
    "                        family='Courier New, monospace',\n",
    "                        size=18,\n",
    "                        color='#7f7f7f'\n",
    "                    ),\n",
    "                    tickfont=dict(\n",
    "                        family='Courier New, monospace',\n",
    "                        size=14,\n",
    "                        color='#7f7f7f'\n",
    "                    ),\n",
    "                    gridcolor='rgb(255, 255, 255)',\n",
    "                    zerolinecolor='rgb(255, 255, 255)',\n",
    "                    showbackground=True,\n",
    "                    backgroundcolor='rgb(230, 230,230)'\n",
    "                ),\n",
    "                camera=dict(\n",
    "                    up=dict(\n",
    "                        x=0,\n",
    "                        y=0,\n",
    "                        z=1\n",
    "                    ),\n",
    "                    eye=dict(\n",
    "                        x=-1.7428,\n",
    "                        y=1.0707,\n",
    "                        z=0.7100,\n",
    "                    )\n",
    "                ),\n",
    "                aspectratio = dict( x=1, y=1, z=0.7 ),\n",
    "                aspectmode = 'manual'\n",
    "            ),\n",
    "        )\n",
    "        fig = dict(data=data, layout=layout)\n",
    "        iplot(fig)\n"
   ]
  },
  {
   "cell_type": "code",
   "execution_count": 85,
   "metadata": {
    "scrolled": false
   },
   "outputs": [
    {
     "data": {
      "text/html": [
       "<div>\n",
       "<style scoped>\n",
       "    .dataframe tbody tr th:only-of-type {\n",
       "        vertical-align: middle;\n",
       "    }\n",
       "\n",
       "    .dataframe tbody tr th {\n",
       "        vertical-align: top;\n",
       "    }\n",
       "\n",
       "    .dataframe thead th {\n",
       "        text-align: right;\n",
       "    }\n",
       "</style>\n",
       "<table border=\"1\" class=\"dataframe\">\n",
       "  <thead>\n",
       "    <tr style=\"text-align: right;\">\n",
       "      <th></th>\n",
       "      <th>Tabella TUG</th>\n",
       "    </tr>\n",
       "  </thead>\n",
       "  <tbody>\n",
       "    <tr>\n",
       "      <th>&lt; 10 s</th>\n",
       "      <td>Normale mobilità</td>\n",
       "    </tr>\n",
       "    <tr>\n",
       "      <th>&lt; 20 s</th>\n",
       "      <td>Buona mobilita</td>\n",
       "    </tr>\n",
       "    <tr>\n",
       "      <th>&lt; 30 s</th>\n",
       "      <td>Ausili cammino</td>\n",
       "    </tr>\n",
       "    <tr>\n",
       "      <th>&gt;= 30 s</th>\n",
       "      <td>Rischio caduta</td>\n",
       "    </tr>\n",
       "  </tbody>\n",
       "</table>\n",
       "</div>"
      ],
      "text/plain": [
       "              Tabella TUG\n",
       "< 10 s   Normale mobilità\n",
       "< 20 s     Buona mobilita\n",
       "< 30 s     Ausili cammino\n",
       ">= 30 s    Rischio caduta"
      ]
     },
     "metadata": {},
     "output_type": "display_data"
    },
    {
     "name": "stdout",
     "output_type": "stream",
     "text": [
      "Il test è stato svolto in 0.0 s\n",
      "La valutazione è \u001b[1;30;42m Normale mobilità\n"
     ]
    }
   ],
   "source": [
    "if exname == 'tug':\n",
    "\n",
    "    table_tug = pd.DataFrame([['Normale mobilità'],['Buona mobilita'],['Ausili cammino'],['Rischio caduta']],\n",
    "             index=['< 10 s','< 20 s','< 30 s','>= 30 s'],\n",
    "             columns=['Tabella TUG'])\n",
    "    display(table_tug)\n",
    "\n",
    "    time_score = lastsess_res_step[0][4]\n",
    "    print(\"Il test è stato svolto in\",round(time_score,2),\"s\")\n",
    "    if time_score < 10:\n",
    "        evaluation = 'Normale mobilità'\n",
    "        print(\"La valutazione è \u001b[1;30;42m\",evaluation)\n",
    "    elif time_score < 20:\n",
    "        evaluation = 'Buona mobilità, non necessita ausili'\n",
    "        print(\"La valutazione è \u001b[1;30;42m\",evaluation)\n",
    "    elif time_score < 30:\n",
    "        evaluation = 'Necessita ausili cammino'\n",
    "        print(\"La valutazione è \u001b[1;30;43m\",evaluation)\n",
    "    elif time_score >= 30:\n",
    "        evaluation = 'Rischio caduta'\n",
    "        print(\"La valutazione è \u001b[1;30;41m\",evaluation)\n"
   ]
  },
  {
   "cell_type": "markdown",
   "metadata": {},
   "source": [
    " \n",
    "## Andamento stato clinico"
   ]
  },
  {
   "cell_type": "markdown",
   "metadata": {},
   "source": [
    " \n",
    "Gli esercizi svolti dal paziente nei mesi in analisi sono raggruppati come segue:"
   ]
  },
  {
   "cell_type": "code",
   "execution_count": 86,
   "metadata": {
    "scrolled": false
   },
   "outputs": [
    {
     "data": {
      "application/vnd.plotly.v1+json": {
       "config": {
        "linkText": "Export to plot.ly",
        "plotlyServerURL": "https://plot.ly",
        "showLink": false
       },
       "data": [
        {
         "hole": 0.3,
         "hoverinfo": "label+percent+value",
         "labels": [
          "reaching_left",
          "abduction_left",
          "internal-rotation_left",
          "external-rotation_left",
          "timed-up-and-go"
         ],
         "marker": {
          "colors": [
           "#FEBFB3",
           "#E1396C",
           "#96D38C",
           "#D0F9B1"
          ],
          "line": {
           "color": "#000000",
           "width": 2
          }
         },
         "textfont": {
          "size": 20
         },
         "type": "pie",
         "values": [
          0,
          0,
          0,
          0,
          1
         ]
        }
       ],
       "layout": {
        "template": {
         "data": {
          "bar": [
           {
            "error_x": {
             "color": "#2a3f5f"
            },
            "error_y": {
             "color": "#2a3f5f"
            },
            "marker": {
             "line": {
              "color": "#E5ECF6",
              "width": 0.5
             },
             "pattern": {
              "fillmode": "overlay",
              "size": 10,
              "solidity": 0.2
             }
            },
            "type": "bar"
           }
          ],
          "barpolar": [
           {
            "marker": {
             "line": {
              "color": "#E5ECF6",
              "width": 0.5
             },
             "pattern": {
              "fillmode": "overlay",
              "size": 10,
              "solidity": 0.2
             }
            },
            "type": "barpolar"
           }
          ],
          "carpet": [
           {
            "aaxis": {
             "endlinecolor": "#2a3f5f",
             "gridcolor": "white",
             "linecolor": "white",
             "minorgridcolor": "white",
             "startlinecolor": "#2a3f5f"
            },
            "baxis": {
             "endlinecolor": "#2a3f5f",
             "gridcolor": "white",
             "linecolor": "white",
             "minorgridcolor": "white",
             "startlinecolor": "#2a3f5f"
            },
            "type": "carpet"
           }
          ],
          "choropleth": [
           {
            "colorbar": {
             "outlinewidth": 0,
             "ticks": ""
            },
            "type": "choropleth"
           }
          ],
          "contour": [
           {
            "colorbar": {
             "outlinewidth": 0,
             "ticks": ""
            },
            "colorscale": [
             [
              0,
              "#0d0887"
             ],
             [
              0.1111111111111111,
              "#46039f"
             ],
             [
              0.2222222222222222,
              "#7201a8"
             ],
             [
              0.3333333333333333,
              "#9c179e"
             ],
             [
              0.4444444444444444,
              "#bd3786"
             ],
             [
              0.5555555555555556,
              "#d8576b"
             ],
             [
              0.6666666666666666,
              "#ed7953"
             ],
             [
              0.7777777777777778,
              "#fb9f3a"
             ],
             [
              0.8888888888888888,
              "#fdca26"
             ],
             [
              1,
              "#f0f921"
             ]
            ],
            "type": "contour"
           }
          ],
          "contourcarpet": [
           {
            "colorbar": {
             "outlinewidth": 0,
             "ticks": ""
            },
            "type": "contourcarpet"
           }
          ],
          "heatmap": [
           {
            "colorbar": {
             "outlinewidth": 0,
             "ticks": ""
            },
            "colorscale": [
             [
              0,
              "#0d0887"
             ],
             [
              0.1111111111111111,
              "#46039f"
             ],
             [
              0.2222222222222222,
              "#7201a8"
             ],
             [
              0.3333333333333333,
              "#9c179e"
             ],
             [
              0.4444444444444444,
              "#bd3786"
             ],
             [
              0.5555555555555556,
              "#d8576b"
             ],
             [
              0.6666666666666666,
              "#ed7953"
             ],
             [
              0.7777777777777778,
              "#fb9f3a"
             ],
             [
              0.8888888888888888,
              "#fdca26"
             ],
             [
              1,
              "#f0f921"
             ]
            ],
            "type": "heatmap"
           }
          ],
          "heatmapgl": [
           {
            "colorbar": {
             "outlinewidth": 0,
             "ticks": ""
            },
            "colorscale": [
             [
              0,
              "#0d0887"
             ],
             [
              0.1111111111111111,
              "#46039f"
             ],
             [
              0.2222222222222222,
              "#7201a8"
             ],
             [
              0.3333333333333333,
              "#9c179e"
             ],
             [
              0.4444444444444444,
              "#bd3786"
             ],
             [
              0.5555555555555556,
              "#d8576b"
             ],
             [
              0.6666666666666666,
              "#ed7953"
             ],
             [
              0.7777777777777778,
              "#fb9f3a"
             ],
             [
              0.8888888888888888,
              "#fdca26"
             ],
             [
              1,
              "#f0f921"
             ]
            ],
            "type": "heatmapgl"
           }
          ],
          "histogram": [
           {
            "marker": {
             "pattern": {
              "fillmode": "overlay",
              "size": 10,
              "solidity": 0.2
             }
            },
            "type": "histogram"
           }
          ],
          "histogram2d": [
           {
            "colorbar": {
             "outlinewidth": 0,
             "ticks": ""
            },
            "colorscale": [
             [
              0,
              "#0d0887"
             ],
             [
              0.1111111111111111,
              "#46039f"
             ],
             [
              0.2222222222222222,
              "#7201a8"
             ],
             [
              0.3333333333333333,
              "#9c179e"
             ],
             [
              0.4444444444444444,
              "#bd3786"
             ],
             [
              0.5555555555555556,
              "#d8576b"
             ],
             [
              0.6666666666666666,
              "#ed7953"
             ],
             [
              0.7777777777777778,
              "#fb9f3a"
             ],
             [
              0.8888888888888888,
              "#fdca26"
             ],
             [
              1,
              "#f0f921"
             ]
            ],
            "type": "histogram2d"
           }
          ],
          "histogram2dcontour": [
           {
            "colorbar": {
             "outlinewidth": 0,
             "ticks": ""
            },
            "colorscale": [
             [
              0,
              "#0d0887"
             ],
             [
              0.1111111111111111,
              "#46039f"
             ],
             [
              0.2222222222222222,
              "#7201a8"
             ],
             [
              0.3333333333333333,
              "#9c179e"
             ],
             [
              0.4444444444444444,
              "#bd3786"
             ],
             [
              0.5555555555555556,
              "#d8576b"
             ],
             [
              0.6666666666666666,
              "#ed7953"
             ],
             [
              0.7777777777777778,
              "#fb9f3a"
             ],
             [
              0.8888888888888888,
              "#fdca26"
             ],
             [
              1,
              "#f0f921"
             ]
            ],
            "type": "histogram2dcontour"
           }
          ],
          "mesh3d": [
           {
            "colorbar": {
             "outlinewidth": 0,
             "ticks": ""
            },
            "type": "mesh3d"
           }
          ],
          "parcoords": [
           {
            "line": {
             "colorbar": {
              "outlinewidth": 0,
              "ticks": ""
             }
            },
            "type": "parcoords"
           }
          ],
          "pie": [
           {
            "automargin": true,
            "type": "pie"
           }
          ],
          "scatter": [
           {
            "fillpattern": {
             "fillmode": "overlay",
             "size": 10,
             "solidity": 0.2
            },
            "type": "scatter"
           }
          ],
          "scatter3d": [
           {
            "line": {
             "colorbar": {
              "outlinewidth": 0,
              "ticks": ""
             }
            },
            "marker": {
             "colorbar": {
              "outlinewidth": 0,
              "ticks": ""
             }
            },
            "type": "scatter3d"
           }
          ],
          "scattercarpet": [
           {
            "marker": {
             "colorbar": {
              "outlinewidth": 0,
              "ticks": ""
             }
            },
            "type": "scattercarpet"
           }
          ],
          "scattergeo": [
           {
            "marker": {
             "colorbar": {
              "outlinewidth": 0,
              "ticks": ""
             }
            },
            "type": "scattergeo"
           }
          ],
          "scattergl": [
           {
            "marker": {
             "colorbar": {
              "outlinewidth": 0,
              "ticks": ""
             }
            },
            "type": "scattergl"
           }
          ],
          "scattermapbox": [
           {
            "marker": {
             "colorbar": {
              "outlinewidth": 0,
              "ticks": ""
             }
            },
            "type": "scattermapbox"
           }
          ],
          "scatterpolar": [
           {
            "marker": {
             "colorbar": {
              "outlinewidth": 0,
              "ticks": ""
             }
            },
            "type": "scatterpolar"
           }
          ],
          "scatterpolargl": [
           {
            "marker": {
             "colorbar": {
              "outlinewidth": 0,
              "ticks": ""
             }
            },
            "type": "scatterpolargl"
           }
          ],
          "scatterternary": [
           {
            "marker": {
             "colorbar": {
              "outlinewidth": 0,
              "ticks": ""
             }
            },
            "type": "scatterternary"
           }
          ],
          "surface": [
           {
            "colorbar": {
             "outlinewidth": 0,
             "ticks": ""
            },
            "colorscale": [
             [
              0,
              "#0d0887"
             ],
             [
              0.1111111111111111,
              "#46039f"
             ],
             [
              0.2222222222222222,
              "#7201a8"
             ],
             [
              0.3333333333333333,
              "#9c179e"
             ],
             [
              0.4444444444444444,
              "#bd3786"
             ],
             [
              0.5555555555555556,
              "#d8576b"
             ],
             [
              0.6666666666666666,
              "#ed7953"
             ],
             [
              0.7777777777777778,
              "#fb9f3a"
             ],
             [
              0.8888888888888888,
              "#fdca26"
             ],
             [
              1,
              "#f0f921"
             ]
            ],
            "type": "surface"
           }
          ],
          "table": [
           {
            "cells": {
             "fill": {
              "color": "#EBF0F8"
             },
             "line": {
              "color": "white"
             }
            },
            "header": {
             "fill": {
              "color": "#C8D4E3"
             },
             "line": {
              "color": "white"
             }
            },
            "type": "table"
           }
          ]
         },
         "layout": {
          "annotationdefaults": {
           "arrowcolor": "#2a3f5f",
           "arrowhead": 0,
           "arrowwidth": 1
          },
          "autotypenumbers": "strict",
          "coloraxis": {
           "colorbar": {
            "outlinewidth": 0,
            "ticks": ""
           }
          },
          "colorscale": {
           "diverging": [
            [
             0,
             "#8e0152"
            ],
            [
             0.1,
             "#c51b7d"
            ],
            [
             0.2,
             "#de77ae"
            ],
            [
             0.3,
             "#f1b6da"
            ],
            [
             0.4,
             "#fde0ef"
            ],
            [
             0.5,
             "#f7f7f7"
            ],
            [
             0.6,
             "#e6f5d0"
            ],
            [
             0.7,
             "#b8e186"
            ],
            [
             0.8,
             "#7fbc41"
            ],
            [
             0.9,
             "#4d9221"
            ],
            [
             1,
             "#276419"
            ]
           ],
           "sequential": [
            [
             0,
             "#0d0887"
            ],
            [
             0.1111111111111111,
             "#46039f"
            ],
            [
             0.2222222222222222,
             "#7201a8"
            ],
            [
             0.3333333333333333,
             "#9c179e"
            ],
            [
             0.4444444444444444,
             "#bd3786"
            ],
            [
             0.5555555555555556,
             "#d8576b"
            ],
            [
             0.6666666666666666,
             "#ed7953"
            ],
            [
             0.7777777777777778,
             "#fb9f3a"
            ],
            [
             0.8888888888888888,
             "#fdca26"
            ],
            [
             1,
             "#f0f921"
            ]
           ],
           "sequentialminus": [
            [
             0,
             "#0d0887"
            ],
            [
             0.1111111111111111,
             "#46039f"
            ],
            [
             0.2222222222222222,
             "#7201a8"
            ],
            [
             0.3333333333333333,
             "#9c179e"
            ],
            [
             0.4444444444444444,
             "#bd3786"
            ],
            [
             0.5555555555555556,
             "#d8576b"
            ],
            [
             0.6666666666666666,
             "#ed7953"
            ],
            [
             0.7777777777777778,
             "#fb9f3a"
            ],
            [
             0.8888888888888888,
             "#fdca26"
            ],
            [
             1,
             "#f0f921"
            ]
           ]
          },
          "colorway": [
           "#636efa",
           "#EF553B",
           "#00cc96",
           "#ab63fa",
           "#FFA15A",
           "#19d3f3",
           "#FF6692",
           "#B6E880",
           "#FF97FF",
           "#FECB52"
          ],
          "font": {
           "color": "#2a3f5f"
          },
          "geo": {
           "bgcolor": "white",
           "lakecolor": "white",
           "landcolor": "#E5ECF6",
           "showlakes": true,
           "showland": true,
           "subunitcolor": "white"
          },
          "hoverlabel": {
           "align": "left"
          },
          "hovermode": "closest",
          "mapbox": {
           "style": "light"
          },
          "paper_bgcolor": "white",
          "plot_bgcolor": "#E5ECF6",
          "polar": {
           "angularaxis": {
            "gridcolor": "white",
            "linecolor": "white",
            "ticks": ""
           },
           "bgcolor": "#E5ECF6",
           "radialaxis": {
            "gridcolor": "white",
            "linecolor": "white",
            "ticks": ""
           }
          },
          "scene": {
           "xaxis": {
            "backgroundcolor": "#E5ECF6",
            "gridcolor": "white",
            "gridwidth": 2,
            "linecolor": "white",
            "showbackground": true,
            "ticks": "",
            "zerolinecolor": "white"
           },
           "yaxis": {
            "backgroundcolor": "#E5ECF6",
            "gridcolor": "white",
            "gridwidth": 2,
            "linecolor": "white",
            "showbackground": true,
            "ticks": "",
            "zerolinecolor": "white"
           },
           "zaxis": {
            "backgroundcolor": "#E5ECF6",
            "gridcolor": "white",
            "gridwidth": 2,
            "linecolor": "white",
            "showbackground": true,
            "ticks": "",
            "zerolinecolor": "white"
           }
          },
          "shapedefaults": {
           "line": {
            "color": "#2a3f5f"
           }
          },
          "ternary": {
           "aaxis": {
            "gridcolor": "white",
            "linecolor": "white",
            "ticks": ""
           },
           "baxis": {
            "gridcolor": "white",
            "linecolor": "white",
            "ticks": ""
           },
           "bgcolor": "#E5ECF6",
           "caxis": {
            "gridcolor": "white",
            "linecolor": "white",
            "ticks": ""
           }
          },
          "title": {
           "x": 0.05
          },
          "xaxis": {
           "automargin": true,
           "gridcolor": "white",
           "linecolor": "white",
           "ticks": "",
           "title": {
            "standoff": 15
           },
           "zerolinecolor": "white",
           "zerolinewidth": 2
          },
          "yaxis": {
           "automargin": true,
           "gridcolor": "white",
           "linecolor": "white",
           "ticks": "",
           "title": {
            "standoff": 15
           },
           "zerolinecolor": "white",
           "zerolinewidth": 2
          }
         }
        },
        "title": {
         "text": "Performed exercises"
        }
       }
      },
      "text/html": [
       "<div>                            <div id=\"7ca58c84-c58e-4982-867d-d576801a374e\" class=\"plotly-graph-div\" style=\"height:525px; width:100%;\"></div>            <script type=\"text/javascript\">                require([\"plotly\"], function(Plotly) {                    window.PLOTLYENV=window.PLOTLYENV || {};                                    if (document.getElementById(\"7ca58c84-c58e-4982-867d-d576801a374e\")) {                    Plotly.newPlot(                        \"7ca58c84-c58e-4982-867d-d576801a374e\",                        [{\"hole\":0.3,\"hoverinfo\":\"label+percent+value\",\"labels\":[\"reaching_left\",\"abduction_left\",\"internal-rotation_left\",\"external-rotation_left\",\"timed-up-and-go\"],\"marker\":{\"colors\":[\"#FEBFB3\",\"#E1396C\",\"#96D38C\",\"#D0F9B1\"],\"line\":{\"color\":\"#000000\",\"width\":2}},\"textfont\":{\"size\":20},\"values\":[0,0,0,0,1],\"type\":\"pie\"}],                        {\"template\":{\"data\":{\"barpolar\":[{\"marker\":{\"line\":{\"color\":\"#E5ECF6\",\"width\":0.5},\"pattern\":{\"fillmode\":\"overlay\",\"size\":10,\"solidity\":0.2}},\"type\":\"barpolar\"}],\"bar\":[{\"error_x\":{\"color\":\"#2a3f5f\"},\"error_y\":{\"color\":\"#2a3f5f\"},\"marker\":{\"line\":{\"color\":\"#E5ECF6\",\"width\":0.5},\"pattern\":{\"fillmode\":\"overlay\",\"size\":10,\"solidity\":0.2}},\"type\":\"bar\"}],\"carpet\":[{\"aaxis\":{\"endlinecolor\":\"#2a3f5f\",\"gridcolor\":\"white\",\"linecolor\":\"white\",\"minorgridcolor\":\"white\",\"startlinecolor\":\"#2a3f5f\"},\"baxis\":{\"endlinecolor\":\"#2a3f5f\",\"gridcolor\":\"white\",\"linecolor\":\"white\",\"minorgridcolor\":\"white\",\"startlinecolor\":\"#2a3f5f\"},\"type\":\"carpet\"}],\"choropleth\":[{\"colorbar\":{\"outlinewidth\":0,\"ticks\":\"\"},\"type\":\"choropleth\"}],\"contourcarpet\":[{\"colorbar\":{\"outlinewidth\":0,\"ticks\":\"\"},\"type\":\"contourcarpet\"}],\"contour\":[{\"colorbar\":{\"outlinewidth\":0,\"ticks\":\"\"},\"colorscale\":[[0.0,\"#0d0887\"],[0.1111111111111111,\"#46039f\"],[0.2222222222222222,\"#7201a8\"],[0.3333333333333333,\"#9c179e\"],[0.4444444444444444,\"#bd3786\"],[0.5555555555555556,\"#d8576b\"],[0.6666666666666666,\"#ed7953\"],[0.7777777777777778,\"#fb9f3a\"],[0.8888888888888888,\"#fdca26\"],[1.0,\"#f0f921\"]],\"type\":\"contour\"}],\"heatmapgl\":[{\"colorbar\":{\"outlinewidth\":0,\"ticks\":\"\"},\"colorscale\":[[0.0,\"#0d0887\"],[0.1111111111111111,\"#46039f\"],[0.2222222222222222,\"#7201a8\"],[0.3333333333333333,\"#9c179e\"],[0.4444444444444444,\"#bd3786\"],[0.5555555555555556,\"#d8576b\"],[0.6666666666666666,\"#ed7953\"],[0.7777777777777778,\"#fb9f3a\"],[0.8888888888888888,\"#fdca26\"],[1.0,\"#f0f921\"]],\"type\":\"heatmapgl\"}],\"heatmap\":[{\"colorbar\":{\"outlinewidth\":0,\"ticks\":\"\"},\"colorscale\":[[0.0,\"#0d0887\"],[0.1111111111111111,\"#46039f\"],[0.2222222222222222,\"#7201a8\"],[0.3333333333333333,\"#9c179e\"],[0.4444444444444444,\"#bd3786\"],[0.5555555555555556,\"#d8576b\"],[0.6666666666666666,\"#ed7953\"],[0.7777777777777778,\"#fb9f3a\"],[0.8888888888888888,\"#fdca26\"],[1.0,\"#f0f921\"]],\"type\":\"heatmap\"}],\"histogram2dcontour\":[{\"colorbar\":{\"outlinewidth\":0,\"ticks\":\"\"},\"colorscale\":[[0.0,\"#0d0887\"],[0.1111111111111111,\"#46039f\"],[0.2222222222222222,\"#7201a8\"],[0.3333333333333333,\"#9c179e\"],[0.4444444444444444,\"#bd3786\"],[0.5555555555555556,\"#d8576b\"],[0.6666666666666666,\"#ed7953\"],[0.7777777777777778,\"#fb9f3a\"],[0.8888888888888888,\"#fdca26\"],[1.0,\"#f0f921\"]],\"type\":\"histogram2dcontour\"}],\"histogram2d\":[{\"colorbar\":{\"outlinewidth\":0,\"ticks\":\"\"},\"colorscale\":[[0.0,\"#0d0887\"],[0.1111111111111111,\"#46039f\"],[0.2222222222222222,\"#7201a8\"],[0.3333333333333333,\"#9c179e\"],[0.4444444444444444,\"#bd3786\"],[0.5555555555555556,\"#d8576b\"],[0.6666666666666666,\"#ed7953\"],[0.7777777777777778,\"#fb9f3a\"],[0.8888888888888888,\"#fdca26\"],[1.0,\"#f0f921\"]],\"type\":\"histogram2d\"}],\"histogram\":[{\"marker\":{\"pattern\":{\"fillmode\":\"overlay\",\"size\":10,\"solidity\":0.2}},\"type\":\"histogram\"}],\"mesh3d\":[{\"colorbar\":{\"outlinewidth\":0,\"ticks\":\"\"},\"type\":\"mesh3d\"}],\"parcoords\":[{\"line\":{\"colorbar\":{\"outlinewidth\":0,\"ticks\":\"\"}},\"type\":\"parcoords\"}],\"pie\":[{\"automargin\":true,\"type\":\"pie\"}],\"scatter3d\":[{\"line\":{\"colorbar\":{\"outlinewidth\":0,\"ticks\":\"\"}},\"marker\":{\"colorbar\":{\"outlinewidth\":0,\"ticks\":\"\"}},\"type\":\"scatter3d\"}],\"scattercarpet\":[{\"marker\":{\"colorbar\":{\"outlinewidth\":0,\"ticks\":\"\"}},\"type\":\"scattercarpet\"}],\"scattergeo\":[{\"marker\":{\"colorbar\":{\"outlinewidth\":0,\"ticks\":\"\"}},\"type\":\"scattergeo\"}],\"scattergl\":[{\"marker\":{\"colorbar\":{\"outlinewidth\":0,\"ticks\":\"\"}},\"type\":\"scattergl\"}],\"scattermapbox\":[{\"marker\":{\"colorbar\":{\"outlinewidth\":0,\"ticks\":\"\"}},\"type\":\"scattermapbox\"}],\"scatterpolargl\":[{\"marker\":{\"colorbar\":{\"outlinewidth\":0,\"ticks\":\"\"}},\"type\":\"scatterpolargl\"}],\"scatterpolar\":[{\"marker\":{\"colorbar\":{\"outlinewidth\":0,\"ticks\":\"\"}},\"type\":\"scatterpolar\"}],\"scatter\":[{\"fillpattern\":{\"fillmode\":\"overlay\",\"size\":10,\"solidity\":0.2},\"type\":\"scatter\"}],\"scatterternary\":[{\"marker\":{\"colorbar\":{\"outlinewidth\":0,\"ticks\":\"\"}},\"type\":\"scatterternary\"}],\"surface\":[{\"colorbar\":{\"outlinewidth\":0,\"ticks\":\"\"},\"colorscale\":[[0.0,\"#0d0887\"],[0.1111111111111111,\"#46039f\"],[0.2222222222222222,\"#7201a8\"],[0.3333333333333333,\"#9c179e\"],[0.4444444444444444,\"#bd3786\"],[0.5555555555555556,\"#d8576b\"],[0.6666666666666666,\"#ed7953\"],[0.7777777777777778,\"#fb9f3a\"],[0.8888888888888888,\"#fdca26\"],[1.0,\"#f0f921\"]],\"type\":\"surface\"}],\"table\":[{\"cells\":{\"fill\":{\"color\":\"#EBF0F8\"},\"line\":{\"color\":\"white\"}},\"header\":{\"fill\":{\"color\":\"#C8D4E3\"},\"line\":{\"color\":\"white\"}},\"type\":\"table\"}]},\"layout\":{\"annotationdefaults\":{\"arrowcolor\":\"#2a3f5f\",\"arrowhead\":0,\"arrowwidth\":1},\"autotypenumbers\":\"strict\",\"coloraxis\":{\"colorbar\":{\"outlinewidth\":0,\"ticks\":\"\"}},\"colorscale\":{\"diverging\":[[0,\"#8e0152\"],[0.1,\"#c51b7d\"],[0.2,\"#de77ae\"],[0.3,\"#f1b6da\"],[0.4,\"#fde0ef\"],[0.5,\"#f7f7f7\"],[0.6,\"#e6f5d0\"],[0.7,\"#b8e186\"],[0.8,\"#7fbc41\"],[0.9,\"#4d9221\"],[1,\"#276419\"]],\"sequential\":[[0.0,\"#0d0887\"],[0.1111111111111111,\"#46039f\"],[0.2222222222222222,\"#7201a8\"],[0.3333333333333333,\"#9c179e\"],[0.4444444444444444,\"#bd3786\"],[0.5555555555555556,\"#d8576b\"],[0.6666666666666666,\"#ed7953\"],[0.7777777777777778,\"#fb9f3a\"],[0.8888888888888888,\"#fdca26\"],[1.0,\"#f0f921\"]],\"sequentialminus\":[[0.0,\"#0d0887\"],[0.1111111111111111,\"#46039f\"],[0.2222222222222222,\"#7201a8\"],[0.3333333333333333,\"#9c179e\"],[0.4444444444444444,\"#bd3786\"],[0.5555555555555556,\"#d8576b\"],[0.6666666666666666,\"#ed7953\"],[0.7777777777777778,\"#fb9f3a\"],[0.8888888888888888,\"#fdca26\"],[1.0,\"#f0f921\"]]},\"colorway\":[\"#636efa\",\"#EF553B\",\"#00cc96\",\"#ab63fa\",\"#FFA15A\",\"#19d3f3\",\"#FF6692\",\"#B6E880\",\"#FF97FF\",\"#FECB52\"],\"font\":{\"color\":\"#2a3f5f\"},\"geo\":{\"bgcolor\":\"white\",\"lakecolor\":\"white\",\"landcolor\":\"#E5ECF6\",\"showlakes\":true,\"showland\":true,\"subunitcolor\":\"white\"},\"hoverlabel\":{\"align\":\"left\"},\"hovermode\":\"closest\",\"mapbox\":{\"style\":\"light\"},\"paper_bgcolor\":\"white\",\"plot_bgcolor\":\"#E5ECF6\",\"polar\":{\"angularaxis\":{\"gridcolor\":\"white\",\"linecolor\":\"white\",\"ticks\":\"\"},\"bgcolor\":\"#E5ECF6\",\"radialaxis\":{\"gridcolor\":\"white\",\"linecolor\":\"white\",\"ticks\":\"\"}},\"scene\":{\"xaxis\":{\"backgroundcolor\":\"#E5ECF6\",\"gridcolor\":\"white\",\"gridwidth\":2,\"linecolor\":\"white\",\"showbackground\":true,\"ticks\":\"\",\"zerolinecolor\":\"white\"},\"yaxis\":{\"backgroundcolor\":\"#E5ECF6\",\"gridcolor\":\"white\",\"gridwidth\":2,\"linecolor\":\"white\",\"showbackground\":true,\"ticks\":\"\",\"zerolinecolor\":\"white\"},\"zaxis\":{\"backgroundcolor\":\"#E5ECF6\",\"gridcolor\":\"white\",\"gridwidth\":2,\"linecolor\":\"white\",\"showbackground\":true,\"ticks\":\"\",\"zerolinecolor\":\"white\"}},\"shapedefaults\":{\"line\":{\"color\":\"#2a3f5f\"}},\"ternary\":{\"aaxis\":{\"gridcolor\":\"white\",\"linecolor\":\"white\",\"ticks\":\"\"},\"baxis\":{\"gridcolor\":\"white\",\"linecolor\":\"white\",\"ticks\":\"\"},\"bgcolor\":\"#E5ECF6\",\"caxis\":{\"gridcolor\":\"white\",\"linecolor\":\"white\",\"ticks\":\"\"}},\"title\":{\"x\":0.05},\"xaxis\":{\"automargin\":true,\"gridcolor\":\"white\",\"linecolor\":\"white\",\"ticks\":\"\",\"title\":{\"standoff\":15},\"zerolinecolor\":\"white\",\"zerolinewidth\":2},\"yaxis\":{\"automargin\":true,\"gridcolor\":\"white\",\"linecolor\":\"white\",\"ticks\":\"\",\"title\":{\"standoff\":15},\"zerolinecolor\":\"white\",\"zerolinewidth\":2}}},\"title\":{\"text\":\"Performed exercises\"}},                        {\"responsive\": true}                    ).then(function(){\n",
       "                            \n",
       "var gd = document.getElementById('7ca58c84-c58e-4982-867d-d576801a374e');\n",
       "var x = new MutationObserver(function (mutations, observer) {{\n",
       "        var display = window.getComputedStyle(gd).display;\n",
       "        if (!display || display === 'none') {{\n",
       "            console.log([gd, 'removed!']);\n",
       "            Plotly.purge(gd);\n",
       "            observer.disconnect();\n",
       "        }}\n",
       "}});\n",
       "\n",
       "// Listen for the removal of the full notebook cells\n",
       "var notebookContainer = gd.closest('#notebook-container');\n",
       "if (notebookContainer) {{\n",
       "    x.observe(notebookContainer, {childList: true});\n",
       "}}\n",
       "\n",
       "// Listen for the clearing of the current output cell\n",
       "var outputEl = gd.closest('.output');\n",
       "if (outputEl) {{\n",
       "    x.observe(outputEl, {childList: true});\n",
       "}}\n",
       "\n",
       "                        })                };                });            </script>        </div>"
      ]
     },
     "metadata": {},
     "output_type": "display_data"
    }
   ],
   "source": [
    "labels = [\"reaching_left\",\"abduction_left\",\"internal-rotation_left\",\"external-rotation_left\",\"timed-up-and-go\"]\n",
    "values = [tagex.count(\"reaching_left\"), tagex.count(\"abduction_left\"), tagex.count(\"internal_rotation_left\"), \n",
    "          tagex.count(\"external_rotation_left\"), tagex.count(\"tug\")]\n",
    "colors = ['#FEBFB3', '#E1396C', '#96D38C', '#D0F9B1']\n",
    "\n",
    "trace = go.Pie(labels=labels, values=values,\n",
    "               #hoverinfo='label+percent', textinfo='value', \n",
    "               textfont=dict(size=20),\n",
    "               marker=dict(colors=colors, \n",
    "                           line=dict(color='#000000', width=2)),\n",
    "               hoverinfo=\"label+percent+value\",\n",
    "               hole=0.3\n",
    "              )\n",
    "layout = go.Layout(\n",
    "        title=\"Performed exercises\",\n",
    ")\n",
    "data = [trace]\n",
    "fig = go.Figure(data=data,layout=layout)\n",
    "iplot(fig)   "
   ]
  },
  {
   "cell_type": "markdown",
   "metadata": {},
   "source": [
    " \n",
    "Di seguito, si riportano gli andamenti delle metriche del paziente, raggruppati per mese: "
   ]
  },
  {
   "cell_type": "code",
   "execution_count": 87,
   "metadata": {
    "scrolled": false
   },
   "outputs": [],
   "source": [
    "keyp2rommax = {\n",
    "    \"shoulderCenter\" : [0,0,0,0,0,0,0,0,0,0,0,0],\n",
    "    \"head\" : [0,0,0,0,0,0,0,0,0,0,0,0],\n",
    "    \"shoulderLeft\" : [0,0,0,0,0,0,0,0,0,0,0,0],\n",
    "    \"elbowLeft\" : [0,0,0,0,0,0,0,0,0,0,0,0],\n",
    "    \"handLeft\" : [0,0,0,0,0,0,0,0,0,0,0,0],\n",
    "    \"shoulderRight\" : [0,0,0,0,0,0,0,0,0,0,0,0],\n",
    "    \"elbowRight\" : [0,0,0,0,0,0,0,0,0,0,0,0],\n",
    "    \"handRight\" : [0,0,0,0,0,0,0,0,0,0,0,0],\n",
    "    \"hipCenter\" : [0,0,0,0,0,0,0,0,0,0,0,0],\n",
    "    \"hipLeft\" : [0,0,0,0,0,0,0,0,0,0,0,0],\n",
    "    \"kneeLeft\" : [0,0,0,0,0,0,0,0,0,0,0,0],\n",
    "    \"ankleLeft\" : [0,0,0,0,0,0,0,0,0,0,0,0],\n",
    "    \"footLeft\" : [0,0,0,0,0,0,0,0,0,0,0,0],\n",
    "    \"hipRight\" : [0,0,0,0,0,0,0,0,0,0,0,0],\n",
    "    \"kneeRight\" : [0,0,0,0,0,0,0,0,0,0,0,0],\n",
    "    \"ankleRight\" : [0,0,0,0,0,0,0,0,0,0,0,0],\n",
    "    \"footRight\" : [0,0,0,0,0,0,0,0,0,0,0,0]\n",
    "}\n",
    "keyp2rommin = {\n",
    "    \"shoulderCenter\" : [0,0,0,0,0,0,0,0,0,0,0,0],\n",
    "    \"head\" : [0,0,0,0,0,0,0,0,0,0,0,0],\n",
    "    \"shoulderLeft\" : [0,0,0,0,0,0,0,0,0,0,0,0],\n",
    "    \"elbowLeft\" : [0,0,0,0,0,0,0,0,0,0,0,0],\n",
    "    \"handLeft\" : [0,0,0,0,0,0,0,0,0,0,0,0],\n",
    "    \"shoulderRight\" : [0,0,0,0,0,0,0,0,0,0,0,0],\n",
    "    \"elbowRight\" : [0,0,0,0,0,0,0,0,0,0,0,0],\n",
    "    \"handRight\" : [0,0,0,0,0,0,0,0,0,0,0,0],\n",
    "    \"hipCenter\" : [0,0,0,0,0,0,0,0,0,0,0,0],\n",
    "    \"hipLeft\" : [0,0,0,0,0,0,0,0,0,0,0,0],\n",
    "    \"kneeLeft\" : [0,0,0,0,0,0,0,0,0,0,0,0],\n",
    "    \"ankleLeft\" : [0,0,0,0,0,0,0,0,0,0,0,0],\n",
    "    \"footLeft\" : [0,0,0,0,0,0,0,0,0,0,0,0],\n",
    "    \"hipRight\" : [0,0,0,0,0,0,0,0,0,0,0,0],\n",
    "    \"kneeRight\" : [0,0,0,0,0,0,0,0,0,0,0,0],\n",
    "    \"ankleRight\" : [0,0,0,0,0,0,0,0,0,0,0,0],\n",
    "    \"footRight\" : [0,0,0,0,0,0,0,0,0,0,0,0]\n",
    "}\n",
    "countrommonth = {\n",
    "    \"shoulderCenter\" : [0,0,0,0,0,0,0,0,0,0,0,0],\n",
    "    \"head\" : [0,0,0,0,0,0,0,0,0,0,0,0],\n",
    "    \"shoulderLeft\" : [0,0,0,0,0,0,0,0,0,0,0,0],\n",
    "    \"elbowLeft\" : [0,0,0,0,0,0,0,0,0,0,0,0],\n",
    "    \"handLeft\" : [0,0,0,0,0,0,0,0,0,0,0,0],\n",
    "    \"shoulderRight\" : [0,0,0,0,0,0,0,0,0,0,0,0],\n",
    "    \"elbowRight\" : [0,0,0,0,0,0,0,0,0,0,0,0],\n",
    "    \"handRight\" : [0,0,0,0,0,0,0,0,0,0,0,0],\n",
    "    \"hipCenter\" : [0,0,0,0,0,0,0,0,0,0,0,0],\n",
    "    \"hipLeft\" : [0,0,0,0,0,0,0,0,0,0,0,0],\n",
    "    \"kneeLeft\" : [0,0,0,0,0,0,0,0,0,0,0,0],\n",
    "    \"ankleLeft\" : [0,0,0,0,0,0,0,0,0,0,0,0],\n",
    "    \"footLeft\" : [0,0,0,0,0,0,0,0,0,0,0,0],\n",
    "    \"hipRight\" : [0,0,0,0,0,0,0,0,0,0,0,0],\n",
    "    \"kneeRight\" : [0,0,0,0,0,0,0,0,0,0,0,0],\n",
    "    \"ankleRight\" : [0,0,0,0,0,0,0,0,0,0,0,0],\n",
    "    \"footRight\" : [0,0,0,0,0,0,0,0,0,0,0,0]\n",
    "}\n",
    "keyp2rommax_avg = {\n",
    "    \"shoulderCenter\" : [0,0,0,0,0,0,0,0,0,0,0,0],\n",
    "    \"head\" : [0,0,0,0,0,0,0,0,0,0,0,0],\n",
    "    \"shoulderLeft\" : [0,0,0,0,0,0,0,0,0,0,0,0],\n",
    "    \"elbowLeft\" : [0,0,0,0,0,0,0,0,0,0,0,0],\n",
    "    \"handLeft\" : [0,0,0,0,0,0,0,0,0,0,0,0],\n",
    "    \"shoulderRight\" : [0,0,0,0,0,0,0,0,0,0,0,0],\n",
    "    \"elbowRight\" : [0,0,0,0,0,0,0,0,0,0,0,0],\n",
    "    \"handRight\" : [0,0,0,0,0,0,0,0,0,0,0,0],\n",
    "    \"hipCenter\" : [0,0,0,0,0,0,0,0,0,0,0,0],\n",
    "    \"hipLeft\" : [0,0,0,0,0,0,0,0,0,0,0,0],\n",
    "    \"kneeLeft\" : [0,0,0,0,0,0,0,0,0,0,0,0],\n",
    "    \"ankleLeft\" : [0,0,0,0,0,0,0,0,0,0,0,0],\n",
    "    \"footLeft\" : [0,0,0,0,0,0,0,0,0,0,0,0],\n",
    "    \"hipRight\" : [0,0,0,0,0,0,0,0,0,0,0,0],\n",
    "    \"kneeRight\" : [0,0,0,0,0,0,0,0,0,0,0,0],\n",
    "    \"ankleRight\" : [0,0,0,0,0,0,0,0,0,0,0,0],\n",
    "    \"footRight\" : [0,0,0,0,0,0,0,0,0,0,0,0]\n",
    "}\n",
    "keyp2rommin_avg = {\n",
    "    \"shoulderCenter\" : [0,0,0,0,0,0,0,0,0,0,0,0],\n",
    "    \"head\" : [0,0,0,0,0,0,0,0,0,0,0,0],\n",
    "    \"shoulderLeft\" : [0,0,0,0,0,0,0,0,0,0,0,0],\n",
    "    \"elbowLeft\" : [0,0,0,0,0,0,0,0,0,0,0,0],\n",
    "    \"handLeft\" : [0,0,0,0,0,0,0,0,0,0,0,0],\n",
    "    \"shoulderRight\" : [0,0,0,0,0,0,0,0,0,0,0,0],\n",
    "    \"elbowRight\" : [0,0,0,0,0,0,0,0,0,0,0,0],\n",
    "    \"handRight\" : [0,0,0,0,0,0,0,0,0,0,0,0],\n",
    "    \"hipCenter\" : [0,0,0,0,0,0,0,0,0,0,0,0],\n",
    "    \"hipLeft\" : [0,0,0,0,0,0,0,0,0,0,0,0],\n",
    "    \"kneeLeft\" : [0,0,0,0,0,0,0,0,0,0,0,0],\n",
    "    \"ankleLeft\" : [0,0,0,0,0,0,0,0,0,0,0,0],\n",
    "    \"footLeft\" : [0,0,0,0,0,0,0,0,0,0,0,0],\n",
    "    \"hipRight\" : [0,0,0,0,0,0,0,0,0,0,0,0],\n",
    "    \"kneeRight\" : [0,0,0,0,0,0,0,0,0,0,0,0],\n",
    "    \"ankleRight\" : [0,0,0,0,0,0,0,0,0,0,0,0],\n",
    "    \"footRight\" : [0,0,0,0,0,0,0,0,0,0,0,0]\n",
    "}\n",
    "\n",
    "stepmonth = {\n",
    "    \"step_length\" : [0,0,0,0,0,0,0,0,0,0,0,0],\n",
    "    \"numsteps\" : [0,0,0,0,0,0,0,0,0,0,0,0],\n",
    "    \"cadence\" : [0,0,0,0,0,0,0,0,0,0,0,0],\n",
    "    \"speed\" : [0,0,0,0,0,0,0,0,0,0,0,0],\n",
    "    \"time\" : [0,0,0,0,0,0,0,0,0,0,0,0]\n",
    "}\n",
    "countstepmonth = [0,0,0,0,0,0,0,0,0,0,0,0]\n",
    "\n",
    "endpointmonth = {\n",
    "    \"time\" : [0,0,0,0,0,0,0,0,0,0,0,0],\n",
    "    \"speed\" : [0,0,0,0,0,0,0,0,0,0,0,0]\n",
    "}\n",
    "countendpointmonth = [0,0,0,0,0,0,0,0,0,0,0,0]\n",
    "\n",
    "for i in range(len(exercises)):\n",
    "    exnamei = exercises[i].name\n",
    "    for monthi in range(12):\n",
    "        if countexmonth[exnamei][monthi] != 0:\n",
    "            res_exi = exercises[i].getResult(monthi)\n",
    "            for m in range(len(res_exi)): \n",
    "                single_metric,result_single_metric = res_exi[m]\n",
    "                single_metric_name = single_metric.name\n",
    "                if single_metric_name == \"ROM\":\n",
    "                    maxromj = max(result_single_metric)\n",
    "                    minromj = min(result_single_metric)\n",
    "                    tagjoint = single_metric.tagjoint\n",
    "                    keyp2rommax[tagjoint][monthi] = maxromj + keyp2rommax[tagjoint][monthi]\n",
    "                    keyp2rommin[tagjoint][monthi] = minromj + keyp2rommin[tagjoint][monthi]\n",
    "                    countrommonth[tagjoint][monthi] = 1 + countrommonth[tagjoint][monthi]           \n",
    "\n",
    "                if single_metric_name == \"step\":\n",
    "                    stepmonth[\"step_length\"][monthi] = single_metric.step_length + stepmonth[\"step_length\"][monthi]\n",
    "                    stepmonth[\"numsteps\"][monthi] = single_metric.nsteps + stepmonth[\"numsteps\"][monthi]\n",
    "                    stepmonth[\"cadence\"][monthi] = single_metric.cadence + stepmonth[\"cadence\"][monthi]\n",
    "                    stepmonth[\"speed\"][monthi] = single_metric.speed + stepmonth[\"speed\"][monthi]\n",
    "                    stepmonth[\"time\"][monthi] = single_metric.ex_time + stepmonth[\"time\"][monthi]\n",
    "                    countstepmonth[monthi] = 1 + countstepmonth[monthi]\n",
    "\n",
    "                if single_metric_name == \"EP\":\n",
    "                    endpointmonth[\"time\"][monthi] = single_metric.ex_time + endpointmonth[\"time\"][monthi]\n",
    "                    endpointmonth[\"speed\"][monthi] = single_metric.speed + endpointmonth[\"speed\"][monthi]\n",
    "                    countendpointmonth[monthi] = 1 + countendpointmonth[monthi]\n",
    "\n"
   ]
  },
  {
   "cell_type": "code",
   "execution_count": 88,
   "metadata": {
    "scrolled": false
   },
   "outputs": [],
   "source": [
    "counted_exmonth = {\n",
    "    \"tug\" : [0,0,0,0,0,0,0,0,0,0,0,0],\n",
    "    \"abduction_left\" : [0,0,0,0,0,0,0,0,0,0,0,0],\n",
    "    \"internal_rotation_left\" : [0,0,0,0,0,0,0,0,0,0,0,0],\n",
    "    \"external_rotation_left\" : [0,0,0,0,0,0,0,0,0,0,0,0],\n",
    "    \"reaching_left\" : [0,0,0,0,0,0,0,0,0,0,0,0]\n",
    "}\n",
    "for i in range(len(exercises)):\n",
    "    exnamei = exercises[i].name\n",
    "\n",
    "    for monthi in range(12):  \n",
    "        if countexmonth[exnamei][monthi] != 0:\n",
    "            if counted_exmonth[exnamei][monthi] < 1:       \n",
    "                res_exi = exercises[i].getResult(monthi)\n",
    "                for m in range(len(res_exi)): \n",
    "                    single_metric,result_single_metric = res_exi[m]\n",
    "                    single_metric_name = single_metric.name\n",
    "\n",
    "                    if single_metric_name == \"ROM\":\n",
    "                        tagjoint = single_metric.tagjoint\n",
    "                        if countrommonth[tagjoint][monthi] != 0:\n",
    "                            keyp2rommax_avg[tagjoint][monthi] = keyp2rommax[tagjoint][monthi]/countrommonth[tagjoint][monthi]\n",
    "                            keyp2rommin_avg[tagjoint][monthi] = keyp2rommin[tagjoint][monthi]/countrommonth[tagjoint][monthi]\n",
    "\n",
    "\n",
    "                    if single_metric_name == \"step\":\n",
    "                        if countstepmonth[monthi] != 0:\n",
    "                            stepmonth[\"step_length\"][monthi] = stepmonth[\"step_length\"][monthi]/countstepmonth[monthi]\n",
    "                            stepmonth[\"numsteps\"][monthi] = stepmonth[\"numsteps\"][monthi]/countstepmonth[monthi]\n",
    "                            stepmonth[\"cadence\"][monthi] = stepmonth[\"cadence\"][monthi]/countstepmonth[monthi]\n",
    "                            stepmonth[\"speed\"][monthi] = stepmonth[\"speed\"][monthi]/countstepmonth[monthi]\n",
    "                            stepmonth[\"time\"][monthi] = stepmonth[\"time\"][monthi]/countstepmonth[monthi]   \n",
    "\n",
    "                    if single_metric_name == \"EP\":\n",
    "                        if countendpointmonth[monthi] != 0:\n",
    "                            endpointmonth[\"time\"][monthi] = endpointmonth[\"time\"][monthi]/countendpointmonth[monthi]\n",
    "                            endpointmonth[\"speed\"][monthi] = endpointmonth[\"speed\"][monthi]/countendpointmonth[monthi]\n",
    "\n",
    "                counted_exmonth[exnamei][monthi] = 1"
   ]
  },
  {
   "cell_type": "code",
   "execution_count": 89,
   "metadata": {
    "scrolled": false
   },
   "outputs": [
    {
     "data": {
      "text/html": [
       "<font size=5><b>Risultati del Timed Up and Go</b></font>"
      ],
      "text/plain": [
       "<IPython.core.display.HTML object>"
      ]
     },
     "metadata": {},
     "output_type": "display_data"
    }
   ],
   "source": [
    "title = \"Risultati del Timed Up and Go\"\n",
    "msg1 = HTML('<font size=5><b>'+title+'</b></font>')\n",
    "msg2 = HTML('<font size=5,font color=gray,font >'+title+'</font>')\n",
    "if sum(counted_exmonth['tug'])>0:\n",
    "    display(msg1);\n",
    "else:\n",
    "    display(msg2); "
   ]
  },
  {
   "cell_type": "code",
   "execution_count": 90,
   "metadata": {
    "scrolled": false
   },
   "outputs": [
    {
     "data": {
      "text/html": [
       "<div>\n",
       "<style scoped>\n",
       "    .dataframe tbody tr th:only-of-type {\n",
       "        vertical-align: middle;\n",
       "    }\n",
       "\n",
       "    .dataframe tbody tr th {\n",
       "        vertical-align: top;\n",
       "    }\n",
       "\n",
       "    .dataframe thead th {\n",
       "        text-align: right;\n",
       "    }\n",
       "</style>\n",
       "<table border=\"1\" class=\"dataframe\">\n",
       "  <thead>\n",
       "    <tr style=\"text-align: right;\">\n",
       "      <th></th>\n",
       "      <th>Jan</th>\n",
       "      <th>Feb</th>\n",
       "      <th>Mar</th>\n",
       "      <th>Apr</th>\n",
       "      <th>May</th>\n",
       "      <th>Jun</th>\n",
       "      <th>Jul</th>\n",
       "      <th>Aug</th>\n",
       "      <th>Sep</th>\n",
       "      <th>Oct</th>\n",
       "      <th>Nov</th>\n",
       "      <th>Dec</th>\n",
       "    </tr>\n",
       "  </thead>\n",
       "  <tbody>\n",
       "    <tr>\n",
       "      <th>Numero di passi</th>\n",
       "      <td>2.701530e-01</td>\n",
       "      <td>0</td>\n",
       "      <td>0</td>\n",
       "      <td>0</td>\n",
       "      <td>0</td>\n",
       "      <td>0</td>\n",
       "      <td>0</td>\n",
       "      <td>0</td>\n",
       "      <td>0</td>\n",
       "      <td>0</td>\n",
       "      <td>0</td>\n",
       "      <td>0</td>\n",
       "    </tr>\n",
       "    <tr>\n",
       "      <th>Velocità [m/s]</th>\n",
       "      <td>3.900000e+01</td>\n",
       "      <td>0</td>\n",
       "      <td>0</td>\n",
       "      <td>0</td>\n",
       "      <td>0</td>\n",
       "      <td>0</td>\n",
       "      <td>0</td>\n",
       "      <td>0</td>\n",
       "      <td>0</td>\n",
       "      <td>0</td>\n",
       "      <td>0</td>\n",
       "      <td>0</td>\n",
       "    </tr>\n",
       "    <tr>\n",
       "      <th>Lunghezza passo [m]</th>\n",
       "      <td>inf</td>\n",
       "      <td>0</td>\n",
       "      <td>0</td>\n",
       "      <td>0</td>\n",
       "      <td>0</td>\n",
       "      <td>0</td>\n",
       "      <td>0</td>\n",
       "      <td>0</td>\n",
       "      <td>0</td>\n",
       "      <td>0</td>\n",
       "      <td>0</td>\n",
       "      <td>0</td>\n",
       "    </tr>\n",
       "    <tr>\n",
       "      <th>Cadenza [steps/s]</th>\n",
       "      <td>inf</td>\n",
       "      <td>0</td>\n",
       "      <td>0</td>\n",
       "      <td>0</td>\n",
       "      <td>0</td>\n",
       "      <td>0</td>\n",
       "      <td>0</td>\n",
       "      <td>0</td>\n",
       "      <td>0</td>\n",
       "      <td>0</td>\n",
       "      <td>0</td>\n",
       "      <td>0</td>\n",
       "    </tr>\n",
       "    <tr>\n",
       "      <th>Tempo di esecuzione [s]</th>\n",
       "      <td>1.353937e-318</td>\n",
       "      <td>0</td>\n",
       "      <td>0</td>\n",
       "      <td>0</td>\n",
       "      <td>0</td>\n",
       "      <td>0</td>\n",
       "      <td>0</td>\n",
       "      <td>0</td>\n",
       "      <td>0</td>\n",
       "      <td>0</td>\n",
       "      <td>0</td>\n",
       "      <td>0</td>\n",
       "    </tr>\n",
       "  </tbody>\n",
       "</table>\n",
       "</div>"
      ],
      "text/plain": [
       "                                   Jan  Feb  Mar  Apr  May  Jun  Jul  Aug  \\\n",
       "Numero di passi           2.701530e-01    0    0    0    0    0    0    0   \n",
       "Velocità [m/s]            3.900000e+01    0    0    0    0    0    0    0   \n",
       "Lunghezza passo [m]                inf    0    0    0    0    0    0    0   \n",
       "Cadenza [steps/s]                  inf    0    0    0    0    0    0    0   \n",
       "Tempo di esecuzione [s]  1.353937e-318    0    0    0    0    0    0    0   \n",
       "\n",
       "                         Sep  Oct  Nov  Dec  \n",
       "Numero di passi            0    0    0    0  \n",
       "Velocità [m/s]             0    0    0    0  \n",
       "Lunghezza passo [m]        0    0    0    0  \n",
       "Cadenza [steps/s]          0    0    0    0  \n",
       "Tempo di esecuzione [s]    0    0    0    0  "
      ]
     },
     "metadata": {},
     "output_type": "display_data"
    },
    {
     "data": {
      "application/vnd.plotly.v1+json": {
       "config": {
        "linkText": "Export to plot.ly",
        "plotlyServerURL": "https://plot.ly",
        "showLink": false
       },
       "data": [
        {
         "marker": {
          "color": "rgb(0,0,255)"
         },
         "name": "Massimo valore raggiunto",
         "type": "bar",
         "x": [
          1,
          2,
          3,
          4,
          5,
          6,
          7,
          8,
          9,
          10,
          11,
          12
         ],
         "y": [
          90,
          0,
          0,
          0,
          0,
          0,
          0,
          0,
          0,
          0,
          0,
          0
         ]
        },
        {
         "marker": {
          "color": "rgb(255,0,0)"
         },
         "name": "Minimo valore raggiunto",
         "type": "bar",
         "x": [
          1,
          2,
          3,
          4,
          5,
          6,
          7,
          8,
          9,
          10,
          11,
          12
         ],
         "y": [
          90,
          0,
          0,
          0,
          0,
          0,
          0,
          0,
          0,
          0,
          0,
          0
         ]
        }
       ],
       "layout": {
        "bargap": 0.1,
        "bargroupgap": 0,
        "barmode": "group",
        "font": {
         "color": "black",
         "family": "Courier New, monospace",
         "size": 18
        },
        "legend": {
         "bgcolor": "rgba(255, 255, 255, 0)",
         "bordercolor": "rgba(255, 255, 255, 0)"
        },
        "template": {
         "data": {
          "bar": [
           {
            "error_x": {
             "color": "#2a3f5f"
            },
            "error_y": {
             "color": "#2a3f5f"
            },
            "marker": {
             "line": {
              "color": "#E5ECF6",
              "width": 0.5
             },
             "pattern": {
              "fillmode": "overlay",
              "size": 10,
              "solidity": 0.2
             }
            },
            "type": "bar"
           }
          ],
          "barpolar": [
           {
            "marker": {
             "line": {
              "color": "#E5ECF6",
              "width": 0.5
             },
             "pattern": {
              "fillmode": "overlay",
              "size": 10,
              "solidity": 0.2
             }
            },
            "type": "barpolar"
           }
          ],
          "carpet": [
           {
            "aaxis": {
             "endlinecolor": "#2a3f5f",
             "gridcolor": "white",
             "linecolor": "white",
             "minorgridcolor": "white",
             "startlinecolor": "#2a3f5f"
            },
            "baxis": {
             "endlinecolor": "#2a3f5f",
             "gridcolor": "white",
             "linecolor": "white",
             "minorgridcolor": "white",
             "startlinecolor": "#2a3f5f"
            },
            "type": "carpet"
           }
          ],
          "choropleth": [
           {
            "colorbar": {
             "outlinewidth": 0,
             "ticks": ""
            },
            "type": "choropleth"
           }
          ],
          "contour": [
           {
            "colorbar": {
             "outlinewidth": 0,
             "ticks": ""
            },
            "colorscale": [
             [
              0,
              "#0d0887"
             ],
             [
              0.1111111111111111,
              "#46039f"
             ],
             [
              0.2222222222222222,
              "#7201a8"
             ],
             [
              0.3333333333333333,
              "#9c179e"
             ],
             [
              0.4444444444444444,
              "#bd3786"
             ],
             [
              0.5555555555555556,
              "#d8576b"
             ],
             [
              0.6666666666666666,
              "#ed7953"
             ],
             [
              0.7777777777777778,
              "#fb9f3a"
             ],
             [
              0.8888888888888888,
              "#fdca26"
             ],
             [
              1,
              "#f0f921"
             ]
            ],
            "type": "contour"
           }
          ],
          "contourcarpet": [
           {
            "colorbar": {
             "outlinewidth": 0,
             "ticks": ""
            },
            "type": "contourcarpet"
           }
          ],
          "heatmap": [
           {
            "colorbar": {
             "outlinewidth": 0,
             "ticks": ""
            },
            "colorscale": [
             [
              0,
              "#0d0887"
             ],
             [
              0.1111111111111111,
              "#46039f"
             ],
             [
              0.2222222222222222,
              "#7201a8"
             ],
             [
              0.3333333333333333,
              "#9c179e"
             ],
             [
              0.4444444444444444,
              "#bd3786"
             ],
             [
              0.5555555555555556,
              "#d8576b"
             ],
             [
              0.6666666666666666,
              "#ed7953"
             ],
             [
              0.7777777777777778,
              "#fb9f3a"
             ],
             [
              0.8888888888888888,
              "#fdca26"
             ],
             [
              1,
              "#f0f921"
             ]
            ],
            "type": "heatmap"
           }
          ],
          "heatmapgl": [
           {
            "colorbar": {
             "outlinewidth": 0,
             "ticks": ""
            },
            "colorscale": [
             [
              0,
              "#0d0887"
             ],
             [
              0.1111111111111111,
              "#46039f"
             ],
             [
              0.2222222222222222,
              "#7201a8"
             ],
             [
              0.3333333333333333,
              "#9c179e"
             ],
             [
              0.4444444444444444,
              "#bd3786"
             ],
             [
              0.5555555555555556,
              "#d8576b"
             ],
             [
              0.6666666666666666,
              "#ed7953"
             ],
             [
              0.7777777777777778,
              "#fb9f3a"
             ],
             [
              0.8888888888888888,
              "#fdca26"
             ],
             [
              1,
              "#f0f921"
             ]
            ],
            "type": "heatmapgl"
           }
          ],
          "histogram": [
           {
            "marker": {
             "pattern": {
              "fillmode": "overlay",
              "size": 10,
              "solidity": 0.2
             }
            },
            "type": "histogram"
           }
          ],
          "histogram2d": [
           {
            "colorbar": {
             "outlinewidth": 0,
             "ticks": ""
            },
            "colorscale": [
             [
              0,
              "#0d0887"
             ],
             [
              0.1111111111111111,
              "#46039f"
             ],
             [
              0.2222222222222222,
              "#7201a8"
             ],
             [
              0.3333333333333333,
              "#9c179e"
             ],
             [
              0.4444444444444444,
              "#bd3786"
             ],
             [
              0.5555555555555556,
              "#d8576b"
             ],
             [
              0.6666666666666666,
              "#ed7953"
             ],
             [
              0.7777777777777778,
              "#fb9f3a"
             ],
             [
              0.8888888888888888,
              "#fdca26"
             ],
             [
              1,
              "#f0f921"
             ]
            ],
            "type": "histogram2d"
           }
          ],
          "histogram2dcontour": [
           {
            "colorbar": {
             "outlinewidth": 0,
             "ticks": ""
            },
            "colorscale": [
             [
              0,
              "#0d0887"
             ],
             [
              0.1111111111111111,
              "#46039f"
             ],
             [
              0.2222222222222222,
              "#7201a8"
             ],
             [
              0.3333333333333333,
              "#9c179e"
             ],
             [
              0.4444444444444444,
              "#bd3786"
             ],
             [
              0.5555555555555556,
              "#d8576b"
             ],
             [
              0.6666666666666666,
              "#ed7953"
             ],
             [
              0.7777777777777778,
              "#fb9f3a"
             ],
             [
              0.8888888888888888,
              "#fdca26"
             ],
             [
              1,
              "#f0f921"
             ]
            ],
            "type": "histogram2dcontour"
           }
          ],
          "mesh3d": [
           {
            "colorbar": {
             "outlinewidth": 0,
             "ticks": ""
            },
            "type": "mesh3d"
           }
          ],
          "parcoords": [
           {
            "line": {
             "colorbar": {
              "outlinewidth": 0,
              "ticks": ""
             }
            },
            "type": "parcoords"
           }
          ],
          "pie": [
           {
            "automargin": true,
            "type": "pie"
           }
          ],
          "scatter": [
           {
            "fillpattern": {
             "fillmode": "overlay",
             "size": 10,
             "solidity": 0.2
            },
            "type": "scatter"
           }
          ],
          "scatter3d": [
           {
            "line": {
             "colorbar": {
              "outlinewidth": 0,
              "ticks": ""
             }
            },
            "marker": {
             "colorbar": {
              "outlinewidth": 0,
              "ticks": ""
             }
            },
            "type": "scatter3d"
           }
          ],
          "scattercarpet": [
           {
            "marker": {
             "colorbar": {
              "outlinewidth": 0,
              "ticks": ""
             }
            },
            "type": "scattercarpet"
           }
          ],
          "scattergeo": [
           {
            "marker": {
             "colorbar": {
              "outlinewidth": 0,
              "ticks": ""
             }
            },
            "type": "scattergeo"
           }
          ],
          "scattergl": [
           {
            "marker": {
             "colorbar": {
              "outlinewidth": 0,
              "ticks": ""
             }
            },
            "type": "scattergl"
           }
          ],
          "scattermapbox": [
           {
            "marker": {
             "colorbar": {
              "outlinewidth": 0,
              "ticks": ""
             }
            },
            "type": "scattermapbox"
           }
          ],
          "scatterpolar": [
           {
            "marker": {
             "colorbar": {
              "outlinewidth": 0,
              "ticks": ""
             }
            },
            "type": "scatterpolar"
           }
          ],
          "scatterpolargl": [
           {
            "marker": {
             "colorbar": {
              "outlinewidth": 0,
              "ticks": ""
             }
            },
            "type": "scatterpolargl"
           }
          ],
          "scatterternary": [
           {
            "marker": {
             "colorbar": {
              "outlinewidth": 0,
              "ticks": ""
             }
            },
            "type": "scatterternary"
           }
          ],
          "surface": [
           {
            "colorbar": {
             "outlinewidth": 0,
             "ticks": ""
            },
            "colorscale": [
             [
              0,
              "#0d0887"
             ],
             [
              0.1111111111111111,
              "#46039f"
             ],
             [
              0.2222222222222222,
              "#7201a8"
             ],
             [
              0.3333333333333333,
              "#9c179e"
             ],
             [
              0.4444444444444444,
              "#bd3786"
             ],
             [
              0.5555555555555556,
              "#d8576b"
             ],
             [
              0.6666666666666666,
              "#ed7953"
             ],
             [
              0.7777777777777778,
              "#fb9f3a"
             ],
             [
              0.8888888888888888,
              "#fdca26"
             ],
             [
              1,
              "#f0f921"
             ]
            ],
            "type": "surface"
           }
          ],
          "table": [
           {
            "cells": {
             "fill": {
              "color": "#EBF0F8"
             },
             "line": {
              "color": "white"
             }
            },
            "header": {
             "fill": {
              "color": "#C8D4E3"
             },
             "line": {
              "color": "white"
             }
            },
            "type": "table"
           }
          ]
         },
         "layout": {
          "annotationdefaults": {
           "arrowcolor": "#2a3f5f",
           "arrowhead": 0,
           "arrowwidth": 1
          },
          "autotypenumbers": "strict",
          "coloraxis": {
           "colorbar": {
            "outlinewidth": 0,
            "ticks": ""
           }
          },
          "colorscale": {
           "diverging": [
            [
             0,
             "#8e0152"
            ],
            [
             0.1,
             "#c51b7d"
            ],
            [
             0.2,
             "#de77ae"
            ],
            [
             0.3,
             "#f1b6da"
            ],
            [
             0.4,
             "#fde0ef"
            ],
            [
             0.5,
             "#f7f7f7"
            ],
            [
             0.6,
             "#e6f5d0"
            ],
            [
             0.7,
             "#b8e186"
            ],
            [
             0.8,
             "#7fbc41"
            ],
            [
             0.9,
             "#4d9221"
            ],
            [
             1,
             "#276419"
            ]
           ],
           "sequential": [
            [
             0,
             "#0d0887"
            ],
            [
             0.1111111111111111,
             "#46039f"
            ],
            [
             0.2222222222222222,
             "#7201a8"
            ],
            [
             0.3333333333333333,
             "#9c179e"
            ],
            [
             0.4444444444444444,
             "#bd3786"
            ],
            [
             0.5555555555555556,
             "#d8576b"
            ],
            [
             0.6666666666666666,
             "#ed7953"
            ],
            [
             0.7777777777777778,
             "#fb9f3a"
            ],
            [
             0.8888888888888888,
             "#fdca26"
            ],
            [
             1,
             "#f0f921"
            ]
           ],
           "sequentialminus": [
            [
             0,
             "#0d0887"
            ],
            [
             0.1111111111111111,
             "#46039f"
            ],
            [
             0.2222222222222222,
             "#7201a8"
            ],
            [
             0.3333333333333333,
             "#9c179e"
            ],
            [
             0.4444444444444444,
             "#bd3786"
            ],
            [
             0.5555555555555556,
             "#d8576b"
            ],
            [
             0.6666666666666666,
             "#ed7953"
            ],
            [
             0.7777777777777778,
             "#fb9f3a"
            ],
            [
             0.8888888888888888,
             "#fdca26"
            ],
            [
             1,
             "#f0f921"
            ]
           ]
          },
          "colorway": [
           "#636efa",
           "#EF553B",
           "#00cc96",
           "#ab63fa",
           "#FFA15A",
           "#19d3f3",
           "#FF6692",
           "#B6E880",
           "#FF97FF",
           "#FECB52"
          ],
          "font": {
           "color": "#2a3f5f"
          },
          "geo": {
           "bgcolor": "white",
           "lakecolor": "white",
           "landcolor": "#E5ECF6",
           "showlakes": true,
           "showland": true,
           "subunitcolor": "white"
          },
          "hoverlabel": {
           "align": "left"
          },
          "hovermode": "closest",
          "mapbox": {
           "style": "light"
          },
          "paper_bgcolor": "white",
          "plot_bgcolor": "#E5ECF6",
          "polar": {
           "angularaxis": {
            "gridcolor": "white",
            "linecolor": "white",
            "ticks": ""
           },
           "bgcolor": "#E5ECF6",
           "radialaxis": {
            "gridcolor": "white",
            "linecolor": "white",
            "ticks": ""
           }
          },
          "scene": {
           "xaxis": {
            "backgroundcolor": "#E5ECF6",
            "gridcolor": "white",
            "gridwidth": 2,
            "linecolor": "white",
            "showbackground": true,
            "ticks": "",
            "zerolinecolor": "white"
           },
           "yaxis": {
            "backgroundcolor": "#E5ECF6",
            "gridcolor": "white",
            "gridwidth": 2,
            "linecolor": "white",
            "showbackground": true,
            "ticks": "",
            "zerolinecolor": "white"
           },
           "zaxis": {
            "backgroundcolor": "#E5ECF6",
            "gridcolor": "white",
            "gridwidth": 2,
            "linecolor": "white",
            "showbackground": true,
            "ticks": "",
            "zerolinecolor": "white"
           }
          },
          "shapedefaults": {
           "line": {
            "color": "#2a3f5f"
           }
          },
          "ternary": {
           "aaxis": {
            "gridcolor": "white",
            "linecolor": "white",
            "ticks": ""
           },
           "baxis": {
            "gridcolor": "white",
            "linecolor": "white",
            "ticks": ""
           },
           "bgcolor": "#E5ECF6",
           "caxis": {
            "gridcolor": "white",
            "linecolor": "white",
            "ticks": ""
           }
          },
          "title": {
           "x": 0.05
          },
          "xaxis": {
           "automargin": true,
           "gridcolor": "white",
           "linecolor": "white",
           "ticks": "",
           "title": {
            "standoff": 15
           },
           "zerolinecolor": "white",
           "zerolinewidth": 2
          },
          "yaxis": {
           "automargin": true,
           "gridcolor": "white",
           "linecolor": "white",
           "ticks": "",
           "title": {
            "standoff": 15
           },
           "zerolinecolor": "white",
           "zerolinewidth": 2
          }
         }
        },
        "title": {
         "text": "Parametri Range of Motion"
        },
        "xaxis": {
         "tickfont": {
          "color": "#7f7f7f",
          "family": "Courier New, monospace",
          "size": 14
         },
         "title": {
          "font": {
           "color": "#7f7f7f",
           "family": "Courier New, monospace",
           "size": 18
          },
          "text": "Month"
         }
        },
        "yaxis": {
         "tickfont": {
          "color": "#7f7f7f",
          "family": "Courier New, monospace",
          "size": 14
         },
         "title": {
          "font": {
           "color": "#7f7f7f",
           "family": "Courier New, monospace",
           "size": 18
          },
          "text": "ROM hipLeft [gradi]"
         }
        }
       }
      },
      "text/html": [
       "<div>                            <div id=\"60225935-e502-4faf-8eab-75684d857d0e\" class=\"plotly-graph-div\" style=\"height:525px; width:100%;\"></div>            <script type=\"text/javascript\">                require([\"plotly\"], function(Plotly) {                    window.PLOTLYENV=window.PLOTLYENV || {};                                    if (document.getElementById(\"60225935-e502-4faf-8eab-75684d857d0e\")) {                    Plotly.newPlot(                        \"60225935-e502-4faf-8eab-75684d857d0e\",                        [{\"marker\":{\"color\":\"rgb(0,0,255)\"},\"name\":\"Massimo valore raggiunto\",\"x\":[1,2,3,4,5,6,7,8,9,10,11,12],\"y\":[90.0,0,0,0,0,0,0,0,0,0,0,0],\"type\":\"bar\"},{\"marker\":{\"color\":\"rgb(255,0,0)\"},\"name\":\"Minimo valore raggiunto\",\"x\":[1,2,3,4,5,6,7,8,9,10,11,12],\"y\":[90.0,0,0,0,0,0,0,0,0,0,0,0],\"type\":\"bar\"}],                        {\"bargap\":0.1,\"bargroupgap\":0.0,\"barmode\":\"group\",\"font\":{\"color\":\"black\",\"family\":\"Courier New, monospace\",\"size\":18},\"legend\":{\"bgcolor\":\"rgba(255, 255, 255, 0)\",\"bordercolor\":\"rgba(255, 255, 255, 0)\"},\"template\":{\"data\":{\"barpolar\":[{\"marker\":{\"line\":{\"color\":\"#E5ECF6\",\"width\":0.5},\"pattern\":{\"fillmode\":\"overlay\",\"size\":10,\"solidity\":0.2}},\"type\":\"barpolar\"}],\"bar\":[{\"error_x\":{\"color\":\"#2a3f5f\"},\"error_y\":{\"color\":\"#2a3f5f\"},\"marker\":{\"line\":{\"color\":\"#E5ECF6\",\"width\":0.5},\"pattern\":{\"fillmode\":\"overlay\",\"size\":10,\"solidity\":0.2}},\"type\":\"bar\"}],\"carpet\":[{\"aaxis\":{\"endlinecolor\":\"#2a3f5f\",\"gridcolor\":\"white\",\"linecolor\":\"white\",\"minorgridcolor\":\"white\",\"startlinecolor\":\"#2a3f5f\"},\"baxis\":{\"endlinecolor\":\"#2a3f5f\",\"gridcolor\":\"white\",\"linecolor\":\"white\",\"minorgridcolor\":\"white\",\"startlinecolor\":\"#2a3f5f\"},\"type\":\"carpet\"}],\"choropleth\":[{\"colorbar\":{\"outlinewidth\":0,\"ticks\":\"\"},\"type\":\"choropleth\"}],\"contourcarpet\":[{\"colorbar\":{\"outlinewidth\":0,\"ticks\":\"\"},\"type\":\"contourcarpet\"}],\"contour\":[{\"colorbar\":{\"outlinewidth\":0,\"ticks\":\"\"},\"colorscale\":[[0.0,\"#0d0887\"],[0.1111111111111111,\"#46039f\"],[0.2222222222222222,\"#7201a8\"],[0.3333333333333333,\"#9c179e\"],[0.4444444444444444,\"#bd3786\"],[0.5555555555555556,\"#d8576b\"],[0.6666666666666666,\"#ed7953\"],[0.7777777777777778,\"#fb9f3a\"],[0.8888888888888888,\"#fdca26\"],[1.0,\"#f0f921\"]],\"type\":\"contour\"}],\"heatmapgl\":[{\"colorbar\":{\"outlinewidth\":0,\"ticks\":\"\"},\"colorscale\":[[0.0,\"#0d0887\"],[0.1111111111111111,\"#46039f\"],[0.2222222222222222,\"#7201a8\"],[0.3333333333333333,\"#9c179e\"],[0.4444444444444444,\"#bd3786\"],[0.5555555555555556,\"#d8576b\"],[0.6666666666666666,\"#ed7953\"],[0.7777777777777778,\"#fb9f3a\"],[0.8888888888888888,\"#fdca26\"],[1.0,\"#f0f921\"]],\"type\":\"heatmapgl\"}],\"heatmap\":[{\"colorbar\":{\"outlinewidth\":0,\"ticks\":\"\"},\"colorscale\":[[0.0,\"#0d0887\"],[0.1111111111111111,\"#46039f\"],[0.2222222222222222,\"#7201a8\"],[0.3333333333333333,\"#9c179e\"],[0.4444444444444444,\"#bd3786\"],[0.5555555555555556,\"#d8576b\"],[0.6666666666666666,\"#ed7953\"],[0.7777777777777778,\"#fb9f3a\"],[0.8888888888888888,\"#fdca26\"],[1.0,\"#f0f921\"]],\"type\":\"heatmap\"}],\"histogram2dcontour\":[{\"colorbar\":{\"outlinewidth\":0,\"ticks\":\"\"},\"colorscale\":[[0.0,\"#0d0887\"],[0.1111111111111111,\"#46039f\"],[0.2222222222222222,\"#7201a8\"],[0.3333333333333333,\"#9c179e\"],[0.4444444444444444,\"#bd3786\"],[0.5555555555555556,\"#d8576b\"],[0.6666666666666666,\"#ed7953\"],[0.7777777777777778,\"#fb9f3a\"],[0.8888888888888888,\"#fdca26\"],[1.0,\"#f0f921\"]],\"type\":\"histogram2dcontour\"}],\"histogram2d\":[{\"colorbar\":{\"outlinewidth\":0,\"ticks\":\"\"},\"colorscale\":[[0.0,\"#0d0887\"],[0.1111111111111111,\"#46039f\"],[0.2222222222222222,\"#7201a8\"],[0.3333333333333333,\"#9c179e\"],[0.4444444444444444,\"#bd3786\"],[0.5555555555555556,\"#d8576b\"],[0.6666666666666666,\"#ed7953\"],[0.7777777777777778,\"#fb9f3a\"],[0.8888888888888888,\"#fdca26\"],[1.0,\"#f0f921\"]],\"type\":\"histogram2d\"}],\"histogram\":[{\"marker\":{\"pattern\":{\"fillmode\":\"overlay\",\"size\":10,\"solidity\":0.2}},\"type\":\"histogram\"}],\"mesh3d\":[{\"colorbar\":{\"outlinewidth\":0,\"ticks\":\"\"},\"type\":\"mesh3d\"}],\"parcoords\":[{\"line\":{\"colorbar\":{\"outlinewidth\":0,\"ticks\":\"\"}},\"type\":\"parcoords\"}],\"pie\":[{\"automargin\":true,\"type\":\"pie\"}],\"scatter3d\":[{\"line\":{\"colorbar\":{\"outlinewidth\":0,\"ticks\":\"\"}},\"marker\":{\"colorbar\":{\"outlinewidth\":0,\"ticks\":\"\"}},\"type\":\"scatter3d\"}],\"scattercarpet\":[{\"marker\":{\"colorbar\":{\"outlinewidth\":0,\"ticks\":\"\"}},\"type\":\"scattercarpet\"}],\"scattergeo\":[{\"marker\":{\"colorbar\":{\"outlinewidth\":0,\"ticks\":\"\"}},\"type\":\"scattergeo\"}],\"scattergl\":[{\"marker\":{\"colorbar\":{\"outlinewidth\":0,\"ticks\":\"\"}},\"type\":\"scattergl\"}],\"scattermapbox\":[{\"marker\":{\"colorbar\":{\"outlinewidth\":0,\"ticks\":\"\"}},\"type\":\"scattermapbox\"}],\"scatterpolargl\":[{\"marker\":{\"colorbar\":{\"outlinewidth\":0,\"ticks\":\"\"}},\"type\":\"scatterpolargl\"}],\"scatterpolar\":[{\"marker\":{\"colorbar\":{\"outlinewidth\":0,\"ticks\":\"\"}},\"type\":\"scatterpolar\"}],\"scatter\":[{\"fillpattern\":{\"fillmode\":\"overlay\",\"size\":10,\"solidity\":0.2},\"type\":\"scatter\"}],\"scatterternary\":[{\"marker\":{\"colorbar\":{\"outlinewidth\":0,\"ticks\":\"\"}},\"type\":\"scatterternary\"}],\"surface\":[{\"colorbar\":{\"outlinewidth\":0,\"ticks\":\"\"},\"colorscale\":[[0.0,\"#0d0887\"],[0.1111111111111111,\"#46039f\"],[0.2222222222222222,\"#7201a8\"],[0.3333333333333333,\"#9c179e\"],[0.4444444444444444,\"#bd3786\"],[0.5555555555555556,\"#d8576b\"],[0.6666666666666666,\"#ed7953\"],[0.7777777777777778,\"#fb9f3a\"],[0.8888888888888888,\"#fdca26\"],[1.0,\"#f0f921\"]],\"type\":\"surface\"}],\"table\":[{\"cells\":{\"fill\":{\"color\":\"#EBF0F8\"},\"line\":{\"color\":\"white\"}},\"header\":{\"fill\":{\"color\":\"#C8D4E3\"},\"line\":{\"color\":\"white\"}},\"type\":\"table\"}]},\"layout\":{\"annotationdefaults\":{\"arrowcolor\":\"#2a3f5f\",\"arrowhead\":0,\"arrowwidth\":1},\"autotypenumbers\":\"strict\",\"coloraxis\":{\"colorbar\":{\"outlinewidth\":0,\"ticks\":\"\"}},\"colorscale\":{\"diverging\":[[0,\"#8e0152\"],[0.1,\"#c51b7d\"],[0.2,\"#de77ae\"],[0.3,\"#f1b6da\"],[0.4,\"#fde0ef\"],[0.5,\"#f7f7f7\"],[0.6,\"#e6f5d0\"],[0.7,\"#b8e186\"],[0.8,\"#7fbc41\"],[0.9,\"#4d9221\"],[1,\"#276419\"]],\"sequential\":[[0.0,\"#0d0887\"],[0.1111111111111111,\"#46039f\"],[0.2222222222222222,\"#7201a8\"],[0.3333333333333333,\"#9c179e\"],[0.4444444444444444,\"#bd3786\"],[0.5555555555555556,\"#d8576b\"],[0.6666666666666666,\"#ed7953\"],[0.7777777777777778,\"#fb9f3a\"],[0.8888888888888888,\"#fdca26\"],[1.0,\"#f0f921\"]],\"sequentialminus\":[[0.0,\"#0d0887\"],[0.1111111111111111,\"#46039f\"],[0.2222222222222222,\"#7201a8\"],[0.3333333333333333,\"#9c179e\"],[0.4444444444444444,\"#bd3786\"],[0.5555555555555556,\"#d8576b\"],[0.6666666666666666,\"#ed7953\"],[0.7777777777777778,\"#fb9f3a\"],[0.8888888888888888,\"#fdca26\"],[1.0,\"#f0f921\"]]},\"colorway\":[\"#636efa\",\"#EF553B\",\"#00cc96\",\"#ab63fa\",\"#FFA15A\",\"#19d3f3\",\"#FF6692\",\"#B6E880\",\"#FF97FF\",\"#FECB52\"],\"font\":{\"color\":\"#2a3f5f\"},\"geo\":{\"bgcolor\":\"white\",\"lakecolor\":\"white\",\"landcolor\":\"#E5ECF6\",\"showlakes\":true,\"showland\":true,\"subunitcolor\":\"white\"},\"hoverlabel\":{\"align\":\"left\"},\"hovermode\":\"closest\",\"mapbox\":{\"style\":\"light\"},\"paper_bgcolor\":\"white\",\"plot_bgcolor\":\"#E5ECF6\",\"polar\":{\"angularaxis\":{\"gridcolor\":\"white\",\"linecolor\":\"white\",\"ticks\":\"\"},\"bgcolor\":\"#E5ECF6\",\"radialaxis\":{\"gridcolor\":\"white\",\"linecolor\":\"white\",\"ticks\":\"\"}},\"scene\":{\"xaxis\":{\"backgroundcolor\":\"#E5ECF6\",\"gridcolor\":\"white\",\"gridwidth\":2,\"linecolor\":\"white\",\"showbackground\":true,\"ticks\":\"\",\"zerolinecolor\":\"white\"},\"yaxis\":{\"backgroundcolor\":\"#E5ECF6\",\"gridcolor\":\"white\",\"gridwidth\":2,\"linecolor\":\"white\",\"showbackground\":true,\"ticks\":\"\",\"zerolinecolor\":\"white\"},\"zaxis\":{\"backgroundcolor\":\"#E5ECF6\",\"gridcolor\":\"white\",\"gridwidth\":2,\"linecolor\":\"white\",\"showbackground\":true,\"ticks\":\"\",\"zerolinecolor\":\"white\"}},\"shapedefaults\":{\"line\":{\"color\":\"#2a3f5f\"}},\"ternary\":{\"aaxis\":{\"gridcolor\":\"white\",\"linecolor\":\"white\",\"ticks\":\"\"},\"baxis\":{\"gridcolor\":\"white\",\"linecolor\":\"white\",\"ticks\":\"\"},\"bgcolor\":\"#E5ECF6\",\"caxis\":{\"gridcolor\":\"white\",\"linecolor\":\"white\",\"ticks\":\"\"}},\"title\":{\"x\":0.05},\"xaxis\":{\"automargin\":true,\"gridcolor\":\"white\",\"linecolor\":\"white\",\"ticks\":\"\",\"title\":{\"standoff\":15},\"zerolinecolor\":\"white\",\"zerolinewidth\":2},\"yaxis\":{\"automargin\":true,\"gridcolor\":\"white\",\"linecolor\":\"white\",\"ticks\":\"\",\"title\":{\"standoff\":15},\"zerolinecolor\":\"white\",\"zerolinewidth\":2}}},\"title\":{\"text\":\"Parametri Range of Motion\"},\"xaxis\":{\"tickfont\":{\"color\":\"#7f7f7f\",\"family\":\"Courier New, monospace\",\"size\":14},\"title\":{\"font\":{\"color\":\"#7f7f7f\",\"family\":\"Courier New, monospace\",\"size\":18},\"text\":\"Month\"}},\"yaxis\":{\"tickfont\":{\"color\":\"#7f7f7f\",\"family\":\"Courier New, monospace\",\"size\":14},\"title\":{\"font\":{\"color\":\"#7f7f7f\",\"family\":\"Courier New, monospace\",\"size\":18},\"text\":\"ROM hipLeft [gradi]\"}}},                        {\"responsive\": true}                    ).then(function(){\n",
       "                            \n",
       "var gd = document.getElementById('60225935-e502-4faf-8eab-75684d857d0e');\n",
       "var x = new MutationObserver(function (mutations, observer) {{\n",
       "        var display = window.getComputedStyle(gd).display;\n",
       "        if (!display || display === 'none') {{\n",
       "            console.log([gd, 'removed!']);\n",
       "            Plotly.purge(gd);\n",
       "            observer.disconnect();\n",
       "        }}\n",
       "}});\n",
       "\n",
       "// Listen for the removal of the full notebook cells\n",
       "var notebookContainer = gd.closest('#notebook-container');\n",
       "if (notebookContainer) {{\n",
       "    x.observe(notebookContainer, {childList: true});\n",
       "}}\n",
       "\n",
       "// Listen for the clearing of the current output cell\n",
       "var outputEl = gd.closest('.output');\n",
       "if (outputEl) {{\n",
       "    x.observe(outputEl, {childList: true});\n",
       "}}\n",
       "\n",
       "                        })                };                });            </script>        </div>"
      ]
     },
     "metadata": {},
     "output_type": "display_data"
    },
    {
     "data": {
      "application/vnd.plotly.v1+json": {
       "config": {
        "linkText": "Export to plot.ly",
        "plotlyServerURL": "https://plot.ly",
        "showLink": false
       },
       "data": [
        {
         "marker": {
          "color": "rgb(0,0,255)"
         },
         "name": "Massimo valore raggiunto",
         "type": "bar",
         "x": [
          1,
          2,
          3,
          4,
          5,
          6,
          7,
          8,
          9,
          10,
          11,
          12
         ],
         "y": [
          114.28675596068301,
          0,
          0,
          0,
          0,
          0,
          0,
          0,
          0,
          0,
          0,
          0
         ]
        },
        {
         "marker": {
          "color": "rgb(255,0,0)"
         },
         "name": "Minimo valore raggiunto",
         "type": "bar",
         "x": [
          1,
          2,
          3,
          4,
          5,
          6,
          7,
          8,
          9,
          10,
          11,
          12
         ],
         "y": [
          60.1781543092217,
          0,
          0,
          0,
          0,
          0,
          0,
          0,
          0,
          0,
          0,
          0
         ]
        }
       ],
       "layout": {
        "bargap": 0.1,
        "bargroupgap": 0,
        "barmode": "group",
        "font": {
         "color": "black",
         "family": "Courier New, monospace",
         "size": 18
        },
        "legend": {
         "bgcolor": "rgba(255, 255, 255, 0)",
         "bordercolor": "rgba(255, 255, 255, 0)"
        },
        "template": {
         "data": {
          "bar": [
           {
            "error_x": {
             "color": "#2a3f5f"
            },
            "error_y": {
             "color": "#2a3f5f"
            },
            "marker": {
             "line": {
              "color": "#E5ECF6",
              "width": 0.5
             },
             "pattern": {
              "fillmode": "overlay",
              "size": 10,
              "solidity": 0.2
             }
            },
            "type": "bar"
           }
          ],
          "barpolar": [
           {
            "marker": {
             "line": {
              "color": "#E5ECF6",
              "width": 0.5
             },
             "pattern": {
              "fillmode": "overlay",
              "size": 10,
              "solidity": 0.2
             }
            },
            "type": "barpolar"
           }
          ],
          "carpet": [
           {
            "aaxis": {
             "endlinecolor": "#2a3f5f",
             "gridcolor": "white",
             "linecolor": "white",
             "minorgridcolor": "white",
             "startlinecolor": "#2a3f5f"
            },
            "baxis": {
             "endlinecolor": "#2a3f5f",
             "gridcolor": "white",
             "linecolor": "white",
             "minorgridcolor": "white",
             "startlinecolor": "#2a3f5f"
            },
            "type": "carpet"
           }
          ],
          "choropleth": [
           {
            "colorbar": {
             "outlinewidth": 0,
             "ticks": ""
            },
            "type": "choropleth"
           }
          ],
          "contour": [
           {
            "colorbar": {
             "outlinewidth": 0,
             "ticks": ""
            },
            "colorscale": [
             [
              0,
              "#0d0887"
             ],
             [
              0.1111111111111111,
              "#46039f"
             ],
             [
              0.2222222222222222,
              "#7201a8"
             ],
             [
              0.3333333333333333,
              "#9c179e"
             ],
             [
              0.4444444444444444,
              "#bd3786"
             ],
             [
              0.5555555555555556,
              "#d8576b"
             ],
             [
              0.6666666666666666,
              "#ed7953"
             ],
             [
              0.7777777777777778,
              "#fb9f3a"
             ],
             [
              0.8888888888888888,
              "#fdca26"
             ],
             [
              1,
              "#f0f921"
             ]
            ],
            "type": "contour"
           }
          ],
          "contourcarpet": [
           {
            "colorbar": {
             "outlinewidth": 0,
             "ticks": ""
            },
            "type": "contourcarpet"
           }
          ],
          "heatmap": [
           {
            "colorbar": {
             "outlinewidth": 0,
             "ticks": ""
            },
            "colorscale": [
             [
              0,
              "#0d0887"
             ],
             [
              0.1111111111111111,
              "#46039f"
             ],
             [
              0.2222222222222222,
              "#7201a8"
             ],
             [
              0.3333333333333333,
              "#9c179e"
             ],
             [
              0.4444444444444444,
              "#bd3786"
             ],
             [
              0.5555555555555556,
              "#d8576b"
             ],
             [
              0.6666666666666666,
              "#ed7953"
             ],
             [
              0.7777777777777778,
              "#fb9f3a"
             ],
             [
              0.8888888888888888,
              "#fdca26"
             ],
             [
              1,
              "#f0f921"
             ]
            ],
            "type": "heatmap"
           }
          ],
          "heatmapgl": [
           {
            "colorbar": {
             "outlinewidth": 0,
             "ticks": ""
            },
            "colorscale": [
             [
              0,
              "#0d0887"
             ],
             [
              0.1111111111111111,
              "#46039f"
             ],
             [
              0.2222222222222222,
              "#7201a8"
             ],
             [
              0.3333333333333333,
              "#9c179e"
             ],
             [
              0.4444444444444444,
              "#bd3786"
             ],
             [
              0.5555555555555556,
              "#d8576b"
             ],
             [
              0.6666666666666666,
              "#ed7953"
             ],
             [
              0.7777777777777778,
              "#fb9f3a"
             ],
             [
              0.8888888888888888,
              "#fdca26"
             ],
             [
              1,
              "#f0f921"
             ]
            ],
            "type": "heatmapgl"
           }
          ],
          "histogram": [
           {
            "marker": {
             "pattern": {
              "fillmode": "overlay",
              "size": 10,
              "solidity": 0.2
             }
            },
            "type": "histogram"
           }
          ],
          "histogram2d": [
           {
            "colorbar": {
             "outlinewidth": 0,
             "ticks": ""
            },
            "colorscale": [
             [
              0,
              "#0d0887"
             ],
             [
              0.1111111111111111,
              "#46039f"
             ],
             [
              0.2222222222222222,
              "#7201a8"
             ],
             [
              0.3333333333333333,
              "#9c179e"
             ],
             [
              0.4444444444444444,
              "#bd3786"
             ],
             [
              0.5555555555555556,
              "#d8576b"
             ],
             [
              0.6666666666666666,
              "#ed7953"
             ],
             [
              0.7777777777777778,
              "#fb9f3a"
             ],
             [
              0.8888888888888888,
              "#fdca26"
             ],
             [
              1,
              "#f0f921"
             ]
            ],
            "type": "histogram2d"
           }
          ],
          "histogram2dcontour": [
           {
            "colorbar": {
             "outlinewidth": 0,
             "ticks": ""
            },
            "colorscale": [
             [
              0,
              "#0d0887"
             ],
             [
              0.1111111111111111,
              "#46039f"
             ],
             [
              0.2222222222222222,
              "#7201a8"
             ],
             [
              0.3333333333333333,
              "#9c179e"
             ],
             [
              0.4444444444444444,
              "#bd3786"
             ],
             [
              0.5555555555555556,
              "#d8576b"
             ],
             [
              0.6666666666666666,
              "#ed7953"
             ],
             [
              0.7777777777777778,
              "#fb9f3a"
             ],
             [
              0.8888888888888888,
              "#fdca26"
             ],
             [
              1,
              "#f0f921"
             ]
            ],
            "type": "histogram2dcontour"
           }
          ],
          "mesh3d": [
           {
            "colorbar": {
             "outlinewidth": 0,
             "ticks": ""
            },
            "type": "mesh3d"
           }
          ],
          "parcoords": [
           {
            "line": {
             "colorbar": {
              "outlinewidth": 0,
              "ticks": ""
             }
            },
            "type": "parcoords"
           }
          ],
          "pie": [
           {
            "automargin": true,
            "type": "pie"
           }
          ],
          "scatter": [
           {
            "fillpattern": {
             "fillmode": "overlay",
             "size": 10,
             "solidity": 0.2
            },
            "type": "scatter"
           }
          ],
          "scatter3d": [
           {
            "line": {
             "colorbar": {
              "outlinewidth": 0,
              "ticks": ""
             }
            },
            "marker": {
             "colorbar": {
              "outlinewidth": 0,
              "ticks": ""
             }
            },
            "type": "scatter3d"
           }
          ],
          "scattercarpet": [
           {
            "marker": {
             "colorbar": {
              "outlinewidth": 0,
              "ticks": ""
             }
            },
            "type": "scattercarpet"
           }
          ],
          "scattergeo": [
           {
            "marker": {
             "colorbar": {
              "outlinewidth": 0,
              "ticks": ""
             }
            },
            "type": "scattergeo"
           }
          ],
          "scattergl": [
           {
            "marker": {
             "colorbar": {
              "outlinewidth": 0,
              "ticks": ""
             }
            },
            "type": "scattergl"
           }
          ],
          "scattermapbox": [
           {
            "marker": {
             "colorbar": {
              "outlinewidth": 0,
              "ticks": ""
             }
            },
            "type": "scattermapbox"
           }
          ],
          "scatterpolar": [
           {
            "marker": {
             "colorbar": {
              "outlinewidth": 0,
              "ticks": ""
             }
            },
            "type": "scatterpolar"
           }
          ],
          "scatterpolargl": [
           {
            "marker": {
             "colorbar": {
              "outlinewidth": 0,
              "ticks": ""
             }
            },
            "type": "scatterpolargl"
           }
          ],
          "scatterternary": [
           {
            "marker": {
             "colorbar": {
              "outlinewidth": 0,
              "ticks": ""
             }
            },
            "type": "scatterternary"
           }
          ],
          "surface": [
           {
            "colorbar": {
             "outlinewidth": 0,
             "ticks": ""
            },
            "colorscale": [
             [
              0,
              "#0d0887"
             ],
             [
              0.1111111111111111,
              "#46039f"
             ],
             [
              0.2222222222222222,
              "#7201a8"
             ],
             [
              0.3333333333333333,
              "#9c179e"
             ],
             [
              0.4444444444444444,
              "#bd3786"
             ],
             [
              0.5555555555555556,
              "#d8576b"
             ],
             [
              0.6666666666666666,
              "#ed7953"
             ],
             [
              0.7777777777777778,
              "#fb9f3a"
             ],
             [
              0.8888888888888888,
              "#fdca26"
             ],
             [
              1,
              "#f0f921"
             ]
            ],
            "type": "surface"
           }
          ],
          "table": [
           {
            "cells": {
             "fill": {
              "color": "#EBF0F8"
             },
             "line": {
              "color": "white"
             }
            },
            "header": {
             "fill": {
              "color": "#C8D4E3"
             },
             "line": {
              "color": "white"
             }
            },
            "type": "table"
           }
          ]
         },
         "layout": {
          "annotationdefaults": {
           "arrowcolor": "#2a3f5f",
           "arrowhead": 0,
           "arrowwidth": 1
          },
          "autotypenumbers": "strict",
          "coloraxis": {
           "colorbar": {
            "outlinewidth": 0,
            "ticks": ""
           }
          },
          "colorscale": {
           "diverging": [
            [
             0,
             "#8e0152"
            ],
            [
             0.1,
             "#c51b7d"
            ],
            [
             0.2,
             "#de77ae"
            ],
            [
             0.3,
             "#f1b6da"
            ],
            [
             0.4,
             "#fde0ef"
            ],
            [
             0.5,
             "#f7f7f7"
            ],
            [
             0.6,
             "#e6f5d0"
            ],
            [
             0.7,
             "#b8e186"
            ],
            [
             0.8,
             "#7fbc41"
            ],
            [
             0.9,
             "#4d9221"
            ],
            [
             1,
             "#276419"
            ]
           ],
           "sequential": [
            [
             0,
             "#0d0887"
            ],
            [
             0.1111111111111111,
             "#46039f"
            ],
            [
             0.2222222222222222,
             "#7201a8"
            ],
            [
             0.3333333333333333,
             "#9c179e"
            ],
            [
             0.4444444444444444,
             "#bd3786"
            ],
            [
             0.5555555555555556,
             "#d8576b"
            ],
            [
             0.6666666666666666,
             "#ed7953"
            ],
            [
             0.7777777777777778,
             "#fb9f3a"
            ],
            [
             0.8888888888888888,
             "#fdca26"
            ],
            [
             1,
             "#f0f921"
            ]
           ],
           "sequentialminus": [
            [
             0,
             "#0d0887"
            ],
            [
             0.1111111111111111,
             "#46039f"
            ],
            [
             0.2222222222222222,
             "#7201a8"
            ],
            [
             0.3333333333333333,
             "#9c179e"
            ],
            [
             0.4444444444444444,
             "#bd3786"
            ],
            [
             0.5555555555555556,
             "#d8576b"
            ],
            [
             0.6666666666666666,
             "#ed7953"
            ],
            [
             0.7777777777777778,
             "#fb9f3a"
            ],
            [
             0.8888888888888888,
             "#fdca26"
            ],
            [
             1,
             "#f0f921"
            ]
           ]
          },
          "colorway": [
           "#636efa",
           "#EF553B",
           "#00cc96",
           "#ab63fa",
           "#FFA15A",
           "#19d3f3",
           "#FF6692",
           "#B6E880",
           "#FF97FF",
           "#FECB52"
          ],
          "font": {
           "color": "#2a3f5f"
          },
          "geo": {
           "bgcolor": "white",
           "lakecolor": "white",
           "landcolor": "#E5ECF6",
           "showlakes": true,
           "showland": true,
           "subunitcolor": "white"
          },
          "hoverlabel": {
           "align": "left"
          },
          "hovermode": "closest",
          "mapbox": {
           "style": "light"
          },
          "paper_bgcolor": "white",
          "plot_bgcolor": "#E5ECF6",
          "polar": {
           "angularaxis": {
            "gridcolor": "white",
            "linecolor": "white",
            "ticks": ""
           },
           "bgcolor": "#E5ECF6",
           "radialaxis": {
            "gridcolor": "white",
            "linecolor": "white",
            "ticks": ""
           }
          },
          "scene": {
           "xaxis": {
            "backgroundcolor": "#E5ECF6",
            "gridcolor": "white",
            "gridwidth": 2,
            "linecolor": "white",
            "showbackground": true,
            "ticks": "",
            "zerolinecolor": "white"
           },
           "yaxis": {
            "backgroundcolor": "#E5ECF6",
            "gridcolor": "white",
            "gridwidth": 2,
            "linecolor": "white",
            "showbackground": true,
            "ticks": "",
            "zerolinecolor": "white"
           },
           "zaxis": {
            "backgroundcolor": "#E5ECF6",
            "gridcolor": "white",
            "gridwidth": 2,
            "linecolor": "white",
            "showbackground": true,
            "ticks": "",
            "zerolinecolor": "white"
           }
          },
          "shapedefaults": {
           "line": {
            "color": "#2a3f5f"
           }
          },
          "ternary": {
           "aaxis": {
            "gridcolor": "white",
            "linecolor": "white",
            "ticks": ""
           },
           "baxis": {
            "gridcolor": "white",
            "linecolor": "white",
            "ticks": ""
           },
           "bgcolor": "#E5ECF6",
           "caxis": {
            "gridcolor": "white",
            "linecolor": "white",
            "ticks": ""
           }
          },
          "title": {
           "x": 0.05
          },
          "xaxis": {
           "automargin": true,
           "gridcolor": "white",
           "linecolor": "white",
           "ticks": "",
           "title": {
            "standoff": 15
           },
           "zerolinecolor": "white",
           "zerolinewidth": 2
          },
          "yaxis": {
           "automargin": true,
           "gridcolor": "white",
           "linecolor": "white",
           "ticks": "",
           "title": {
            "standoff": 15
           },
           "zerolinecolor": "white",
           "zerolinewidth": 2
          }
         }
        },
        "title": {
         "text": "Parametri Range of Motion"
        },
        "xaxis": {
         "tickfont": {
          "color": "#7f7f7f",
          "family": "Courier New, monospace",
          "size": 14
         },
         "title": {
          "font": {
           "color": "#7f7f7f",
           "family": "Courier New, monospace",
           "size": 18
          },
          "text": "Month"
         }
        },
        "yaxis": {
         "tickfont": {
          "color": "#7f7f7f",
          "family": "Courier New, monospace",
          "size": 14
         },
         "title": {
          "font": {
           "color": "#7f7f7f",
           "family": "Courier New, monospace",
           "size": 18
          },
          "text": "ROM kneeLeft [gradi]"
         }
        }
       }
      },
      "text/html": [
       "<div>                            <div id=\"c4c9168a-649b-43b9-ad86-22ce4a31a419\" class=\"plotly-graph-div\" style=\"height:525px; width:100%;\"></div>            <script type=\"text/javascript\">                require([\"plotly\"], function(Plotly) {                    window.PLOTLYENV=window.PLOTLYENV || {};                                    if (document.getElementById(\"c4c9168a-649b-43b9-ad86-22ce4a31a419\")) {                    Plotly.newPlot(                        \"c4c9168a-649b-43b9-ad86-22ce4a31a419\",                        [{\"marker\":{\"color\":\"rgb(0,0,255)\"},\"name\":\"Massimo valore raggiunto\",\"x\":[1,2,3,4,5,6,7,8,9,10,11,12],\"y\":[114.28675596068301,0,0,0,0,0,0,0,0,0,0,0],\"type\":\"bar\"},{\"marker\":{\"color\":\"rgb(255,0,0)\"},\"name\":\"Minimo valore raggiunto\",\"x\":[1,2,3,4,5,6,7,8,9,10,11,12],\"y\":[60.1781543092217,0,0,0,0,0,0,0,0,0,0,0],\"type\":\"bar\"}],                        {\"bargap\":0.1,\"bargroupgap\":0.0,\"barmode\":\"group\",\"font\":{\"color\":\"black\",\"family\":\"Courier New, monospace\",\"size\":18},\"legend\":{\"bgcolor\":\"rgba(255, 255, 255, 0)\",\"bordercolor\":\"rgba(255, 255, 255, 0)\"},\"template\":{\"data\":{\"barpolar\":[{\"marker\":{\"line\":{\"color\":\"#E5ECF6\",\"width\":0.5},\"pattern\":{\"fillmode\":\"overlay\",\"size\":10,\"solidity\":0.2}},\"type\":\"barpolar\"}],\"bar\":[{\"error_x\":{\"color\":\"#2a3f5f\"},\"error_y\":{\"color\":\"#2a3f5f\"},\"marker\":{\"line\":{\"color\":\"#E5ECF6\",\"width\":0.5},\"pattern\":{\"fillmode\":\"overlay\",\"size\":10,\"solidity\":0.2}},\"type\":\"bar\"}],\"carpet\":[{\"aaxis\":{\"endlinecolor\":\"#2a3f5f\",\"gridcolor\":\"white\",\"linecolor\":\"white\",\"minorgridcolor\":\"white\",\"startlinecolor\":\"#2a3f5f\"},\"baxis\":{\"endlinecolor\":\"#2a3f5f\",\"gridcolor\":\"white\",\"linecolor\":\"white\",\"minorgridcolor\":\"white\",\"startlinecolor\":\"#2a3f5f\"},\"type\":\"carpet\"}],\"choropleth\":[{\"colorbar\":{\"outlinewidth\":0,\"ticks\":\"\"},\"type\":\"choropleth\"}],\"contourcarpet\":[{\"colorbar\":{\"outlinewidth\":0,\"ticks\":\"\"},\"type\":\"contourcarpet\"}],\"contour\":[{\"colorbar\":{\"outlinewidth\":0,\"ticks\":\"\"},\"colorscale\":[[0.0,\"#0d0887\"],[0.1111111111111111,\"#46039f\"],[0.2222222222222222,\"#7201a8\"],[0.3333333333333333,\"#9c179e\"],[0.4444444444444444,\"#bd3786\"],[0.5555555555555556,\"#d8576b\"],[0.6666666666666666,\"#ed7953\"],[0.7777777777777778,\"#fb9f3a\"],[0.8888888888888888,\"#fdca26\"],[1.0,\"#f0f921\"]],\"type\":\"contour\"}],\"heatmapgl\":[{\"colorbar\":{\"outlinewidth\":0,\"ticks\":\"\"},\"colorscale\":[[0.0,\"#0d0887\"],[0.1111111111111111,\"#46039f\"],[0.2222222222222222,\"#7201a8\"],[0.3333333333333333,\"#9c179e\"],[0.4444444444444444,\"#bd3786\"],[0.5555555555555556,\"#d8576b\"],[0.6666666666666666,\"#ed7953\"],[0.7777777777777778,\"#fb9f3a\"],[0.8888888888888888,\"#fdca26\"],[1.0,\"#f0f921\"]],\"type\":\"heatmapgl\"}],\"heatmap\":[{\"colorbar\":{\"outlinewidth\":0,\"ticks\":\"\"},\"colorscale\":[[0.0,\"#0d0887\"],[0.1111111111111111,\"#46039f\"],[0.2222222222222222,\"#7201a8\"],[0.3333333333333333,\"#9c179e\"],[0.4444444444444444,\"#bd3786\"],[0.5555555555555556,\"#d8576b\"],[0.6666666666666666,\"#ed7953\"],[0.7777777777777778,\"#fb9f3a\"],[0.8888888888888888,\"#fdca26\"],[1.0,\"#f0f921\"]],\"type\":\"heatmap\"}],\"histogram2dcontour\":[{\"colorbar\":{\"outlinewidth\":0,\"ticks\":\"\"},\"colorscale\":[[0.0,\"#0d0887\"],[0.1111111111111111,\"#46039f\"],[0.2222222222222222,\"#7201a8\"],[0.3333333333333333,\"#9c179e\"],[0.4444444444444444,\"#bd3786\"],[0.5555555555555556,\"#d8576b\"],[0.6666666666666666,\"#ed7953\"],[0.7777777777777778,\"#fb9f3a\"],[0.8888888888888888,\"#fdca26\"],[1.0,\"#f0f921\"]],\"type\":\"histogram2dcontour\"}],\"histogram2d\":[{\"colorbar\":{\"outlinewidth\":0,\"ticks\":\"\"},\"colorscale\":[[0.0,\"#0d0887\"],[0.1111111111111111,\"#46039f\"],[0.2222222222222222,\"#7201a8\"],[0.3333333333333333,\"#9c179e\"],[0.4444444444444444,\"#bd3786\"],[0.5555555555555556,\"#d8576b\"],[0.6666666666666666,\"#ed7953\"],[0.7777777777777778,\"#fb9f3a\"],[0.8888888888888888,\"#fdca26\"],[1.0,\"#f0f921\"]],\"type\":\"histogram2d\"}],\"histogram\":[{\"marker\":{\"pattern\":{\"fillmode\":\"overlay\",\"size\":10,\"solidity\":0.2}},\"type\":\"histogram\"}],\"mesh3d\":[{\"colorbar\":{\"outlinewidth\":0,\"ticks\":\"\"},\"type\":\"mesh3d\"}],\"parcoords\":[{\"line\":{\"colorbar\":{\"outlinewidth\":0,\"ticks\":\"\"}},\"type\":\"parcoords\"}],\"pie\":[{\"automargin\":true,\"type\":\"pie\"}],\"scatter3d\":[{\"line\":{\"colorbar\":{\"outlinewidth\":0,\"ticks\":\"\"}},\"marker\":{\"colorbar\":{\"outlinewidth\":0,\"ticks\":\"\"}},\"type\":\"scatter3d\"}],\"scattercarpet\":[{\"marker\":{\"colorbar\":{\"outlinewidth\":0,\"ticks\":\"\"}},\"type\":\"scattercarpet\"}],\"scattergeo\":[{\"marker\":{\"colorbar\":{\"outlinewidth\":0,\"ticks\":\"\"}},\"type\":\"scattergeo\"}],\"scattergl\":[{\"marker\":{\"colorbar\":{\"outlinewidth\":0,\"ticks\":\"\"}},\"type\":\"scattergl\"}],\"scattermapbox\":[{\"marker\":{\"colorbar\":{\"outlinewidth\":0,\"ticks\":\"\"}},\"type\":\"scattermapbox\"}],\"scatterpolargl\":[{\"marker\":{\"colorbar\":{\"outlinewidth\":0,\"ticks\":\"\"}},\"type\":\"scatterpolargl\"}],\"scatterpolar\":[{\"marker\":{\"colorbar\":{\"outlinewidth\":0,\"ticks\":\"\"}},\"type\":\"scatterpolar\"}],\"scatter\":[{\"fillpattern\":{\"fillmode\":\"overlay\",\"size\":10,\"solidity\":0.2},\"type\":\"scatter\"}],\"scatterternary\":[{\"marker\":{\"colorbar\":{\"outlinewidth\":0,\"ticks\":\"\"}},\"type\":\"scatterternary\"}],\"surface\":[{\"colorbar\":{\"outlinewidth\":0,\"ticks\":\"\"},\"colorscale\":[[0.0,\"#0d0887\"],[0.1111111111111111,\"#46039f\"],[0.2222222222222222,\"#7201a8\"],[0.3333333333333333,\"#9c179e\"],[0.4444444444444444,\"#bd3786\"],[0.5555555555555556,\"#d8576b\"],[0.6666666666666666,\"#ed7953\"],[0.7777777777777778,\"#fb9f3a\"],[0.8888888888888888,\"#fdca26\"],[1.0,\"#f0f921\"]],\"type\":\"surface\"}],\"table\":[{\"cells\":{\"fill\":{\"color\":\"#EBF0F8\"},\"line\":{\"color\":\"white\"}},\"header\":{\"fill\":{\"color\":\"#C8D4E3\"},\"line\":{\"color\":\"white\"}},\"type\":\"table\"}]},\"layout\":{\"annotationdefaults\":{\"arrowcolor\":\"#2a3f5f\",\"arrowhead\":0,\"arrowwidth\":1},\"autotypenumbers\":\"strict\",\"coloraxis\":{\"colorbar\":{\"outlinewidth\":0,\"ticks\":\"\"}},\"colorscale\":{\"diverging\":[[0,\"#8e0152\"],[0.1,\"#c51b7d\"],[0.2,\"#de77ae\"],[0.3,\"#f1b6da\"],[0.4,\"#fde0ef\"],[0.5,\"#f7f7f7\"],[0.6,\"#e6f5d0\"],[0.7,\"#b8e186\"],[0.8,\"#7fbc41\"],[0.9,\"#4d9221\"],[1,\"#276419\"]],\"sequential\":[[0.0,\"#0d0887\"],[0.1111111111111111,\"#46039f\"],[0.2222222222222222,\"#7201a8\"],[0.3333333333333333,\"#9c179e\"],[0.4444444444444444,\"#bd3786\"],[0.5555555555555556,\"#d8576b\"],[0.6666666666666666,\"#ed7953\"],[0.7777777777777778,\"#fb9f3a\"],[0.8888888888888888,\"#fdca26\"],[1.0,\"#f0f921\"]],\"sequentialminus\":[[0.0,\"#0d0887\"],[0.1111111111111111,\"#46039f\"],[0.2222222222222222,\"#7201a8\"],[0.3333333333333333,\"#9c179e\"],[0.4444444444444444,\"#bd3786\"],[0.5555555555555556,\"#d8576b\"],[0.6666666666666666,\"#ed7953\"],[0.7777777777777778,\"#fb9f3a\"],[0.8888888888888888,\"#fdca26\"],[1.0,\"#f0f921\"]]},\"colorway\":[\"#636efa\",\"#EF553B\",\"#00cc96\",\"#ab63fa\",\"#FFA15A\",\"#19d3f3\",\"#FF6692\",\"#B6E880\",\"#FF97FF\",\"#FECB52\"],\"font\":{\"color\":\"#2a3f5f\"},\"geo\":{\"bgcolor\":\"white\",\"lakecolor\":\"white\",\"landcolor\":\"#E5ECF6\",\"showlakes\":true,\"showland\":true,\"subunitcolor\":\"white\"},\"hoverlabel\":{\"align\":\"left\"},\"hovermode\":\"closest\",\"mapbox\":{\"style\":\"light\"},\"paper_bgcolor\":\"white\",\"plot_bgcolor\":\"#E5ECF6\",\"polar\":{\"angularaxis\":{\"gridcolor\":\"white\",\"linecolor\":\"white\",\"ticks\":\"\"},\"bgcolor\":\"#E5ECF6\",\"radialaxis\":{\"gridcolor\":\"white\",\"linecolor\":\"white\",\"ticks\":\"\"}},\"scene\":{\"xaxis\":{\"backgroundcolor\":\"#E5ECF6\",\"gridcolor\":\"white\",\"gridwidth\":2,\"linecolor\":\"white\",\"showbackground\":true,\"ticks\":\"\",\"zerolinecolor\":\"white\"},\"yaxis\":{\"backgroundcolor\":\"#E5ECF6\",\"gridcolor\":\"white\",\"gridwidth\":2,\"linecolor\":\"white\",\"showbackground\":true,\"ticks\":\"\",\"zerolinecolor\":\"white\"},\"zaxis\":{\"backgroundcolor\":\"#E5ECF6\",\"gridcolor\":\"white\",\"gridwidth\":2,\"linecolor\":\"white\",\"showbackground\":true,\"ticks\":\"\",\"zerolinecolor\":\"white\"}},\"shapedefaults\":{\"line\":{\"color\":\"#2a3f5f\"}},\"ternary\":{\"aaxis\":{\"gridcolor\":\"white\",\"linecolor\":\"white\",\"ticks\":\"\"},\"baxis\":{\"gridcolor\":\"white\",\"linecolor\":\"white\",\"ticks\":\"\"},\"bgcolor\":\"#E5ECF6\",\"caxis\":{\"gridcolor\":\"white\",\"linecolor\":\"white\",\"ticks\":\"\"}},\"title\":{\"x\":0.05},\"xaxis\":{\"automargin\":true,\"gridcolor\":\"white\",\"linecolor\":\"white\",\"ticks\":\"\",\"title\":{\"standoff\":15},\"zerolinecolor\":\"white\",\"zerolinewidth\":2},\"yaxis\":{\"automargin\":true,\"gridcolor\":\"white\",\"linecolor\":\"white\",\"ticks\":\"\",\"title\":{\"standoff\":15},\"zerolinecolor\":\"white\",\"zerolinewidth\":2}}},\"title\":{\"text\":\"Parametri Range of Motion\"},\"xaxis\":{\"tickfont\":{\"color\":\"#7f7f7f\",\"family\":\"Courier New, monospace\",\"size\":14},\"title\":{\"font\":{\"color\":\"#7f7f7f\",\"family\":\"Courier New, monospace\",\"size\":18},\"text\":\"Month\"}},\"yaxis\":{\"tickfont\":{\"color\":\"#7f7f7f\",\"family\":\"Courier New, monospace\",\"size\":14},\"title\":{\"font\":{\"color\":\"#7f7f7f\",\"family\":\"Courier New, monospace\",\"size\":18},\"text\":\"ROM kneeLeft [gradi]\"}}},                        {\"responsive\": true}                    ).then(function(){\n",
       "                            \n",
       "var gd = document.getElementById('c4c9168a-649b-43b9-ad86-22ce4a31a419');\n",
       "var x = new MutationObserver(function (mutations, observer) {{\n",
       "        var display = window.getComputedStyle(gd).display;\n",
       "        if (!display || display === 'none') {{\n",
       "            console.log([gd, 'removed!']);\n",
       "            Plotly.purge(gd);\n",
       "            observer.disconnect();\n",
       "        }}\n",
       "}});\n",
       "\n",
       "// Listen for the removal of the full notebook cells\n",
       "var notebookContainer = gd.closest('#notebook-container');\n",
       "if (notebookContainer) {{\n",
       "    x.observe(notebookContainer, {childList: true});\n",
       "}}\n",
       "\n",
       "// Listen for the clearing of the current output cell\n",
       "var outputEl = gd.closest('.output');\n",
       "if (outputEl) {{\n",
       "    x.observe(outputEl, {childList: true});\n",
       "}}\n",
       "\n",
       "                        })                };                });            </script>        </div>"
      ]
     },
     "metadata": {},
     "output_type": "display_data"
    },
    {
     "data": {
      "application/vnd.plotly.v1+json": {
       "config": {
        "linkText": "Export to plot.ly",
        "plotlyServerURL": "https://plot.ly",
        "showLink": false
       },
       "data": [
        {
         "marker": {
          "color": "rgb(0,0,255)"
         },
         "name": "Massimo valore raggiunto",
         "type": "bar",
         "x": [
          1,
          2,
          3,
          4,
          5,
          6,
          7,
          8,
          9,
          10,
          11,
          12
         ],
         "y": [
          90,
          0,
          0,
          0,
          0,
          0,
          0,
          0,
          0,
          0,
          0,
          0
         ]
        },
        {
         "marker": {
          "color": "rgb(255,0,0)"
         },
         "name": "Minimo valore raggiunto",
         "type": "bar",
         "x": [
          1,
          2,
          3,
          4,
          5,
          6,
          7,
          8,
          9,
          10,
          11,
          12
         ],
         "y": [
          90,
          0,
          0,
          0,
          0,
          0,
          0,
          0,
          0,
          0,
          0,
          0
         ]
        }
       ],
       "layout": {
        "bargap": 0.1,
        "bargroupgap": 0,
        "barmode": "group",
        "font": {
         "color": "black",
         "family": "Courier New, monospace",
         "size": 18
        },
        "legend": {
         "bgcolor": "rgba(255, 255, 255, 0)",
         "bordercolor": "rgba(255, 255, 255, 0)"
        },
        "template": {
         "data": {
          "bar": [
           {
            "error_x": {
             "color": "#2a3f5f"
            },
            "error_y": {
             "color": "#2a3f5f"
            },
            "marker": {
             "line": {
              "color": "#E5ECF6",
              "width": 0.5
             },
             "pattern": {
              "fillmode": "overlay",
              "size": 10,
              "solidity": 0.2
             }
            },
            "type": "bar"
           }
          ],
          "barpolar": [
           {
            "marker": {
             "line": {
              "color": "#E5ECF6",
              "width": 0.5
             },
             "pattern": {
              "fillmode": "overlay",
              "size": 10,
              "solidity": 0.2
             }
            },
            "type": "barpolar"
           }
          ],
          "carpet": [
           {
            "aaxis": {
             "endlinecolor": "#2a3f5f",
             "gridcolor": "white",
             "linecolor": "white",
             "minorgridcolor": "white",
             "startlinecolor": "#2a3f5f"
            },
            "baxis": {
             "endlinecolor": "#2a3f5f",
             "gridcolor": "white",
             "linecolor": "white",
             "minorgridcolor": "white",
             "startlinecolor": "#2a3f5f"
            },
            "type": "carpet"
           }
          ],
          "choropleth": [
           {
            "colorbar": {
             "outlinewidth": 0,
             "ticks": ""
            },
            "type": "choropleth"
           }
          ],
          "contour": [
           {
            "colorbar": {
             "outlinewidth": 0,
             "ticks": ""
            },
            "colorscale": [
             [
              0,
              "#0d0887"
             ],
             [
              0.1111111111111111,
              "#46039f"
             ],
             [
              0.2222222222222222,
              "#7201a8"
             ],
             [
              0.3333333333333333,
              "#9c179e"
             ],
             [
              0.4444444444444444,
              "#bd3786"
             ],
             [
              0.5555555555555556,
              "#d8576b"
             ],
             [
              0.6666666666666666,
              "#ed7953"
             ],
             [
              0.7777777777777778,
              "#fb9f3a"
             ],
             [
              0.8888888888888888,
              "#fdca26"
             ],
             [
              1,
              "#f0f921"
             ]
            ],
            "type": "contour"
           }
          ],
          "contourcarpet": [
           {
            "colorbar": {
             "outlinewidth": 0,
             "ticks": ""
            },
            "type": "contourcarpet"
           }
          ],
          "heatmap": [
           {
            "colorbar": {
             "outlinewidth": 0,
             "ticks": ""
            },
            "colorscale": [
             [
              0,
              "#0d0887"
             ],
             [
              0.1111111111111111,
              "#46039f"
             ],
             [
              0.2222222222222222,
              "#7201a8"
             ],
             [
              0.3333333333333333,
              "#9c179e"
             ],
             [
              0.4444444444444444,
              "#bd3786"
             ],
             [
              0.5555555555555556,
              "#d8576b"
             ],
             [
              0.6666666666666666,
              "#ed7953"
             ],
             [
              0.7777777777777778,
              "#fb9f3a"
             ],
             [
              0.8888888888888888,
              "#fdca26"
             ],
             [
              1,
              "#f0f921"
             ]
            ],
            "type": "heatmap"
           }
          ],
          "heatmapgl": [
           {
            "colorbar": {
             "outlinewidth": 0,
             "ticks": ""
            },
            "colorscale": [
             [
              0,
              "#0d0887"
             ],
             [
              0.1111111111111111,
              "#46039f"
             ],
             [
              0.2222222222222222,
              "#7201a8"
             ],
             [
              0.3333333333333333,
              "#9c179e"
             ],
             [
              0.4444444444444444,
              "#bd3786"
             ],
             [
              0.5555555555555556,
              "#d8576b"
             ],
             [
              0.6666666666666666,
              "#ed7953"
             ],
             [
              0.7777777777777778,
              "#fb9f3a"
             ],
             [
              0.8888888888888888,
              "#fdca26"
             ],
             [
              1,
              "#f0f921"
             ]
            ],
            "type": "heatmapgl"
           }
          ],
          "histogram": [
           {
            "marker": {
             "pattern": {
              "fillmode": "overlay",
              "size": 10,
              "solidity": 0.2
             }
            },
            "type": "histogram"
           }
          ],
          "histogram2d": [
           {
            "colorbar": {
             "outlinewidth": 0,
             "ticks": ""
            },
            "colorscale": [
             [
              0,
              "#0d0887"
             ],
             [
              0.1111111111111111,
              "#46039f"
             ],
             [
              0.2222222222222222,
              "#7201a8"
             ],
             [
              0.3333333333333333,
              "#9c179e"
             ],
             [
              0.4444444444444444,
              "#bd3786"
             ],
             [
              0.5555555555555556,
              "#d8576b"
             ],
             [
              0.6666666666666666,
              "#ed7953"
             ],
             [
              0.7777777777777778,
              "#fb9f3a"
             ],
             [
              0.8888888888888888,
              "#fdca26"
             ],
             [
              1,
              "#f0f921"
             ]
            ],
            "type": "histogram2d"
           }
          ],
          "histogram2dcontour": [
           {
            "colorbar": {
             "outlinewidth": 0,
             "ticks": ""
            },
            "colorscale": [
             [
              0,
              "#0d0887"
             ],
             [
              0.1111111111111111,
              "#46039f"
             ],
             [
              0.2222222222222222,
              "#7201a8"
             ],
             [
              0.3333333333333333,
              "#9c179e"
             ],
             [
              0.4444444444444444,
              "#bd3786"
             ],
             [
              0.5555555555555556,
              "#d8576b"
             ],
             [
              0.6666666666666666,
              "#ed7953"
             ],
             [
              0.7777777777777778,
              "#fb9f3a"
             ],
             [
              0.8888888888888888,
              "#fdca26"
             ],
             [
              1,
              "#f0f921"
             ]
            ],
            "type": "histogram2dcontour"
           }
          ],
          "mesh3d": [
           {
            "colorbar": {
             "outlinewidth": 0,
             "ticks": ""
            },
            "type": "mesh3d"
           }
          ],
          "parcoords": [
           {
            "line": {
             "colorbar": {
              "outlinewidth": 0,
              "ticks": ""
             }
            },
            "type": "parcoords"
           }
          ],
          "pie": [
           {
            "automargin": true,
            "type": "pie"
           }
          ],
          "scatter": [
           {
            "fillpattern": {
             "fillmode": "overlay",
             "size": 10,
             "solidity": 0.2
            },
            "type": "scatter"
           }
          ],
          "scatter3d": [
           {
            "line": {
             "colorbar": {
              "outlinewidth": 0,
              "ticks": ""
             }
            },
            "marker": {
             "colorbar": {
              "outlinewidth": 0,
              "ticks": ""
             }
            },
            "type": "scatter3d"
           }
          ],
          "scattercarpet": [
           {
            "marker": {
             "colorbar": {
              "outlinewidth": 0,
              "ticks": ""
             }
            },
            "type": "scattercarpet"
           }
          ],
          "scattergeo": [
           {
            "marker": {
             "colorbar": {
              "outlinewidth": 0,
              "ticks": ""
             }
            },
            "type": "scattergeo"
           }
          ],
          "scattergl": [
           {
            "marker": {
             "colorbar": {
              "outlinewidth": 0,
              "ticks": ""
             }
            },
            "type": "scattergl"
           }
          ],
          "scattermapbox": [
           {
            "marker": {
             "colorbar": {
              "outlinewidth": 0,
              "ticks": ""
             }
            },
            "type": "scattermapbox"
           }
          ],
          "scatterpolar": [
           {
            "marker": {
             "colorbar": {
              "outlinewidth": 0,
              "ticks": ""
             }
            },
            "type": "scatterpolar"
           }
          ],
          "scatterpolargl": [
           {
            "marker": {
             "colorbar": {
              "outlinewidth": 0,
              "ticks": ""
             }
            },
            "type": "scatterpolargl"
           }
          ],
          "scatterternary": [
           {
            "marker": {
             "colorbar": {
              "outlinewidth": 0,
              "ticks": ""
             }
            },
            "type": "scatterternary"
           }
          ],
          "surface": [
           {
            "colorbar": {
             "outlinewidth": 0,
             "ticks": ""
            },
            "colorscale": [
             [
              0,
              "#0d0887"
             ],
             [
              0.1111111111111111,
              "#46039f"
             ],
             [
              0.2222222222222222,
              "#7201a8"
             ],
             [
              0.3333333333333333,
              "#9c179e"
             ],
             [
              0.4444444444444444,
              "#bd3786"
             ],
             [
              0.5555555555555556,
              "#d8576b"
             ],
             [
              0.6666666666666666,
              "#ed7953"
             ],
             [
              0.7777777777777778,
              "#fb9f3a"
             ],
             [
              0.8888888888888888,
              "#fdca26"
             ],
             [
              1,
              "#f0f921"
             ]
            ],
            "type": "surface"
           }
          ],
          "table": [
           {
            "cells": {
             "fill": {
              "color": "#EBF0F8"
             },
             "line": {
              "color": "white"
             }
            },
            "header": {
             "fill": {
              "color": "#C8D4E3"
             },
             "line": {
              "color": "white"
             }
            },
            "type": "table"
           }
          ]
         },
         "layout": {
          "annotationdefaults": {
           "arrowcolor": "#2a3f5f",
           "arrowhead": 0,
           "arrowwidth": 1
          },
          "autotypenumbers": "strict",
          "coloraxis": {
           "colorbar": {
            "outlinewidth": 0,
            "ticks": ""
           }
          },
          "colorscale": {
           "diverging": [
            [
             0,
             "#8e0152"
            ],
            [
             0.1,
             "#c51b7d"
            ],
            [
             0.2,
             "#de77ae"
            ],
            [
             0.3,
             "#f1b6da"
            ],
            [
             0.4,
             "#fde0ef"
            ],
            [
             0.5,
             "#f7f7f7"
            ],
            [
             0.6,
             "#e6f5d0"
            ],
            [
             0.7,
             "#b8e186"
            ],
            [
             0.8,
             "#7fbc41"
            ],
            [
             0.9,
             "#4d9221"
            ],
            [
             1,
             "#276419"
            ]
           ],
           "sequential": [
            [
             0,
             "#0d0887"
            ],
            [
             0.1111111111111111,
             "#46039f"
            ],
            [
             0.2222222222222222,
             "#7201a8"
            ],
            [
             0.3333333333333333,
             "#9c179e"
            ],
            [
             0.4444444444444444,
             "#bd3786"
            ],
            [
             0.5555555555555556,
             "#d8576b"
            ],
            [
             0.6666666666666666,
             "#ed7953"
            ],
            [
             0.7777777777777778,
             "#fb9f3a"
            ],
            [
             0.8888888888888888,
             "#fdca26"
            ],
            [
             1,
             "#f0f921"
            ]
           ],
           "sequentialminus": [
            [
             0,
             "#0d0887"
            ],
            [
             0.1111111111111111,
             "#46039f"
            ],
            [
             0.2222222222222222,
             "#7201a8"
            ],
            [
             0.3333333333333333,
             "#9c179e"
            ],
            [
             0.4444444444444444,
             "#bd3786"
            ],
            [
             0.5555555555555556,
             "#d8576b"
            ],
            [
             0.6666666666666666,
             "#ed7953"
            ],
            [
             0.7777777777777778,
             "#fb9f3a"
            ],
            [
             0.8888888888888888,
             "#fdca26"
            ],
            [
             1,
             "#f0f921"
            ]
           ]
          },
          "colorway": [
           "#636efa",
           "#EF553B",
           "#00cc96",
           "#ab63fa",
           "#FFA15A",
           "#19d3f3",
           "#FF6692",
           "#B6E880",
           "#FF97FF",
           "#FECB52"
          ],
          "font": {
           "color": "#2a3f5f"
          },
          "geo": {
           "bgcolor": "white",
           "lakecolor": "white",
           "landcolor": "#E5ECF6",
           "showlakes": true,
           "showland": true,
           "subunitcolor": "white"
          },
          "hoverlabel": {
           "align": "left"
          },
          "hovermode": "closest",
          "mapbox": {
           "style": "light"
          },
          "paper_bgcolor": "white",
          "plot_bgcolor": "#E5ECF6",
          "polar": {
           "angularaxis": {
            "gridcolor": "white",
            "linecolor": "white",
            "ticks": ""
           },
           "bgcolor": "#E5ECF6",
           "radialaxis": {
            "gridcolor": "white",
            "linecolor": "white",
            "ticks": ""
           }
          },
          "scene": {
           "xaxis": {
            "backgroundcolor": "#E5ECF6",
            "gridcolor": "white",
            "gridwidth": 2,
            "linecolor": "white",
            "showbackground": true,
            "ticks": "",
            "zerolinecolor": "white"
           },
           "yaxis": {
            "backgroundcolor": "#E5ECF6",
            "gridcolor": "white",
            "gridwidth": 2,
            "linecolor": "white",
            "showbackground": true,
            "ticks": "",
            "zerolinecolor": "white"
           },
           "zaxis": {
            "backgroundcolor": "#E5ECF6",
            "gridcolor": "white",
            "gridwidth": 2,
            "linecolor": "white",
            "showbackground": true,
            "ticks": "",
            "zerolinecolor": "white"
           }
          },
          "shapedefaults": {
           "line": {
            "color": "#2a3f5f"
           }
          },
          "ternary": {
           "aaxis": {
            "gridcolor": "white",
            "linecolor": "white",
            "ticks": ""
           },
           "baxis": {
            "gridcolor": "white",
            "linecolor": "white",
            "ticks": ""
           },
           "bgcolor": "#E5ECF6",
           "caxis": {
            "gridcolor": "white",
            "linecolor": "white",
            "ticks": ""
           }
          },
          "title": {
           "x": 0.05
          },
          "xaxis": {
           "automargin": true,
           "gridcolor": "white",
           "linecolor": "white",
           "ticks": "",
           "title": {
            "standoff": 15
           },
           "zerolinecolor": "white",
           "zerolinewidth": 2
          },
          "yaxis": {
           "automargin": true,
           "gridcolor": "white",
           "linecolor": "white",
           "ticks": "",
           "title": {
            "standoff": 15
           },
           "zerolinecolor": "white",
           "zerolinewidth": 2
          }
         }
        },
        "title": {
         "text": "Parametri Range of Motion"
        },
        "xaxis": {
         "tickfont": {
          "color": "#7f7f7f",
          "family": "Courier New, monospace",
          "size": 14
         },
         "title": {
          "font": {
           "color": "#7f7f7f",
           "family": "Courier New, monospace",
           "size": 18
          },
          "text": "Month"
         }
        },
        "yaxis": {
         "tickfont": {
          "color": "#7f7f7f",
          "family": "Courier New, monospace",
          "size": 14
         },
         "title": {
          "font": {
           "color": "#7f7f7f",
           "family": "Courier New, monospace",
           "size": 18
          },
          "text": "ROM ankleLeft [gradi]"
         }
        }
       }
      },
      "text/html": [
       "<div>                            <div id=\"540ce2d3-e1f8-4463-9190-527bcc917def\" class=\"plotly-graph-div\" style=\"height:525px; width:100%;\"></div>            <script type=\"text/javascript\">                require([\"plotly\"], function(Plotly) {                    window.PLOTLYENV=window.PLOTLYENV || {};                                    if (document.getElementById(\"540ce2d3-e1f8-4463-9190-527bcc917def\")) {                    Plotly.newPlot(                        \"540ce2d3-e1f8-4463-9190-527bcc917def\",                        [{\"marker\":{\"color\":\"rgb(0,0,255)\"},\"name\":\"Massimo valore raggiunto\",\"x\":[1,2,3,4,5,6,7,8,9,10,11,12],\"y\":[90.0,0,0,0,0,0,0,0,0,0,0,0],\"type\":\"bar\"},{\"marker\":{\"color\":\"rgb(255,0,0)\"},\"name\":\"Minimo valore raggiunto\",\"x\":[1,2,3,4,5,6,7,8,9,10,11,12],\"y\":[90.0,0,0,0,0,0,0,0,0,0,0,0],\"type\":\"bar\"}],                        {\"bargap\":0.1,\"bargroupgap\":0.0,\"barmode\":\"group\",\"font\":{\"color\":\"black\",\"family\":\"Courier New, monospace\",\"size\":18},\"legend\":{\"bgcolor\":\"rgba(255, 255, 255, 0)\",\"bordercolor\":\"rgba(255, 255, 255, 0)\"},\"template\":{\"data\":{\"barpolar\":[{\"marker\":{\"line\":{\"color\":\"#E5ECF6\",\"width\":0.5},\"pattern\":{\"fillmode\":\"overlay\",\"size\":10,\"solidity\":0.2}},\"type\":\"barpolar\"}],\"bar\":[{\"error_x\":{\"color\":\"#2a3f5f\"},\"error_y\":{\"color\":\"#2a3f5f\"},\"marker\":{\"line\":{\"color\":\"#E5ECF6\",\"width\":0.5},\"pattern\":{\"fillmode\":\"overlay\",\"size\":10,\"solidity\":0.2}},\"type\":\"bar\"}],\"carpet\":[{\"aaxis\":{\"endlinecolor\":\"#2a3f5f\",\"gridcolor\":\"white\",\"linecolor\":\"white\",\"minorgridcolor\":\"white\",\"startlinecolor\":\"#2a3f5f\"},\"baxis\":{\"endlinecolor\":\"#2a3f5f\",\"gridcolor\":\"white\",\"linecolor\":\"white\",\"minorgridcolor\":\"white\",\"startlinecolor\":\"#2a3f5f\"},\"type\":\"carpet\"}],\"choropleth\":[{\"colorbar\":{\"outlinewidth\":0,\"ticks\":\"\"},\"type\":\"choropleth\"}],\"contourcarpet\":[{\"colorbar\":{\"outlinewidth\":0,\"ticks\":\"\"},\"type\":\"contourcarpet\"}],\"contour\":[{\"colorbar\":{\"outlinewidth\":0,\"ticks\":\"\"},\"colorscale\":[[0.0,\"#0d0887\"],[0.1111111111111111,\"#46039f\"],[0.2222222222222222,\"#7201a8\"],[0.3333333333333333,\"#9c179e\"],[0.4444444444444444,\"#bd3786\"],[0.5555555555555556,\"#d8576b\"],[0.6666666666666666,\"#ed7953\"],[0.7777777777777778,\"#fb9f3a\"],[0.8888888888888888,\"#fdca26\"],[1.0,\"#f0f921\"]],\"type\":\"contour\"}],\"heatmapgl\":[{\"colorbar\":{\"outlinewidth\":0,\"ticks\":\"\"},\"colorscale\":[[0.0,\"#0d0887\"],[0.1111111111111111,\"#46039f\"],[0.2222222222222222,\"#7201a8\"],[0.3333333333333333,\"#9c179e\"],[0.4444444444444444,\"#bd3786\"],[0.5555555555555556,\"#d8576b\"],[0.6666666666666666,\"#ed7953\"],[0.7777777777777778,\"#fb9f3a\"],[0.8888888888888888,\"#fdca26\"],[1.0,\"#f0f921\"]],\"type\":\"heatmapgl\"}],\"heatmap\":[{\"colorbar\":{\"outlinewidth\":0,\"ticks\":\"\"},\"colorscale\":[[0.0,\"#0d0887\"],[0.1111111111111111,\"#46039f\"],[0.2222222222222222,\"#7201a8\"],[0.3333333333333333,\"#9c179e\"],[0.4444444444444444,\"#bd3786\"],[0.5555555555555556,\"#d8576b\"],[0.6666666666666666,\"#ed7953\"],[0.7777777777777778,\"#fb9f3a\"],[0.8888888888888888,\"#fdca26\"],[1.0,\"#f0f921\"]],\"type\":\"heatmap\"}],\"histogram2dcontour\":[{\"colorbar\":{\"outlinewidth\":0,\"ticks\":\"\"},\"colorscale\":[[0.0,\"#0d0887\"],[0.1111111111111111,\"#46039f\"],[0.2222222222222222,\"#7201a8\"],[0.3333333333333333,\"#9c179e\"],[0.4444444444444444,\"#bd3786\"],[0.5555555555555556,\"#d8576b\"],[0.6666666666666666,\"#ed7953\"],[0.7777777777777778,\"#fb9f3a\"],[0.8888888888888888,\"#fdca26\"],[1.0,\"#f0f921\"]],\"type\":\"histogram2dcontour\"}],\"histogram2d\":[{\"colorbar\":{\"outlinewidth\":0,\"ticks\":\"\"},\"colorscale\":[[0.0,\"#0d0887\"],[0.1111111111111111,\"#46039f\"],[0.2222222222222222,\"#7201a8\"],[0.3333333333333333,\"#9c179e\"],[0.4444444444444444,\"#bd3786\"],[0.5555555555555556,\"#d8576b\"],[0.6666666666666666,\"#ed7953\"],[0.7777777777777778,\"#fb9f3a\"],[0.8888888888888888,\"#fdca26\"],[1.0,\"#f0f921\"]],\"type\":\"histogram2d\"}],\"histogram\":[{\"marker\":{\"pattern\":{\"fillmode\":\"overlay\",\"size\":10,\"solidity\":0.2}},\"type\":\"histogram\"}],\"mesh3d\":[{\"colorbar\":{\"outlinewidth\":0,\"ticks\":\"\"},\"type\":\"mesh3d\"}],\"parcoords\":[{\"line\":{\"colorbar\":{\"outlinewidth\":0,\"ticks\":\"\"}},\"type\":\"parcoords\"}],\"pie\":[{\"automargin\":true,\"type\":\"pie\"}],\"scatter3d\":[{\"line\":{\"colorbar\":{\"outlinewidth\":0,\"ticks\":\"\"}},\"marker\":{\"colorbar\":{\"outlinewidth\":0,\"ticks\":\"\"}},\"type\":\"scatter3d\"}],\"scattercarpet\":[{\"marker\":{\"colorbar\":{\"outlinewidth\":0,\"ticks\":\"\"}},\"type\":\"scattercarpet\"}],\"scattergeo\":[{\"marker\":{\"colorbar\":{\"outlinewidth\":0,\"ticks\":\"\"}},\"type\":\"scattergeo\"}],\"scattergl\":[{\"marker\":{\"colorbar\":{\"outlinewidth\":0,\"ticks\":\"\"}},\"type\":\"scattergl\"}],\"scattermapbox\":[{\"marker\":{\"colorbar\":{\"outlinewidth\":0,\"ticks\":\"\"}},\"type\":\"scattermapbox\"}],\"scatterpolargl\":[{\"marker\":{\"colorbar\":{\"outlinewidth\":0,\"ticks\":\"\"}},\"type\":\"scatterpolargl\"}],\"scatterpolar\":[{\"marker\":{\"colorbar\":{\"outlinewidth\":0,\"ticks\":\"\"}},\"type\":\"scatterpolar\"}],\"scatter\":[{\"fillpattern\":{\"fillmode\":\"overlay\",\"size\":10,\"solidity\":0.2},\"type\":\"scatter\"}],\"scatterternary\":[{\"marker\":{\"colorbar\":{\"outlinewidth\":0,\"ticks\":\"\"}},\"type\":\"scatterternary\"}],\"surface\":[{\"colorbar\":{\"outlinewidth\":0,\"ticks\":\"\"},\"colorscale\":[[0.0,\"#0d0887\"],[0.1111111111111111,\"#46039f\"],[0.2222222222222222,\"#7201a8\"],[0.3333333333333333,\"#9c179e\"],[0.4444444444444444,\"#bd3786\"],[0.5555555555555556,\"#d8576b\"],[0.6666666666666666,\"#ed7953\"],[0.7777777777777778,\"#fb9f3a\"],[0.8888888888888888,\"#fdca26\"],[1.0,\"#f0f921\"]],\"type\":\"surface\"}],\"table\":[{\"cells\":{\"fill\":{\"color\":\"#EBF0F8\"},\"line\":{\"color\":\"white\"}},\"header\":{\"fill\":{\"color\":\"#C8D4E3\"},\"line\":{\"color\":\"white\"}},\"type\":\"table\"}]},\"layout\":{\"annotationdefaults\":{\"arrowcolor\":\"#2a3f5f\",\"arrowhead\":0,\"arrowwidth\":1},\"autotypenumbers\":\"strict\",\"coloraxis\":{\"colorbar\":{\"outlinewidth\":0,\"ticks\":\"\"}},\"colorscale\":{\"diverging\":[[0,\"#8e0152\"],[0.1,\"#c51b7d\"],[0.2,\"#de77ae\"],[0.3,\"#f1b6da\"],[0.4,\"#fde0ef\"],[0.5,\"#f7f7f7\"],[0.6,\"#e6f5d0\"],[0.7,\"#b8e186\"],[0.8,\"#7fbc41\"],[0.9,\"#4d9221\"],[1,\"#276419\"]],\"sequential\":[[0.0,\"#0d0887\"],[0.1111111111111111,\"#46039f\"],[0.2222222222222222,\"#7201a8\"],[0.3333333333333333,\"#9c179e\"],[0.4444444444444444,\"#bd3786\"],[0.5555555555555556,\"#d8576b\"],[0.6666666666666666,\"#ed7953\"],[0.7777777777777778,\"#fb9f3a\"],[0.8888888888888888,\"#fdca26\"],[1.0,\"#f0f921\"]],\"sequentialminus\":[[0.0,\"#0d0887\"],[0.1111111111111111,\"#46039f\"],[0.2222222222222222,\"#7201a8\"],[0.3333333333333333,\"#9c179e\"],[0.4444444444444444,\"#bd3786\"],[0.5555555555555556,\"#d8576b\"],[0.6666666666666666,\"#ed7953\"],[0.7777777777777778,\"#fb9f3a\"],[0.8888888888888888,\"#fdca26\"],[1.0,\"#f0f921\"]]},\"colorway\":[\"#636efa\",\"#EF553B\",\"#00cc96\",\"#ab63fa\",\"#FFA15A\",\"#19d3f3\",\"#FF6692\",\"#B6E880\",\"#FF97FF\",\"#FECB52\"],\"font\":{\"color\":\"#2a3f5f\"},\"geo\":{\"bgcolor\":\"white\",\"lakecolor\":\"white\",\"landcolor\":\"#E5ECF6\",\"showlakes\":true,\"showland\":true,\"subunitcolor\":\"white\"},\"hoverlabel\":{\"align\":\"left\"},\"hovermode\":\"closest\",\"mapbox\":{\"style\":\"light\"},\"paper_bgcolor\":\"white\",\"plot_bgcolor\":\"#E5ECF6\",\"polar\":{\"angularaxis\":{\"gridcolor\":\"white\",\"linecolor\":\"white\",\"ticks\":\"\"},\"bgcolor\":\"#E5ECF6\",\"radialaxis\":{\"gridcolor\":\"white\",\"linecolor\":\"white\",\"ticks\":\"\"}},\"scene\":{\"xaxis\":{\"backgroundcolor\":\"#E5ECF6\",\"gridcolor\":\"white\",\"gridwidth\":2,\"linecolor\":\"white\",\"showbackground\":true,\"ticks\":\"\",\"zerolinecolor\":\"white\"},\"yaxis\":{\"backgroundcolor\":\"#E5ECF6\",\"gridcolor\":\"white\",\"gridwidth\":2,\"linecolor\":\"white\",\"showbackground\":true,\"ticks\":\"\",\"zerolinecolor\":\"white\"},\"zaxis\":{\"backgroundcolor\":\"#E5ECF6\",\"gridcolor\":\"white\",\"gridwidth\":2,\"linecolor\":\"white\",\"showbackground\":true,\"ticks\":\"\",\"zerolinecolor\":\"white\"}},\"shapedefaults\":{\"line\":{\"color\":\"#2a3f5f\"}},\"ternary\":{\"aaxis\":{\"gridcolor\":\"white\",\"linecolor\":\"white\",\"ticks\":\"\"},\"baxis\":{\"gridcolor\":\"white\",\"linecolor\":\"white\",\"ticks\":\"\"},\"bgcolor\":\"#E5ECF6\",\"caxis\":{\"gridcolor\":\"white\",\"linecolor\":\"white\",\"ticks\":\"\"}},\"title\":{\"x\":0.05},\"xaxis\":{\"automargin\":true,\"gridcolor\":\"white\",\"linecolor\":\"white\",\"ticks\":\"\",\"title\":{\"standoff\":15},\"zerolinecolor\":\"white\",\"zerolinewidth\":2},\"yaxis\":{\"automargin\":true,\"gridcolor\":\"white\",\"linecolor\":\"white\",\"ticks\":\"\",\"title\":{\"standoff\":15},\"zerolinecolor\":\"white\",\"zerolinewidth\":2}}},\"title\":{\"text\":\"Parametri Range of Motion\"},\"xaxis\":{\"tickfont\":{\"color\":\"#7f7f7f\",\"family\":\"Courier New, monospace\",\"size\":14},\"title\":{\"font\":{\"color\":\"#7f7f7f\",\"family\":\"Courier New, monospace\",\"size\":18},\"text\":\"Month\"}},\"yaxis\":{\"tickfont\":{\"color\":\"#7f7f7f\",\"family\":\"Courier New, monospace\",\"size\":14},\"title\":{\"font\":{\"color\":\"#7f7f7f\",\"family\":\"Courier New, monospace\",\"size\":18},\"text\":\"ROM ankleLeft [gradi]\"}}},                        {\"responsive\": true}                    ).then(function(){\n",
       "                            \n",
       "var gd = document.getElementById('540ce2d3-e1f8-4463-9190-527bcc917def');\n",
       "var x = new MutationObserver(function (mutations, observer) {{\n",
       "        var display = window.getComputedStyle(gd).display;\n",
       "        if (!display || display === 'none') {{\n",
       "            console.log([gd, 'removed!']);\n",
       "            Plotly.purge(gd);\n",
       "            observer.disconnect();\n",
       "        }}\n",
       "}});\n",
       "\n",
       "// Listen for the removal of the full notebook cells\n",
       "var notebookContainer = gd.closest('#notebook-container');\n",
       "if (notebookContainer) {{\n",
       "    x.observe(notebookContainer, {childList: true});\n",
       "}}\n",
       "\n",
       "// Listen for the clearing of the current output cell\n",
       "var outputEl = gd.closest('.output');\n",
       "if (outputEl) {{\n",
       "    x.observe(outputEl, {childList: true});\n",
       "}}\n",
       "\n",
       "                        })                };                });            </script>        </div>"
      ]
     },
     "metadata": {},
     "output_type": "display_data"
    },
    {
     "data": {
      "application/vnd.plotly.v1+json": {
       "config": {
        "linkText": "Export to plot.ly",
        "plotlyServerURL": "https://plot.ly",
        "showLink": false
       },
       "data": [
        {
         "marker": {
          "color": "rgb(0,0,255)"
         },
         "name": "Massimo valore raggiunto",
         "type": "bar",
         "x": [
          1,
          2,
          3,
          4,
          5,
          6,
          7,
          8,
          9,
          10,
          11,
          12
         ],
         "y": [
          90,
          0,
          0,
          0,
          0,
          0,
          0,
          0,
          0,
          0,
          0,
          0
         ]
        },
        {
         "marker": {
          "color": "rgb(255,0,0)"
         },
         "name": "Minimo valore raggiunto",
         "type": "bar",
         "x": [
          1,
          2,
          3,
          4,
          5,
          6,
          7,
          8,
          9,
          10,
          11,
          12
         ],
         "y": [
          90,
          0,
          0,
          0,
          0,
          0,
          0,
          0,
          0,
          0,
          0,
          0
         ]
        }
       ],
       "layout": {
        "bargap": 0.1,
        "bargroupgap": 0,
        "barmode": "group",
        "font": {
         "color": "black",
         "family": "Courier New, monospace",
         "size": 18
        },
        "legend": {
         "bgcolor": "rgba(255, 255, 255, 0)",
         "bordercolor": "rgba(255, 255, 255, 0)"
        },
        "template": {
         "data": {
          "bar": [
           {
            "error_x": {
             "color": "#2a3f5f"
            },
            "error_y": {
             "color": "#2a3f5f"
            },
            "marker": {
             "line": {
              "color": "#E5ECF6",
              "width": 0.5
             },
             "pattern": {
              "fillmode": "overlay",
              "size": 10,
              "solidity": 0.2
             }
            },
            "type": "bar"
           }
          ],
          "barpolar": [
           {
            "marker": {
             "line": {
              "color": "#E5ECF6",
              "width": 0.5
             },
             "pattern": {
              "fillmode": "overlay",
              "size": 10,
              "solidity": 0.2
             }
            },
            "type": "barpolar"
           }
          ],
          "carpet": [
           {
            "aaxis": {
             "endlinecolor": "#2a3f5f",
             "gridcolor": "white",
             "linecolor": "white",
             "minorgridcolor": "white",
             "startlinecolor": "#2a3f5f"
            },
            "baxis": {
             "endlinecolor": "#2a3f5f",
             "gridcolor": "white",
             "linecolor": "white",
             "minorgridcolor": "white",
             "startlinecolor": "#2a3f5f"
            },
            "type": "carpet"
           }
          ],
          "choropleth": [
           {
            "colorbar": {
             "outlinewidth": 0,
             "ticks": ""
            },
            "type": "choropleth"
           }
          ],
          "contour": [
           {
            "colorbar": {
             "outlinewidth": 0,
             "ticks": ""
            },
            "colorscale": [
             [
              0,
              "#0d0887"
             ],
             [
              0.1111111111111111,
              "#46039f"
             ],
             [
              0.2222222222222222,
              "#7201a8"
             ],
             [
              0.3333333333333333,
              "#9c179e"
             ],
             [
              0.4444444444444444,
              "#bd3786"
             ],
             [
              0.5555555555555556,
              "#d8576b"
             ],
             [
              0.6666666666666666,
              "#ed7953"
             ],
             [
              0.7777777777777778,
              "#fb9f3a"
             ],
             [
              0.8888888888888888,
              "#fdca26"
             ],
             [
              1,
              "#f0f921"
             ]
            ],
            "type": "contour"
           }
          ],
          "contourcarpet": [
           {
            "colorbar": {
             "outlinewidth": 0,
             "ticks": ""
            },
            "type": "contourcarpet"
           }
          ],
          "heatmap": [
           {
            "colorbar": {
             "outlinewidth": 0,
             "ticks": ""
            },
            "colorscale": [
             [
              0,
              "#0d0887"
             ],
             [
              0.1111111111111111,
              "#46039f"
             ],
             [
              0.2222222222222222,
              "#7201a8"
             ],
             [
              0.3333333333333333,
              "#9c179e"
             ],
             [
              0.4444444444444444,
              "#bd3786"
             ],
             [
              0.5555555555555556,
              "#d8576b"
             ],
             [
              0.6666666666666666,
              "#ed7953"
             ],
             [
              0.7777777777777778,
              "#fb9f3a"
             ],
             [
              0.8888888888888888,
              "#fdca26"
             ],
             [
              1,
              "#f0f921"
             ]
            ],
            "type": "heatmap"
           }
          ],
          "heatmapgl": [
           {
            "colorbar": {
             "outlinewidth": 0,
             "ticks": ""
            },
            "colorscale": [
             [
              0,
              "#0d0887"
             ],
             [
              0.1111111111111111,
              "#46039f"
             ],
             [
              0.2222222222222222,
              "#7201a8"
             ],
             [
              0.3333333333333333,
              "#9c179e"
             ],
             [
              0.4444444444444444,
              "#bd3786"
             ],
             [
              0.5555555555555556,
              "#d8576b"
             ],
             [
              0.6666666666666666,
              "#ed7953"
             ],
             [
              0.7777777777777778,
              "#fb9f3a"
             ],
             [
              0.8888888888888888,
              "#fdca26"
             ],
             [
              1,
              "#f0f921"
             ]
            ],
            "type": "heatmapgl"
           }
          ],
          "histogram": [
           {
            "marker": {
             "pattern": {
              "fillmode": "overlay",
              "size": 10,
              "solidity": 0.2
             }
            },
            "type": "histogram"
           }
          ],
          "histogram2d": [
           {
            "colorbar": {
             "outlinewidth": 0,
             "ticks": ""
            },
            "colorscale": [
             [
              0,
              "#0d0887"
             ],
             [
              0.1111111111111111,
              "#46039f"
             ],
             [
              0.2222222222222222,
              "#7201a8"
             ],
             [
              0.3333333333333333,
              "#9c179e"
             ],
             [
              0.4444444444444444,
              "#bd3786"
             ],
             [
              0.5555555555555556,
              "#d8576b"
             ],
             [
              0.6666666666666666,
              "#ed7953"
             ],
             [
              0.7777777777777778,
              "#fb9f3a"
             ],
             [
              0.8888888888888888,
              "#fdca26"
             ],
             [
              1,
              "#f0f921"
             ]
            ],
            "type": "histogram2d"
           }
          ],
          "histogram2dcontour": [
           {
            "colorbar": {
             "outlinewidth": 0,
             "ticks": ""
            },
            "colorscale": [
             [
              0,
              "#0d0887"
             ],
             [
              0.1111111111111111,
              "#46039f"
             ],
             [
              0.2222222222222222,
              "#7201a8"
             ],
             [
              0.3333333333333333,
              "#9c179e"
             ],
             [
              0.4444444444444444,
              "#bd3786"
             ],
             [
              0.5555555555555556,
              "#d8576b"
             ],
             [
              0.6666666666666666,
              "#ed7953"
             ],
             [
              0.7777777777777778,
              "#fb9f3a"
             ],
             [
              0.8888888888888888,
              "#fdca26"
             ],
             [
              1,
              "#f0f921"
             ]
            ],
            "type": "histogram2dcontour"
           }
          ],
          "mesh3d": [
           {
            "colorbar": {
             "outlinewidth": 0,
             "ticks": ""
            },
            "type": "mesh3d"
           }
          ],
          "parcoords": [
           {
            "line": {
             "colorbar": {
              "outlinewidth": 0,
              "ticks": ""
             }
            },
            "type": "parcoords"
           }
          ],
          "pie": [
           {
            "automargin": true,
            "type": "pie"
           }
          ],
          "scatter": [
           {
            "fillpattern": {
             "fillmode": "overlay",
             "size": 10,
             "solidity": 0.2
            },
            "type": "scatter"
           }
          ],
          "scatter3d": [
           {
            "line": {
             "colorbar": {
              "outlinewidth": 0,
              "ticks": ""
             }
            },
            "marker": {
             "colorbar": {
              "outlinewidth": 0,
              "ticks": ""
             }
            },
            "type": "scatter3d"
           }
          ],
          "scattercarpet": [
           {
            "marker": {
             "colorbar": {
              "outlinewidth": 0,
              "ticks": ""
             }
            },
            "type": "scattercarpet"
           }
          ],
          "scattergeo": [
           {
            "marker": {
             "colorbar": {
              "outlinewidth": 0,
              "ticks": ""
             }
            },
            "type": "scattergeo"
           }
          ],
          "scattergl": [
           {
            "marker": {
             "colorbar": {
              "outlinewidth": 0,
              "ticks": ""
             }
            },
            "type": "scattergl"
           }
          ],
          "scattermapbox": [
           {
            "marker": {
             "colorbar": {
              "outlinewidth": 0,
              "ticks": ""
             }
            },
            "type": "scattermapbox"
           }
          ],
          "scatterpolar": [
           {
            "marker": {
             "colorbar": {
              "outlinewidth": 0,
              "ticks": ""
             }
            },
            "type": "scatterpolar"
           }
          ],
          "scatterpolargl": [
           {
            "marker": {
             "colorbar": {
              "outlinewidth": 0,
              "ticks": ""
             }
            },
            "type": "scatterpolargl"
           }
          ],
          "scatterternary": [
           {
            "marker": {
             "colorbar": {
              "outlinewidth": 0,
              "ticks": ""
             }
            },
            "type": "scatterternary"
           }
          ],
          "surface": [
           {
            "colorbar": {
             "outlinewidth": 0,
             "ticks": ""
            },
            "colorscale": [
             [
              0,
              "#0d0887"
             ],
             [
              0.1111111111111111,
              "#46039f"
             ],
             [
              0.2222222222222222,
              "#7201a8"
             ],
             [
              0.3333333333333333,
              "#9c179e"
             ],
             [
              0.4444444444444444,
              "#bd3786"
             ],
             [
              0.5555555555555556,
              "#d8576b"
             ],
             [
              0.6666666666666666,
              "#ed7953"
             ],
             [
              0.7777777777777778,
              "#fb9f3a"
             ],
             [
              0.8888888888888888,
              "#fdca26"
             ],
             [
              1,
              "#f0f921"
             ]
            ],
            "type": "surface"
           }
          ],
          "table": [
           {
            "cells": {
             "fill": {
              "color": "#EBF0F8"
             },
             "line": {
              "color": "white"
             }
            },
            "header": {
             "fill": {
              "color": "#C8D4E3"
             },
             "line": {
              "color": "white"
             }
            },
            "type": "table"
           }
          ]
         },
         "layout": {
          "annotationdefaults": {
           "arrowcolor": "#2a3f5f",
           "arrowhead": 0,
           "arrowwidth": 1
          },
          "autotypenumbers": "strict",
          "coloraxis": {
           "colorbar": {
            "outlinewidth": 0,
            "ticks": ""
           }
          },
          "colorscale": {
           "diverging": [
            [
             0,
             "#8e0152"
            ],
            [
             0.1,
             "#c51b7d"
            ],
            [
             0.2,
             "#de77ae"
            ],
            [
             0.3,
             "#f1b6da"
            ],
            [
             0.4,
             "#fde0ef"
            ],
            [
             0.5,
             "#f7f7f7"
            ],
            [
             0.6,
             "#e6f5d0"
            ],
            [
             0.7,
             "#b8e186"
            ],
            [
             0.8,
             "#7fbc41"
            ],
            [
             0.9,
             "#4d9221"
            ],
            [
             1,
             "#276419"
            ]
           ],
           "sequential": [
            [
             0,
             "#0d0887"
            ],
            [
             0.1111111111111111,
             "#46039f"
            ],
            [
             0.2222222222222222,
             "#7201a8"
            ],
            [
             0.3333333333333333,
             "#9c179e"
            ],
            [
             0.4444444444444444,
             "#bd3786"
            ],
            [
             0.5555555555555556,
             "#d8576b"
            ],
            [
             0.6666666666666666,
             "#ed7953"
            ],
            [
             0.7777777777777778,
             "#fb9f3a"
            ],
            [
             0.8888888888888888,
             "#fdca26"
            ],
            [
             1,
             "#f0f921"
            ]
           ],
           "sequentialminus": [
            [
             0,
             "#0d0887"
            ],
            [
             0.1111111111111111,
             "#46039f"
            ],
            [
             0.2222222222222222,
             "#7201a8"
            ],
            [
             0.3333333333333333,
             "#9c179e"
            ],
            [
             0.4444444444444444,
             "#bd3786"
            ],
            [
             0.5555555555555556,
             "#d8576b"
            ],
            [
             0.6666666666666666,
             "#ed7953"
            ],
            [
             0.7777777777777778,
             "#fb9f3a"
            ],
            [
             0.8888888888888888,
             "#fdca26"
            ],
            [
             1,
             "#f0f921"
            ]
           ]
          },
          "colorway": [
           "#636efa",
           "#EF553B",
           "#00cc96",
           "#ab63fa",
           "#FFA15A",
           "#19d3f3",
           "#FF6692",
           "#B6E880",
           "#FF97FF",
           "#FECB52"
          ],
          "font": {
           "color": "#2a3f5f"
          },
          "geo": {
           "bgcolor": "white",
           "lakecolor": "white",
           "landcolor": "#E5ECF6",
           "showlakes": true,
           "showland": true,
           "subunitcolor": "white"
          },
          "hoverlabel": {
           "align": "left"
          },
          "hovermode": "closest",
          "mapbox": {
           "style": "light"
          },
          "paper_bgcolor": "white",
          "plot_bgcolor": "#E5ECF6",
          "polar": {
           "angularaxis": {
            "gridcolor": "white",
            "linecolor": "white",
            "ticks": ""
           },
           "bgcolor": "#E5ECF6",
           "radialaxis": {
            "gridcolor": "white",
            "linecolor": "white",
            "ticks": ""
           }
          },
          "scene": {
           "xaxis": {
            "backgroundcolor": "#E5ECF6",
            "gridcolor": "white",
            "gridwidth": 2,
            "linecolor": "white",
            "showbackground": true,
            "ticks": "",
            "zerolinecolor": "white"
           },
           "yaxis": {
            "backgroundcolor": "#E5ECF6",
            "gridcolor": "white",
            "gridwidth": 2,
            "linecolor": "white",
            "showbackground": true,
            "ticks": "",
            "zerolinecolor": "white"
           },
           "zaxis": {
            "backgroundcolor": "#E5ECF6",
            "gridcolor": "white",
            "gridwidth": 2,
            "linecolor": "white",
            "showbackground": true,
            "ticks": "",
            "zerolinecolor": "white"
           }
          },
          "shapedefaults": {
           "line": {
            "color": "#2a3f5f"
           }
          },
          "ternary": {
           "aaxis": {
            "gridcolor": "white",
            "linecolor": "white",
            "ticks": ""
           },
           "baxis": {
            "gridcolor": "white",
            "linecolor": "white",
            "ticks": ""
           },
           "bgcolor": "#E5ECF6",
           "caxis": {
            "gridcolor": "white",
            "linecolor": "white",
            "ticks": ""
           }
          },
          "title": {
           "x": 0.05
          },
          "xaxis": {
           "automargin": true,
           "gridcolor": "white",
           "linecolor": "white",
           "ticks": "",
           "title": {
            "standoff": 15
           },
           "zerolinecolor": "white",
           "zerolinewidth": 2
          },
          "yaxis": {
           "automargin": true,
           "gridcolor": "white",
           "linecolor": "white",
           "ticks": "",
           "title": {
            "standoff": 15
           },
           "zerolinecolor": "white",
           "zerolinewidth": 2
          }
         }
        },
        "title": {
         "text": "Parametri Range of Motion"
        },
        "xaxis": {
         "tickfont": {
          "color": "#7f7f7f",
          "family": "Courier New, monospace",
          "size": 14
         },
         "title": {
          "font": {
           "color": "#7f7f7f",
           "family": "Courier New, monospace",
           "size": 18
          },
          "text": "Month"
         }
        },
        "yaxis": {
         "tickfont": {
          "color": "#7f7f7f",
          "family": "Courier New, monospace",
          "size": 14
         },
         "title": {
          "font": {
           "color": "#7f7f7f",
           "family": "Courier New, monospace",
           "size": 18
          },
          "text": "ROM hipRight [gradi]"
         }
        }
       }
      },
      "text/html": [
       "<div>                            <div id=\"4677885b-770f-43ad-856d-ef048489c024\" class=\"plotly-graph-div\" style=\"height:525px; width:100%;\"></div>            <script type=\"text/javascript\">                require([\"plotly\"], function(Plotly) {                    window.PLOTLYENV=window.PLOTLYENV || {};                                    if (document.getElementById(\"4677885b-770f-43ad-856d-ef048489c024\")) {                    Plotly.newPlot(                        \"4677885b-770f-43ad-856d-ef048489c024\",                        [{\"marker\":{\"color\":\"rgb(0,0,255)\"},\"name\":\"Massimo valore raggiunto\",\"x\":[1,2,3,4,5,6,7,8,9,10,11,12],\"y\":[90.0,0,0,0,0,0,0,0,0,0,0,0],\"type\":\"bar\"},{\"marker\":{\"color\":\"rgb(255,0,0)\"},\"name\":\"Minimo valore raggiunto\",\"x\":[1,2,3,4,5,6,7,8,9,10,11,12],\"y\":[90.0,0,0,0,0,0,0,0,0,0,0,0],\"type\":\"bar\"}],                        {\"bargap\":0.1,\"bargroupgap\":0.0,\"barmode\":\"group\",\"font\":{\"color\":\"black\",\"family\":\"Courier New, monospace\",\"size\":18},\"legend\":{\"bgcolor\":\"rgba(255, 255, 255, 0)\",\"bordercolor\":\"rgba(255, 255, 255, 0)\"},\"template\":{\"data\":{\"barpolar\":[{\"marker\":{\"line\":{\"color\":\"#E5ECF6\",\"width\":0.5},\"pattern\":{\"fillmode\":\"overlay\",\"size\":10,\"solidity\":0.2}},\"type\":\"barpolar\"}],\"bar\":[{\"error_x\":{\"color\":\"#2a3f5f\"},\"error_y\":{\"color\":\"#2a3f5f\"},\"marker\":{\"line\":{\"color\":\"#E5ECF6\",\"width\":0.5},\"pattern\":{\"fillmode\":\"overlay\",\"size\":10,\"solidity\":0.2}},\"type\":\"bar\"}],\"carpet\":[{\"aaxis\":{\"endlinecolor\":\"#2a3f5f\",\"gridcolor\":\"white\",\"linecolor\":\"white\",\"minorgridcolor\":\"white\",\"startlinecolor\":\"#2a3f5f\"},\"baxis\":{\"endlinecolor\":\"#2a3f5f\",\"gridcolor\":\"white\",\"linecolor\":\"white\",\"minorgridcolor\":\"white\",\"startlinecolor\":\"#2a3f5f\"},\"type\":\"carpet\"}],\"choropleth\":[{\"colorbar\":{\"outlinewidth\":0,\"ticks\":\"\"},\"type\":\"choropleth\"}],\"contourcarpet\":[{\"colorbar\":{\"outlinewidth\":0,\"ticks\":\"\"},\"type\":\"contourcarpet\"}],\"contour\":[{\"colorbar\":{\"outlinewidth\":0,\"ticks\":\"\"},\"colorscale\":[[0.0,\"#0d0887\"],[0.1111111111111111,\"#46039f\"],[0.2222222222222222,\"#7201a8\"],[0.3333333333333333,\"#9c179e\"],[0.4444444444444444,\"#bd3786\"],[0.5555555555555556,\"#d8576b\"],[0.6666666666666666,\"#ed7953\"],[0.7777777777777778,\"#fb9f3a\"],[0.8888888888888888,\"#fdca26\"],[1.0,\"#f0f921\"]],\"type\":\"contour\"}],\"heatmapgl\":[{\"colorbar\":{\"outlinewidth\":0,\"ticks\":\"\"},\"colorscale\":[[0.0,\"#0d0887\"],[0.1111111111111111,\"#46039f\"],[0.2222222222222222,\"#7201a8\"],[0.3333333333333333,\"#9c179e\"],[0.4444444444444444,\"#bd3786\"],[0.5555555555555556,\"#d8576b\"],[0.6666666666666666,\"#ed7953\"],[0.7777777777777778,\"#fb9f3a\"],[0.8888888888888888,\"#fdca26\"],[1.0,\"#f0f921\"]],\"type\":\"heatmapgl\"}],\"heatmap\":[{\"colorbar\":{\"outlinewidth\":0,\"ticks\":\"\"},\"colorscale\":[[0.0,\"#0d0887\"],[0.1111111111111111,\"#46039f\"],[0.2222222222222222,\"#7201a8\"],[0.3333333333333333,\"#9c179e\"],[0.4444444444444444,\"#bd3786\"],[0.5555555555555556,\"#d8576b\"],[0.6666666666666666,\"#ed7953\"],[0.7777777777777778,\"#fb9f3a\"],[0.8888888888888888,\"#fdca26\"],[1.0,\"#f0f921\"]],\"type\":\"heatmap\"}],\"histogram2dcontour\":[{\"colorbar\":{\"outlinewidth\":0,\"ticks\":\"\"},\"colorscale\":[[0.0,\"#0d0887\"],[0.1111111111111111,\"#46039f\"],[0.2222222222222222,\"#7201a8\"],[0.3333333333333333,\"#9c179e\"],[0.4444444444444444,\"#bd3786\"],[0.5555555555555556,\"#d8576b\"],[0.6666666666666666,\"#ed7953\"],[0.7777777777777778,\"#fb9f3a\"],[0.8888888888888888,\"#fdca26\"],[1.0,\"#f0f921\"]],\"type\":\"histogram2dcontour\"}],\"histogram2d\":[{\"colorbar\":{\"outlinewidth\":0,\"ticks\":\"\"},\"colorscale\":[[0.0,\"#0d0887\"],[0.1111111111111111,\"#46039f\"],[0.2222222222222222,\"#7201a8\"],[0.3333333333333333,\"#9c179e\"],[0.4444444444444444,\"#bd3786\"],[0.5555555555555556,\"#d8576b\"],[0.6666666666666666,\"#ed7953\"],[0.7777777777777778,\"#fb9f3a\"],[0.8888888888888888,\"#fdca26\"],[1.0,\"#f0f921\"]],\"type\":\"histogram2d\"}],\"histogram\":[{\"marker\":{\"pattern\":{\"fillmode\":\"overlay\",\"size\":10,\"solidity\":0.2}},\"type\":\"histogram\"}],\"mesh3d\":[{\"colorbar\":{\"outlinewidth\":0,\"ticks\":\"\"},\"type\":\"mesh3d\"}],\"parcoords\":[{\"line\":{\"colorbar\":{\"outlinewidth\":0,\"ticks\":\"\"}},\"type\":\"parcoords\"}],\"pie\":[{\"automargin\":true,\"type\":\"pie\"}],\"scatter3d\":[{\"line\":{\"colorbar\":{\"outlinewidth\":0,\"ticks\":\"\"}},\"marker\":{\"colorbar\":{\"outlinewidth\":0,\"ticks\":\"\"}},\"type\":\"scatter3d\"}],\"scattercarpet\":[{\"marker\":{\"colorbar\":{\"outlinewidth\":0,\"ticks\":\"\"}},\"type\":\"scattercarpet\"}],\"scattergeo\":[{\"marker\":{\"colorbar\":{\"outlinewidth\":0,\"ticks\":\"\"}},\"type\":\"scattergeo\"}],\"scattergl\":[{\"marker\":{\"colorbar\":{\"outlinewidth\":0,\"ticks\":\"\"}},\"type\":\"scattergl\"}],\"scattermapbox\":[{\"marker\":{\"colorbar\":{\"outlinewidth\":0,\"ticks\":\"\"}},\"type\":\"scattermapbox\"}],\"scatterpolargl\":[{\"marker\":{\"colorbar\":{\"outlinewidth\":0,\"ticks\":\"\"}},\"type\":\"scatterpolargl\"}],\"scatterpolar\":[{\"marker\":{\"colorbar\":{\"outlinewidth\":0,\"ticks\":\"\"}},\"type\":\"scatterpolar\"}],\"scatter\":[{\"fillpattern\":{\"fillmode\":\"overlay\",\"size\":10,\"solidity\":0.2},\"type\":\"scatter\"}],\"scatterternary\":[{\"marker\":{\"colorbar\":{\"outlinewidth\":0,\"ticks\":\"\"}},\"type\":\"scatterternary\"}],\"surface\":[{\"colorbar\":{\"outlinewidth\":0,\"ticks\":\"\"},\"colorscale\":[[0.0,\"#0d0887\"],[0.1111111111111111,\"#46039f\"],[0.2222222222222222,\"#7201a8\"],[0.3333333333333333,\"#9c179e\"],[0.4444444444444444,\"#bd3786\"],[0.5555555555555556,\"#d8576b\"],[0.6666666666666666,\"#ed7953\"],[0.7777777777777778,\"#fb9f3a\"],[0.8888888888888888,\"#fdca26\"],[1.0,\"#f0f921\"]],\"type\":\"surface\"}],\"table\":[{\"cells\":{\"fill\":{\"color\":\"#EBF0F8\"},\"line\":{\"color\":\"white\"}},\"header\":{\"fill\":{\"color\":\"#C8D4E3\"},\"line\":{\"color\":\"white\"}},\"type\":\"table\"}]},\"layout\":{\"annotationdefaults\":{\"arrowcolor\":\"#2a3f5f\",\"arrowhead\":0,\"arrowwidth\":1},\"autotypenumbers\":\"strict\",\"coloraxis\":{\"colorbar\":{\"outlinewidth\":0,\"ticks\":\"\"}},\"colorscale\":{\"diverging\":[[0,\"#8e0152\"],[0.1,\"#c51b7d\"],[0.2,\"#de77ae\"],[0.3,\"#f1b6da\"],[0.4,\"#fde0ef\"],[0.5,\"#f7f7f7\"],[0.6,\"#e6f5d0\"],[0.7,\"#b8e186\"],[0.8,\"#7fbc41\"],[0.9,\"#4d9221\"],[1,\"#276419\"]],\"sequential\":[[0.0,\"#0d0887\"],[0.1111111111111111,\"#46039f\"],[0.2222222222222222,\"#7201a8\"],[0.3333333333333333,\"#9c179e\"],[0.4444444444444444,\"#bd3786\"],[0.5555555555555556,\"#d8576b\"],[0.6666666666666666,\"#ed7953\"],[0.7777777777777778,\"#fb9f3a\"],[0.8888888888888888,\"#fdca26\"],[1.0,\"#f0f921\"]],\"sequentialminus\":[[0.0,\"#0d0887\"],[0.1111111111111111,\"#46039f\"],[0.2222222222222222,\"#7201a8\"],[0.3333333333333333,\"#9c179e\"],[0.4444444444444444,\"#bd3786\"],[0.5555555555555556,\"#d8576b\"],[0.6666666666666666,\"#ed7953\"],[0.7777777777777778,\"#fb9f3a\"],[0.8888888888888888,\"#fdca26\"],[1.0,\"#f0f921\"]]},\"colorway\":[\"#636efa\",\"#EF553B\",\"#00cc96\",\"#ab63fa\",\"#FFA15A\",\"#19d3f3\",\"#FF6692\",\"#B6E880\",\"#FF97FF\",\"#FECB52\"],\"font\":{\"color\":\"#2a3f5f\"},\"geo\":{\"bgcolor\":\"white\",\"lakecolor\":\"white\",\"landcolor\":\"#E5ECF6\",\"showlakes\":true,\"showland\":true,\"subunitcolor\":\"white\"},\"hoverlabel\":{\"align\":\"left\"},\"hovermode\":\"closest\",\"mapbox\":{\"style\":\"light\"},\"paper_bgcolor\":\"white\",\"plot_bgcolor\":\"#E5ECF6\",\"polar\":{\"angularaxis\":{\"gridcolor\":\"white\",\"linecolor\":\"white\",\"ticks\":\"\"},\"bgcolor\":\"#E5ECF6\",\"radialaxis\":{\"gridcolor\":\"white\",\"linecolor\":\"white\",\"ticks\":\"\"}},\"scene\":{\"xaxis\":{\"backgroundcolor\":\"#E5ECF6\",\"gridcolor\":\"white\",\"gridwidth\":2,\"linecolor\":\"white\",\"showbackground\":true,\"ticks\":\"\",\"zerolinecolor\":\"white\"},\"yaxis\":{\"backgroundcolor\":\"#E5ECF6\",\"gridcolor\":\"white\",\"gridwidth\":2,\"linecolor\":\"white\",\"showbackground\":true,\"ticks\":\"\",\"zerolinecolor\":\"white\"},\"zaxis\":{\"backgroundcolor\":\"#E5ECF6\",\"gridcolor\":\"white\",\"gridwidth\":2,\"linecolor\":\"white\",\"showbackground\":true,\"ticks\":\"\",\"zerolinecolor\":\"white\"}},\"shapedefaults\":{\"line\":{\"color\":\"#2a3f5f\"}},\"ternary\":{\"aaxis\":{\"gridcolor\":\"white\",\"linecolor\":\"white\",\"ticks\":\"\"},\"baxis\":{\"gridcolor\":\"white\",\"linecolor\":\"white\",\"ticks\":\"\"},\"bgcolor\":\"#E5ECF6\",\"caxis\":{\"gridcolor\":\"white\",\"linecolor\":\"white\",\"ticks\":\"\"}},\"title\":{\"x\":0.05},\"xaxis\":{\"automargin\":true,\"gridcolor\":\"white\",\"linecolor\":\"white\",\"ticks\":\"\",\"title\":{\"standoff\":15},\"zerolinecolor\":\"white\",\"zerolinewidth\":2},\"yaxis\":{\"automargin\":true,\"gridcolor\":\"white\",\"linecolor\":\"white\",\"ticks\":\"\",\"title\":{\"standoff\":15},\"zerolinecolor\":\"white\",\"zerolinewidth\":2}}},\"title\":{\"text\":\"Parametri Range of Motion\"},\"xaxis\":{\"tickfont\":{\"color\":\"#7f7f7f\",\"family\":\"Courier New, monospace\",\"size\":14},\"title\":{\"font\":{\"color\":\"#7f7f7f\",\"family\":\"Courier New, monospace\",\"size\":18},\"text\":\"Month\"}},\"yaxis\":{\"tickfont\":{\"color\":\"#7f7f7f\",\"family\":\"Courier New, monospace\",\"size\":14},\"title\":{\"font\":{\"color\":\"#7f7f7f\",\"family\":\"Courier New, monospace\",\"size\":18},\"text\":\"ROM hipRight [gradi]\"}}},                        {\"responsive\": true}                    ).then(function(){\n",
       "                            \n",
       "var gd = document.getElementById('4677885b-770f-43ad-856d-ef048489c024');\n",
       "var x = new MutationObserver(function (mutations, observer) {{\n",
       "        var display = window.getComputedStyle(gd).display;\n",
       "        if (!display || display === 'none') {{\n",
       "            console.log([gd, 'removed!']);\n",
       "            Plotly.purge(gd);\n",
       "            observer.disconnect();\n",
       "        }}\n",
       "}});\n",
       "\n",
       "// Listen for the removal of the full notebook cells\n",
       "var notebookContainer = gd.closest('#notebook-container');\n",
       "if (notebookContainer) {{\n",
       "    x.observe(notebookContainer, {childList: true});\n",
       "}}\n",
       "\n",
       "// Listen for the clearing of the current output cell\n",
       "var outputEl = gd.closest('.output');\n",
       "if (outputEl) {{\n",
       "    x.observe(outputEl, {childList: true});\n",
       "}}\n",
       "\n",
       "                        })                };                });            </script>        </div>"
      ]
     },
     "metadata": {},
     "output_type": "display_data"
    },
    {
     "data": {
      "application/vnd.plotly.v1+json": {
       "config": {
        "linkText": "Export to plot.ly",
        "plotlyServerURL": "https://plot.ly",
        "showLink": false
       },
       "data": [
        {
         "marker": {
          "color": "rgb(0,0,255)"
         },
         "name": "Massimo valore raggiunto",
         "type": "bar",
         "x": [
          1,
          2,
          3,
          4,
          5,
          6,
          7,
          8,
          9,
          10,
          11,
          12
         ],
         "y": [
          115.0472239010436,
          0,
          0,
          0,
          0,
          0,
          0,
          0,
          0,
          0,
          0,
          0
         ]
        },
        {
         "marker": {
          "color": "rgb(255,0,0)"
         },
         "name": "Minimo valore raggiunto",
         "type": "bar",
         "x": [
          1,
          2,
          3,
          4,
          5,
          6,
          7,
          8,
          9,
          10,
          11,
          12
         ],
         "y": [
          57.86458244653484,
          0,
          0,
          0,
          0,
          0,
          0,
          0,
          0,
          0,
          0,
          0
         ]
        }
       ],
       "layout": {
        "bargap": 0.1,
        "bargroupgap": 0,
        "barmode": "group",
        "font": {
         "color": "black",
         "family": "Courier New, monospace",
         "size": 18
        },
        "legend": {
         "bgcolor": "rgba(255, 255, 255, 0)",
         "bordercolor": "rgba(255, 255, 255, 0)"
        },
        "template": {
         "data": {
          "bar": [
           {
            "error_x": {
             "color": "#2a3f5f"
            },
            "error_y": {
             "color": "#2a3f5f"
            },
            "marker": {
             "line": {
              "color": "#E5ECF6",
              "width": 0.5
             },
             "pattern": {
              "fillmode": "overlay",
              "size": 10,
              "solidity": 0.2
             }
            },
            "type": "bar"
           }
          ],
          "barpolar": [
           {
            "marker": {
             "line": {
              "color": "#E5ECF6",
              "width": 0.5
             },
             "pattern": {
              "fillmode": "overlay",
              "size": 10,
              "solidity": 0.2
             }
            },
            "type": "barpolar"
           }
          ],
          "carpet": [
           {
            "aaxis": {
             "endlinecolor": "#2a3f5f",
             "gridcolor": "white",
             "linecolor": "white",
             "minorgridcolor": "white",
             "startlinecolor": "#2a3f5f"
            },
            "baxis": {
             "endlinecolor": "#2a3f5f",
             "gridcolor": "white",
             "linecolor": "white",
             "minorgridcolor": "white",
             "startlinecolor": "#2a3f5f"
            },
            "type": "carpet"
           }
          ],
          "choropleth": [
           {
            "colorbar": {
             "outlinewidth": 0,
             "ticks": ""
            },
            "type": "choropleth"
           }
          ],
          "contour": [
           {
            "colorbar": {
             "outlinewidth": 0,
             "ticks": ""
            },
            "colorscale": [
             [
              0,
              "#0d0887"
             ],
             [
              0.1111111111111111,
              "#46039f"
             ],
             [
              0.2222222222222222,
              "#7201a8"
             ],
             [
              0.3333333333333333,
              "#9c179e"
             ],
             [
              0.4444444444444444,
              "#bd3786"
             ],
             [
              0.5555555555555556,
              "#d8576b"
             ],
             [
              0.6666666666666666,
              "#ed7953"
             ],
             [
              0.7777777777777778,
              "#fb9f3a"
             ],
             [
              0.8888888888888888,
              "#fdca26"
             ],
             [
              1,
              "#f0f921"
             ]
            ],
            "type": "contour"
           }
          ],
          "contourcarpet": [
           {
            "colorbar": {
             "outlinewidth": 0,
             "ticks": ""
            },
            "type": "contourcarpet"
           }
          ],
          "heatmap": [
           {
            "colorbar": {
             "outlinewidth": 0,
             "ticks": ""
            },
            "colorscale": [
             [
              0,
              "#0d0887"
             ],
             [
              0.1111111111111111,
              "#46039f"
             ],
             [
              0.2222222222222222,
              "#7201a8"
             ],
             [
              0.3333333333333333,
              "#9c179e"
             ],
             [
              0.4444444444444444,
              "#bd3786"
             ],
             [
              0.5555555555555556,
              "#d8576b"
             ],
             [
              0.6666666666666666,
              "#ed7953"
             ],
             [
              0.7777777777777778,
              "#fb9f3a"
             ],
             [
              0.8888888888888888,
              "#fdca26"
             ],
             [
              1,
              "#f0f921"
             ]
            ],
            "type": "heatmap"
           }
          ],
          "heatmapgl": [
           {
            "colorbar": {
             "outlinewidth": 0,
             "ticks": ""
            },
            "colorscale": [
             [
              0,
              "#0d0887"
             ],
             [
              0.1111111111111111,
              "#46039f"
             ],
             [
              0.2222222222222222,
              "#7201a8"
             ],
             [
              0.3333333333333333,
              "#9c179e"
             ],
             [
              0.4444444444444444,
              "#bd3786"
             ],
             [
              0.5555555555555556,
              "#d8576b"
             ],
             [
              0.6666666666666666,
              "#ed7953"
             ],
             [
              0.7777777777777778,
              "#fb9f3a"
             ],
             [
              0.8888888888888888,
              "#fdca26"
             ],
             [
              1,
              "#f0f921"
             ]
            ],
            "type": "heatmapgl"
           }
          ],
          "histogram": [
           {
            "marker": {
             "pattern": {
              "fillmode": "overlay",
              "size": 10,
              "solidity": 0.2
             }
            },
            "type": "histogram"
           }
          ],
          "histogram2d": [
           {
            "colorbar": {
             "outlinewidth": 0,
             "ticks": ""
            },
            "colorscale": [
             [
              0,
              "#0d0887"
             ],
             [
              0.1111111111111111,
              "#46039f"
             ],
             [
              0.2222222222222222,
              "#7201a8"
             ],
             [
              0.3333333333333333,
              "#9c179e"
             ],
             [
              0.4444444444444444,
              "#bd3786"
             ],
             [
              0.5555555555555556,
              "#d8576b"
             ],
             [
              0.6666666666666666,
              "#ed7953"
             ],
             [
              0.7777777777777778,
              "#fb9f3a"
             ],
             [
              0.8888888888888888,
              "#fdca26"
             ],
             [
              1,
              "#f0f921"
             ]
            ],
            "type": "histogram2d"
           }
          ],
          "histogram2dcontour": [
           {
            "colorbar": {
             "outlinewidth": 0,
             "ticks": ""
            },
            "colorscale": [
             [
              0,
              "#0d0887"
             ],
             [
              0.1111111111111111,
              "#46039f"
             ],
             [
              0.2222222222222222,
              "#7201a8"
             ],
             [
              0.3333333333333333,
              "#9c179e"
             ],
             [
              0.4444444444444444,
              "#bd3786"
             ],
             [
              0.5555555555555556,
              "#d8576b"
             ],
             [
              0.6666666666666666,
              "#ed7953"
             ],
             [
              0.7777777777777778,
              "#fb9f3a"
             ],
             [
              0.8888888888888888,
              "#fdca26"
             ],
             [
              1,
              "#f0f921"
             ]
            ],
            "type": "histogram2dcontour"
           }
          ],
          "mesh3d": [
           {
            "colorbar": {
             "outlinewidth": 0,
             "ticks": ""
            },
            "type": "mesh3d"
           }
          ],
          "parcoords": [
           {
            "line": {
             "colorbar": {
              "outlinewidth": 0,
              "ticks": ""
             }
            },
            "type": "parcoords"
           }
          ],
          "pie": [
           {
            "automargin": true,
            "type": "pie"
           }
          ],
          "scatter": [
           {
            "fillpattern": {
             "fillmode": "overlay",
             "size": 10,
             "solidity": 0.2
            },
            "type": "scatter"
           }
          ],
          "scatter3d": [
           {
            "line": {
             "colorbar": {
              "outlinewidth": 0,
              "ticks": ""
             }
            },
            "marker": {
             "colorbar": {
              "outlinewidth": 0,
              "ticks": ""
             }
            },
            "type": "scatter3d"
           }
          ],
          "scattercarpet": [
           {
            "marker": {
             "colorbar": {
              "outlinewidth": 0,
              "ticks": ""
             }
            },
            "type": "scattercarpet"
           }
          ],
          "scattergeo": [
           {
            "marker": {
             "colorbar": {
              "outlinewidth": 0,
              "ticks": ""
             }
            },
            "type": "scattergeo"
           }
          ],
          "scattergl": [
           {
            "marker": {
             "colorbar": {
              "outlinewidth": 0,
              "ticks": ""
             }
            },
            "type": "scattergl"
           }
          ],
          "scattermapbox": [
           {
            "marker": {
             "colorbar": {
              "outlinewidth": 0,
              "ticks": ""
             }
            },
            "type": "scattermapbox"
           }
          ],
          "scatterpolar": [
           {
            "marker": {
             "colorbar": {
              "outlinewidth": 0,
              "ticks": ""
             }
            },
            "type": "scatterpolar"
           }
          ],
          "scatterpolargl": [
           {
            "marker": {
             "colorbar": {
              "outlinewidth": 0,
              "ticks": ""
             }
            },
            "type": "scatterpolargl"
           }
          ],
          "scatterternary": [
           {
            "marker": {
             "colorbar": {
              "outlinewidth": 0,
              "ticks": ""
             }
            },
            "type": "scatterternary"
           }
          ],
          "surface": [
           {
            "colorbar": {
             "outlinewidth": 0,
             "ticks": ""
            },
            "colorscale": [
             [
              0,
              "#0d0887"
             ],
             [
              0.1111111111111111,
              "#46039f"
             ],
             [
              0.2222222222222222,
              "#7201a8"
             ],
             [
              0.3333333333333333,
              "#9c179e"
             ],
             [
              0.4444444444444444,
              "#bd3786"
             ],
             [
              0.5555555555555556,
              "#d8576b"
             ],
             [
              0.6666666666666666,
              "#ed7953"
             ],
             [
              0.7777777777777778,
              "#fb9f3a"
             ],
             [
              0.8888888888888888,
              "#fdca26"
             ],
             [
              1,
              "#f0f921"
             ]
            ],
            "type": "surface"
           }
          ],
          "table": [
           {
            "cells": {
             "fill": {
              "color": "#EBF0F8"
             },
             "line": {
              "color": "white"
             }
            },
            "header": {
             "fill": {
              "color": "#C8D4E3"
             },
             "line": {
              "color": "white"
             }
            },
            "type": "table"
           }
          ]
         },
         "layout": {
          "annotationdefaults": {
           "arrowcolor": "#2a3f5f",
           "arrowhead": 0,
           "arrowwidth": 1
          },
          "autotypenumbers": "strict",
          "coloraxis": {
           "colorbar": {
            "outlinewidth": 0,
            "ticks": ""
           }
          },
          "colorscale": {
           "diverging": [
            [
             0,
             "#8e0152"
            ],
            [
             0.1,
             "#c51b7d"
            ],
            [
             0.2,
             "#de77ae"
            ],
            [
             0.3,
             "#f1b6da"
            ],
            [
             0.4,
             "#fde0ef"
            ],
            [
             0.5,
             "#f7f7f7"
            ],
            [
             0.6,
             "#e6f5d0"
            ],
            [
             0.7,
             "#b8e186"
            ],
            [
             0.8,
             "#7fbc41"
            ],
            [
             0.9,
             "#4d9221"
            ],
            [
             1,
             "#276419"
            ]
           ],
           "sequential": [
            [
             0,
             "#0d0887"
            ],
            [
             0.1111111111111111,
             "#46039f"
            ],
            [
             0.2222222222222222,
             "#7201a8"
            ],
            [
             0.3333333333333333,
             "#9c179e"
            ],
            [
             0.4444444444444444,
             "#bd3786"
            ],
            [
             0.5555555555555556,
             "#d8576b"
            ],
            [
             0.6666666666666666,
             "#ed7953"
            ],
            [
             0.7777777777777778,
             "#fb9f3a"
            ],
            [
             0.8888888888888888,
             "#fdca26"
            ],
            [
             1,
             "#f0f921"
            ]
           ],
           "sequentialminus": [
            [
             0,
             "#0d0887"
            ],
            [
             0.1111111111111111,
             "#46039f"
            ],
            [
             0.2222222222222222,
             "#7201a8"
            ],
            [
             0.3333333333333333,
             "#9c179e"
            ],
            [
             0.4444444444444444,
             "#bd3786"
            ],
            [
             0.5555555555555556,
             "#d8576b"
            ],
            [
             0.6666666666666666,
             "#ed7953"
            ],
            [
             0.7777777777777778,
             "#fb9f3a"
            ],
            [
             0.8888888888888888,
             "#fdca26"
            ],
            [
             1,
             "#f0f921"
            ]
           ]
          },
          "colorway": [
           "#636efa",
           "#EF553B",
           "#00cc96",
           "#ab63fa",
           "#FFA15A",
           "#19d3f3",
           "#FF6692",
           "#B6E880",
           "#FF97FF",
           "#FECB52"
          ],
          "font": {
           "color": "#2a3f5f"
          },
          "geo": {
           "bgcolor": "white",
           "lakecolor": "white",
           "landcolor": "#E5ECF6",
           "showlakes": true,
           "showland": true,
           "subunitcolor": "white"
          },
          "hoverlabel": {
           "align": "left"
          },
          "hovermode": "closest",
          "mapbox": {
           "style": "light"
          },
          "paper_bgcolor": "white",
          "plot_bgcolor": "#E5ECF6",
          "polar": {
           "angularaxis": {
            "gridcolor": "white",
            "linecolor": "white",
            "ticks": ""
           },
           "bgcolor": "#E5ECF6",
           "radialaxis": {
            "gridcolor": "white",
            "linecolor": "white",
            "ticks": ""
           }
          },
          "scene": {
           "xaxis": {
            "backgroundcolor": "#E5ECF6",
            "gridcolor": "white",
            "gridwidth": 2,
            "linecolor": "white",
            "showbackground": true,
            "ticks": "",
            "zerolinecolor": "white"
           },
           "yaxis": {
            "backgroundcolor": "#E5ECF6",
            "gridcolor": "white",
            "gridwidth": 2,
            "linecolor": "white",
            "showbackground": true,
            "ticks": "",
            "zerolinecolor": "white"
           },
           "zaxis": {
            "backgroundcolor": "#E5ECF6",
            "gridcolor": "white",
            "gridwidth": 2,
            "linecolor": "white",
            "showbackground": true,
            "ticks": "",
            "zerolinecolor": "white"
           }
          },
          "shapedefaults": {
           "line": {
            "color": "#2a3f5f"
           }
          },
          "ternary": {
           "aaxis": {
            "gridcolor": "white",
            "linecolor": "white",
            "ticks": ""
           },
           "baxis": {
            "gridcolor": "white",
            "linecolor": "white",
            "ticks": ""
           },
           "bgcolor": "#E5ECF6",
           "caxis": {
            "gridcolor": "white",
            "linecolor": "white",
            "ticks": ""
           }
          },
          "title": {
           "x": 0.05
          },
          "xaxis": {
           "automargin": true,
           "gridcolor": "white",
           "linecolor": "white",
           "ticks": "",
           "title": {
            "standoff": 15
           },
           "zerolinecolor": "white",
           "zerolinewidth": 2
          },
          "yaxis": {
           "automargin": true,
           "gridcolor": "white",
           "linecolor": "white",
           "ticks": "",
           "title": {
            "standoff": 15
           },
           "zerolinecolor": "white",
           "zerolinewidth": 2
          }
         }
        },
        "title": {
         "text": "Parametri Range of Motion"
        },
        "xaxis": {
         "tickfont": {
          "color": "#7f7f7f",
          "family": "Courier New, monospace",
          "size": 14
         },
         "title": {
          "font": {
           "color": "#7f7f7f",
           "family": "Courier New, monospace",
           "size": 18
          },
          "text": "Month"
         }
        },
        "yaxis": {
         "tickfont": {
          "color": "#7f7f7f",
          "family": "Courier New, monospace",
          "size": 14
         },
         "title": {
          "font": {
           "color": "#7f7f7f",
           "family": "Courier New, monospace",
           "size": 18
          },
          "text": "ROM kneeRight [gradi]"
         }
        }
       }
      },
      "text/html": [
       "<div>                            <div id=\"9f27a5e9-b9e8-4503-b4e7-3210a705d83f\" class=\"plotly-graph-div\" style=\"height:525px; width:100%;\"></div>            <script type=\"text/javascript\">                require([\"plotly\"], function(Plotly) {                    window.PLOTLYENV=window.PLOTLYENV || {};                                    if (document.getElementById(\"9f27a5e9-b9e8-4503-b4e7-3210a705d83f\")) {                    Plotly.newPlot(                        \"9f27a5e9-b9e8-4503-b4e7-3210a705d83f\",                        [{\"marker\":{\"color\":\"rgb(0,0,255)\"},\"name\":\"Massimo valore raggiunto\",\"x\":[1,2,3,4,5,6,7,8,9,10,11,12],\"y\":[115.0472239010436,0,0,0,0,0,0,0,0,0,0,0],\"type\":\"bar\"},{\"marker\":{\"color\":\"rgb(255,0,0)\"},\"name\":\"Minimo valore raggiunto\",\"x\":[1,2,3,4,5,6,7,8,9,10,11,12],\"y\":[57.86458244653484,0,0,0,0,0,0,0,0,0,0,0],\"type\":\"bar\"}],                        {\"bargap\":0.1,\"bargroupgap\":0.0,\"barmode\":\"group\",\"font\":{\"color\":\"black\",\"family\":\"Courier New, monospace\",\"size\":18},\"legend\":{\"bgcolor\":\"rgba(255, 255, 255, 0)\",\"bordercolor\":\"rgba(255, 255, 255, 0)\"},\"template\":{\"data\":{\"barpolar\":[{\"marker\":{\"line\":{\"color\":\"#E5ECF6\",\"width\":0.5},\"pattern\":{\"fillmode\":\"overlay\",\"size\":10,\"solidity\":0.2}},\"type\":\"barpolar\"}],\"bar\":[{\"error_x\":{\"color\":\"#2a3f5f\"},\"error_y\":{\"color\":\"#2a3f5f\"},\"marker\":{\"line\":{\"color\":\"#E5ECF6\",\"width\":0.5},\"pattern\":{\"fillmode\":\"overlay\",\"size\":10,\"solidity\":0.2}},\"type\":\"bar\"}],\"carpet\":[{\"aaxis\":{\"endlinecolor\":\"#2a3f5f\",\"gridcolor\":\"white\",\"linecolor\":\"white\",\"minorgridcolor\":\"white\",\"startlinecolor\":\"#2a3f5f\"},\"baxis\":{\"endlinecolor\":\"#2a3f5f\",\"gridcolor\":\"white\",\"linecolor\":\"white\",\"minorgridcolor\":\"white\",\"startlinecolor\":\"#2a3f5f\"},\"type\":\"carpet\"}],\"choropleth\":[{\"colorbar\":{\"outlinewidth\":0,\"ticks\":\"\"},\"type\":\"choropleth\"}],\"contourcarpet\":[{\"colorbar\":{\"outlinewidth\":0,\"ticks\":\"\"},\"type\":\"contourcarpet\"}],\"contour\":[{\"colorbar\":{\"outlinewidth\":0,\"ticks\":\"\"},\"colorscale\":[[0.0,\"#0d0887\"],[0.1111111111111111,\"#46039f\"],[0.2222222222222222,\"#7201a8\"],[0.3333333333333333,\"#9c179e\"],[0.4444444444444444,\"#bd3786\"],[0.5555555555555556,\"#d8576b\"],[0.6666666666666666,\"#ed7953\"],[0.7777777777777778,\"#fb9f3a\"],[0.8888888888888888,\"#fdca26\"],[1.0,\"#f0f921\"]],\"type\":\"contour\"}],\"heatmapgl\":[{\"colorbar\":{\"outlinewidth\":0,\"ticks\":\"\"},\"colorscale\":[[0.0,\"#0d0887\"],[0.1111111111111111,\"#46039f\"],[0.2222222222222222,\"#7201a8\"],[0.3333333333333333,\"#9c179e\"],[0.4444444444444444,\"#bd3786\"],[0.5555555555555556,\"#d8576b\"],[0.6666666666666666,\"#ed7953\"],[0.7777777777777778,\"#fb9f3a\"],[0.8888888888888888,\"#fdca26\"],[1.0,\"#f0f921\"]],\"type\":\"heatmapgl\"}],\"heatmap\":[{\"colorbar\":{\"outlinewidth\":0,\"ticks\":\"\"},\"colorscale\":[[0.0,\"#0d0887\"],[0.1111111111111111,\"#46039f\"],[0.2222222222222222,\"#7201a8\"],[0.3333333333333333,\"#9c179e\"],[0.4444444444444444,\"#bd3786\"],[0.5555555555555556,\"#d8576b\"],[0.6666666666666666,\"#ed7953\"],[0.7777777777777778,\"#fb9f3a\"],[0.8888888888888888,\"#fdca26\"],[1.0,\"#f0f921\"]],\"type\":\"heatmap\"}],\"histogram2dcontour\":[{\"colorbar\":{\"outlinewidth\":0,\"ticks\":\"\"},\"colorscale\":[[0.0,\"#0d0887\"],[0.1111111111111111,\"#46039f\"],[0.2222222222222222,\"#7201a8\"],[0.3333333333333333,\"#9c179e\"],[0.4444444444444444,\"#bd3786\"],[0.5555555555555556,\"#d8576b\"],[0.6666666666666666,\"#ed7953\"],[0.7777777777777778,\"#fb9f3a\"],[0.8888888888888888,\"#fdca26\"],[1.0,\"#f0f921\"]],\"type\":\"histogram2dcontour\"}],\"histogram2d\":[{\"colorbar\":{\"outlinewidth\":0,\"ticks\":\"\"},\"colorscale\":[[0.0,\"#0d0887\"],[0.1111111111111111,\"#46039f\"],[0.2222222222222222,\"#7201a8\"],[0.3333333333333333,\"#9c179e\"],[0.4444444444444444,\"#bd3786\"],[0.5555555555555556,\"#d8576b\"],[0.6666666666666666,\"#ed7953\"],[0.7777777777777778,\"#fb9f3a\"],[0.8888888888888888,\"#fdca26\"],[1.0,\"#f0f921\"]],\"type\":\"histogram2d\"}],\"histogram\":[{\"marker\":{\"pattern\":{\"fillmode\":\"overlay\",\"size\":10,\"solidity\":0.2}},\"type\":\"histogram\"}],\"mesh3d\":[{\"colorbar\":{\"outlinewidth\":0,\"ticks\":\"\"},\"type\":\"mesh3d\"}],\"parcoords\":[{\"line\":{\"colorbar\":{\"outlinewidth\":0,\"ticks\":\"\"}},\"type\":\"parcoords\"}],\"pie\":[{\"automargin\":true,\"type\":\"pie\"}],\"scatter3d\":[{\"line\":{\"colorbar\":{\"outlinewidth\":0,\"ticks\":\"\"}},\"marker\":{\"colorbar\":{\"outlinewidth\":0,\"ticks\":\"\"}},\"type\":\"scatter3d\"}],\"scattercarpet\":[{\"marker\":{\"colorbar\":{\"outlinewidth\":0,\"ticks\":\"\"}},\"type\":\"scattercarpet\"}],\"scattergeo\":[{\"marker\":{\"colorbar\":{\"outlinewidth\":0,\"ticks\":\"\"}},\"type\":\"scattergeo\"}],\"scattergl\":[{\"marker\":{\"colorbar\":{\"outlinewidth\":0,\"ticks\":\"\"}},\"type\":\"scattergl\"}],\"scattermapbox\":[{\"marker\":{\"colorbar\":{\"outlinewidth\":0,\"ticks\":\"\"}},\"type\":\"scattermapbox\"}],\"scatterpolargl\":[{\"marker\":{\"colorbar\":{\"outlinewidth\":0,\"ticks\":\"\"}},\"type\":\"scatterpolargl\"}],\"scatterpolar\":[{\"marker\":{\"colorbar\":{\"outlinewidth\":0,\"ticks\":\"\"}},\"type\":\"scatterpolar\"}],\"scatter\":[{\"fillpattern\":{\"fillmode\":\"overlay\",\"size\":10,\"solidity\":0.2},\"type\":\"scatter\"}],\"scatterternary\":[{\"marker\":{\"colorbar\":{\"outlinewidth\":0,\"ticks\":\"\"}},\"type\":\"scatterternary\"}],\"surface\":[{\"colorbar\":{\"outlinewidth\":0,\"ticks\":\"\"},\"colorscale\":[[0.0,\"#0d0887\"],[0.1111111111111111,\"#46039f\"],[0.2222222222222222,\"#7201a8\"],[0.3333333333333333,\"#9c179e\"],[0.4444444444444444,\"#bd3786\"],[0.5555555555555556,\"#d8576b\"],[0.6666666666666666,\"#ed7953\"],[0.7777777777777778,\"#fb9f3a\"],[0.8888888888888888,\"#fdca26\"],[1.0,\"#f0f921\"]],\"type\":\"surface\"}],\"table\":[{\"cells\":{\"fill\":{\"color\":\"#EBF0F8\"},\"line\":{\"color\":\"white\"}},\"header\":{\"fill\":{\"color\":\"#C8D4E3\"},\"line\":{\"color\":\"white\"}},\"type\":\"table\"}]},\"layout\":{\"annotationdefaults\":{\"arrowcolor\":\"#2a3f5f\",\"arrowhead\":0,\"arrowwidth\":1},\"autotypenumbers\":\"strict\",\"coloraxis\":{\"colorbar\":{\"outlinewidth\":0,\"ticks\":\"\"}},\"colorscale\":{\"diverging\":[[0,\"#8e0152\"],[0.1,\"#c51b7d\"],[0.2,\"#de77ae\"],[0.3,\"#f1b6da\"],[0.4,\"#fde0ef\"],[0.5,\"#f7f7f7\"],[0.6,\"#e6f5d0\"],[0.7,\"#b8e186\"],[0.8,\"#7fbc41\"],[0.9,\"#4d9221\"],[1,\"#276419\"]],\"sequential\":[[0.0,\"#0d0887\"],[0.1111111111111111,\"#46039f\"],[0.2222222222222222,\"#7201a8\"],[0.3333333333333333,\"#9c179e\"],[0.4444444444444444,\"#bd3786\"],[0.5555555555555556,\"#d8576b\"],[0.6666666666666666,\"#ed7953\"],[0.7777777777777778,\"#fb9f3a\"],[0.8888888888888888,\"#fdca26\"],[1.0,\"#f0f921\"]],\"sequentialminus\":[[0.0,\"#0d0887\"],[0.1111111111111111,\"#46039f\"],[0.2222222222222222,\"#7201a8\"],[0.3333333333333333,\"#9c179e\"],[0.4444444444444444,\"#bd3786\"],[0.5555555555555556,\"#d8576b\"],[0.6666666666666666,\"#ed7953\"],[0.7777777777777778,\"#fb9f3a\"],[0.8888888888888888,\"#fdca26\"],[1.0,\"#f0f921\"]]},\"colorway\":[\"#636efa\",\"#EF553B\",\"#00cc96\",\"#ab63fa\",\"#FFA15A\",\"#19d3f3\",\"#FF6692\",\"#B6E880\",\"#FF97FF\",\"#FECB52\"],\"font\":{\"color\":\"#2a3f5f\"},\"geo\":{\"bgcolor\":\"white\",\"lakecolor\":\"white\",\"landcolor\":\"#E5ECF6\",\"showlakes\":true,\"showland\":true,\"subunitcolor\":\"white\"},\"hoverlabel\":{\"align\":\"left\"},\"hovermode\":\"closest\",\"mapbox\":{\"style\":\"light\"},\"paper_bgcolor\":\"white\",\"plot_bgcolor\":\"#E5ECF6\",\"polar\":{\"angularaxis\":{\"gridcolor\":\"white\",\"linecolor\":\"white\",\"ticks\":\"\"},\"bgcolor\":\"#E5ECF6\",\"radialaxis\":{\"gridcolor\":\"white\",\"linecolor\":\"white\",\"ticks\":\"\"}},\"scene\":{\"xaxis\":{\"backgroundcolor\":\"#E5ECF6\",\"gridcolor\":\"white\",\"gridwidth\":2,\"linecolor\":\"white\",\"showbackground\":true,\"ticks\":\"\",\"zerolinecolor\":\"white\"},\"yaxis\":{\"backgroundcolor\":\"#E5ECF6\",\"gridcolor\":\"white\",\"gridwidth\":2,\"linecolor\":\"white\",\"showbackground\":true,\"ticks\":\"\",\"zerolinecolor\":\"white\"},\"zaxis\":{\"backgroundcolor\":\"#E5ECF6\",\"gridcolor\":\"white\",\"gridwidth\":2,\"linecolor\":\"white\",\"showbackground\":true,\"ticks\":\"\",\"zerolinecolor\":\"white\"}},\"shapedefaults\":{\"line\":{\"color\":\"#2a3f5f\"}},\"ternary\":{\"aaxis\":{\"gridcolor\":\"white\",\"linecolor\":\"white\",\"ticks\":\"\"},\"baxis\":{\"gridcolor\":\"white\",\"linecolor\":\"white\",\"ticks\":\"\"},\"bgcolor\":\"#E5ECF6\",\"caxis\":{\"gridcolor\":\"white\",\"linecolor\":\"white\",\"ticks\":\"\"}},\"title\":{\"x\":0.05},\"xaxis\":{\"automargin\":true,\"gridcolor\":\"white\",\"linecolor\":\"white\",\"ticks\":\"\",\"title\":{\"standoff\":15},\"zerolinecolor\":\"white\",\"zerolinewidth\":2},\"yaxis\":{\"automargin\":true,\"gridcolor\":\"white\",\"linecolor\":\"white\",\"ticks\":\"\",\"title\":{\"standoff\":15},\"zerolinecolor\":\"white\",\"zerolinewidth\":2}}},\"title\":{\"text\":\"Parametri Range of Motion\"},\"xaxis\":{\"tickfont\":{\"color\":\"#7f7f7f\",\"family\":\"Courier New, monospace\",\"size\":14},\"title\":{\"font\":{\"color\":\"#7f7f7f\",\"family\":\"Courier New, monospace\",\"size\":18},\"text\":\"Month\"}},\"yaxis\":{\"tickfont\":{\"color\":\"#7f7f7f\",\"family\":\"Courier New, monospace\",\"size\":14},\"title\":{\"font\":{\"color\":\"#7f7f7f\",\"family\":\"Courier New, monospace\",\"size\":18},\"text\":\"ROM kneeRight [gradi]\"}}},                        {\"responsive\": true}                    ).then(function(){\n",
       "                            \n",
       "var gd = document.getElementById('9f27a5e9-b9e8-4503-b4e7-3210a705d83f');\n",
       "var x = new MutationObserver(function (mutations, observer) {{\n",
       "        var display = window.getComputedStyle(gd).display;\n",
       "        if (!display || display === 'none') {{\n",
       "            console.log([gd, 'removed!']);\n",
       "            Plotly.purge(gd);\n",
       "            observer.disconnect();\n",
       "        }}\n",
       "}});\n",
       "\n",
       "// Listen for the removal of the full notebook cells\n",
       "var notebookContainer = gd.closest('#notebook-container');\n",
       "if (notebookContainer) {{\n",
       "    x.observe(notebookContainer, {childList: true});\n",
       "}}\n",
       "\n",
       "// Listen for the clearing of the current output cell\n",
       "var outputEl = gd.closest('.output');\n",
       "if (outputEl) {{\n",
       "    x.observe(outputEl, {childList: true});\n",
       "}}\n",
       "\n",
       "                        })                };                });            </script>        </div>"
      ]
     },
     "metadata": {},
     "output_type": "display_data"
    },
    {
     "data": {
      "application/vnd.plotly.v1+json": {
       "config": {
        "linkText": "Export to plot.ly",
        "plotlyServerURL": "https://plot.ly",
        "showLink": false
       },
       "data": [
        {
         "marker": {
          "color": "rgb(0,0,255)"
         },
         "name": "Massimo valore raggiunto",
         "type": "bar",
         "x": [
          1,
          2,
          3,
          4,
          5,
          6,
          7,
          8,
          9,
          10,
          11,
          12
         ],
         "y": [
          90,
          0,
          0,
          0,
          0,
          0,
          0,
          0,
          0,
          0,
          0,
          0
         ]
        },
        {
         "marker": {
          "color": "rgb(255,0,0)"
         },
         "name": "Minimo valore raggiunto",
         "type": "bar",
         "x": [
          1,
          2,
          3,
          4,
          5,
          6,
          7,
          8,
          9,
          10,
          11,
          12
         ],
         "y": [
          90,
          0,
          0,
          0,
          0,
          0,
          0,
          0,
          0,
          0,
          0,
          0
         ]
        }
       ],
       "layout": {
        "bargap": 0.1,
        "bargroupgap": 0,
        "barmode": "group",
        "font": {
         "color": "black",
         "family": "Courier New, monospace",
         "size": 18
        },
        "legend": {
         "bgcolor": "rgba(255, 255, 255, 0)",
         "bordercolor": "rgba(255, 255, 255, 0)"
        },
        "template": {
         "data": {
          "bar": [
           {
            "error_x": {
             "color": "#2a3f5f"
            },
            "error_y": {
             "color": "#2a3f5f"
            },
            "marker": {
             "line": {
              "color": "#E5ECF6",
              "width": 0.5
             },
             "pattern": {
              "fillmode": "overlay",
              "size": 10,
              "solidity": 0.2
             }
            },
            "type": "bar"
           }
          ],
          "barpolar": [
           {
            "marker": {
             "line": {
              "color": "#E5ECF6",
              "width": 0.5
             },
             "pattern": {
              "fillmode": "overlay",
              "size": 10,
              "solidity": 0.2
             }
            },
            "type": "barpolar"
           }
          ],
          "carpet": [
           {
            "aaxis": {
             "endlinecolor": "#2a3f5f",
             "gridcolor": "white",
             "linecolor": "white",
             "minorgridcolor": "white",
             "startlinecolor": "#2a3f5f"
            },
            "baxis": {
             "endlinecolor": "#2a3f5f",
             "gridcolor": "white",
             "linecolor": "white",
             "minorgridcolor": "white",
             "startlinecolor": "#2a3f5f"
            },
            "type": "carpet"
           }
          ],
          "choropleth": [
           {
            "colorbar": {
             "outlinewidth": 0,
             "ticks": ""
            },
            "type": "choropleth"
           }
          ],
          "contour": [
           {
            "colorbar": {
             "outlinewidth": 0,
             "ticks": ""
            },
            "colorscale": [
             [
              0,
              "#0d0887"
             ],
             [
              0.1111111111111111,
              "#46039f"
             ],
             [
              0.2222222222222222,
              "#7201a8"
             ],
             [
              0.3333333333333333,
              "#9c179e"
             ],
             [
              0.4444444444444444,
              "#bd3786"
             ],
             [
              0.5555555555555556,
              "#d8576b"
             ],
             [
              0.6666666666666666,
              "#ed7953"
             ],
             [
              0.7777777777777778,
              "#fb9f3a"
             ],
             [
              0.8888888888888888,
              "#fdca26"
             ],
             [
              1,
              "#f0f921"
             ]
            ],
            "type": "contour"
           }
          ],
          "contourcarpet": [
           {
            "colorbar": {
             "outlinewidth": 0,
             "ticks": ""
            },
            "type": "contourcarpet"
           }
          ],
          "heatmap": [
           {
            "colorbar": {
             "outlinewidth": 0,
             "ticks": ""
            },
            "colorscale": [
             [
              0,
              "#0d0887"
             ],
             [
              0.1111111111111111,
              "#46039f"
             ],
             [
              0.2222222222222222,
              "#7201a8"
             ],
             [
              0.3333333333333333,
              "#9c179e"
             ],
             [
              0.4444444444444444,
              "#bd3786"
             ],
             [
              0.5555555555555556,
              "#d8576b"
             ],
             [
              0.6666666666666666,
              "#ed7953"
             ],
             [
              0.7777777777777778,
              "#fb9f3a"
             ],
             [
              0.8888888888888888,
              "#fdca26"
             ],
             [
              1,
              "#f0f921"
             ]
            ],
            "type": "heatmap"
           }
          ],
          "heatmapgl": [
           {
            "colorbar": {
             "outlinewidth": 0,
             "ticks": ""
            },
            "colorscale": [
             [
              0,
              "#0d0887"
             ],
             [
              0.1111111111111111,
              "#46039f"
             ],
             [
              0.2222222222222222,
              "#7201a8"
             ],
             [
              0.3333333333333333,
              "#9c179e"
             ],
             [
              0.4444444444444444,
              "#bd3786"
             ],
             [
              0.5555555555555556,
              "#d8576b"
             ],
             [
              0.6666666666666666,
              "#ed7953"
             ],
             [
              0.7777777777777778,
              "#fb9f3a"
             ],
             [
              0.8888888888888888,
              "#fdca26"
             ],
             [
              1,
              "#f0f921"
             ]
            ],
            "type": "heatmapgl"
           }
          ],
          "histogram": [
           {
            "marker": {
             "pattern": {
              "fillmode": "overlay",
              "size": 10,
              "solidity": 0.2
             }
            },
            "type": "histogram"
           }
          ],
          "histogram2d": [
           {
            "colorbar": {
             "outlinewidth": 0,
             "ticks": ""
            },
            "colorscale": [
             [
              0,
              "#0d0887"
             ],
             [
              0.1111111111111111,
              "#46039f"
             ],
             [
              0.2222222222222222,
              "#7201a8"
             ],
             [
              0.3333333333333333,
              "#9c179e"
             ],
             [
              0.4444444444444444,
              "#bd3786"
             ],
             [
              0.5555555555555556,
              "#d8576b"
             ],
             [
              0.6666666666666666,
              "#ed7953"
             ],
             [
              0.7777777777777778,
              "#fb9f3a"
             ],
             [
              0.8888888888888888,
              "#fdca26"
             ],
             [
              1,
              "#f0f921"
             ]
            ],
            "type": "histogram2d"
           }
          ],
          "histogram2dcontour": [
           {
            "colorbar": {
             "outlinewidth": 0,
             "ticks": ""
            },
            "colorscale": [
             [
              0,
              "#0d0887"
             ],
             [
              0.1111111111111111,
              "#46039f"
             ],
             [
              0.2222222222222222,
              "#7201a8"
             ],
             [
              0.3333333333333333,
              "#9c179e"
             ],
             [
              0.4444444444444444,
              "#bd3786"
             ],
             [
              0.5555555555555556,
              "#d8576b"
             ],
             [
              0.6666666666666666,
              "#ed7953"
             ],
             [
              0.7777777777777778,
              "#fb9f3a"
             ],
             [
              0.8888888888888888,
              "#fdca26"
             ],
             [
              1,
              "#f0f921"
             ]
            ],
            "type": "histogram2dcontour"
           }
          ],
          "mesh3d": [
           {
            "colorbar": {
             "outlinewidth": 0,
             "ticks": ""
            },
            "type": "mesh3d"
           }
          ],
          "parcoords": [
           {
            "line": {
             "colorbar": {
              "outlinewidth": 0,
              "ticks": ""
             }
            },
            "type": "parcoords"
           }
          ],
          "pie": [
           {
            "automargin": true,
            "type": "pie"
           }
          ],
          "scatter": [
           {
            "fillpattern": {
             "fillmode": "overlay",
             "size": 10,
             "solidity": 0.2
            },
            "type": "scatter"
           }
          ],
          "scatter3d": [
           {
            "line": {
             "colorbar": {
              "outlinewidth": 0,
              "ticks": ""
             }
            },
            "marker": {
             "colorbar": {
              "outlinewidth": 0,
              "ticks": ""
             }
            },
            "type": "scatter3d"
           }
          ],
          "scattercarpet": [
           {
            "marker": {
             "colorbar": {
              "outlinewidth": 0,
              "ticks": ""
             }
            },
            "type": "scattercarpet"
           }
          ],
          "scattergeo": [
           {
            "marker": {
             "colorbar": {
              "outlinewidth": 0,
              "ticks": ""
             }
            },
            "type": "scattergeo"
           }
          ],
          "scattergl": [
           {
            "marker": {
             "colorbar": {
              "outlinewidth": 0,
              "ticks": ""
             }
            },
            "type": "scattergl"
           }
          ],
          "scattermapbox": [
           {
            "marker": {
             "colorbar": {
              "outlinewidth": 0,
              "ticks": ""
             }
            },
            "type": "scattermapbox"
           }
          ],
          "scatterpolar": [
           {
            "marker": {
             "colorbar": {
              "outlinewidth": 0,
              "ticks": ""
             }
            },
            "type": "scatterpolar"
           }
          ],
          "scatterpolargl": [
           {
            "marker": {
             "colorbar": {
              "outlinewidth": 0,
              "ticks": ""
             }
            },
            "type": "scatterpolargl"
           }
          ],
          "scatterternary": [
           {
            "marker": {
             "colorbar": {
              "outlinewidth": 0,
              "ticks": ""
             }
            },
            "type": "scatterternary"
           }
          ],
          "surface": [
           {
            "colorbar": {
             "outlinewidth": 0,
             "ticks": ""
            },
            "colorscale": [
             [
              0,
              "#0d0887"
             ],
             [
              0.1111111111111111,
              "#46039f"
             ],
             [
              0.2222222222222222,
              "#7201a8"
             ],
             [
              0.3333333333333333,
              "#9c179e"
             ],
             [
              0.4444444444444444,
              "#bd3786"
             ],
             [
              0.5555555555555556,
              "#d8576b"
             ],
             [
              0.6666666666666666,
              "#ed7953"
             ],
             [
              0.7777777777777778,
              "#fb9f3a"
             ],
             [
              0.8888888888888888,
              "#fdca26"
             ],
             [
              1,
              "#f0f921"
             ]
            ],
            "type": "surface"
           }
          ],
          "table": [
           {
            "cells": {
             "fill": {
              "color": "#EBF0F8"
             },
             "line": {
              "color": "white"
             }
            },
            "header": {
             "fill": {
              "color": "#C8D4E3"
             },
             "line": {
              "color": "white"
             }
            },
            "type": "table"
           }
          ]
         },
         "layout": {
          "annotationdefaults": {
           "arrowcolor": "#2a3f5f",
           "arrowhead": 0,
           "arrowwidth": 1
          },
          "autotypenumbers": "strict",
          "coloraxis": {
           "colorbar": {
            "outlinewidth": 0,
            "ticks": ""
           }
          },
          "colorscale": {
           "diverging": [
            [
             0,
             "#8e0152"
            ],
            [
             0.1,
             "#c51b7d"
            ],
            [
             0.2,
             "#de77ae"
            ],
            [
             0.3,
             "#f1b6da"
            ],
            [
             0.4,
             "#fde0ef"
            ],
            [
             0.5,
             "#f7f7f7"
            ],
            [
             0.6,
             "#e6f5d0"
            ],
            [
             0.7,
             "#b8e186"
            ],
            [
             0.8,
             "#7fbc41"
            ],
            [
             0.9,
             "#4d9221"
            ],
            [
             1,
             "#276419"
            ]
           ],
           "sequential": [
            [
             0,
             "#0d0887"
            ],
            [
             0.1111111111111111,
             "#46039f"
            ],
            [
             0.2222222222222222,
             "#7201a8"
            ],
            [
             0.3333333333333333,
             "#9c179e"
            ],
            [
             0.4444444444444444,
             "#bd3786"
            ],
            [
             0.5555555555555556,
             "#d8576b"
            ],
            [
             0.6666666666666666,
             "#ed7953"
            ],
            [
             0.7777777777777778,
             "#fb9f3a"
            ],
            [
             0.8888888888888888,
             "#fdca26"
            ],
            [
             1,
             "#f0f921"
            ]
           ],
           "sequentialminus": [
            [
             0,
             "#0d0887"
            ],
            [
             0.1111111111111111,
             "#46039f"
            ],
            [
             0.2222222222222222,
             "#7201a8"
            ],
            [
             0.3333333333333333,
             "#9c179e"
            ],
            [
             0.4444444444444444,
             "#bd3786"
            ],
            [
             0.5555555555555556,
             "#d8576b"
            ],
            [
             0.6666666666666666,
             "#ed7953"
            ],
            [
             0.7777777777777778,
             "#fb9f3a"
            ],
            [
             0.8888888888888888,
             "#fdca26"
            ],
            [
             1,
             "#f0f921"
            ]
           ]
          },
          "colorway": [
           "#636efa",
           "#EF553B",
           "#00cc96",
           "#ab63fa",
           "#FFA15A",
           "#19d3f3",
           "#FF6692",
           "#B6E880",
           "#FF97FF",
           "#FECB52"
          ],
          "font": {
           "color": "#2a3f5f"
          },
          "geo": {
           "bgcolor": "white",
           "lakecolor": "white",
           "landcolor": "#E5ECF6",
           "showlakes": true,
           "showland": true,
           "subunitcolor": "white"
          },
          "hoverlabel": {
           "align": "left"
          },
          "hovermode": "closest",
          "mapbox": {
           "style": "light"
          },
          "paper_bgcolor": "white",
          "plot_bgcolor": "#E5ECF6",
          "polar": {
           "angularaxis": {
            "gridcolor": "white",
            "linecolor": "white",
            "ticks": ""
           },
           "bgcolor": "#E5ECF6",
           "radialaxis": {
            "gridcolor": "white",
            "linecolor": "white",
            "ticks": ""
           }
          },
          "scene": {
           "xaxis": {
            "backgroundcolor": "#E5ECF6",
            "gridcolor": "white",
            "gridwidth": 2,
            "linecolor": "white",
            "showbackground": true,
            "ticks": "",
            "zerolinecolor": "white"
           },
           "yaxis": {
            "backgroundcolor": "#E5ECF6",
            "gridcolor": "white",
            "gridwidth": 2,
            "linecolor": "white",
            "showbackground": true,
            "ticks": "",
            "zerolinecolor": "white"
           },
           "zaxis": {
            "backgroundcolor": "#E5ECF6",
            "gridcolor": "white",
            "gridwidth": 2,
            "linecolor": "white",
            "showbackground": true,
            "ticks": "",
            "zerolinecolor": "white"
           }
          },
          "shapedefaults": {
           "line": {
            "color": "#2a3f5f"
           }
          },
          "ternary": {
           "aaxis": {
            "gridcolor": "white",
            "linecolor": "white",
            "ticks": ""
           },
           "baxis": {
            "gridcolor": "white",
            "linecolor": "white",
            "ticks": ""
           },
           "bgcolor": "#E5ECF6",
           "caxis": {
            "gridcolor": "white",
            "linecolor": "white",
            "ticks": ""
           }
          },
          "title": {
           "x": 0.05
          },
          "xaxis": {
           "automargin": true,
           "gridcolor": "white",
           "linecolor": "white",
           "ticks": "",
           "title": {
            "standoff": 15
           },
           "zerolinecolor": "white",
           "zerolinewidth": 2
          },
          "yaxis": {
           "automargin": true,
           "gridcolor": "white",
           "linecolor": "white",
           "ticks": "",
           "title": {
            "standoff": 15
           },
           "zerolinecolor": "white",
           "zerolinewidth": 2
          }
         }
        },
        "title": {
         "text": "Parametri Range of Motion"
        },
        "xaxis": {
         "tickfont": {
          "color": "#7f7f7f",
          "family": "Courier New, monospace",
          "size": 14
         },
         "title": {
          "font": {
           "color": "#7f7f7f",
           "family": "Courier New, monospace",
           "size": 18
          },
          "text": "Month"
         }
        },
        "yaxis": {
         "tickfont": {
          "color": "#7f7f7f",
          "family": "Courier New, monospace",
          "size": 14
         },
         "title": {
          "font": {
           "color": "#7f7f7f",
           "family": "Courier New, monospace",
           "size": 18
          },
          "text": "ROM ankleRight [gradi]"
         }
        }
       }
      },
      "text/html": [
       "<div>                            <div id=\"101cd062-0996-4b5e-ba5d-5a5ba210a289\" class=\"plotly-graph-div\" style=\"height:525px; width:100%;\"></div>            <script type=\"text/javascript\">                require([\"plotly\"], function(Plotly) {                    window.PLOTLYENV=window.PLOTLYENV || {};                                    if (document.getElementById(\"101cd062-0996-4b5e-ba5d-5a5ba210a289\")) {                    Plotly.newPlot(                        \"101cd062-0996-4b5e-ba5d-5a5ba210a289\",                        [{\"marker\":{\"color\":\"rgb(0,0,255)\"},\"name\":\"Massimo valore raggiunto\",\"x\":[1,2,3,4,5,6,7,8,9,10,11,12],\"y\":[90.0,0,0,0,0,0,0,0,0,0,0,0],\"type\":\"bar\"},{\"marker\":{\"color\":\"rgb(255,0,0)\"},\"name\":\"Minimo valore raggiunto\",\"x\":[1,2,3,4,5,6,7,8,9,10,11,12],\"y\":[90.0,0,0,0,0,0,0,0,0,0,0,0],\"type\":\"bar\"}],                        {\"bargap\":0.1,\"bargroupgap\":0.0,\"barmode\":\"group\",\"font\":{\"color\":\"black\",\"family\":\"Courier New, monospace\",\"size\":18},\"legend\":{\"bgcolor\":\"rgba(255, 255, 255, 0)\",\"bordercolor\":\"rgba(255, 255, 255, 0)\"},\"template\":{\"data\":{\"barpolar\":[{\"marker\":{\"line\":{\"color\":\"#E5ECF6\",\"width\":0.5},\"pattern\":{\"fillmode\":\"overlay\",\"size\":10,\"solidity\":0.2}},\"type\":\"barpolar\"}],\"bar\":[{\"error_x\":{\"color\":\"#2a3f5f\"},\"error_y\":{\"color\":\"#2a3f5f\"},\"marker\":{\"line\":{\"color\":\"#E5ECF6\",\"width\":0.5},\"pattern\":{\"fillmode\":\"overlay\",\"size\":10,\"solidity\":0.2}},\"type\":\"bar\"}],\"carpet\":[{\"aaxis\":{\"endlinecolor\":\"#2a3f5f\",\"gridcolor\":\"white\",\"linecolor\":\"white\",\"minorgridcolor\":\"white\",\"startlinecolor\":\"#2a3f5f\"},\"baxis\":{\"endlinecolor\":\"#2a3f5f\",\"gridcolor\":\"white\",\"linecolor\":\"white\",\"minorgridcolor\":\"white\",\"startlinecolor\":\"#2a3f5f\"},\"type\":\"carpet\"}],\"choropleth\":[{\"colorbar\":{\"outlinewidth\":0,\"ticks\":\"\"},\"type\":\"choropleth\"}],\"contourcarpet\":[{\"colorbar\":{\"outlinewidth\":0,\"ticks\":\"\"},\"type\":\"contourcarpet\"}],\"contour\":[{\"colorbar\":{\"outlinewidth\":0,\"ticks\":\"\"},\"colorscale\":[[0.0,\"#0d0887\"],[0.1111111111111111,\"#46039f\"],[0.2222222222222222,\"#7201a8\"],[0.3333333333333333,\"#9c179e\"],[0.4444444444444444,\"#bd3786\"],[0.5555555555555556,\"#d8576b\"],[0.6666666666666666,\"#ed7953\"],[0.7777777777777778,\"#fb9f3a\"],[0.8888888888888888,\"#fdca26\"],[1.0,\"#f0f921\"]],\"type\":\"contour\"}],\"heatmapgl\":[{\"colorbar\":{\"outlinewidth\":0,\"ticks\":\"\"},\"colorscale\":[[0.0,\"#0d0887\"],[0.1111111111111111,\"#46039f\"],[0.2222222222222222,\"#7201a8\"],[0.3333333333333333,\"#9c179e\"],[0.4444444444444444,\"#bd3786\"],[0.5555555555555556,\"#d8576b\"],[0.6666666666666666,\"#ed7953\"],[0.7777777777777778,\"#fb9f3a\"],[0.8888888888888888,\"#fdca26\"],[1.0,\"#f0f921\"]],\"type\":\"heatmapgl\"}],\"heatmap\":[{\"colorbar\":{\"outlinewidth\":0,\"ticks\":\"\"},\"colorscale\":[[0.0,\"#0d0887\"],[0.1111111111111111,\"#46039f\"],[0.2222222222222222,\"#7201a8\"],[0.3333333333333333,\"#9c179e\"],[0.4444444444444444,\"#bd3786\"],[0.5555555555555556,\"#d8576b\"],[0.6666666666666666,\"#ed7953\"],[0.7777777777777778,\"#fb9f3a\"],[0.8888888888888888,\"#fdca26\"],[1.0,\"#f0f921\"]],\"type\":\"heatmap\"}],\"histogram2dcontour\":[{\"colorbar\":{\"outlinewidth\":0,\"ticks\":\"\"},\"colorscale\":[[0.0,\"#0d0887\"],[0.1111111111111111,\"#46039f\"],[0.2222222222222222,\"#7201a8\"],[0.3333333333333333,\"#9c179e\"],[0.4444444444444444,\"#bd3786\"],[0.5555555555555556,\"#d8576b\"],[0.6666666666666666,\"#ed7953\"],[0.7777777777777778,\"#fb9f3a\"],[0.8888888888888888,\"#fdca26\"],[1.0,\"#f0f921\"]],\"type\":\"histogram2dcontour\"}],\"histogram2d\":[{\"colorbar\":{\"outlinewidth\":0,\"ticks\":\"\"},\"colorscale\":[[0.0,\"#0d0887\"],[0.1111111111111111,\"#46039f\"],[0.2222222222222222,\"#7201a8\"],[0.3333333333333333,\"#9c179e\"],[0.4444444444444444,\"#bd3786\"],[0.5555555555555556,\"#d8576b\"],[0.6666666666666666,\"#ed7953\"],[0.7777777777777778,\"#fb9f3a\"],[0.8888888888888888,\"#fdca26\"],[1.0,\"#f0f921\"]],\"type\":\"histogram2d\"}],\"histogram\":[{\"marker\":{\"pattern\":{\"fillmode\":\"overlay\",\"size\":10,\"solidity\":0.2}},\"type\":\"histogram\"}],\"mesh3d\":[{\"colorbar\":{\"outlinewidth\":0,\"ticks\":\"\"},\"type\":\"mesh3d\"}],\"parcoords\":[{\"line\":{\"colorbar\":{\"outlinewidth\":0,\"ticks\":\"\"}},\"type\":\"parcoords\"}],\"pie\":[{\"automargin\":true,\"type\":\"pie\"}],\"scatter3d\":[{\"line\":{\"colorbar\":{\"outlinewidth\":0,\"ticks\":\"\"}},\"marker\":{\"colorbar\":{\"outlinewidth\":0,\"ticks\":\"\"}},\"type\":\"scatter3d\"}],\"scattercarpet\":[{\"marker\":{\"colorbar\":{\"outlinewidth\":0,\"ticks\":\"\"}},\"type\":\"scattercarpet\"}],\"scattergeo\":[{\"marker\":{\"colorbar\":{\"outlinewidth\":0,\"ticks\":\"\"}},\"type\":\"scattergeo\"}],\"scattergl\":[{\"marker\":{\"colorbar\":{\"outlinewidth\":0,\"ticks\":\"\"}},\"type\":\"scattergl\"}],\"scattermapbox\":[{\"marker\":{\"colorbar\":{\"outlinewidth\":0,\"ticks\":\"\"}},\"type\":\"scattermapbox\"}],\"scatterpolargl\":[{\"marker\":{\"colorbar\":{\"outlinewidth\":0,\"ticks\":\"\"}},\"type\":\"scatterpolargl\"}],\"scatterpolar\":[{\"marker\":{\"colorbar\":{\"outlinewidth\":0,\"ticks\":\"\"}},\"type\":\"scatterpolar\"}],\"scatter\":[{\"fillpattern\":{\"fillmode\":\"overlay\",\"size\":10,\"solidity\":0.2},\"type\":\"scatter\"}],\"scatterternary\":[{\"marker\":{\"colorbar\":{\"outlinewidth\":0,\"ticks\":\"\"}},\"type\":\"scatterternary\"}],\"surface\":[{\"colorbar\":{\"outlinewidth\":0,\"ticks\":\"\"},\"colorscale\":[[0.0,\"#0d0887\"],[0.1111111111111111,\"#46039f\"],[0.2222222222222222,\"#7201a8\"],[0.3333333333333333,\"#9c179e\"],[0.4444444444444444,\"#bd3786\"],[0.5555555555555556,\"#d8576b\"],[0.6666666666666666,\"#ed7953\"],[0.7777777777777778,\"#fb9f3a\"],[0.8888888888888888,\"#fdca26\"],[1.0,\"#f0f921\"]],\"type\":\"surface\"}],\"table\":[{\"cells\":{\"fill\":{\"color\":\"#EBF0F8\"},\"line\":{\"color\":\"white\"}},\"header\":{\"fill\":{\"color\":\"#C8D4E3\"},\"line\":{\"color\":\"white\"}},\"type\":\"table\"}]},\"layout\":{\"annotationdefaults\":{\"arrowcolor\":\"#2a3f5f\",\"arrowhead\":0,\"arrowwidth\":1},\"autotypenumbers\":\"strict\",\"coloraxis\":{\"colorbar\":{\"outlinewidth\":0,\"ticks\":\"\"}},\"colorscale\":{\"diverging\":[[0,\"#8e0152\"],[0.1,\"#c51b7d\"],[0.2,\"#de77ae\"],[0.3,\"#f1b6da\"],[0.4,\"#fde0ef\"],[0.5,\"#f7f7f7\"],[0.6,\"#e6f5d0\"],[0.7,\"#b8e186\"],[0.8,\"#7fbc41\"],[0.9,\"#4d9221\"],[1,\"#276419\"]],\"sequential\":[[0.0,\"#0d0887\"],[0.1111111111111111,\"#46039f\"],[0.2222222222222222,\"#7201a8\"],[0.3333333333333333,\"#9c179e\"],[0.4444444444444444,\"#bd3786\"],[0.5555555555555556,\"#d8576b\"],[0.6666666666666666,\"#ed7953\"],[0.7777777777777778,\"#fb9f3a\"],[0.8888888888888888,\"#fdca26\"],[1.0,\"#f0f921\"]],\"sequentialminus\":[[0.0,\"#0d0887\"],[0.1111111111111111,\"#46039f\"],[0.2222222222222222,\"#7201a8\"],[0.3333333333333333,\"#9c179e\"],[0.4444444444444444,\"#bd3786\"],[0.5555555555555556,\"#d8576b\"],[0.6666666666666666,\"#ed7953\"],[0.7777777777777778,\"#fb9f3a\"],[0.8888888888888888,\"#fdca26\"],[1.0,\"#f0f921\"]]},\"colorway\":[\"#636efa\",\"#EF553B\",\"#00cc96\",\"#ab63fa\",\"#FFA15A\",\"#19d3f3\",\"#FF6692\",\"#B6E880\",\"#FF97FF\",\"#FECB52\"],\"font\":{\"color\":\"#2a3f5f\"},\"geo\":{\"bgcolor\":\"white\",\"lakecolor\":\"white\",\"landcolor\":\"#E5ECF6\",\"showlakes\":true,\"showland\":true,\"subunitcolor\":\"white\"},\"hoverlabel\":{\"align\":\"left\"},\"hovermode\":\"closest\",\"mapbox\":{\"style\":\"light\"},\"paper_bgcolor\":\"white\",\"plot_bgcolor\":\"#E5ECF6\",\"polar\":{\"angularaxis\":{\"gridcolor\":\"white\",\"linecolor\":\"white\",\"ticks\":\"\"},\"bgcolor\":\"#E5ECF6\",\"radialaxis\":{\"gridcolor\":\"white\",\"linecolor\":\"white\",\"ticks\":\"\"}},\"scene\":{\"xaxis\":{\"backgroundcolor\":\"#E5ECF6\",\"gridcolor\":\"white\",\"gridwidth\":2,\"linecolor\":\"white\",\"showbackground\":true,\"ticks\":\"\",\"zerolinecolor\":\"white\"},\"yaxis\":{\"backgroundcolor\":\"#E5ECF6\",\"gridcolor\":\"white\",\"gridwidth\":2,\"linecolor\":\"white\",\"showbackground\":true,\"ticks\":\"\",\"zerolinecolor\":\"white\"},\"zaxis\":{\"backgroundcolor\":\"#E5ECF6\",\"gridcolor\":\"white\",\"gridwidth\":2,\"linecolor\":\"white\",\"showbackground\":true,\"ticks\":\"\",\"zerolinecolor\":\"white\"}},\"shapedefaults\":{\"line\":{\"color\":\"#2a3f5f\"}},\"ternary\":{\"aaxis\":{\"gridcolor\":\"white\",\"linecolor\":\"white\",\"ticks\":\"\"},\"baxis\":{\"gridcolor\":\"white\",\"linecolor\":\"white\",\"ticks\":\"\"},\"bgcolor\":\"#E5ECF6\",\"caxis\":{\"gridcolor\":\"white\",\"linecolor\":\"white\",\"ticks\":\"\"}},\"title\":{\"x\":0.05},\"xaxis\":{\"automargin\":true,\"gridcolor\":\"white\",\"linecolor\":\"white\",\"ticks\":\"\",\"title\":{\"standoff\":15},\"zerolinecolor\":\"white\",\"zerolinewidth\":2},\"yaxis\":{\"automargin\":true,\"gridcolor\":\"white\",\"linecolor\":\"white\",\"ticks\":\"\",\"title\":{\"standoff\":15},\"zerolinecolor\":\"white\",\"zerolinewidth\":2}}},\"title\":{\"text\":\"Parametri Range of Motion\"},\"xaxis\":{\"tickfont\":{\"color\":\"#7f7f7f\",\"family\":\"Courier New, monospace\",\"size\":14},\"title\":{\"font\":{\"color\":\"#7f7f7f\",\"family\":\"Courier New, monospace\",\"size\":18},\"text\":\"Month\"}},\"yaxis\":{\"tickfont\":{\"color\":\"#7f7f7f\",\"family\":\"Courier New, monospace\",\"size\":14},\"title\":{\"font\":{\"color\":\"#7f7f7f\",\"family\":\"Courier New, monospace\",\"size\":18},\"text\":\"ROM ankleRight [gradi]\"}}},                        {\"responsive\": true}                    ).then(function(){\n",
       "                            \n",
       "var gd = document.getElementById('101cd062-0996-4b5e-ba5d-5a5ba210a289');\n",
       "var x = new MutationObserver(function (mutations, observer) {{\n",
       "        var display = window.getComputedStyle(gd).display;\n",
       "        if (!display || display === 'none') {{\n",
       "            console.log([gd, 'removed!']);\n",
       "            Plotly.purge(gd);\n",
       "            observer.disconnect();\n",
       "        }}\n",
       "}});\n",
       "\n",
       "// Listen for the removal of the full notebook cells\n",
       "var notebookContainer = gd.closest('#notebook-container');\n",
       "if (notebookContainer) {{\n",
       "    x.observe(notebookContainer, {childList: true});\n",
       "}}\n",
       "\n",
       "// Listen for the clearing of the current output cell\n",
       "var outputEl = gd.closest('.output');\n",
       "if (outputEl) {{\n",
       "    x.observe(outputEl, {childList: true});\n",
       "}}\n",
       "\n",
       "                        })                };                });            </script>        </div>"
      ]
     },
     "metadata": {},
     "output_type": "display_data"
    }
   ],
   "source": [
    "allmonths = [1,2,3,4,5,6,7,8,9,10,11,12]\n",
    "counted_ex = {\n",
    "    \"tug\" : 0,\n",
    "    \"abduction_left\" : 0,\n",
    "    \"internal_rotation_left\" : 0,\n",
    "    \"external_rotation_left\" : 0,\n",
    "    \"reaching_left\" : 0\n",
    "}\n",
    "for i in range(len(exercises)):\n",
    "    exnamei = exercises[i].name\n",
    "    res_exi = exercises[i].result\n",
    "    if counted_ex[exnamei] < 1:\n",
    "\n",
    "        #############################\n",
    "        #      Results for TUG      #\n",
    "        #############################\n",
    "        if exnamei == \"tug\":\n",
    "            counted_ex[exnamei] = 1\n",
    "            step_month_table = pd.DataFrame.from_dict(stepmonth,orient='index',\n",
    "                                                      columns=['Jan','Feb','Mar','Apr','May','Jun',\n",
    "                                                           'Jul','Aug','Sep','Oct','Nov','Dec'])\n",
    "            step_month_table.index = [\"Numero di passi\",\"Velocità [m/s]\",\"Lunghezza passo [m]\",\n",
    "                                      \"Cadenza [steps/s]\",\"Tempo di esecuzione [s]\"]\n",
    "            display(step_month_table)\n",
    "\n",
    "            for m in range(len(res_exi)): \n",
    "                single_metric,result_single_metric = res_exi[m]\n",
    "                if single_metric.name == \"ROM\":\n",
    "                    tagjoint = single_metric.tagjoint\n",
    "\n",
    "                    if np.sum(keyp2rommax_avg[tagjoint]) > 0.0:\n",
    "                        trace1 = go.Bar(\n",
    "                            x=allmonths, \n",
    "                            y=keyp2rommax_avg[tagjoint],\n",
    "                            name='Massimo valore raggiunto',\n",
    "                            marker=dict(\n",
    "                                color='rgb(0,0,255)'\n",
    "                            )\n",
    "                        )\n",
    "                        trace2 = go.Bar(\n",
    "                            x=allmonths, \n",
    "                            y=keyp2rommin_avg[tagjoint],\n",
    "                            name='Minimo valore raggiunto',\n",
    "                            marker=dict(\n",
    "                                color='rgb(255,0,0)'\n",
    "                                )\n",
    "                            )\n",
    "                        layout = go.Layout(\n",
    "                            title='Parametri Range of Motion',\n",
    "                            font=dict(family='Courier New, monospace', size=18, color='black'),\n",
    "                            xaxis=dict(\n",
    "                                title='Month',\n",
    "                                titlefont=dict(\n",
    "                                    family='Courier New, monospace',\n",
    "                                    size=18,\n",
    "                                    color='#7f7f7f'\n",
    "                                ),\n",
    "                                tickfont=dict(\n",
    "                                    family='Courier New, monospace',\n",
    "                                    size=14,\n",
    "                                    color='#7f7f7f'\n",
    "                                )\n",
    "                            ),\n",
    "                            yaxis=dict(\n",
    "                                    title='ROM ' + tagjoint + ' [gradi]',\n",
    "                                    titlefont=dict(\n",
    "                                        family='Courier New, monospace',\n",
    "                                        size=18,\n",
    "                                        color='#7f7f7f'\n",
    "                                    ),\n",
    "                            tickfont=dict(\n",
    "                                        family='Courier New, monospace',\n",
    "                                        size=14,\n",
    "                                        color='#7f7f7f'\n",
    "                                    )\n",
    "                                ),\n",
    "                            legend=dict(\n",
    "                                    bgcolor='rgba(255, 255, 255, 0)',\n",
    "                                    bordercolor='rgba(255, 255, 255, 0)'\n",
    "                                ),\n",
    "                            barmode='group',\n",
    "                            bargap=0.1,\n",
    "                            bargroupgap=0.0\n",
    "                            )\n",
    "                        data=[trace1,trace2]\n",
    "                        fig = go.Figure(data=data, layout=layout)\n",
    "                        iplot(fig)              "
   ]
  },
  {
   "cell_type": "code",
   "execution_count": 91,
   "metadata": {
    "scrolled": false
   },
   "outputs": [
    {
     "data": {
      "text/html": [
       "<font size=5,font color=gray>Risultati di Abduzione</font>"
      ],
      "text/plain": [
       "<IPython.core.display.HTML object>"
      ]
     },
     "metadata": {},
     "output_type": "display_data"
    }
   ],
   "source": [
    "title = \"Risultati di Abduzione\"\n",
    "msg1 = HTML('<font size=5><b>'+title+'</b></font>')\n",
    "msg2 = HTML('<font size=5,font color=gray>'+title+'</font>')\n",
    "if sum(counted_exmonth['abduction_left'])>0:\n",
    "    display(msg1);\n",
    "else:\n",
    "    display(msg2); "
   ]
  },
  {
   "cell_type": "code",
   "execution_count": 92,
   "metadata": {
    "scrolled": false
   },
   "outputs": [],
   "source": [
    "for i in range(len(exercises)):\n",
    "    exnamei = exercises[i].name\n",
    "    res_exi = exercises[i].result\n",
    "    if counted_ex[exnamei] < 1:\n",
    "\n",
    "        ###################################\n",
    "        #      Results for Abduction      #\n",
    "        ###################################\n",
    "        if \"abduction\" in exnamei:\n",
    "            counted_ex[exnamei] = 1           \n",
    "\n",
    "            for m in range(len(res_exi)): \n",
    "                single_metric,result_single_metric = res_exi[m]\n",
    "                if single_metric.name == \"ROM\":\n",
    "                    tagjoint = single_metric.tagjoint\n",
    "\n",
    "                    if np.sum(keyp2rommax_avg[tagjoint]) > 0.0:\n",
    "                        trace1 = go.Bar(\n",
    "                            x=allmonths, \n",
    "                            y=keyp2rommax_avg[tagjoint],\n",
    "                            name='Massimo valore raggiunto',\n",
    "                            marker=dict(\n",
    "                                color='rgb(0,0,255)'\n",
    "                            )\n",
    "                        )\n",
    "                        trace2 = go.Bar(\n",
    "                            x=allmonths, \n",
    "                            y=keyp2rommin_avg[tagjoint],\n",
    "                            name='Minimo valore raggiunto',\n",
    "                            marker=dict(\n",
    "                                color='rgb(255,0,0)'\n",
    "                                )\n",
    "                            )\n",
    "                        layout = go.Layout(\n",
    "                            title='Parametri Range of Motion',\n",
    "                            font=dict(family='Courier New, monospace', size=18, color='black'),\n",
    "                            xaxis=dict(\n",
    "                                title='Month',\n",
    "                                titlefont=dict(\n",
    "                                    family='Courier New, monospace',\n",
    "                                    size=18,\n",
    "                                    color='#7f7f7f'\n",
    "                                ),\n",
    "                                tickfont=dict(\n",
    "                                    family='Courier New, monospace',\n",
    "                                    size=14,\n",
    "                                    color='#7f7f7f'\n",
    "                                )\n",
    "                            ),\n",
    "                            yaxis=dict(\n",
    "                                    title='ROM ' + tagjoint + ' [gradi]',\n",
    "                                    titlefont=dict(\n",
    "                                        family='Courier New, monospace',\n",
    "                                        size=18,\n",
    "                                        color='#7f7f7f'\n",
    "                                    ),\n",
    "                            tickfont=dict(\n",
    "                                        family='Courier New, monospace',\n",
    "                                        size=14,\n",
    "                                        color='#7f7f7f'\n",
    "                                    )\n",
    "                                ),\n",
    "                            legend=dict(\n",
    "                                    bgcolor='rgba(255, 255, 255, 0)',\n",
    "                                    bordercolor='rgba(255, 255, 255, 0)'\n",
    "                                ),\n",
    "                            barmode='group',\n",
    "                            bargap=0.1,\n",
    "                            bargroupgap=0.0\n",
    "                            )\n",
    "                        data=[trace1,trace2]\n",
    "                        fig = go.Figure(data=data, layout=layout)\n",
    "                        iplot(fig)    "
   ]
  },
  {
   "cell_type": "code",
   "execution_count": 93,
   "metadata": {
    "scrolled": false
   },
   "outputs": [
    {
     "data": {
      "text/html": [
       "<font size=5,font color=gray>Risultati di Rotazione Interna</font>"
      ],
      "text/plain": [
       "<IPython.core.display.HTML object>"
      ]
     },
     "metadata": {},
     "output_type": "display_data"
    }
   ],
   "source": [
    "title = \"Risultati di Rotazione Interna\"\n",
    "msg1 = HTML('<font size=5><b>'+title+'</b></font>')\n",
    "msg2 = HTML('<font size=5,font color=gray>'+title+'</font>')\n",
    "if sum(counted_exmonth['internal_rotation_left'])>0:\n",
    "    display(msg1);\n",
    "else:\n",
    "    display(msg2); "
   ]
  },
  {
   "cell_type": "code",
   "execution_count": 94,
   "metadata": {
    "scrolled": false
   },
   "outputs": [],
   "source": [
    "for i in range(len(exercises)):\n",
    "    exnamei = exercises[i].name\n",
    "    res_exi = exercises[i].result\n",
    "    if counted_ex[exnamei] < 1:\n",
    "\n",
    "        ###################################\n",
    "        #      Results for Internal      #\n",
    "        ###################################\n",
    "        if \"internal_rotation\" in exnamei:\n",
    "            counted_ex[exnamei] = 1           \n",
    "\n",
    "            for m in range(len(res_exi)): \n",
    "                single_metric,result_single_metric = res_exi[m]\n",
    "                if single_metric.name == \"ROM\":\n",
    "                    tagjoint = single_metric.tagjoint\n",
    "\n",
    "                    if np.sum(keyp2rommax_avg[tagjoint]) > 0.0:\n",
    "                        trace1 = go.Bar(\n",
    "                            x=allmonths, \n",
    "                            y=keyp2rommax_avg[tagjoint],\n",
    "                            name='Massimo valore raggiunto',\n",
    "                            marker=dict(\n",
    "                                color='rgb(0,0,255)'\n",
    "                            )\n",
    "                        )\n",
    "                        trace2 = go.Bar(\n",
    "                            x=allmonths, \n",
    "                            y=keyp2rommin_avg[tagjoint],\n",
    "                            name='Minimo valore raggiunto',\n",
    "                            marker=dict(\n",
    "                                color='rgb(255,0,0)'\n",
    "                                )\n",
    "                            )\n",
    "                        layout = go.Layout(\n",
    "                            title='Parametri Range of Motion',\n",
    "                            font=dict(family='Courier New, monospace', size=18, color='black'),\n",
    "                            xaxis=dict(\n",
    "                                title='Month',\n",
    "                                titlefont=dict(\n",
    "                                    family='Courier New, monospace',\n",
    "                                    size=18,\n",
    "                                    color='#7f7f7f'\n",
    "                                ),\n",
    "                                tickfont=dict(\n",
    "                                    family='Courier New, monospace',\n",
    "                                    size=14,\n",
    "                                    color='#7f7f7f'\n",
    "                                )\n",
    "                            ),\n",
    "                            yaxis=dict(\n",
    "                                    title='ROM ' + tagjoint + ' [gradi]',\n",
    "                                    titlefont=dict(\n",
    "                                        family='Courier New, monospace',\n",
    "                                        size=18,\n",
    "                                        color='#7f7f7f'\n",
    "                                    ),\n",
    "                            tickfont=dict(\n",
    "                                        family='Courier New, monospace',\n",
    "                                        size=14,\n",
    "                                        color='#7f7f7f'\n",
    "                                    )\n",
    "                                ),\n",
    "                            legend=dict(\n",
    "                                    bgcolor='rgba(255, 255, 255, 0)',\n",
    "                                    bordercolor='rgba(255, 255, 255, 0)'\n",
    "                                ),\n",
    "                            barmode='group',\n",
    "                            bargap=0.1,\n",
    "                            bargroupgap=0.0\n",
    "                            )\n",
    "                        data=[trace1,trace2]\n",
    "                        fig = go.Figure(data=data, layout=layout)\n",
    "                        iplot(fig)  "
   ]
  },
  {
   "cell_type": "code",
   "execution_count": 95,
   "metadata": {
    "scrolled": false
   },
   "outputs": [
    {
     "data": {
      "text/html": [
       "<font size=5,font color=gray>Risultati di Rotazione Esterna</font>"
      ],
      "text/plain": [
       "<IPython.core.display.HTML object>"
      ]
     },
     "metadata": {},
     "output_type": "display_data"
    }
   ],
   "source": [
    "title = \"Risultati di Rotazione Esterna\"\n",
    "msg1 = HTML('<font size=5><b>'+title+'</b></font>')\n",
    "msg2 = HTML('<font size=5,font color=gray>'+title+'</font>')\n",
    "if sum(counted_exmonth['external_rotation_left'])>0:\n",
    "    display(msg1);\n",
    "else:\n",
    "    display(msg2); "
   ]
  },
  {
   "cell_type": "code",
   "execution_count": 96,
   "metadata": {
    "scrolled": false
   },
   "outputs": [],
   "source": [
    "for i in range(len(exercises)):\n",
    "    exnamei = exercises[i].name\n",
    "    res_exi = exercises[i].result\n",
    "    if counted_ex[exnamei] < 1:\n",
    "\n",
    "        ###################################\n",
    "        #      Results for External      #\n",
    "        ###################################\n",
    "        if \"external_rotation\" in exnamei:\n",
    "            counted_ex[exnamei] = 1           \n",
    "\n",
    "            for m in range(len(res_exi)): \n",
    "                single_metric,result_single_metric = res_exi[m]\n",
    "                if single_metric.name == \"ROM\":\n",
    "                    tagjoint = single_metric.tagjoint\n",
    "\n",
    "                    if np.sum(keyp2rommax_avg[tagjoint]) > 0.0:\n",
    "                        trace1 = go.Bar(\n",
    "                            x=allmonths, \n",
    "                            y=keyp2rommax_avg[tagjoint],\n",
    "                            name='Massimo valore raggiunto',\n",
    "                            marker=dict(\n",
    "                                color='rgb(0,0,255)'\n",
    "                            )\n",
    "                        )\n",
    "                        trace2 = go.Bar(\n",
    "                            x=allmonths, \n",
    "                            y=keyp2rommin_avg[tagjoint],\n",
    "                            name='Minimo valore raggiunto',\n",
    "                            marker=dict(\n",
    "                                color='rgb(255,0,0)'\n",
    "                                )\n",
    "                            )\n",
    "                        layout = go.Layout(\n",
    "                            title='Parametri Range of Motion',\n",
    "                            font=dict(family='Courier New, monospace', size=18, color='black'),\n",
    "                            xaxis=dict(\n",
    "                                title='Mese',\n",
    "                                titlefont=dict(\n",
    "                                    family='Courier New, monospace',\n",
    "                                    size=18,\n",
    "                                    color='#7f7f7f'\n",
    "                                ),\n",
    "                                tickfont=dict(\n",
    "                                    family='Courier New, monospace',\n",
    "                                    size=14,\n",
    "                                    color='#7f7f7f'\n",
    "                                )\n",
    "                            ),\n",
    "                            yaxis=dict(\n",
    "                                    title='ROM ' + tagjoint + ' [gradi]',\n",
    "                                    titlefont=dict(\n",
    "                                        family='Courier New, monospace',\n",
    "                                        size=18,\n",
    "                                        color='#7f7f7f'\n",
    "                                    ),\n",
    "                            tickfont=dict(\n",
    "                                        family='Courier New, monospace',\n",
    "                                        size=14,\n",
    "                                        color='#7f7f7f'\n",
    "                                    )\n",
    "                                ),\n",
    "                            legend=dict(\n",
    "                                    bgcolor='rgba(255, 255, 255, 0)',\n",
    "                                    bordercolor='rgba(255, 255, 255, 0)'\n",
    "                                ),\n",
    "                            barmode='group',\n",
    "                            bargap=0.1,\n",
    "                            bargroupgap=0.0\n",
    "                            )\n",
    "                        data=[trace1,trace2]\n",
    "                        fig = go.Figure(data=data, layout=layout)\n",
    "                        iplot(fig)  "
   ]
  },
  {
   "cell_type": "code",
   "execution_count": 97,
   "metadata": {
    "scrolled": false
   },
   "outputs": [
    {
     "data": {
      "text/html": [
       "<font size=5,font color=gray>Risultati di Reaching</font>"
      ],
      "text/plain": [
       "<IPython.core.display.HTML object>"
      ]
     },
     "metadata": {},
     "output_type": "display_data"
    }
   ],
   "source": [
    "title = \"Risultati di Reaching\"\n",
    "msg1 = HTML('<font size=5><b>'+title+'</b></font>')\n",
    "msg2 = HTML('<font size=5,font color=gray>'+title+'</font>')\n",
    "if sum(counted_exmonth['reaching_left'])>0:\n",
    "    display(msg1);\n",
    "else:\n",
    "    display(msg2); "
   ]
  },
  {
   "cell_type": "code",
   "execution_count": 98,
   "metadata": {
    "scrolled": true
   },
   "outputs": [],
   "source": [
    "for i in range(len(exercises)):\n",
    "    exnamei = exercises[i].name\n",
    "    res_exi = exercises[i].result\n",
    "    if counted_ex[exnamei] < 1:\n",
    "\n",
    "        ###################################\n",
    "        #      Results for Reaching      #\n",
    "        ###################################\n",
    "        if \"reaching\" in exnamei:\n",
    "            counted_ex[exnamei] = 1           \n",
    "\n",
    "            for m in range(len(res_exi)): \n",
    "                single_metric,result_single_metric = res_exi[m]\n",
    "                if single_metric.name == \"EP\":\n",
    "                    trace1 = go.Bar(\n",
    "                        x=allmonths, \n",
    "                        y=endpointmonth[\"time\"],\n",
    "                        name='Time',\n",
    "                        marker=dict(\n",
    "                            color='rgb(0,0,255)'\n",
    "                        )\n",
    "                    )\n",
    "                    layout = go.Layout(\n",
    "                        title='Parametri Reaching',\n",
    "                        font=dict(family='Courier New, monospace', size=18, color='black'),\n",
    "                        xaxis=dict(\n",
    "                            title='Mese',\n",
    "                            titlefont=dict(\n",
    "                                family='Courier New, monospace',\n",
    "                                size=18,\n",
    "                                color='#7f7f7f'\n",
    "                            ),\n",
    "                            tickfont=dict(\n",
    "                                family='Courier New, monospace',\n",
    "                                size=14,\n",
    "                                color='#7f7f7f'\n",
    "                            )\n",
    "                        ),\n",
    "                        yaxis=dict(\n",
    "                                title='Tempo di esecuzione [s]',\n",
    "                                titlefont=dict(\n",
    "                                    family='Courier New, monospace',\n",
    "                                    size=18,\n",
    "                                    color='#7f7f7f'\n",
    "                                ),\n",
    "                        tickfont=dict(\n",
    "                                    family='Courier New, monospace',\n",
    "                                    size=14,\n",
    "                                    color='#7f7f7f'\n",
    "                                )\n",
    "                            ),\n",
    "                        legend=dict(\n",
    "                                bgcolor='rgba(255, 255, 255, 0)',\n",
    "                                bordercolor='rgba(255, 255, 255, 0)'\n",
    "                            ),\n",
    "                        barmode='group',\n",
    "                        bargap=0.1,\n",
    "                        bargroupgap=0.0\n",
    "                        )\n",
    "                    data=[trace1]\n",
    "                    fig = go.Figure(data=data, layout=layout)\n",
    "                    iplot(fig) \n",
    "\n",
    "                    trace1 = go.Bar(\n",
    "                        x=allmonths, \n",
    "                        y=endpointmonth[\"speed\"],\n",
    "                        name='Speed',\n",
    "                        marker=dict(\n",
    "                            color='rgb(0,0,255)'\n",
    "                        )\n",
    "                    )\n",
    "                    layout = go.Layout(\n",
    "                        font=dict(family='Courier New, monospace', size=18, color='black'),\n",
    "                        xaxis=dict(\n",
    "                            title='Mese',\n",
    "                            titlefont=dict(\n",
    "                                family='Courier New, monospace',\n",
    "                                size=18,\n",
    "                                color='#7f7f7f'\n",
    "                            ),\n",
    "                            tickfont=dict(\n",
    "                                family='Courier New, monospace',\n",
    "                                size=14,\n",
    "                                color='#7f7f7f'\n",
    "                            )\n",
    "                        ),\n",
    "                        yaxis=dict(\n",
    "                                title='Velocità [m/s]',\n",
    "                                titlefont=dict(\n",
    "                                    family='Courier New, monospace',\n",
    "                                    size=18,\n",
    "                                    color='#7f7f7f'\n",
    "                                ),\n",
    "                        tickfont=dict(\n",
    "                                    family='Courier New, monospace',\n",
    "                                    size=14,\n",
    "                                    color='#7f7f7f'\n",
    "                                )\n",
    "                            ),\n",
    "                        legend=dict(\n",
    "                                bgcolor='rgba(255, 255, 255, 0)',\n",
    "                                bordercolor='rgba(255, 255, 255, 0)'\n",
    "                            ),\n",
    "                        barmode='group',\n",
    "                        bargap=0.1,\n",
    "                        bargroupgap=0.0\n",
    "                        )\n",
    "                    data=[trace1]\n",
    "                    fig = go.Figure(data=data, layout=layout)\n",
    "                    iplot(fig)   "
   ]
  }
 ],
 "metadata": {
  "kernelspec": {
   "display_name": "Python 3",
   "language": "python",
   "name": "python3"
  },
  "language_info": {
   "codemirror_mode": {
    "name": "ipython",
    "version": 3
   },
   "file_extension": ".py",
   "mimetype": "text/x-python",
   "name": "python",
   "nbconvert_exporter": "python",
   "pygments_lexer": "ipython3",
   "version": "3.8.10"
  },
  "vscode": {
   "interpreter": {
    "hash": "916dbcbb3f70747c44a77c7bcd40155683ae19c65e1c03b4aa3499c5328201f1"
   }
  }
 },
 "nbformat": 4,
 "nbformat_minor": 2
}
